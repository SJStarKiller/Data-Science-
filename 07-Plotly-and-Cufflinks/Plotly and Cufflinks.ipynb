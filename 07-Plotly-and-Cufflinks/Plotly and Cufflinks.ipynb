{
 "cells": [
  {
   "cell_type": "markdown",
   "metadata": {},
   "source": [
    "# Plotly and Cufflinks"
   ]
  },
  {
   "cell_type": "markdown",
   "metadata": {},
   "source": [
    "Plotly is a library that allows you to create interactive plots that you can use in dashboards or websites (you can save them as html files or static images).\n",
    "\n",
    "## Installation\n",
    "\n",
    "In order for this all to work, you'll need to install plotly and cufflinks to call plots directly off of a pandas dataframe. These libraries are not currently available through **conda** but are available through **pip**. Install the libraries at your command line/terminal using:\n",
    "\n",
    "    pip install plotly\n",
    "    pip install cufflinks\n",
    "\n",
    "** NOTE: Make sure you only have one installation of Python on your computer when you do this, otherwise the installation may not work. **\n",
    "\n",
    "## Imports and Set-up"
   ]
  },
  {
   "cell_type": "code",
   "execution_count": 2,
   "metadata": {},
   "outputs": [],
   "source": [
    "import pandas as pd\n",
    "import numpy as np\n",
    "%matplotlib inline"
   ]
  },
  {
   "cell_type": "code",
   "execution_count": 6,
   "metadata": {},
   "outputs": [
    {
     "name": "stdout",
     "output_type": "stream",
     "text": [
      "4.8.2\n"
     ]
    }
   ],
   "source": [
    "from plotly import __version__\n",
    "from plotly.offline import download_plotlyjs, init_notebook_mode, plot, iplot\n",
    "\n",
    "print(__version__) # requires version >= 1.9.0"
   ]
  },
  {
   "cell_type": "code",
   "execution_count": 7,
   "metadata": {},
   "outputs": [],
   "source": [
    "import cufflinks as cf"
   ]
  },
  {
   "cell_type": "code",
   "execution_count": 8,
   "metadata": {},
   "outputs": [
    {
     "data": {
      "text/html": [
       "        <script type=\"text/javascript\">\n",
       "        window.PlotlyConfig = {MathJaxConfig: 'local'};\n",
       "        if (window.MathJax) {MathJax.Hub.Config({SVG: {font: \"STIX-Web\"}});}\n",
       "        if (typeof require !== 'undefined') {\n",
       "        require.undef(\"plotly\");\n",
       "        requirejs.config({\n",
       "            paths: {\n",
       "                'plotly': ['https://cdn.plot.ly/plotly-latest.min']\n",
       "            }\n",
       "        });\n",
       "        require(['plotly'], function(Plotly) {\n",
       "            window._Plotly = Plotly;\n",
       "        });\n",
       "        }\n",
       "        </script>\n",
       "        "
      ]
     },
     "metadata": {},
     "output_type": "display_data"
    }
   ],
   "source": [
    "# For Notebooks\n",
    "init_notebook_mode(connected=True)"
   ]
  },
  {
   "cell_type": "code",
   "execution_count": 9,
   "metadata": {},
   "outputs": [
    {
     "data": {
      "text/html": [
       "        <script type=\"text/javascript\">\n",
       "        window.PlotlyConfig = {MathJaxConfig: 'local'};\n",
       "        if (window.MathJax) {MathJax.Hub.Config({SVG: {font: \"STIX-Web\"}});}\n",
       "        if (typeof require !== 'undefined') {\n",
       "        require.undef(\"plotly\");\n",
       "        requirejs.config({\n",
       "            paths: {\n",
       "                'plotly': ['https://cdn.plot.ly/plotly-latest.min']\n",
       "            }\n",
       "        });\n",
       "        require(['plotly'], function(Plotly) {\n",
       "            window._Plotly = Plotly;\n",
       "        });\n",
       "        }\n",
       "        </script>\n",
       "        "
      ]
     },
     "metadata": {},
     "output_type": "display_data"
    }
   ],
   "source": [
    "# For offline use\n",
    "cf.go_offline()"
   ]
  },
  {
   "cell_type": "markdown",
   "metadata": {},
   "source": [
    "### Fake Data"
   ]
  },
  {
   "cell_type": "code",
   "execution_count": 10,
   "metadata": {},
   "outputs": [],
   "source": [
    "df = pd.DataFrame(np.random.randn(100,4),columns='A B C D'.split())"
   ]
  },
  {
   "cell_type": "code",
   "execution_count": 11,
   "metadata": {},
   "outputs": [
    {
     "data": {
      "text/html": [
       "<div>\n",
       "<style scoped>\n",
       "    .dataframe tbody tr th:only-of-type {\n",
       "        vertical-align: middle;\n",
       "    }\n",
       "\n",
       "    .dataframe tbody tr th {\n",
       "        vertical-align: top;\n",
       "    }\n",
       "\n",
       "    .dataframe thead th {\n",
       "        text-align: right;\n",
       "    }\n",
       "</style>\n",
       "<table border=\"1\" class=\"dataframe\">\n",
       "  <thead>\n",
       "    <tr style=\"text-align: right;\">\n",
       "      <th></th>\n",
       "      <th>A</th>\n",
       "      <th>B</th>\n",
       "      <th>C</th>\n",
       "      <th>D</th>\n",
       "    </tr>\n",
       "  </thead>\n",
       "  <tbody>\n",
       "    <tr>\n",
       "      <th>0</th>\n",
       "      <td>1.163232</td>\n",
       "      <td>0.755794</td>\n",
       "      <td>1.127488</td>\n",
       "      <td>0.055778</td>\n",
       "    </tr>\n",
       "    <tr>\n",
       "      <th>1</th>\n",
       "      <td>0.400700</td>\n",
       "      <td>0.084208</td>\n",
       "      <td>-0.907022</td>\n",
       "      <td>0.473116</td>\n",
       "    </tr>\n",
       "    <tr>\n",
       "      <th>2</th>\n",
       "      <td>-0.295676</td>\n",
       "      <td>1.125225</td>\n",
       "      <td>-1.235837</td>\n",
       "      <td>0.856084</td>\n",
       "    </tr>\n",
       "    <tr>\n",
       "      <th>3</th>\n",
       "      <td>-0.051697</td>\n",
       "      <td>0.380655</td>\n",
       "      <td>2.013346</td>\n",
       "      <td>-0.164547</td>\n",
       "    </tr>\n",
       "    <tr>\n",
       "      <th>4</th>\n",
       "      <td>0.009108</td>\n",
       "      <td>0.539627</td>\n",
       "      <td>-0.235327</td>\n",
       "      <td>-0.047234</td>\n",
       "    </tr>\n",
       "  </tbody>\n",
       "</table>\n",
       "</div>"
      ],
      "text/plain": [
       "          A         B         C         D\n",
       "0  1.163232  0.755794  1.127488  0.055778\n",
       "1  0.400700  0.084208 -0.907022  0.473116\n",
       "2 -0.295676  1.125225 -1.235837  0.856084\n",
       "3 -0.051697  0.380655  2.013346 -0.164547\n",
       "4  0.009108  0.539627 -0.235327 -0.047234"
      ]
     },
     "execution_count": 11,
     "metadata": {},
     "output_type": "execute_result"
    }
   ],
   "source": [
    "df.head()"
   ]
  },
  {
   "cell_type": "code",
   "execution_count": 12,
   "metadata": {},
   "outputs": [],
   "source": [
    "df2 = pd.DataFrame({'Category':['A','B','C'],'Values':[32,43,50]})"
   ]
  },
  {
   "cell_type": "code",
   "execution_count": 13,
   "metadata": {},
   "outputs": [
    {
     "data": {
      "text/html": [
       "<div>\n",
       "<style scoped>\n",
       "    .dataframe tbody tr th:only-of-type {\n",
       "        vertical-align: middle;\n",
       "    }\n",
       "\n",
       "    .dataframe tbody tr th {\n",
       "        vertical-align: top;\n",
       "    }\n",
       "\n",
       "    .dataframe thead th {\n",
       "        text-align: right;\n",
       "    }\n",
       "</style>\n",
       "<table border=\"1\" class=\"dataframe\">\n",
       "  <thead>\n",
       "    <tr style=\"text-align: right;\">\n",
       "      <th></th>\n",
       "      <th>Category</th>\n",
       "      <th>Values</th>\n",
       "    </tr>\n",
       "  </thead>\n",
       "  <tbody>\n",
       "    <tr>\n",
       "      <th>0</th>\n",
       "      <td>A</td>\n",
       "      <td>32</td>\n",
       "    </tr>\n",
       "    <tr>\n",
       "      <th>1</th>\n",
       "      <td>B</td>\n",
       "      <td>43</td>\n",
       "    </tr>\n",
       "    <tr>\n",
       "      <th>2</th>\n",
       "      <td>C</td>\n",
       "      <td>50</td>\n",
       "    </tr>\n",
       "  </tbody>\n",
       "</table>\n",
       "</div>"
      ],
      "text/plain": [
       "  Category  Values\n",
       "0        A      32\n",
       "1        B      43\n",
       "2        C      50"
      ]
     },
     "execution_count": 13,
     "metadata": {},
     "output_type": "execute_result"
    }
   ],
   "source": [
    "df2.head()"
   ]
  },
  {
   "cell_type": "markdown",
   "metadata": {},
   "source": [
    "## Using Cufflinks and iplot()\n",
    "\n",
    "* scatter\n",
    "* bar\n",
    "* box\n",
    "* spread\n",
    "* ratio\n",
    "* heatmap\n",
    "* surface\n",
    "* histogram\n",
    "* bubble"
   ]
  },
  {
   "cell_type": "markdown",
   "metadata": {},
   "source": [
    "## Scatter"
   ]
  },
  {
   "cell_type": "code",
   "execution_count": 14,
   "metadata": {},
   "outputs": [
    {
     "data": {
      "application/vnd.plotly.v1+json": {
       "config": {
        "linkText": "Export to plot.ly",
        "plotlyServerURL": "https://plot.ly",
        "showLink": true
       },
       "data": [
        {
         "line": {
          "color": "rgba(255, 153, 51, 1.0)",
          "dash": "solid",
          "shape": "linear",
          "width": 1.3
         },
         "marker": {
          "size": 10,
          "symbol": "circle"
         },
         "mode": "markers",
         "name": "B",
         "text": "",
         "type": "scatter",
         "x": [
          1.1632319313482395,
          0.4006995105216627,
          -0.2956762478256533,
          -0.05169719393589064,
          0.00910757636508114,
          -0.6955839592405,
          -0.35909775057049803,
          -1.5625500495348743,
          0.280382662704461,
          0.6900988105151796,
          -2.7574912836742946,
          -0.07968419822034653,
          1.8332128879861818,
          1.4295281994653302,
          0.1252613779335597,
          -0.49769928744988495,
          -0.856393091788203,
          1.4352774817096858,
          -1.2664402308234686,
          0.7890502900382642,
          -1.46167053131466,
          0.8150472653619777,
          -1.17240523883422,
          -0.6705469117318189,
          -1.4341028074133875,
          -0.014599945431750708,
          0.7435879685265763,
          -2.848647374794672,
          0.49161354740033353,
          -0.45050436439059577,
          0.28881432704739796,
          0.33186383855201784,
          -0.047088381439171614,
          -0.9993636850678648,
          1.1206599697688173,
          1.1930326248835383,
          -1.1034554747230993,
          -0.5547348406545668,
          0.13945607788763917,
          1.301419479862865,
          -1.2400560909431215,
          0.6203031047198649,
          0.9380629637173821,
          -0.14400944082924053,
          -0.9240931840045439,
          -0.8282183540851877,
          -0.11961424790363061,
          -0.49999029669468653,
          0.9819908608077234,
          -0.11606300782428085,
          0.45764184722157275,
          0.49346586682197907,
          -0.5433622602059989,
          -1.7900480082481471,
          0.32044197002586217,
          -0.633058819620911,
          0.035453392741268346,
          0.28800897468143366,
          0.1270836766417439,
          1.1391905804798264,
          -0.058971810983125275,
          1.5960984036066292,
          0.043035034307208495,
          -0.8023299927990649,
          0.9613524445273515,
          -0.39736206448423356,
          0.2792623071725112,
          -0.36223179862154803,
          1.0386103659394246,
          0.768251393580555,
          -0.03247482932037407,
          -0.2833971496851408,
          -2.3264113817674885,
          0.3601066380079715,
          -0.8975379312800085,
          0.07627611530830201,
          0.36155396903651077,
          -0.17833430581015805,
          -0.6767697508725241,
          1.535979797909297,
          -0.4419843916432813,
          -0.7094090819406609,
          0.647624136408352,
          -0.056939817949727634,
          -2.0938503562353876,
          1.1522289116879099,
          0.43945695783916466,
          1.0199457327509938,
          0.8259047129688619,
          -0.43717286489986557,
          -1.8874859655183183,
          0.6348946192877947,
          -1.7859523956955943,
          0.13333163954187455,
          -0.6353918987424078,
          -1.0049116048271711,
          -0.24942294813512036,
          0.7019758240727191,
          0.6036035864612834,
          0.6023724883064032
         ],
         "y": [
          0.7557944147735085,
          0.08420801170730241,
          1.125224851480296,
          0.38065475151755207,
          0.5396274205240575,
          0.5683289602573715,
          -0.2608769685151894,
          -0.40282805854406645,
          1.0323173036744528,
          0.028417798834812127,
          -0.517174679146552,
          -1.920275899765896,
          -1.12992664746321,
          1.520453453577847,
          -0.6616003988885832,
          -2.2026206161735447,
          -0.11666027539963252,
          -2.2155337084780067,
          0.6367684799711685,
          -0.1764979359195468,
          1.3819423305761236,
          -0.008262148112657144,
          0.9782295514038942,
          1.99322695455303,
          -0.2550056163421702,
          1.1983104645087241,
          -1.1767282090517108,
          0.1866687098243254,
          -0.7443221314287102,
          -1.3368881098115208,
          0.8979161027537494,
          -0.6450371339227668,
          0.4674685984970453,
          1.0387929502296873,
          1.1420262987889602,
          0.33989156511313695,
          0.28218207921226246,
          0.7108031867533554,
          -0.19824614238408128,
          -0.9382975161738351,
          -0.30006528143077743,
          -0.02711395816594447,
          0.08773127271283397,
          1.1131128380108828,
          -1.5372209506583512,
          -1.2495788629223747,
          -0.5628672105320381,
          1.0253904572821646,
          0.12695003780597983,
          -0.6225220306494884,
          1.0034377291300447,
          -0.017920924540992887,
          0.7051442293937872,
          0.9768952039821863,
          0.1714519825542668,
          -0.4738481699106438,
          1.228276732941743,
          -0.004907755627084942,
          1.1020113226868538,
          -1.537743962725332,
          2.3098300590918144,
          0.8495190634194937,
          -1.8418600829624527,
          -0.5964836394497389,
          0.6388598070914784,
          0.3557569827543802,
          -0.7658323525724573,
          0.015269993899470594,
          -1.3551368944021027,
          0.4828390365168581,
          -0.9696325544797003,
          -0.39790738293710254,
          0.4011413136842935,
          -0.678147361211587,
          -0.5881407468585984,
          0.7315029154129858,
          1.0551627255471088,
          1.3012639291825332,
          1.752203520894791,
          -0.7549413493846202,
          -1.2856592275485377,
          0.772007266640758,
          -1.0868301893872796,
          -0.6748215539231817,
          -1.062831300971065,
          0.46462908811188613,
          -1.2584291900875348,
          -0.457270169220814,
          0.2627928071210074,
          -1.724573428359919,
          1.5939081634088021,
          0.5658581330993231,
          -0.7086495830979483,
          0.8100065851099465,
          -0.3883548594234347,
          -0.9402175365492719,
          -0.14248605623081273,
          1.336233786743859,
          0.030824605229955466,
          0.42536427696008167
         ]
        }
       ],
       "layout": {
        "legend": {
         "bgcolor": "#F5F6F9",
         "font": {
          "color": "#4D5663"
         }
        },
        "paper_bgcolor": "#F5F6F9",
        "plot_bgcolor": "#F5F6F9",
        "template": {
         "data": {
          "bar": [
           {
            "error_x": {
             "color": "#2a3f5f"
            },
            "error_y": {
             "color": "#2a3f5f"
            },
            "marker": {
             "line": {
              "color": "#E5ECF6",
              "width": 0.5
             }
            },
            "type": "bar"
           }
          ],
          "barpolar": [
           {
            "marker": {
             "line": {
              "color": "#E5ECF6",
              "width": 0.5
             }
            },
            "type": "barpolar"
           }
          ],
          "carpet": [
           {
            "aaxis": {
             "endlinecolor": "#2a3f5f",
             "gridcolor": "white",
             "linecolor": "white",
             "minorgridcolor": "white",
             "startlinecolor": "#2a3f5f"
            },
            "baxis": {
             "endlinecolor": "#2a3f5f",
             "gridcolor": "white",
             "linecolor": "white",
             "minorgridcolor": "white",
             "startlinecolor": "#2a3f5f"
            },
            "type": "carpet"
           }
          ],
          "choropleth": [
           {
            "colorbar": {
             "outlinewidth": 0,
             "ticks": ""
            },
            "type": "choropleth"
           }
          ],
          "contour": [
           {
            "colorbar": {
             "outlinewidth": 0,
             "ticks": ""
            },
            "colorscale": [
             [
              0,
              "#0d0887"
             ],
             [
              0.1111111111111111,
              "#46039f"
             ],
             [
              0.2222222222222222,
              "#7201a8"
             ],
             [
              0.3333333333333333,
              "#9c179e"
             ],
             [
              0.4444444444444444,
              "#bd3786"
             ],
             [
              0.5555555555555556,
              "#d8576b"
             ],
             [
              0.6666666666666666,
              "#ed7953"
             ],
             [
              0.7777777777777778,
              "#fb9f3a"
             ],
             [
              0.8888888888888888,
              "#fdca26"
             ],
             [
              1,
              "#f0f921"
             ]
            ],
            "type": "contour"
           }
          ],
          "contourcarpet": [
           {
            "colorbar": {
             "outlinewidth": 0,
             "ticks": ""
            },
            "type": "contourcarpet"
           }
          ],
          "heatmap": [
           {
            "colorbar": {
             "outlinewidth": 0,
             "ticks": ""
            },
            "colorscale": [
             [
              0,
              "#0d0887"
             ],
             [
              0.1111111111111111,
              "#46039f"
             ],
             [
              0.2222222222222222,
              "#7201a8"
             ],
             [
              0.3333333333333333,
              "#9c179e"
             ],
             [
              0.4444444444444444,
              "#bd3786"
             ],
             [
              0.5555555555555556,
              "#d8576b"
             ],
             [
              0.6666666666666666,
              "#ed7953"
             ],
             [
              0.7777777777777778,
              "#fb9f3a"
             ],
             [
              0.8888888888888888,
              "#fdca26"
             ],
             [
              1,
              "#f0f921"
             ]
            ],
            "type": "heatmap"
           }
          ],
          "heatmapgl": [
           {
            "colorbar": {
             "outlinewidth": 0,
             "ticks": ""
            },
            "colorscale": [
             [
              0,
              "#0d0887"
             ],
             [
              0.1111111111111111,
              "#46039f"
             ],
             [
              0.2222222222222222,
              "#7201a8"
             ],
             [
              0.3333333333333333,
              "#9c179e"
             ],
             [
              0.4444444444444444,
              "#bd3786"
             ],
             [
              0.5555555555555556,
              "#d8576b"
             ],
             [
              0.6666666666666666,
              "#ed7953"
             ],
             [
              0.7777777777777778,
              "#fb9f3a"
             ],
             [
              0.8888888888888888,
              "#fdca26"
             ],
             [
              1,
              "#f0f921"
             ]
            ],
            "type": "heatmapgl"
           }
          ],
          "histogram": [
           {
            "marker": {
             "colorbar": {
              "outlinewidth": 0,
              "ticks": ""
             }
            },
            "type": "histogram"
           }
          ],
          "histogram2d": [
           {
            "colorbar": {
             "outlinewidth": 0,
             "ticks": ""
            },
            "colorscale": [
             [
              0,
              "#0d0887"
             ],
             [
              0.1111111111111111,
              "#46039f"
             ],
             [
              0.2222222222222222,
              "#7201a8"
             ],
             [
              0.3333333333333333,
              "#9c179e"
             ],
             [
              0.4444444444444444,
              "#bd3786"
             ],
             [
              0.5555555555555556,
              "#d8576b"
             ],
             [
              0.6666666666666666,
              "#ed7953"
             ],
             [
              0.7777777777777778,
              "#fb9f3a"
             ],
             [
              0.8888888888888888,
              "#fdca26"
             ],
             [
              1,
              "#f0f921"
             ]
            ],
            "type": "histogram2d"
           }
          ],
          "histogram2dcontour": [
           {
            "colorbar": {
             "outlinewidth": 0,
             "ticks": ""
            },
            "colorscale": [
             [
              0,
              "#0d0887"
             ],
             [
              0.1111111111111111,
              "#46039f"
             ],
             [
              0.2222222222222222,
              "#7201a8"
             ],
             [
              0.3333333333333333,
              "#9c179e"
             ],
             [
              0.4444444444444444,
              "#bd3786"
             ],
             [
              0.5555555555555556,
              "#d8576b"
             ],
             [
              0.6666666666666666,
              "#ed7953"
             ],
             [
              0.7777777777777778,
              "#fb9f3a"
             ],
             [
              0.8888888888888888,
              "#fdca26"
             ],
             [
              1,
              "#f0f921"
             ]
            ],
            "type": "histogram2dcontour"
           }
          ],
          "mesh3d": [
           {
            "colorbar": {
             "outlinewidth": 0,
             "ticks": ""
            },
            "type": "mesh3d"
           }
          ],
          "parcoords": [
           {
            "line": {
             "colorbar": {
              "outlinewidth": 0,
              "ticks": ""
             }
            },
            "type": "parcoords"
           }
          ],
          "pie": [
           {
            "automargin": true,
            "type": "pie"
           }
          ],
          "scatter": [
           {
            "marker": {
             "colorbar": {
              "outlinewidth": 0,
              "ticks": ""
             }
            },
            "type": "scatter"
           }
          ],
          "scatter3d": [
           {
            "line": {
             "colorbar": {
              "outlinewidth": 0,
              "ticks": ""
             }
            },
            "marker": {
             "colorbar": {
              "outlinewidth": 0,
              "ticks": ""
             }
            },
            "type": "scatter3d"
           }
          ],
          "scattercarpet": [
           {
            "marker": {
             "colorbar": {
              "outlinewidth": 0,
              "ticks": ""
             }
            },
            "type": "scattercarpet"
           }
          ],
          "scattergeo": [
           {
            "marker": {
             "colorbar": {
              "outlinewidth": 0,
              "ticks": ""
             }
            },
            "type": "scattergeo"
           }
          ],
          "scattergl": [
           {
            "marker": {
             "colorbar": {
              "outlinewidth": 0,
              "ticks": ""
             }
            },
            "type": "scattergl"
           }
          ],
          "scattermapbox": [
           {
            "marker": {
             "colorbar": {
              "outlinewidth": 0,
              "ticks": ""
             }
            },
            "type": "scattermapbox"
           }
          ],
          "scatterpolar": [
           {
            "marker": {
             "colorbar": {
              "outlinewidth": 0,
              "ticks": ""
             }
            },
            "type": "scatterpolar"
           }
          ],
          "scatterpolargl": [
           {
            "marker": {
             "colorbar": {
              "outlinewidth": 0,
              "ticks": ""
             }
            },
            "type": "scatterpolargl"
           }
          ],
          "scatterternary": [
           {
            "marker": {
             "colorbar": {
              "outlinewidth": 0,
              "ticks": ""
             }
            },
            "type": "scatterternary"
           }
          ],
          "surface": [
           {
            "colorbar": {
             "outlinewidth": 0,
             "ticks": ""
            },
            "colorscale": [
             [
              0,
              "#0d0887"
             ],
             [
              0.1111111111111111,
              "#46039f"
             ],
             [
              0.2222222222222222,
              "#7201a8"
             ],
             [
              0.3333333333333333,
              "#9c179e"
             ],
             [
              0.4444444444444444,
              "#bd3786"
             ],
             [
              0.5555555555555556,
              "#d8576b"
             ],
             [
              0.6666666666666666,
              "#ed7953"
             ],
             [
              0.7777777777777778,
              "#fb9f3a"
             ],
             [
              0.8888888888888888,
              "#fdca26"
             ],
             [
              1,
              "#f0f921"
             ]
            ],
            "type": "surface"
           }
          ],
          "table": [
           {
            "cells": {
             "fill": {
              "color": "#EBF0F8"
             },
             "line": {
              "color": "white"
             }
            },
            "header": {
             "fill": {
              "color": "#C8D4E3"
             },
             "line": {
              "color": "white"
             }
            },
            "type": "table"
           }
          ]
         },
         "layout": {
          "annotationdefaults": {
           "arrowcolor": "#2a3f5f",
           "arrowhead": 0,
           "arrowwidth": 1
          },
          "coloraxis": {
           "colorbar": {
            "outlinewidth": 0,
            "ticks": ""
           }
          },
          "colorscale": {
           "diverging": [
            [
             0,
             "#8e0152"
            ],
            [
             0.1,
             "#c51b7d"
            ],
            [
             0.2,
             "#de77ae"
            ],
            [
             0.3,
             "#f1b6da"
            ],
            [
             0.4,
             "#fde0ef"
            ],
            [
             0.5,
             "#f7f7f7"
            ],
            [
             0.6,
             "#e6f5d0"
            ],
            [
             0.7,
             "#b8e186"
            ],
            [
             0.8,
             "#7fbc41"
            ],
            [
             0.9,
             "#4d9221"
            ],
            [
             1,
             "#276419"
            ]
           ],
           "sequential": [
            [
             0,
             "#0d0887"
            ],
            [
             0.1111111111111111,
             "#46039f"
            ],
            [
             0.2222222222222222,
             "#7201a8"
            ],
            [
             0.3333333333333333,
             "#9c179e"
            ],
            [
             0.4444444444444444,
             "#bd3786"
            ],
            [
             0.5555555555555556,
             "#d8576b"
            ],
            [
             0.6666666666666666,
             "#ed7953"
            ],
            [
             0.7777777777777778,
             "#fb9f3a"
            ],
            [
             0.8888888888888888,
             "#fdca26"
            ],
            [
             1,
             "#f0f921"
            ]
           ],
           "sequentialminus": [
            [
             0,
             "#0d0887"
            ],
            [
             0.1111111111111111,
             "#46039f"
            ],
            [
             0.2222222222222222,
             "#7201a8"
            ],
            [
             0.3333333333333333,
             "#9c179e"
            ],
            [
             0.4444444444444444,
             "#bd3786"
            ],
            [
             0.5555555555555556,
             "#d8576b"
            ],
            [
             0.6666666666666666,
             "#ed7953"
            ],
            [
             0.7777777777777778,
             "#fb9f3a"
            ],
            [
             0.8888888888888888,
             "#fdca26"
            ],
            [
             1,
             "#f0f921"
            ]
           ]
          },
          "colorway": [
           "#636efa",
           "#EF553B",
           "#00cc96",
           "#ab63fa",
           "#FFA15A",
           "#19d3f3",
           "#FF6692",
           "#B6E880",
           "#FF97FF",
           "#FECB52"
          ],
          "font": {
           "color": "#2a3f5f"
          },
          "geo": {
           "bgcolor": "white",
           "lakecolor": "white",
           "landcolor": "#E5ECF6",
           "showlakes": true,
           "showland": true,
           "subunitcolor": "white"
          },
          "hoverlabel": {
           "align": "left"
          },
          "hovermode": "closest",
          "mapbox": {
           "style": "light"
          },
          "paper_bgcolor": "white",
          "plot_bgcolor": "#E5ECF6",
          "polar": {
           "angularaxis": {
            "gridcolor": "white",
            "linecolor": "white",
            "ticks": ""
           },
           "bgcolor": "#E5ECF6",
           "radialaxis": {
            "gridcolor": "white",
            "linecolor": "white",
            "ticks": ""
           }
          },
          "scene": {
           "xaxis": {
            "backgroundcolor": "#E5ECF6",
            "gridcolor": "white",
            "gridwidth": 2,
            "linecolor": "white",
            "showbackground": true,
            "ticks": "",
            "zerolinecolor": "white"
           },
           "yaxis": {
            "backgroundcolor": "#E5ECF6",
            "gridcolor": "white",
            "gridwidth": 2,
            "linecolor": "white",
            "showbackground": true,
            "ticks": "",
            "zerolinecolor": "white"
           },
           "zaxis": {
            "backgroundcolor": "#E5ECF6",
            "gridcolor": "white",
            "gridwidth": 2,
            "linecolor": "white",
            "showbackground": true,
            "ticks": "",
            "zerolinecolor": "white"
           }
          },
          "shapedefaults": {
           "line": {
            "color": "#2a3f5f"
           }
          },
          "ternary": {
           "aaxis": {
            "gridcolor": "white",
            "linecolor": "white",
            "ticks": ""
           },
           "baxis": {
            "gridcolor": "white",
            "linecolor": "white",
            "ticks": ""
           },
           "bgcolor": "#E5ECF6",
           "caxis": {
            "gridcolor": "white",
            "linecolor": "white",
            "ticks": ""
           }
          },
          "title": {
           "x": 0.05
          },
          "xaxis": {
           "automargin": true,
           "gridcolor": "white",
           "linecolor": "white",
           "ticks": "",
           "title": {
            "standoff": 15
           },
           "zerolinecolor": "white",
           "zerolinewidth": 2
          },
          "yaxis": {
           "automargin": true,
           "gridcolor": "white",
           "linecolor": "white",
           "ticks": "",
           "title": {
            "standoff": 15
           },
           "zerolinecolor": "white",
           "zerolinewidth": 2
          }
         }
        },
        "title": {
         "font": {
          "color": "#4D5663"
         }
        },
        "xaxis": {
         "gridcolor": "#E1E5ED",
         "showgrid": true,
         "tickfont": {
          "color": "#4D5663"
         },
         "title": {
          "font": {
           "color": "#4D5663"
          },
          "text": ""
         },
         "zerolinecolor": "#E1E5ED"
        },
        "yaxis": {
         "gridcolor": "#E1E5ED",
         "showgrid": true,
         "tickfont": {
          "color": "#4D5663"
         },
         "title": {
          "font": {
           "color": "#4D5663"
          },
          "text": ""
         },
         "zerolinecolor": "#E1E5ED"
        }
       }
      },
      "text/html": [
       "<div>\n",
       "        \n",
       "        \n",
       "            <div id=\"2dd8248c-a7d0-4803-be64-ecd52c5148d5\" class=\"plotly-graph-div\" style=\"height:525px; width:100%;\"></div>\n",
       "            <script type=\"text/javascript\">\n",
       "                require([\"plotly\"], function(Plotly) {\n",
       "                    window.PLOTLYENV=window.PLOTLYENV || {};\n",
       "                    window.PLOTLYENV.BASE_URL='https://plot.ly';\n",
       "                    \n",
       "                if (document.getElementById(\"2dd8248c-a7d0-4803-be64-ecd52c5148d5\")) {\n",
       "                    Plotly.newPlot(\n",
       "                        '2dd8248c-a7d0-4803-be64-ecd52c5148d5',\n",
       "                        [{\"line\": {\"color\": \"rgba(255, 153, 51, 1.0)\", \"dash\": \"solid\", \"shape\": \"linear\", \"width\": 1.3}, \"marker\": {\"size\": 10, \"symbol\": \"circle\"}, \"mode\": \"markers\", \"name\": \"B\", \"text\": \"\", \"type\": \"scatter\", \"x\": [1.1632319313482395, 0.4006995105216627, -0.2956762478256533, -0.05169719393589064, 0.00910757636508114, -0.6955839592405, -0.35909775057049803, -1.5625500495348743, 0.280382662704461, 0.6900988105151796, -2.7574912836742946, -0.07968419822034653, 1.8332128879861818, 1.4295281994653302, 0.1252613779335597, -0.49769928744988495, -0.856393091788203, 1.4352774817096858, -1.2664402308234686, 0.7890502900382642, -1.46167053131466, 0.8150472653619777, -1.17240523883422, -0.6705469117318189, -1.4341028074133875, -0.014599945431750708, 0.7435879685265763, -2.848647374794672, 0.49161354740033353, -0.45050436439059577, 0.28881432704739796, 0.33186383855201784, -0.047088381439171614, -0.9993636850678648, 1.1206599697688173, 1.1930326248835383, -1.1034554747230993, -0.5547348406545668, 0.13945607788763917, 1.301419479862865, -1.2400560909431215, 0.6203031047198649, 0.9380629637173821, -0.14400944082924053, -0.9240931840045439, -0.8282183540851877, -0.11961424790363061, -0.49999029669468653, 0.9819908608077234, -0.11606300782428085, 0.45764184722157275, 0.49346586682197907, -0.5433622602059989, -1.7900480082481471, 0.32044197002586217, -0.633058819620911, 0.035453392741268346, 0.28800897468143366, 0.1270836766417439, 1.1391905804798264, -0.058971810983125275, 1.5960984036066292, 0.043035034307208495, -0.8023299927990649, 0.9613524445273515, -0.39736206448423356, 0.2792623071725112, -0.36223179862154803, 1.0386103659394246, 0.768251393580555, -0.03247482932037407, -0.2833971496851408, -2.3264113817674885, 0.3601066380079715, -0.8975379312800085, 0.07627611530830201, 0.36155396903651077, -0.17833430581015805, -0.6767697508725241, 1.535979797909297, -0.4419843916432813, -0.7094090819406609, 0.647624136408352, -0.056939817949727634, -2.0938503562353876, 1.1522289116879099, 0.43945695783916466, 1.0199457327509938, 0.8259047129688619, -0.43717286489986557, -1.8874859655183183, 0.6348946192877947, -1.7859523956955943, 0.13333163954187455, -0.6353918987424078, -1.0049116048271711, -0.24942294813512036, 0.7019758240727191, 0.6036035864612834, 0.6023724883064032], \"y\": [0.7557944147735085, 0.08420801170730241, 1.125224851480296, 0.38065475151755207, 0.5396274205240575, 0.5683289602573715, -0.2608769685151894, -0.40282805854406645, 1.0323173036744528, 0.028417798834812127, -0.517174679146552, -1.920275899765896, -1.12992664746321, 1.520453453577847, -0.6616003988885832, -2.2026206161735447, -0.11666027539963252, -2.2155337084780067, 0.6367684799711685, -0.1764979359195468, 1.3819423305761236, -0.008262148112657144, 0.9782295514038942, 1.99322695455303, -0.2550056163421702, 1.1983104645087241, -1.1767282090517108, 0.1866687098243254, -0.7443221314287102, -1.3368881098115208, 0.8979161027537494, -0.6450371339227668, 0.4674685984970453, 1.0387929502296873, 1.1420262987889602, 0.33989156511313695, 0.28218207921226246, 0.7108031867533554, -0.19824614238408128, -0.9382975161738351, -0.30006528143077743, -0.02711395816594447, 0.08773127271283397, 1.1131128380108828, -1.5372209506583512, -1.2495788629223747, -0.5628672105320381, 1.0253904572821646, 0.12695003780597983, -0.6225220306494884, 1.0034377291300447, -0.017920924540992887, 0.7051442293937872, 0.9768952039821863, 0.1714519825542668, -0.4738481699106438, 1.228276732941743, -0.004907755627084942, 1.1020113226868538, -1.537743962725332, 2.3098300590918144, 0.8495190634194937, -1.8418600829624527, -0.5964836394497389, 0.6388598070914784, 0.3557569827543802, -0.7658323525724573, 0.015269993899470594, -1.3551368944021027, 0.4828390365168581, -0.9696325544797003, -0.39790738293710254, 0.4011413136842935, -0.678147361211587, -0.5881407468585984, 0.7315029154129858, 1.0551627255471088, 1.3012639291825332, 1.752203520894791, -0.7549413493846202, -1.2856592275485377, 0.772007266640758, -1.0868301893872796, -0.6748215539231817, -1.062831300971065, 0.46462908811188613, -1.2584291900875348, -0.457270169220814, 0.2627928071210074, -1.724573428359919, 1.5939081634088021, 0.5658581330993231, -0.7086495830979483, 0.8100065851099465, -0.3883548594234347, -0.9402175365492719, -0.14248605623081273, 1.336233786743859, 0.030824605229955466, 0.42536427696008167]}],\n",
       "                        {\"legend\": {\"bgcolor\": \"#F5F6F9\", \"font\": {\"color\": \"#4D5663\"}}, \"paper_bgcolor\": \"#F5F6F9\", \"plot_bgcolor\": \"#F5F6F9\", \"template\": {\"data\": {\"bar\": [{\"error_x\": {\"color\": \"#2a3f5f\"}, \"error_y\": {\"color\": \"#2a3f5f\"}, \"marker\": {\"line\": {\"color\": \"#E5ECF6\", \"width\": 0.5}}, \"type\": \"bar\"}], \"barpolar\": [{\"marker\": {\"line\": {\"color\": \"#E5ECF6\", \"width\": 0.5}}, \"type\": \"barpolar\"}], \"carpet\": [{\"aaxis\": {\"endlinecolor\": \"#2a3f5f\", \"gridcolor\": \"white\", \"linecolor\": \"white\", \"minorgridcolor\": \"white\", \"startlinecolor\": \"#2a3f5f\"}, \"baxis\": {\"endlinecolor\": \"#2a3f5f\", \"gridcolor\": \"white\", \"linecolor\": \"white\", \"minorgridcolor\": \"white\", \"startlinecolor\": \"#2a3f5f\"}, \"type\": \"carpet\"}], \"choropleth\": [{\"colorbar\": {\"outlinewidth\": 0, \"ticks\": \"\"}, \"type\": \"choropleth\"}], \"contour\": [{\"colorbar\": {\"outlinewidth\": 0, \"ticks\": \"\"}, \"colorscale\": [[0.0, \"#0d0887\"], [0.1111111111111111, \"#46039f\"], [0.2222222222222222, \"#7201a8\"], [0.3333333333333333, \"#9c179e\"], [0.4444444444444444, \"#bd3786\"], [0.5555555555555556, \"#d8576b\"], [0.6666666666666666, \"#ed7953\"], [0.7777777777777778, \"#fb9f3a\"], [0.8888888888888888, \"#fdca26\"], [1.0, \"#f0f921\"]], \"type\": \"contour\"}], \"contourcarpet\": [{\"colorbar\": {\"outlinewidth\": 0, \"ticks\": \"\"}, \"type\": \"contourcarpet\"}], \"heatmap\": [{\"colorbar\": {\"outlinewidth\": 0, \"ticks\": \"\"}, \"colorscale\": [[0.0, \"#0d0887\"], [0.1111111111111111, \"#46039f\"], [0.2222222222222222, \"#7201a8\"], [0.3333333333333333, \"#9c179e\"], [0.4444444444444444, \"#bd3786\"], [0.5555555555555556, \"#d8576b\"], [0.6666666666666666, \"#ed7953\"], [0.7777777777777778, \"#fb9f3a\"], [0.8888888888888888, \"#fdca26\"], [1.0, \"#f0f921\"]], \"type\": \"heatmap\"}], \"heatmapgl\": [{\"colorbar\": {\"outlinewidth\": 0, \"ticks\": \"\"}, \"colorscale\": [[0.0, \"#0d0887\"], [0.1111111111111111, \"#46039f\"], [0.2222222222222222, \"#7201a8\"], [0.3333333333333333, \"#9c179e\"], [0.4444444444444444, \"#bd3786\"], [0.5555555555555556, \"#d8576b\"], [0.6666666666666666, \"#ed7953\"], [0.7777777777777778, \"#fb9f3a\"], [0.8888888888888888, \"#fdca26\"], [1.0, \"#f0f921\"]], \"type\": \"heatmapgl\"}], \"histogram\": [{\"marker\": {\"colorbar\": {\"outlinewidth\": 0, \"ticks\": \"\"}}, \"type\": \"histogram\"}], \"histogram2d\": [{\"colorbar\": {\"outlinewidth\": 0, \"ticks\": \"\"}, \"colorscale\": [[0.0, \"#0d0887\"], [0.1111111111111111, \"#46039f\"], [0.2222222222222222, \"#7201a8\"], [0.3333333333333333, \"#9c179e\"], [0.4444444444444444, \"#bd3786\"], [0.5555555555555556, \"#d8576b\"], [0.6666666666666666, \"#ed7953\"], [0.7777777777777778, \"#fb9f3a\"], [0.8888888888888888, \"#fdca26\"], [1.0, \"#f0f921\"]], \"type\": \"histogram2d\"}], \"histogram2dcontour\": [{\"colorbar\": {\"outlinewidth\": 0, \"ticks\": \"\"}, \"colorscale\": [[0.0, \"#0d0887\"], [0.1111111111111111, \"#46039f\"], [0.2222222222222222, \"#7201a8\"], [0.3333333333333333, \"#9c179e\"], [0.4444444444444444, \"#bd3786\"], [0.5555555555555556, \"#d8576b\"], [0.6666666666666666, \"#ed7953\"], [0.7777777777777778, \"#fb9f3a\"], [0.8888888888888888, \"#fdca26\"], [1.0, \"#f0f921\"]], \"type\": \"histogram2dcontour\"}], \"mesh3d\": [{\"colorbar\": {\"outlinewidth\": 0, \"ticks\": \"\"}, \"type\": \"mesh3d\"}], \"parcoords\": [{\"line\": {\"colorbar\": {\"outlinewidth\": 0, \"ticks\": \"\"}}, \"type\": \"parcoords\"}], \"pie\": [{\"automargin\": true, \"type\": \"pie\"}], \"scatter\": [{\"marker\": {\"colorbar\": {\"outlinewidth\": 0, \"ticks\": \"\"}}, \"type\": \"scatter\"}], \"scatter3d\": [{\"line\": {\"colorbar\": {\"outlinewidth\": 0, \"ticks\": \"\"}}, \"marker\": {\"colorbar\": {\"outlinewidth\": 0, \"ticks\": \"\"}}, \"type\": \"scatter3d\"}], \"scattercarpet\": [{\"marker\": {\"colorbar\": {\"outlinewidth\": 0, \"ticks\": \"\"}}, \"type\": \"scattercarpet\"}], \"scattergeo\": [{\"marker\": {\"colorbar\": {\"outlinewidth\": 0, \"ticks\": \"\"}}, \"type\": \"scattergeo\"}], \"scattergl\": [{\"marker\": {\"colorbar\": {\"outlinewidth\": 0, \"ticks\": \"\"}}, \"type\": \"scattergl\"}], \"scattermapbox\": [{\"marker\": {\"colorbar\": {\"outlinewidth\": 0, \"ticks\": \"\"}}, \"type\": \"scattermapbox\"}], \"scatterpolar\": [{\"marker\": {\"colorbar\": {\"outlinewidth\": 0, \"ticks\": \"\"}}, \"type\": \"scatterpolar\"}], \"scatterpolargl\": [{\"marker\": {\"colorbar\": {\"outlinewidth\": 0, \"ticks\": \"\"}}, \"type\": \"scatterpolargl\"}], \"scatterternary\": [{\"marker\": {\"colorbar\": {\"outlinewidth\": 0, \"ticks\": \"\"}}, \"type\": \"scatterternary\"}], \"surface\": [{\"colorbar\": {\"outlinewidth\": 0, \"ticks\": \"\"}, \"colorscale\": [[0.0, \"#0d0887\"], [0.1111111111111111, \"#46039f\"], [0.2222222222222222, \"#7201a8\"], [0.3333333333333333, \"#9c179e\"], [0.4444444444444444, \"#bd3786\"], [0.5555555555555556, \"#d8576b\"], [0.6666666666666666, \"#ed7953\"], [0.7777777777777778, \"#fb9f3a\"], [0.8888888888888888, \"#fdca26\"], [1.0, \"#f0f921\"]], \"type\": \"surface\"}], \"table\": [{\"cells\": {\"fill\": {\"color\": \"#EBF0F8\"}, \"line\": {\"color\": \"white\"}}, \"header\": {\"fill\": {\"color\": \"#C8D4E3\"}, \"line\": {\"color\": \"white\"}}, \"type\": \"table\"}]}, \"layout\": {\"annotationdefaults\": {\"arrowcolor\": \"#2a3f5f\", \"arrowhead\": 0, \"arrowwidth\": 1}, \"coloraxis\": {\"colorbar\": {\"outlinewidth\": 0, \"ticks\": \"\"}}, \"colorscale\": {\"diverging\": [[0, \"#8e0152\"], [0.1, \"#c51b7d\"], [0.2, \"#de77ae\"], [0.3, \"#f1b6da\"], [0.4, \"#fde0ef\"], [0.5, \"#f7f7f7\"], [0.6, \"#e6f5d0\"], [0.7, \"#b8e186\"], [0.8, \"#7fbc41\"], [0.9, \"#4d9221\"], [1, \"#276419\"]], \"sequential\": [[0.0, \"#0d0887\"], [0.1111111111111111, \"#46039f\"], [0.2222222222222222, \"#7201a8\"], [0.3333333333333333, \"#9c179e\"], [0.4444444444444444, \"#bd3786\"], [0.5555555555555556, \"#d8576b\"], [0.6666666666666666, \"#ed7953\"], [0.7777777777777778, \"#fb9f3a\"], [0.8888888888888888, \"#fdca26\"], [1.0, \"#f0f921\"]], \"sequentialminus\": [[0.0, \"#0d0887\"], [0.1111111111111111, \"#46039f\"], [0.2222222222222222, \"#7201a8\"], [0.3333333333333333, \"#9c179e\"], [0.4444444444444444, \"#bd3786\"], [0.5555555555555556, \"#d8576b\"], [0.6666666666666666, \"#ed7953\"], [0.7777777777777778, \"#fb9f3a\"], [0.8888888888888888, \"#fdca26\"], [1.0, \"#f0f921\"]]}, \"colorway\": [\"#636efa\", \"#EF553B\", \"#00cc96\", \"#ab63fa\", \"#FFA15A\", \"#19d3f3\", \"#FF6692\", \"#B6E880\", \"#FF97FF\", \"#FECB52\"], \"font\": {\"color\": \"#2a3f5f\"}, \"geo\": {\"bgcolor\": \"white\", \"lakecolor\": \"white\", \"landcolor\": \"#E5ECF6\", \"showlakes\": true, \"showland\": true, \"subunitcolor\": \"white\"}, \"hoverlabel\": {\"align\": \"left\"}, \"hovermode\": \"closest\", \"mapbox\": {\"style\": \"light\"}, \"paper_bgcolor\": \"white\", \"plot_bgcolor\": \"#E5ECF6\", \"polar\": {\"angularaxis\": {\"gridcolor\": \"white\", \"linecolor\": \"white\", \"ticks\": \"\"}, \"bgcolor\": \"#E5ECF6\", \"radialaxis\": {\"gridcolor\": \"white\", \"linecolor\": \"white\", \"ticks\": \"\"}}, \"scene\": {\"xaxis\": {\"backgroundcolor\": \"#E5ECF6\", \"gridcolor\": \"white\", \"gridwidth\": 2, \"linecolor\": \"white\", \"showbackground\": true, \"ticks\": \"\", \"zerolinecolor\": \"white\"}, \"yaxis\": {\"backgroundcolor\": \"#E5ECF6\", \"gridcolor\": \"white\", \"gridwidth\": 2, \"linecolor\": \"white\", \"showbackground\": true, \"ticks\": \"\", \"zerolinecolor\": \"white\"}, \"zaxis\": {\"backgroundcolor\": \"#E5ECF6\", \"gridcolor\": \"white\", \"gridwidth\": 2, \"linecolor\": \"white\", \"showbackground\": true, \"ticks\": \"\", \"zerolinecolor\": \"white\"}}, \"shapedefaults\": {\"line\": {\"color\": \"#2a3f5f\"}}, \"ternary\": {\"aaxis\": {\"gridcolor\": \"white\", \"linecolor\": \"white\", \"ticks\": \"\"}, \"baxis\": {\"gridcolor\": \"white\", \"linecolor\": \"white\", \"ticks\": \"\"}, \"bgcolor\": \"#E5ECF6\", \"caxis\": {\"gridcolor\": \"white\", \"linecolor\": \"white\", \"ticks\": \"\"}}, \"title\": {\"x\": 0.05}, \"xaxis\": {\"automargin\": true, \"gridcolor\": \"white\", \"linecolor\": \"white\", \"ticks\": \"\", \"title\": {\"standoff\": 15}, \"zerolinecolor\": \"white\", \"zerolinewidth\": 2}, \"yaxis\": {\"automargin\": true, \"gridcolor\": \"white\", \"linecolor\": \"white\", \"ticks\": \"\", \"title\": {\"standoff\": 15}, \"zerolinecolor\": \"white\", \"zerolinewidth\": 2}}}, \"title\": {\"font\": {\"color\": \"#4D5663\"}}, \"xaxis\": {\"gridcolor\": \"#E1E5ED\", \"showgrid\": true, \"tickfont\": {\"color\": \"#4D5663\"}, \"title\": {\"font\": {\"color\": \"#4D5663\"}, \"text\": \"\"}, \"zerolinecolor\": \"#E1E5ED\"}, \"yaxis\": {\"gridcolor\": \"#E1E5ED\", \"showgrid\": true, \"tickfont\": {\"color\": \"#4D5663\"}, \"title\": {\"font\": {\"color\": \"#4D5663\"}, \"text\": \"\"}, \"zerolinecolor\": \"#E1E5ED\"}},\n",
       "                        {\"showLink\": true, \"linkText\": \"Export to plot.ly\", \"plotlyServerURL\": \"https://plot.ly\", \"responsive\": true}\n",
       "                    ).then(function(){\n",
       "                            \n",
       "var gd = document.getElementById('2dd8248c-a7d0-4803-be64-ecd52c5148d5');\n",
       "var x = new MutationObserver(function (mutations, observer) {{\n",
       "        var display = window.getComputedStyle(gd).display;\n",
       "        if (!display || display === 'none') {{\n",
       "            console.log([gd, 'removed!']);\n",
       "            Plotly.purge(gd);\n",
       "            observer.disconnect();\n",
       "        }}\n",
       "}});\n",
       "\n",
       "// Listen for the removal of the full notebook cells\n",
       "var notebookContainer = gd.closest('#notebook-container');\n",
       "if (notebookContainer) {{\n",
       "    x.observe(notebookContainer, {childList: true});\n",
       "}}\n",
       "\n",
       "// Listen for the clearing of the current output cell\n",
       "var outputEl = gd.closest('.output');\n",
       "if (outputEl) {{\n",
       "    x.observe(outputEl, {childList: true});\n",
       "}}\n",
       "\n",
       "                        })\n",
       "                };\n",
       "                });\n",
       "            </script>\n",
       "        </div>"
      ]
     },
     "metadata": {},
     "output_type": "display_data"
    }
   ],
   "source": [
    "df.iplot(kind='scatter',x='A',y='B',mode='markers',size=10)"
   ]
  },
  {
   "cell_type": "markdown",
   "metadata": {},
   "source": [
    "## Bar Plots"
   ]
  },
  {
   "cell_type": "code",
   "execution_count": 15,
   "metadata": {},
   "outputs": [
    {
     "data": {
      "application/vnd.plotly.v1+json": {
       "config": {
        "linkText": "Export to plot.ly",
        "plotlyServerURL": "https://plot.ly",
        "showLink": true
       },
       "data": [
        {
         "marker": {
          "color": "rgba(255, 153, 51, 0.6)",
          "line": {
           "color": "rgba(255, 153, 51, 1.0)",
           "width": 1
          }
         },
         "name": "Values",
         "orientation": "v",
         "text": "",
         "type": "bar",
         "x": [
          "A",
          "B",
          "C"
         ],
         "y": [
          32,
          43,
          50
         ]
        }
       ],
       "layout": {
        "legend": {
         "bgcolor": "#F5F6F9",
         "font": {
          "color": "#4D5663"
         }
        },
        "paper_bgcolor": "#F5F6F9",
        "plot_bgcolor": "#F5F6F9",
        "template": {
         "data": {
          "bar": [
           {
            "error_x": {
             "color": "#2a3f5f"
            },
            "error_y": {
             "color": "#2a3f5f"
            },
            "marker": {
             "line": {
              "color": "#E5ECF6",
              "width": 0.5
             }
            },
            "type": "bar"
           }
          ],
          "barpolar": [
           {
            "marker": {
             "line": {
              "color": "#E5ECF6",
              "width": 0.5
             }
            },
            "type": "barpolar"
           }
          ],
          "carpet": [
           {
            "aaxis": {
             "endlinecolor": "#2a3f5f",
             "gridcolor": "white",
             "linecolor": "white",
             "minorgridcolor": "white",
             "startlinecolor": "#2a3f5f"
            },
            "baxis": {
             "endlinecolor": "#2a3f5f",
             "gridcolor": "white",
             "linecolor": "white",
             "minorgridcolor": "white",
             "startlinecolor": "#2a3f5f"
            },
            "type": "carpet"
           }
          ],
          "choropleth": [
           {
            "colorbar": {
             "outlinewidth": 0,
             "ticks": ""
            },
            "type": "choropleth"
           }
          ],
          "contour": [
           {
            "colorbar": {
             "outlinewidth": 0,
             "ticks": ""
            },
            "colorscale": [
             [
              0,
              "#0d0887"
             ],
             [
              0.1111111111111111,
              "#46039f"
             ],
             [
              0.2222222222222222,
              "#7201a8"
             ],
             [
              0.3333333333333333,
              "#9c179e"
             ],
             [
              0.4444444444444444,
              "#bd3786"
             ],
             [
              0.5555555555555556,
              "#d8576b"
             ],
             [
              0.6666666666666666,
              "#ed7953"
             ],
             [
              0.7777777777777778,
              "#fb9f3a"
             ],
             [
              0.8888888888888888,
              "#fdca26"
             ],
             [
              1,
              "#f0f921"
             ]
            ],
            "type": "contour"
           }
          ],
          "contourcarpet": [
           {
            "colorbar": {
             "outlinewidth": 0,
             "ticks": ""
            },
            "type": "contourcarpet"
           }
          ],
          "heatmap": [
           {
            "colorbar": {
             "outlinewidth": 0,
             "ticks": ""
            },
            "colorscale": [
             [
              0,
              "#0d0887"
             ],
             [
              0.1111111111111111,
              "#46039f"
             ],
             [
              0.2222222222222222,
              "#7201a8"
             ],
             [
              0.3333333333333333,
              "#9c179e"
             ],
             [
              0.4444444444444444,
              "#bd3786"
             ],
             [
              0.5555555555555556,
              "#d8576b"
             ],
             [
              0.6666666666666666,
              "#ed7953"
             ],
             [
              0.7777777777777778,
              "#fb9f3a"
             ],
             [
              0.8888888888888888,
              "#fdca26"
             ],
             [
              1,
              "#f0f921"
             ]
            ],
            "type": "heatmap"
           }
          ],
          "heatmapgl": [
           {
            "colorbar": {
             "outlinewidth": 0,
             "ticks": ""
            },
            "colorscale": [
             [
              0,
              "#0d0887"
             ],
             [
              0.1111111111111111,
              "#46039f"
             ],
             [
              0.2222222222222222,
              "#7201a8"
             ],
             [
              0.3333333333333333,
              "#9c179e"
             ],
             [
              0.4444444444444444,
              "#bd3786"
             ],
             [
              0.5555555555555556,
              "#d8576b"
             ],
             [
              0.6666666666666666,
              "#ed7953"
             ],
             [
              0.7777777777777778,
              "#fb9f3a"
             ],
             [
              0.8888888888888888,
              "#fdca26"
             ],
             [
              1,
              "#f0f921"
             ]
            ],
            "type": "heatmapgl"
           }
          ],
          "histogram": [
           {
            "marker": {
             "colorbar": {
              "outlinewidth": 0,
              "ticks": ""
             }
            },
            "type": "histogram"
           }
          ],
          "histogram2d": [
           {
            "colorbar": {
             "outlinewidth": 0,
             "ticks": ""
            },
            "colorscale": [
             [
              0,
              "#0d0887"
             ],
             [
              0.1111111111111111,
              "#46039f"
             ],
             [
              0.2222222222222222,
              "#7201a8"
             ],
             [
              0.3333333333333333,
              "#9c179e"
             ],
             [
              0.4444444444444444,
              "#bd3786"
             ],
             [
              0.5555555555555556,
              "#d8576b"
             ],
             [
              0.6666666666666666,
              "#ed7953"
             ],
             [
              0.7777777777777778,
              "#fb9f3a"
             ],
             [
              0.8888888888888888,
              "#fdca26"
             ],
             [
              1,
              "#f0f921"
             ]
            ],
            "type": "histogram2d"
           }
          ],
          "histogram2dcontour": [
           {
            "colorbar": {
             "outlinewidth": 0,
             "ticks": ""
            },
            "colorscale": [
             [
              0,
              "#0d0887"
             ],
             [
              0.1111111111111111,
              "#46039f"
             ],
             [
              0.2222222222222222,
              "#7201a8"
             ],
             [
              0.3333333333333333,
              "#9c179e"
             ],
             [
              0.4444444444444444,
              "#bd3786"
             ],
             [
              0.5555555555555556,
              "#d8576b"
             ],
             [
              0.6666666666666666,
              "#ed7953"
             ],
             [
              0.7777777777777778,
              "#fb9f3a"
             ],
             [
              0.8888888888888888,
              "#fdca26"
             ],
             [
              1,
              "#f0f921"
             ]
            ],
            "type": "histogram2dcontour"
           }
          ],
          "mesh3d": [
           {
            "colorbar": {
             "outlinewidth": 0,
             "ticks": ""
            },
            "type": "mesh3d"
           }
          ],
          "parcoords": [
           {
            "line": {
             "colorbar": {
              "outlinewidth": 0,
              "ticks": ""
             }
            },
            "type": "parcoords"
           }
          ],
          "pie": [
           {
            "automargin": true,
            "type": "pie"
           }
          ],
          "scatter": [
           {
            "marker": {
             "colorbar": {
              "outlinewidth": 0,
              "ticks": ""
             }
            },
            "type": "scatter"
           }
          ],
          "scatter3d": [
           {
            "line": {
             "colorbar": {
              "outlinewidth": 0,
              "ticks": ""
             }
            },
            "marker": {
             "colorbar": {
              "outlinewidth": 0,
              "ticks": ""
             }
            },
            "type": "scatter3d"
           }
          ],
          "scattercarpet": [
           {
            "marker": {
             "colorbar": {
              "outlinewidth": 0,
              "ticks": ""
             }
            },
            "type": "scattercarpet"
           }
          ],
          "scattergeo": [
           {
            "marker": {
             "colorbar": {
              "outlinewidth": 0,
              "ticks": ""
             }
            },
            "type": "scattergeo"
           }
          ],
          "scattergl": [
           {
            "marker": {
             "colorbar": {
              "outlinewidth": 0,
              "ticks": ""
             }
            },
            "type": "scattergl"
           }
          ],
          "scattermapbox": [
           {
            "marker": {
             "colorbar": {
              "outlinewidth": 0,
              "ticks": ""
             }
            },
            "type": "scattermapbox"
           }
          ],
          "scatterpolar": [
           {
            "marker": {
             "colorbar": {
              "outlinewidth": 0,
              "ticks": ""
             }
            },
            "type": "scatterpolar"
           }
          ],
          "scatterpolargl": [
           {
            "marker": {
             "colorbar": {
              "outlinewidth": 0,
              "ticks": ""
             }
            },
            "type": "scatterpolargl"
           }
          ],
          "scatterternary": [
           {
            "marker": {
             "colorbar": {
              "outlinewidth": 0,
              "ticks": ""
             }
            },
            "type": "scatterternary"
           }
          ],
          "surface": [
           {
            "colorbar": {
             "outlinewidth": 0,
             "ticks": ""
            },
            "colorscale": [
             [
              0,
              "#0d0887"
             ],
             [
              0.1111111111111111,
              "#46039f"
             ],
             [
              0.2222222222222222,
              "#7201a8"
             ],
             [
              0.3333333333333333,
              "#9c179e"
             ],
             [
              0.4444444444444444,
              "#bd3786"
             ],
             [
              0.5555555555555556,
              "#d8576b"
             ],
             [
              0.6666666666666666,
              "#ed7953"
             ],
             [
              0.7777777777777778,
              "#fb9f3a"
             ],
             [
              0.8888888888888888,
              "#fdca26"
             ],
             [
              1,
              "#f0f921"
             ]
            ],
            "type": "surface"
           }
          ],
          "table": [
           {
            "cells": {
             "fill": {
              "color": "#EBF0F8"
             },
             "line": {
              "color": "white"
             }
            },
            "header": {
             "fill": {
              "color": "#C8D4E3"
             },
             "line": {
              "color": "white"
             }
            },
            "type": "table"
           }
          ]
         },
         "layout": {
          "annotationdefaults": {
           "arrowcolor": "#2a3f5f",
           "arrowhead": 0,
           "arrowwidth": 1
          },
          "coloraxis": {
           "colorbar": {
            "outlinewidth": 0,
            "ticks": ""
           }
          },
          "colorscale": {
           "diverging": [
            [
             0,
             "#8e0152"
            ],
            [
             0.1,
             "#c51b7d"
            ],
            [
             0.2,
             "#de77ae"
            ],
            [
             0.3,
             "#f1b6da"
            ],
            [
             0.4,
             "#fde0ef"
            ],
            [
             0.5,
             "#f7f7f7"
            ],
            [
             0.6,
             "#e6f5d0"
            ],
            [
             0.7,
             "#b8e186"
            ],
            [
             0.8,
             "#7fbc41"
            ],
            [
             0.9,
             "#4d9221"
            ],
            [
             1,
             "#276419"
            ]
           ],
           "sequential": [
            [
             0,
             "#0d0887"
            ],
            [
             0.1111111111111111,
             "#46039f"
            ],
            [
             0.2222222222222222,
             "#7201a8"
            ],
            [
             0.3333333333333333,
             "#9c179e"
            ],
            [
             0.4444444444444444,
             "#bd3786"
            ],
            [
             0.5555555555555556,
             "#d8576b"
            ],
            [
             0.6666666666666666,
             "#ed7953"
            ],
            [
             0.7777777777777778,
             "#fb9f3a"
            ],
            [
             0.8888888888888888,
             "#fdca26"
            ],
            [
             1,
             "#f0f921"
            ]
           ],
           "sequentialminus": [
            [
             0,
             "#0d0887"
            ],
            [
             0.1111111111111111,
             "#46039f"
            ],
            [
             0.2222222222222222,
             "#7201a8"
            ],
            [
             0.3333333333333333,
             "#9c179e"
            ],
            [
             0.4444444444444444,
             "#bd3786"
            ],
            [
             0.5555555555555556,
             "#d8576b"
            ],
            [
             0.6666666666666666,
             "#ed7953"
            ],
            [
             0.7777777777777778,
             "#fb9f3a"
            ],
            [
             0.8888888888888888,
             "#fdca26"
            ],
            [
             1,
             "#f0f921"
            ]
           ]
          },
          "colorway": [
           "#636efa",
           "#EF553B",
           "#00cc96",
           "#ab63fa",
           "#FFA15A",
           "#19d3f3",
           "#FF6692",
           "#B6E880",
           "#FF97FF",
           "#FECB52"
          ],
          "font": {
           "color": "#2a3f5f"
          },
          "geo": {
           "bgcolor": "white",
           "lakecolor": "white",
           "landcolor": "#E5ECF6",
           "showlakes": true,
           "showland": true,
           "subunitcolor": "white"
          },
          "hoverlabel": {
           "align": "left"
          },
          "hovermode": "closest",
          "mapbox": {
           "style": "light"
          },
          "paper_bgcolor": "white",
          "plot_bgcolor": "#E5ECF6",
          "polar": {
           "angularaxis": {
            "gridcolor": "white",
            "linecolor": "white",
            "ticks": ""
           },
           "bgcolor": "#E5ECF6",
           "radialaxis": {
            "gridcolor": "white",
            "linecolor": "white",
            "ticks": ""
           }
          },
          "scene": {
           "xaxis": {
            "backgroundcolor": "#E5ECF6",
            "gridcolor": "white",
            "gridwidth": 2,
            "linecolor": "white",
            "showbackground": true,
            "ticks": "",
            "zerolinecolor": "white"
           },
           "yaxis": {
            "backgroundcolor": "#E5ECF6",
            "gridcolor": "white",
            "gridwidth": 2,
            "linecolor": "white",
            "showbackground": true,
            "ticks": "",
            "zerolinecolor": "white"
           },
           "zaxis": {
            "backgroundcolor": "#E5ECF6",
            "gridcolor": "white",
            "gridwidth": 2,
            "linecolor": "white",
            "showbackground": true,
            "ticks": "",
            "zerolinecolor": "white"
           }
          },
          "shapedefaults": {
           "line": {
            "color": "#2a3f5f"
           }
          },
          "ternary": {
           "aaxis": {
            "gridcolor": "white",
            "linecolor": "white",
            "ticks": ""
           },
           "baxis": {
            "gridcolor": "white",
            "linecolor": "white",
            "ticks": ""
           },
           "bgcolor": "#E5ECF6",
           "caxis": {
            "gridcolor": "white",
            "linecolor": "white",
            "ticks": ""
           }
          },
          "title": {
           "x": 0.05
          },
          "xaxis": {
           "automargin": true,
           "gridcolor": "white",
           "linecolor": "white",
           "ticks": "",
           "title": {
            "standoff": 15
           },
           "zerolinecolor": "white",
           "zerolinewidth": 2
          },
          "yaxis": {
           "automargin": true,
           "gridcolor": "white",
           "linecolor": "white",
           "ticks": "",
           "title": {
            "standoff": 15
           },
           "zerolinecolor": "white",
           "zerolinewidth": 2
          }
         }
        },
        "title": {
         "font": {
          "color": "#4D5663"
         }
        },
        "xaxis": {
         "gridcolor": "#E1E5ED",
         "showgrid": true,
         "tickfont": {
          "color": "#4D5663"
         },
         "title": {
          "font": {
           "color": "#4D5663"
          },
          "text": ""
         },
         "zerolinecolor": "#E1E5ED"
        },
        "yaxis": {
         "gridcolor": "#E1E5ED",
         "showgrid": true,
         "tickfont": {
          "color": "#4D5663"
         },
         "title": {
          "font": {
           "color": "#4D5663"
          },
          "text": ""
         },
         "zerolinecolor": "#E1E5ED"
        }
       }
      },
      "text/html": [
       "<div>\n",
       "        \n",
       "        \n",
       "            <div id=\"ca6bef5b-daa8-44c9-9ee3-b8d4cbff891e\" class=\"plotly-graph-div\" style=\"height:525px; width:100%;\"></div>\n",
       "            <script type=\"text/javascript\">\n",
       "                require([\"plotly\"], function(Plotly) {\n",
       "                    window.PLOTLYENV=window.PLOTLYENV || {};\n",
       "                    window.PLOTLYENV.BASE_URL='https://plot.ly';\n",
       "                    \n",
       "                if (document.getElementById(\"ca6bef5b-daa8-44c9-9ee3-b8d4cbff891e\")) {\n",
       "                    Plotly.newPlot(\n",
       "                        'ca6bef5b-daa8-44c9-9ee3-b8d4cbff891e',\n",
       "                        [{\"marker\": {\"color\": \"rgba(255, 153, 51, 0.6)\", \"line\": {\"color\": \"rgba(255, 153, 51, 1.0)\", \"width\": 1}}, \"name\": \"Values\", \"orientation\": \"v\", \"text\": \"\", \"type\": \"bar\", \"x\": [\"A\", \"B\", \"C\"], \"y\": [32, 43, 50]}],\n",
       "                        {\"legend\": {\"bgcolor\": \"#F5F6F9\", \"font\": {\"color\": \"#4D5663\"}}, \"paper_bgcolor\": \"#F5F6F9\", \"plot_bgcolor\": \"#F5F6F9\", \"template\": {\"data\": {\"bar\": [{\"error_x\": {\"color\": \"#2a3f5f\"}, \"error_y\": {\"color\": \"#2a3f5f\"}, \"marker\": {\"line\": {\"color\": \"#E5ECF6\", \"width\": 0.5}}, \"type\": \"bar\"}], \"barpolar\": [{\"marker\": {\"line\": {\"color\": \"#E5ECF6\", \"width\": 0.5}}, \"type\": \"barpolar\"}], \"carpet\": [{\"aaxis\": {\"endlinecolor\": \"#2a3f5f\", \"gridcolor\": \"white\", \"linecolor\": \"white\", \"minorgridcolor\": \"white\", \"startlinecolor\": \"#2a3f5f\"}, \"baxis\": {\"endlinecolor\": \"#2a3f5f\", \"gridcolor\": \"white\", \"linecolor\": \"white\", \"minorgridcolor\": \"white\", \"startlinecolor\": \"#2a3f5f\"}, \"type\": \"carpet\"}], \"choropleth\": [{\"colorbar\": {\"outlinewidth\": 0, \"ticks\": \"\"}, \"type\": \"choropleth\"}], \"contour\": [{\"colorbar\": {\"outlinewidth\": 0, \"ticks\": \"\"}, \"colorscale\": [[0.0, \"#0d0887\"], [0.1111111111111111, \"#46039f\"], [0.2222222222222222, \"#7201a8\"], [0.3333333333333333, \"#9c179e\"], [0.4444444444444444, \"#bd3786\"], [0.5555555555555556, \"#d8576b\"], [0.6666666666666666, \"#ed7953\"], [0.7777777777777778, \"#fb9f3a\"], [0.8888888888888888, \"#fdca26\"], [1.0, \"#f0f921\"]], \"type\": \"contour\"}], \"contourcarpet\": [{\"colorbar\": {\"outlinewidth\": 0, \"ticks\": \"\"}, \"type\": \"contourcarpet\"}], \"heatmap\": [{\"colorbar\": {\"outlinewidth\": 0, \"ticks\": \"\"}, \"colorscale\": [[0.0, \"#0d0887\"], [0.1111111111111111, \"#46039f\"], [0.2222222222222222, \"#7201a8\"], [0.3333333333333333, \"#9c179e\"], [0.4444444444444444, \"#bd3786\"], [0.5555555555555556, \"#d8576b\"], [0.6666666666666666, \"#ed7953\"], [0.7777777777777778, \"#fb9f3a\"], [0.8888888888888888, \"#fdca26\"], [1.0, \"#f0f921\"]], \"type\": \"heatmap\"}], \"heatmapgl\": [{\"colorbar\": {\"outlinewidth\": 0, \"ticks\": \"\"}, \"colorscale\": [[0.0, \"#0d0887\"], [0.1111111111111111, \"#46039f\"], [0.2222222222222222, \"#7201a8\"], [0.3333333333333333, \"#9c179e\"], [0.4444444444444444, \"#bd3786\"], [0.5555555555555556, \"#d8576b\"], [0.6666666666666666, \"#ed7953\"], [0.7777777777777778, \"#fb9f3a\"], [0.8888888888888888, \"#fdca26\"], [1.0, \"#f0f921\"]], \"type\": \"heatmapgl\"}], \"histogram\": [{\"marker\": {\"colorbar\": {\"outlinewidth\": 0, \"ticks\": \"\"}}, \"type\": \"histogram\"}], \"histogram2d\": [{\"colorbar\": {\"outlinewidth\": 0, \"ticks\": \"\"}, \"colorscale\": [[0.0, \"#0d0887\"], [0.1111111111111111, \"#46039f\"], [0.2222222222222222, \"#7201a8\"], [0.3333333333333333, \"#9c179e\"], [0.4444444444444444, \"#bd3786\"], [0.5555555555555556, \"#d8576b\"], [0.6666666666666666, \"#ed7953\"], [0.7777777777777778, \"#fb9f3a\"], [0.8888888888888888, \"#fdca26\"], [1.0, \"#f0f921\"]], \"type\": \"histogram2d\"}], \"histogram2dcontour\": [{\"colorbar\": {\"outlinewidth\": 0, \"ticks\": \"\"}, \"colorscale\": [[0.0, \"#0d0887\"], [0.1111111111111111, \"#46039f\"], [0.2222222222222222, \"#7201a8\"], [0.3333333333333333, \"#9c179e\"], [0.4444444444444444, \"#bd3786\"], [0.5555555555555556, \"#d8576b\"], [0.6666666666666666, \"#ed7953\"], [0.7777777777777778, \"#fb9f3a\"], [0.8888888888888888, \"#fdca26\"], [1.0, \"#f0f921\"]], \"type\": \"histogram2dcontour\"}], \"mesh3d\": [{\"colorbar\": {\"outlinewidth\": 0, \"ticks\": \"\"}, \"type\": \"mesh3d\"}], \"parcoords\": [{\"line\": {\"colorbar\": {\"outlinewidth\": 0, \"ticks\": \"\"}}, \"type\": \"parcoords\"}], \"pie\": [{\"automargin\": true, \"type\": \"pie\"}], \"scatter\": [{\"marker\": {\"colorbar\": {\"outlinewidth\": 0, \"ticks\": \"\"}}, \"type\": \"scatter\"}], \"scatter3d\": [{\"line\": {\"colorbar\": {\"outlinewidth\": 0, \"ticks\": \"\"}}, \"marker\": {\"colorbar\": {\"outlinewidth\": 0, \"ticks\": \"\"}}, \"type\": \"scatter3d\"}], \"scattercarpet\": [{\"marker\": {\"colorbar\": {\"outlinewidth\": 0, \"ticks\": \"\"}}, \"type\": \"scattercarpet\"}], \"scattergeo\": [{\"marker\": {\"colorbar\": {\"outlinewidth\": 0, \"ticks\": \"\"}}, \"type\": \"scattergeo\"}], \"scattergl\": [{\"marker\": {\"colorbar\": {\"outlinewidth\": 0, \"ticks\": \"\"}}, \"type\": \"scattergl\"}], \"scattermapbox\": [{\"marker\": {\"colorbar\": {\"outlinewidth\": 0, \"ticks\": \"\"}}, \"type\": \"scattermapbox\"}], \"scatterpolar\": [{\"marker\": {\"colorbar\": {\"outlinewidth\": 0, \"ticks\": \"\"}}, \"type\": \"scatterpolar\"}], \"scatterpolargl\": [{\"marker\": {\"colorbar\": {\"outlinewidth\": 0, \"ticks\": \"\"}}, \"type\": \"scatterpolargl\"}], \"scatterternary\": [{\"marker\": {\"colorbar\": {\"outlinewidth\": 0, \"ticks\": \"\"}}, \"type\": \"scatterternary\"}], \"surface\": [{\"colorbar\": {\"outlinewidth\": 0, \"ticks\": \"\"}, \"colorscale\": [[0.0, \"#0d0887\"], [0.1111111111111111, \"#46039f\"], [0.2222222222222222, \"#7201a8\"], [0.3333333333333333, \"#9c179e\"], [0.4444444444444444, \"#bd3786\"], [0.5555555555555556, \"#d8576b\"], [0.6666666666666666, \"#ed7953\"], [0.7777777777777778, \"#fb9f3a\"], [0.8888888888888888, \"#fdca26\"], [1.0, \"#f0f921\"]], \"type\": \"surface\"}], \"table\": [{\"cells\": {\"fill\": {\"color\": \"#EBF0F8\"}, \"line\": {\"color\": \"white\"}}, \"header\": {\"fill\": {\"color\": \"#C8D4E3\"}, \"line\": {\"color\": \"white\"}}, \"type\": \"table\"}]}, \"layout\": {\"annotationdefaults\": {\"arrowcolor\": \"#2a3f5f\", \"arrowhead\": 0, \"arrowwidth\": 1}, \"coloraxis\": {\"colorbar\": {\"outlinewidth\": 0, \"ticks\": \"\"}}, \"colorscale\": {\"diverging\": [[0, \"#8e0152\"], [0.1, \"#c51b7d\"], [0.2, \"#de77ae\"], [0.3, \"#f1b6da\"], [0.4, \"#fde0ef\"], [0.5, \"#f7f7f7\"], [0.6, \"#e6f5d0\"], [0.7, \"#b8e186\"], [0.8, \"#7fbc41\"], [0.9, \"#4d9221\"], [1, \"#276419\"]], \"sequential\": [[0.0, \"#0d0887\"], [0.1111111111111111, \"#46039f\"], [0.2222222222222222, \"#7201a8\"], [0.3333333333333333, \"#9c179e\"], [0.4444444444444444, \"#bd3786\"], [0.5555555555555556, \"#d8576b\"], [0.6666666666666666, \"#ed7953\"], [0.7777777777777778, \"#fb9f3a\"], [0.8888888888888888, \"#fdca26\"], [1.0, \"#f0f921\"]], \"sequentialminus\": [[0.0, \"#0d0887\"], [0.1111111111111111, \"#46039f\"], [0.2222222222222222, \"#7201a8\"], [0.3333333333333333, \"#9c179e\"], [0.4444444444444444, \"#bd3786\"], [0.5555555555555556, \"#d8576b\"], [0.6666666666666666, \"#ed7953\"], [0.7777777777777778, \"#fb9f3a\"], [0.8888888888888888, \"#fdca26\"], [1.0, \"#f0f921\"]]}, \"colorway\": [\"#636efa\", \"#EF553B\", \"#00cc96\", \"#ab63fa\", \"#FFA15A\", \"#19d3f3\", \"#FF6692\", \"#B6E880\", \"#FF97FF\", \"#FECB52\"], \"font\": {\"color\": \"#2a3f5f\"}, \"geo\": {\"bgcolor\": \"white\", \"lakecolor\": \"white\", \"landcolor\": \"#E5ECF6\", \"showlakes\": true, \"showland\": true, \"subunitcolor\": \"white\"}, \"hoverlabel\": {\"align\": \"left\"}, \"hovermode\": \"closest\", \"mapbox\": {\"style\": \"light\"}, \"paper_bgcolor\": \"white\", \"plot_bgcolor\": \"#E5ECF6\", \"polar\": {\"angularaxis\": {\"gridcolor\": \"white\", \"linecolor\": \"white\", \"ticks\": \"\"}, \"bgcolor\": \"#E5ECF6\", \"radialaxis\": {\"gridcolor\": \"white\", \"linecolor\": \"white\", \"ticks\": \"\"}}, \"scene\": {\"xaxis\": {\"backgroundcolor\": \"#E5ECF6\", \"gridcolor\": \"white\", \"gridwidth\": 2, \"linecolor\": \"white\", \"showbackground\": true, \"ticks\": \"\", \"zerolinecolor\": \"white\"}, \"yaxis\": {\"backgroundcolor\": \"#E5ECF6\", \"gridcolor\": \"white\", \"gridwidth\": 2, \"linecolor\": \"white\", \"showbackground\": true, \"ticks\": \"\", \"zerolinecolor\": \"white\"}, \"zaxis\": {\"backgroundcolor\": \"#E5ECF6\", \"gridcolor\": \"white\", \"gridwidth\": 2, \"linecolor\": \"white\", \"showbackground\": true, \"ticks\": \"\", \"zerolinecolor\": \"white\"}}, \"shapedefaults\": {\"line\": {\"color\": \"#2a3f5f\"}}, \"ternary\": {\"aaxis\": {\"gridcolor\": \"white\", \"linecolor\": \"white\", \"ticks\": \"\"}, \"baxis\": {\"gridcolor\": \"white\", \"linecolor\": \"white\", \"ticks\": \"\"}, \"bgcolor\": \"#E5ECF6\", \"caxis\": {\"gridcolor\": \"white\", \"linecolor\": \"white\", \"ticks\": \"\"}}, \"title\": {\"x\": 0.05}, \"xaxis\": {\"automargin\": true, \"gridcolor\": \"white\", \"linecolor\": \"white\", \"ticks\": \"\", \"title\": {\"standoff\": 15}, \"zerolinecolor\": \"white\", \"zerolinewidth\": 2}, \"yaxis\": {\"automargin\": true, \"gridcolor\": \"white\", \"linecolor\": \"white\", \"ticks\": \"\", \"title\": {\"standoff\": 15}, \"zerolinecolor\": \"white\", \"zerolinewidth\": 2}}}, \"title\": {\"font\": {\"color\": \"#4D5663\"}}, \"xaxis\": {\"gridcolor\": \"#E1E5ED\", \"showgrid\": true, \"tickfont\": {\"color\": \"#4D5663\"}, \"title\": {\"font\": {\"color\": \"#4D5663\"}, \"text\": \"\"}, \"zerolinecolor\": \"#E1E5ED\"}, \"yaxis\": {\"gridcolor\": \"#E1E5ED\", \"showgrid\": true, \"tickfont\": {\"color\": \"#4D5663\"}, \"title\": {\"font\": {\"color\": \"#4D5663\"}, \"text\": \"\"}, \"zerolinecolor\": \"#E1E5ED\"}},\n",
       "                        {\"showLink\": true, \"linkText\": \"Export to plot.ly\", \"plotlyServerURL\": \"https://plot.ly\", \"responsive\": true}\n",
       "                    ).then(function(){\n",
       "                            \n",
       "var gd = document.getElementById('ca6bef5b-daa8-44c9-9ee3-b8d4cbff891e');\n",
       "var x = new MutationObserver(function (mutations, observer) {{\n",
       "        var display = window.getComputedStyle(gd).display;\n",
       "        if (!display || display === 'none') {{\n",
       "            console.log([gd, 'removed!']);\n",
       "            Plotly.purge(gd);\n",
       "            observer.disconnect();\n",
       "        }}\n",
       "}});\n",
       "\n",
       "// Listen for the removal of the full notebook cells\n",
       "var notebookContainer = gd.closest('#notebook-container');\n",
       "if (notebookContainer) {{\n",
       "    x.observe(notebookContainer, {childList: true});\n",
       "}}\n",
       "\n",
       "// Listen for the clearing of the current output cell\n",
       "var outputEl = gd.closest('.output');\n",
       "if (outputEl) {{\n",
       "    x.observe(outputEl, {childList: true});\n",
       "}}\n",
       "\n",
       "                        })\n",
       "                };\n",
       "                });\n",
       "            </script>\n",
       "        </div>"
      ]
     },
     "metadata": {},
     "output_type": "display_data"
    }
   ],
   "source": [
    "df2.iplot(kind='bar',x='Category',y='Values')"
   ]
  },
  {
   "cell_type": "code",
   "execution_count": 16,
   "metadata": {},
   "outputs": [
    {
     "data": {
      "application/vnd.plotly.v1+json": {
       "config": {
        "linkText": "Export to plot.ly",
        "plotlyServerURL": "https://plot.ly",
        "showLink": true
       },
       "data": [
        {
         "marker": {
          "color": "rgba(255, 153, 51, 0.6)",
          "line": {
           "color": "rgba(255, 153, 51, 1.0)",
           "width": 1
          }
         },
         "name": "None",
         "orientation": "v",
         "text": "",
         "type": "bar",
         "x": [
          "A",
          "B",
          "C",
          "D"
         ],
         "y": [
          100,
          100,
          100,
          100
         ]
        }
       ],
       "layout": {
        "legend": {
         "bgcolor": "#F5F6F9",
         "font": {
          "color": "#4D5663"
         }
        },
        "paper_bgcolor": "#F5F6F9",
        "plot_bgcolor": "#F5F6F9",
        "template": {
         "data": {
          "bar": [
           {
            "error_x": {
             "color": "#2a3f5f"
            },
            "error_y": {
             "color": "#2a3f5f"
            },
            "marker": {
             "line": {
              "color": "#E5ECF6",
              "width": 0.5
             }
            },
            "type": "bar"
           }
          ],
          "barpolar": [
           {
            "marker": {
             "line": {
              "color": "#E5ECF6",
              "width": 0.5
             }
            },
            "type": "barpolar"
           }
          ],
          "carpet": [
           {
            "aaxis": {
             "endlinecolor": "#2a3f5f",
             "gridcolor": "white",
             "linecolor": "white",
             "minorgridcolor": "white",
             "startlinecolor": "#2a3f5f"
            },
            "baxis": {
             "endlinecolor": "#2a3f5f",
             "gridcolor": "white",
             "linecolor": "white",
             "minorgridcolor": "white",
             "startlinecolor": "#2a3f5f"
            },
            "type": "carpet"
           }
          ],
          "choropleth": [
           {
            "colorbar": {
             "outlinewidth": 0,
             "ticks": ""
            },
            "type": "choropleth"
           }
          ],
          "contour": [
           {
            "colorbar": {
             "outlinewidth": 0,
             "ticks": ""
            },
            "colorscale": [
             [
              0,
              "#0d0887"
             ],
             [
              0.1111111111111111,
              "#46039f"
             ],
             [
              0.2222222222222222,
              "#7201a8"
             ],
             [
              0.3333333333333333,
              "#9c179e"
             ],
             [
              0.4444444444444444,
              "#bd3786"
             ],
             [
              0.5555555555555556,
              "#d8576b"
             ],
             [
              0.6666666666666666,
              "#ed7953"
             ],
             [
              0.7777777777777778,
              "#fb9f3a"
             ],
             [
              0.8888888888888888,
              "#fdca26"
             ],
             [
              1,
              "#f0f921"
             ]
            ],
            "type": "contour"
           }
          ],
          "contourcarpet": [
           {
            "colorbar": {
             "outlinewidth": 0,
             "ticks": ""
            },
            "type": "contourcarpet"
           }
          ],
          "heatmap": [
           {
            "colorbar": {
             "outlinewidth": 0,
             "ticks": ""
            },
            "colorscale": [
             [
              0,
              "#0d0887"
             ],
             [
              0.1111111111111111,
              "#46039f"
             ],
             [
              0.2222222222222222,
              "#7201a8"
             ],
             [
              0.3333333333333333,
              "#9c179e"
             ],
             [
              0.4444444444444444,
              "#bd3786"
             ],
             [
              0.5555555555555556,
              "#d8576b"
             ],
             [
              0.6666666666666666,
              "#ed7953"
             ],
             [
              0.7777777777777778,
              "#fb9f3a"
             ],
             [
              0.8888888888888888,
              "#fdca26"
             ],
             [
              1,
              "#f0f921"
             ]
            ],
            "type": "heatmap"
           }
          ],
          "heatmapgl": [
           {
            "colorbar": {
             "outlinewidth": 0,
             "ticks": ""
            },
            "colorscale": [
             [
              0,
              "#0d0887"
             ],
             [
              0.1111111111111111,
              "#46039f"
             ],
             [
              0.2222222222222222,
              "#7201a8"
             ],
             [
              0.3333333333333333,
              "#9c179e"
             ],
             [
              0.4444444444444444,
              "#bd3786"
             ],
             [
              0.5555555555555556,
              "#d8576b"
             ],
             [
              0.6666666666666666,
              "#ed7953"
             ],
             [
              0.7777777777777778,
              "#fb9f3a"
             ],
             [
              0.8888888888888888,
              "#fdca26"
             ],
             [
              1,
              "#f0f921"
             ]
            ],
            "type": "heatmapgl"
           }
          ],
          "histogram": [
           {
            "marker": {
             "colorbar": {
              "outlinewidth": 0,
              "ticks": ""
             }
            },
            "type": "histogram"
           }
          ],
          "histogram2d": [
           {
            "colorbar": {
             "outlinewidth": 0,
             "ticks": ""
            },
            "colorscale": [
             [
              0,
              "#0d0887"
             ],
             [
              0.1111111111111111,
              "#46039f"
             ],
             [
              0.2222222222222222,
              "#7201a8"
             ],
             [
              0.3333333333333333,
              "#9c179e"
             ],
             [
              0.4444444444444444,
              "#bd3786"
             ],
             [
              0.5555555555555556,
              "#d8576b"
             ],
             [
              0.6666666666666666,
              "#ed7953"
             ],
             [
              0.7777777777777778,
              "#fb9f3a"
             ],
             [
              0.8888888888888888,
              "#fdca26"
             ],
             [
              1,
              "#f0f921"
             ]
            ],
            "type": "histogram2d"
           }
          ],
          "histogram2dcontour": [
           {
            "colorbar": {
             "outlinewidth": 0,
             "ticks": ""
            },
            "colorscale": [
             [
              0,
              "#0d0887"
             ],
             [
              0.1111111111111111,
              "#46039f"
             ],
             [
              0.2222222222222222,
              "#7201a8"
             ],
             [
              0.3333333333333333,
              "#9c179e"
             ],
             [
              0.4444444444444444,
              "#bd3786"
             ],
             [
              0.5555555555555556,
              "#d8576b"
             ],
             [
              0.6666666666666666,
              "#ed7953"
             ],
             [
              0.7777777777777778,
              "#fb9f3a"
             ],
             [
              0.8888888888888888,
              "#fdca26"
             ],
             [
              1,
              "#f0f921"
             ]
            ],
            "type": "histogram2dcontour"
           }
          ],
          "mesh3d": [
           {
            "colorbar": {
             "outlinewidth": 0,
             "ticks": ""
            },
            "type": "mesh3d"
           }
          ],
          "parcoords": [
           {
            "line": {
             "colorbar": {
              "outlinewidth": 0,
              "ticks": ""
             }
            },
            "type": "parcoords"
           }
          ],
          "pie": [
           {
            "automargin": true,
            "type": "pie"
           }
          ],
          "scatter": [
           {
            "marker": {
             "colorbar": {
              "outlinewidth": 0,
              "ticks": ""
             }
            },
            "type": "scatter"
           }
          ],
          "scatter3d": [
           {
            "line": {
             "colorbar": {
              "outlinewidth": 0,
              "ticks": ""
             }
            },
            "marker": {
             "colorbar": {
              "outlinewidth": 0,
              "ticks": ""
             }
            },
            "type": "scatter3d"
           }
          ],
          "scattercarpet": [
           {
            "marker": {
             "colorbar": {
              "outlinewidth": 0,
              "ticks": ""
             }
            },
            "type": "scattercarpet"
           }
          ],
          "scattergeo": [
           {
            "marker": {
             "colorbar": {
              "outlinewidth": 0,
              "ticks": ""
             }
            },
            "type": "scattergeo"
           }
          ],
          "scattergl": [
           {
            "marker": {
             "colorbar": {
              "outlinewidth": 0,
              "ticks": ""
             }
            },
            "type": "scattergl"
           }
          ],
          "scattermapbox": [
           {
            "marker": {
             "colorbar": {
              "outlinewidth": 0,
              "ticks": ""
             }
            },
            "type": "scattermapbox"
           }
          ],
          "scatterpolar": [
           {
            "marker": {
             "colorbar": {
              "outlinewidth": 0,
              "ticks": ""
             }
            },
            "type": "scatterpolar"
           }
          ],
          "scatterpolargl": [
           {
            "marker": {
             "colorbar": {
              "outlinewidth": 0,
              "ticks": ""
             }
            },
            "type": "scatterpolargl"
           }
          ],
          "scatterternary": [
           {
            "marker": {
             "colorbar": {
              "outlinewidth": 0,
              "ticks": ""
             }
            },
            "type": "scatterternary"
           }
          ],
          "surface": [
           {
            "colorbar": {
             "outlinewidth": 0,
             "ticks": ""
            },
            "colorscale": [
             [
              0,
              "#0d0887"
             ],
             [
              0.1111111111111111,
              "#46039f"
             ],
             [
              0.2222222222222222,
              "#7201a8"
             ],
             [
              0.3333333333333333,
              "#9c179e"
             ],
             [
              0.4444444444444444,
              "#bd3786"
             ],
             [
              0.5555555555555556,
              "#d8576b"
             ],
             [
              0.6666666666666666,
              "#ed7953"
             ],
             [
              0.7777777777777778,
              "#fb9f3a"
             ],
             [
              0.8888888888888888,
              "#fdca26"
             ],
             [
              1,
              "#f0f921"
             ]
            ],
            "type": "surface"
           }
          ],
          "table": [
           {
            "cells": {
             "fill": {
              "color": "#EBF0F8"
             },
             "line": {
              "color": "white"
             }
            },
            "header": {
             "fill": {
              "color": "#C8D4E3"
             },
             "line": {
              "color": "white"
             }
            },
            "type": "table"
           }
          ]
         },
         "layout": {
          "annotationdefaults": {
           "arrowcolor": "#2a3f5f",
           "arrowhead": 0,
           "arrowwidth": 1
          },
          "coloraxis": {
           "colorbar": {
            "outlinewidth": 0,
            "ticks": ""
           }
          },
          "colorscale": {
           "diverging": [
            [
             0,
             "#8e0152"
            ],
            [
             0.1,
             "#c51b7d"
            ],
            [
             0.2,
             "#de77ae"
            ],
            [
             0.3,
             "#f1b6da"
            ],
            [
             0.4,
             "#fde0ef"
            ],
            [
             0.5,
             "#f7f7f7"
            ],
            [
             0.6,
             "#e6f5d0"
            ],
            [
             0.7,
             "#b8e186"
            ],
            [
             0.8,
             "#7fbc41"
            ],
            [
             0.9,
             "#4d9221"
            ],
            [
             1,
             "#276419"
            ]
           ],
           "sequential": [
            [
             0,
             "#0d0887"
            ],
            [
             0.1111111111111111,
             "#46039f"
            ],
            [
             0.2222222222222222,
             "#7201a8"
            ],
            [
             0.3333333333333333,
             "#9c179e"
            ],
            [
             0.4444444444444444,
             "#bd3786"
            ],
            [
             0.5555555555555556,
             "#d8576b"
            ],
            [
             0.6666666666666666,
             "#ed7953"
            ],
            [
             0.7777777777777778,
             "#fb9f3a"
            ],
            [
             0.8888888888888888,
             "#fdca26"
            ],
            [
             1,
             "#f0f921"
            ]
           ],
           "sequentialminus": [
            [
             0,
             "#0d0887"
            ],
            [
             0.1111111111111111,
             "#46039f"
            ],
            [
             0.2222222222222222,
             "#7201a8"
            ],
            [
             0.3333333333333333,
             "#9c179e"
            ],
            [
             0.4444444444444444,
             "#bd3786"
            ],
            [
             0.5555555555555556,
             "#d8576b"
            ],
            [
             0.6666666666666666,
             "#ed7953"
            ],
            [
             0.7777777777777778,
             "#fb9f3a"
            ],
            [
             0.8888888888888888,
             "#fdca26"
            ],
            [
             1,
             "#f0f921"
            ]
           ]
          },
          "colorway": [
           "#636efa",
           "#EF553B",
           "#00cc96",
           "#ab63fa",
           "#FFA15A",
           "#19d3f3",
           "#FF6692",
           "#B6E880",
           "#FF97FF",
           "#FECB52"
          ],
          "font": {
           "color": "#2a3f5f"
          },
          "geo": {
           "bgcolor": "white",
           "lakecolor": "white",
           "landcolor": "#E5ECF6",
           "showlakes": true,
           "showland": true,
           "subunitcolor": "white"
          },
          "hoverlabel": {
           "align": "left"
          },
          "hovermode": "closest",
          "mapbox": {
           "style": "light"
          },
          "paper_bgcolor": "white",
          "plot_bgcolor": "#E5ECF6",
          "polar": {
           "angularaxis": {
            "gridcolor": "white",
            "linecolor": "white",
            "ticks": ""
           },
           "bgcolor": "#E5ECF6",
           "radialaxis": {
            "gridcolor": "white",
            "linecolor": "white",
            "ticks": ""
           }
          },
          "scene": {
           "xaxis": {
            "backgroundcolor": "#E5ECF6",
            "gridcolor": "white",
            "gridwidth": 2,
            "linecolor": "white",
            "showbackground": true,
            "ticks": "",
            "zerolinecolor": "white"
           },
           "yaxis": {
            "backgroundcolor": "#E5ECF6",
            "gridcolor": "white",
            "gridwidth": 2,
            "linecolor": "white",
            "showbackground": true,
            "ticks": "",
            "zerolinecolor": "white"
           },
           "zaxis": {
            "backgroundcolor": "#E5ECF6",
            "gridcolor": "white",
            "gridwidth": 2,
            "linecolor": "white",
            "showbackground": true,
            "ticks": "",
            "zerolinecolor": "white"
           }
          },
          "shapedefaults": {
           "line": {
            "color": "#2a3f5f"
           }
          },
          "ternary": {
           "aaxis": {
            "gridcolor": "white",
            "linecolor": "white",
            "ticks": ""
           },
           "baxis": {
            "gridcolor": "white",
            "linecolor": "white",
            "ticks": ""
           },
           "bgcolor": "#E5ECF6",
           "caxis": {
            "gridcolor": "white",
            "linecolor": "white",
            "ticks": ""
           }
          },
          "title": {
           "x": 0.05
          },
          "xaxis": {
           "automargin": true,
           "gridcolor": "white",
           "linecolor": "white",
           "ticks": "",
           "title": {
            "standoff": 15
           },
           "zerolinecolor": "white",
           "zerolinewidth": 2
          },
          "yaxis": {
           "automargin": true,
           "gridcolor": "white",
           "linecolor": "white",
           "ticks": "",
           "title": {
            "standoff": 15
           },
           "zerolinecolor": "white",
           "zerolinewidth": 2
          }
         }
        },
        "title": {
         "font": {
          "color": "#4D5663"
         }
        },
        "xaxis": {
         "gridcolor": "#E1E5ED",
         "showgrid": true,
         "tickfont": {
          "color": "#4D5663"
         },
         "title": {
          "font": {
           "color": "#4D5663"
          },
          "text": ""
         },
         "zerolinecolor": "#E1E5ED"
        },
        "yaxis": {
         "gridcolor": "#E1E5ED",
         "showgrid": true,
         "tickfont": {
          "color": "#4D5663"
         },
         "title": {
          "font": {
           "color": "#4D5663"
          },
          "text": ""
         },
         "zerolinecolor": "#E1E5ED"
        }
       }
      },
      "text/html": [
       "<div>\n",
       "        \n",
       "        \n",
       "            <div id=\"f5b42f6a-7bfd-4c85-a478-e577a15dc652\" class=\"plotly-graph-div\" style=\"height:525px; width:100%;\"></div>\n",
       "            <script type=\"text/javascript\">\n",
       "                require([\"plotly\"], function(Plotly) {\n",
       "                    window.PLOTLYENV=window.PLOTLYENV || {};\n",
       "                    window.PLOTLYENV.BASE_URL='https://plot.ly';\n",
       "                    \n",
       "                if (document.getElementById(\"f5b42f6a-7bfd-4c85-a478-e577a15dc652\")) {\n",
       "                    Plotly.newPlot(\n",
       "                        'f5b42f6a-7bfd-4c85-a478-e577a15dc652',\n",
       "                        [{\"marker\": {\"color\": \"rgba(255, 153, 51, 0.6)\", \"line\": {\"color\": \"rgba(255, 153, 51, 1.0)\", \"width\": 1}}, \"name\": \"None\", \"orientation\": \"v\", \"text\": \"\", \"type\": \"bar\", \"x\": [\"A\", \"B\", \"C\", \"D\"], \"y\": [100, 100, 100, 100]}],\n",
       "                        {\"legend\": {\"bgcolor\": \"#F5F6F9\", \"font\": {\"color\": \"#4D5663\"}}, \"paper_bgcolor\": \"#F5F6F9\", \"plot_bgcolor\": \"#F5F6F9\", \"template\": {\"data\": {\"bar\": [{\"error_x\": {\"color\": \"#2a3f5f\"}, \"error_y\": {\"color\": \"#2a3f5f\"}, \"marker\": {\"line\": {\"color\": \"#E5ECF6\", \"width\": 0.5}}, \"type\": \"bar\"}], \"barpolar\": [{\"marker\": {\"line\": {\"color\": \"#E5ECF6\", \"width\": 0.5}}, \"type\": \"barpolar\"}], \"carpet\": [{\"aaxis\": {\"endlinecolor\": \"#2a3f5f\", \"gridcolor\": \"white\", \"linecolor\": \"white\", \"minorgridcolor\": \"white\", \"startlinecolor\": \"#2a3f5f\"}, \"baxis\": {\"endlinecolor\": \"#2a3f5f\", \"gridcolor\": \"white\", \"linecolor\": \"white\", \"minorgridcolor\": \"white\", \"startlinecolor\": \"#2a3f5f\"}, \"type\": \"carpet\"}], \"choropleth\": [{\"colorbar\": {\"outlinewidth\": 0, \"ticks\": \"\"}, \"type\": \"choropleth\"}], \"contour\": [{\"colorbar\": {\"outlinewidth\": 0, \"ticks\": \"\"}, \"colorscale\": [[0.0, \"#0d0887\"], [0.1111111111111111, \"#46039f\"], [0.2222222222222222, \"#7201a8\"], [0.3333333333333333, \"#9c179e\"], [0.4444444444444444, \"#bd3786\"], [0.5555555555555556, \"#d8576b\"], [0.6666666666666666, \"#ed7953\"], [0.7777777777777778, \"#fb9f3a\"], [0.8888888888888888, \"#fdca26\"], [1.0, \"#f0f921\"]], \"type\": \"contour\"}], \"contourcarpet\": [{\"colorbar\": {\"outlinewidth\": 0, \"ticks\": \"\"}, \"type\": \"contourcarpet\"}], \"heatmap\": [{\"colorbar\": {\"outlinewidth\": 0, \"ticks\": \"\"}, \"colorscale\": [[0.0, \"#0d0887\"], [0.1111111111111111, \"#46039f\"], [0.2222222222222222, \"#7201a8\"], [0.3333333333333333, \"#9c179e\"], [0.4444444444444444, \"#bd3786\"], [0.5555555555555556, \"#d8576b\"], [0.6666666666666666, \"#ed7953\"], [0.7777777777777778, \"#fb9f3a\"], [0.8888888888888888, \"#fdca26\"], [1.0, \"#f0f921\"]], \"type\": \"heatmap\"}], \"heatmapgl\": [{\"colorbar\": {\"outlinewidth\": 0, \"ticks\": \"\"}, \"colorscale\": [[0.0, \"#0d0887\"], [0.1111111111111111, \"#46039f\"], [0.2222222222222222, \"#7201a8\"], [0.3333333333333333, \"#9c179e\"], [0.4444444444444444, \"#bd3786\"], [0.5555555555555556, \"#d8576b\"], [0.6666666666666666, \"#ed7953\"], [0.7777777777777778, \"#fb9f3a\"], [0.8888888888888888, \"#fdca26\"], [1.0, \"#f0f921\"]], \"type\": \"heatmapgl\"}], \"histogram\": [{\"marker\": {\"colorbar\": {\"outlinewidth\": 0, \"ticks\": \"\"}}, \"type\": \"histogram\"}], \"histogram2d\": [{\"colorbar\": {\"outlinewidth\": 0, \"ticks\": \"\"}, \"colorscale\": [[0.0, \"#0d0887\"], [0.1111111111111111, \"#46039f\"], [0.2222222222222222, \"#7201a8\"], [0.3333333333333333, \"#9c179e\"], [0.4444444444444444, \"#bd3786\"], [0.5555555555555556, \"#d8576b\"], [0.6666666666666666, \"#ed7953\"], [0.7777777777777778, \"#fb9f3a\"], [0.8888888888888888, \"#fdca26\"], [1.0, \"#f0f921\"]], \"type\": \"histogram2d\"}], \"histogram2dcontour\": [{\"colorbar\": {\"outlinewidth\": 0, \"ticks\": \"\"}, \"colorscale\": [[0.0, \"#0d0887\"], [0.1111111111111111, \"#46039f\"], [0.2222222222222222, \"#7201a8\"], [0.3333333333333333, \"#9c179e\"], [0.4444444444444444, \"#bd3786\"], [0.5555555555555556, \"#d8576b\"], [0.6666666666666666, \"#ed7953\"], [0.7777777777777778, \"#fb9f3a\"], [0.8888888888888888, \"#fdca26\"], [1.0, \"#f0f921\"]], \"type\": \"histogram2dcontour\"}], \"mesh3d\": [{\"colorbar\": {\"outlinewidth\": 0, \"ticks\": \"\"}, \"type\": \"mesh3d\"}], \"parcoords\": [{\"line\": {\"colorbar\": {\"outlinewidth\": 0, \"ticks\": \"\"}}, \"type\": \"parcoords\"}], \"pie\": [{\"automargin\": true, \"type\": \"pie\"}], \"scatter\": [{\"marker\": {\"colorbar\": {\"outlinewidth\": 0, \"ticks\": \"\"}}, \"type\": \"scatter\"}], \"scatter3d\": [{\"line\": {\"colorbar\": {\"outlinewidth\": 0, \"ticks\": \"\"}}, \"marker\": {\"colorbar\": {\"outlinewidth\": 0, \"ticks\": \"\"}}, \"type\": \"scatter3d\"}], \"scattercarpet\": [{\"marker\": {\"colorbar\": {\"outlinewidth\": 0, \"ticks\": \"\"}}, \"type\": \"scattercarpet\"}], \"scattergeo\": [{\"marker\": {\"colorbar\": {\"outlinewidth\": 0, \"ticks\": \"\"}}, \"type\": \"scattergeo\"}], \"scattergl\": [{\"marker\": {\"colorbar\": {\"outlinewidth\": 0, \"ticks\": \"\"}}, \"type\": \"scattergl\"}], \"scattermapbox\": [{\"marker\": {\"colorbar\": {\"outlinewidth\": 0, \"ticks\": \"\"}}, \"type\": \"scattermapbox\"}], \"scatterpolar\": [{\"marker\": {\"colorbar\": {\"outlinewidth\": 0, \"ticks\": \"\"}}, \"type\": \"scatterpolar\"}], \"scatterpolargl\": [{\"marker\": {\"colorbar\": {\"outlinewidth\": 0, \"ticks\": \"\"}}, \"type\": \"scatterpolargl\"}], \"scatterternary\": [{\"marker\": {\"colorbar\": {\"outlinewidth\": 0, \"ticks\": \"\"}}, \"type\": \"scatterternary\"}], \"surface\": [{\"colorbar\": {\"outlinewidth\": 0, \"ticks\": \"\"}, \"colorscale\": [[0.0, \"#0d0887\"], [0.1111111111111111, \"#46039f\"], [0.2222222222222222, \"#7201a8\"], [0.3333333333333333, \"#9c179e\"], [0.4444444444444444, \"#bd3786\"], [0.5555555555555556, \"#d8576b\"], [0.6666666666666666, \"#ed7953\"], [0.7777777777777778, \"#fb9f3a\"], [0.8888888888888888, \"#fdca26\"], [1.0, \"#f0f921\"]], \"type\": \"surface\"}], \"table\": [{\"cells\": {\"fill\": {\"color\": \"#EBF0F8\"}, \"line\": {\"color\": \"white\"}}, \"header\": {\"fill\": {\"color\": \"#C8D4E3\"}, \"line\": {\"color\": \"white\"}}, \"type\": \"table\"}]}, \"layout\": {\"annotationdefaults\": {\"arrowcolor\": \"#2a3f5f\", \"arrowhead\": 0, \"arrowwidth\": 1}, \"coloraxis\": {\"colorbar\": {\"outlinewidth\": 0, \"ticks\": \"\"}}, \"colorscale\": {\"diverging\": [[0, \"#8e0152\"], [0.1, \"#c51b7d\"], [0.2, \"#de77ae\"], [0.3, \"#f1b6da\"], [0.4, \"#fde0ef\"], [0.5, \"#f7f7f7\"], [0.6, \"#e6f5d0\"], [0.7, \"#b8e186\"], [0.8, \"#7fbc41\"], [0.9, \"#4d9221\"], [1, \"#276419\"]], \"sequential\": [[0.0, \"#0d0887\"], [0.1111111111111111, \"#46039f\"], [0.2222222222222222, \"#7201a8\"], [0.3333333333333333, \"#9c179e\"], [0.4444444444444444, \"#bd3786\"], [0.5555555555555556, \"#d8576b\"], [0.6666666666666666, \"#ed7953\"], [0.7777777777777778, \"#fb9f3a\"], [0.8888888888888888, \"#fdca26\"], [1.0, \"#f0f921\"]], \"sequentialminus\": [[0.0, \"#0d0887\"], [0.1111111111111111, \"#46039f\"], [0.2222222222222222, \"#7201a8\"], [0.3333333333333333, \"#9c179e\"], [0.4444444444444444, \"#bd3786\"], [0.5555555555555556, \"#d8576b\"], [0.6666666666666666, \"#ed7953\"], [0.7777777777777778, \"#fb9f3a\"], [0.8888888888888888, \"#fdca26\"], [1.0, \"#f0f921\"]]}, \"colorway\": [\"#636efa\", \"#EF553B\", \"#00cc96\", \"#ab63fa\", \"#FFA15A\", \"#19d3f3\", \"#FF6692\", \"#B6E880\", \"#FF97FF\", \"#FECB52\"], \"font\": {\"color\": \"#2a3f5f\"}, \"geo\": {\"bgcolor\": \"white\", \"lakecolor\": \"white\", \"landcolor\": \"#E5ECF6\", \"showlakes\": true, \"showland\": true, \"subunitcolor\": \"white\"}, \"hoverlabel\": {\"align\": \"left\"}, \"hovermode\": \"closest\", \"mapbox\": {\"style\": \"light\"}, \"paper_bgcolor\": \"white\", \"plot_bgcolor\": \"#E5ECF6\", \"polar\": {\"angularaxis\": {\"gridcolor\": \"white\", \"linecolor\": \"white\", \"ticks\": \"\"}, \"bgcolor\": \"#E5ECF6\", \"radialaxis\": {\"gridcolor\": \"white\", \"linecolor\": \"white\", \"ticks\": \"\"}}, \"scene\": {\"xaxis\": {\"backgroundcolor\": \"#E5ECF6\", \"gridcolor\": \"white\", \"gridwidth\": 2, \"linecolor\": \"white\", \"showbackground\": true, \"ticks\": \"\", \"zerolinecolor\": \"white\"}, \"yaxis\": {\"backgroundcolor\": \"#E5ECF6\", \"gridcolor\": \"white\", \"gridwidth\": 2, \"linecolor\": \"white\", \"showbackground\": true, \"ticks\": \"\", \"zerolinecolor\": \"white\"}, \"zaxis\": {\"backgroundcolor\": \"#E5ECF6\", \"gridcolor\": \"white\", \"gridwidth\": 2, \"linecolor\": \"white\", \"showbackground\": true, \"ticks\": \"\", \"zerolinecolor\": \"white\"}}, \"shapedefaults\": {\"line\": {\"color\": \"#2a3f5f\"}}, \"ternary\": {\"aaxis\": {\"gridcolor\": \"white\", \"linecolor\": \"white\", \"ticks\": \"\"}, \"baxis\": {\"gridcolor\": \"white\", \"linecolor\": \"white\", \"ticks\": \"\"}, \"bgcolor\": \"#E5ECF6\", \"caxis\": {\"gridcolor\": \"white\", \"linecolor\": \"white\", \"ticks\": \"\"}}, \"title\": {\"x\": 0.05}, \"xaxis\": {\"automargin\": true, \"gridcolor\": \"white\", \"linecolor\": \"white\", \"ticks\": \"\", \"title\": {\"standoff\": 15}, \"zerolinecolor\": \"white\", \"zerolinewidth\": 2}, \"yaxis\": {\"automargin\": true, \"gridcolor\": \"white\", \"linecolor\": \"white\", \"ticks\": \"\", \"title\": {\"standoff\": 15}, \"zerolinecolor\": \"white\", \"zerolinewidth\": 2}}}, \"title\": {\"font\": {\"color\": \"#4D5663\"}}, \"xaxis\": {\"gridcolor\": \"#E1E5ED\", \"showgrid\": true, \"tickfont\": {\"color\": \"#4D5663\"}, \"title\": {\"font\": {\"color\": \"#4D5663\"}, \"text\": \"\"}, \"zerolinecolor\": \"#E1E5ED\"}, \"yaxis\": {\"gridcolor\": \"#E1E5ED\", \"showgrid\": true, \"tickfont\": {\"color\": \"#4D5663\"}, \"title\": {\"font\": {\"color\": \"#4D5663\"}, \"text\": \"\"}, \"zerolinecolor\": \"#E1E5ED\"}},\n",
       "                        {\"showLink\": true, \"linkText\": \"Export to plot.ly\", \"plotlyServerURL\": \"https://plot.ly\", \"responsive\": true}\n",
       "                    ).then(function(){\n",
       "                            \n",
       "var gd = document.getElementById('f5b42f6a-7bfd-4c85-a478-e577a15dc652');\n",
       "var x = new MutationObserver(function (mutations, observer) {{\n",
       "        var display = window.getComputedStyle(gd).display;\n",
       "        if (!display || display === 'none') {{\n",
       "            console.log([gd, 'removed!']);\n",
       "            Plotly.purge(gd);\n",
       "            observer.disconnect();\n",
       "        }}\n",
       "}});\n",
       "\n",
       "// Listen for the removal of the full notebook cells\n",
       "var notebookContainer = gd.closest('#notebook-container');\n",
       "if (notebookContainer) {{\n",
       "    x.observe(notebookContainer, {childList: true});\n",
       "}}\n",
       "\n",
       "// Listen for the clearing of the current output cell\n",
       "var outputEl = gd.closest('.output');\n",
       "if (outputEl) {{\n",
       "    x.observe(outputEl, {childList: true});\n",
       "}}\n",
       "\n",
       "                        })\n",
       "                };\n",
       "                });\n",
       "            </script>\n",
       "        </div>"
      ]
     },
     "metadata": {},
     "output_type": "display_data"
    }
   ],
   "source": [
    "df.count().iplot(kind='bar')"
   ]
  },
  {
   "cell_type": "markdown",
   "metadata": {},
   "source": [
    "## Boxplots"
   ]
  },
  {
   "cell_type": "code",
   "execution_count": 17,
   "metadata": {},
   "outputs": [
    {
     "data": {
      "application/vnd.plotly.v1+json": {
       "config": {
        "linkText": "Export to plot.ly",
        "plotlyServerURL": "https://plot.ly",
        "showLink": true
       },
       "data": [
        {
         "boxpoints": false,
         "line": {
          "width": 1.3
         },
         "marker": {
          "color": "rgba(255, 153, 51, 1.0)"
         },
         "name": "A",
         "orientation": "v",
         "type": "box",
         "y": [
          1.1632319313482395,
          0.4006995105216627,
          -0.2956762478256533,
          -0.05169719393589064,
          0.00910757636508114,
          -0.6955839592405,
          -0.35909775057049803,
          -1.5625500495348743,
          0.280382662704461,
          0.6900988105151796,
          -2.7574912836742946,
          -0.07968419822034653,
          1.8332128879861818,
          1.4295281994653302,
          0.1252613779335597,
          -0.49769928744988495,
          -0.856393091788203,
          1.4352774817096858,
          -1.2664402308234686,
          0.7890502900382642,
          -1.46167053131466,
          0.8150472653619777,
          -1.17240523883422,
          -0.6705469117318189,
          -1.4341028074133875,
          -0.014599945431750708,
          0.7435879685265763,
          -2.848647374794672,
          0.49161354740033353,
          -0.45050436439059577,
          0.28881432704739796,
          0.33186383855201784,
          -0.047088381439171614,
          -0.9993636850678648,
          1.1206599697688173,
          1.1930326248835383,
          -1.1034554747230993,
          -0.5547348406545668,
          0.13945607788763917,
          1.301419479862865,
          -1.2400560909431215,
          0.6203031047198649,
          0.9380629637173821,
          -0.14400944082924053,
          -0.9240931840045439,
          -0.8282183540851877,
          -0.11961424790363061,
          -0.49999029669468653,
          0.9819908608077234,
          -0.11606300782428085,
          0.45764184722157275,
          0.49346586682197907,
          -0.5433622602059989,
          -1.7900480082481471,
          0.32044197002586217,
          -0.633058819620911,
          0.035453392741268346,
          0.28800897468143366,
          0.1270836766417439,
          1.1391905804798264,
          -0.058971810983125275,
          1.5960984036066292,
          0.043035034307208495,
          -0.8023299927990649,
          0.9613524445273515,
          -0.39736206448423356,
          0.2792623071725112,
          -0.36223179862154803,
          1.0386103659394246,
          0.768251393580555,
          -0.03247482932037407,
          -0.2833971496851408,
          -2.3264113817674885,
          0.3601066380079715,
          -0.8975379312800085,
          0.07627611530830201,
          0.36155396903651077,
          -0.17833430581015805,
          -0.6767697508725241,
          1.535979797909297,
          -0.4419843916432813,
          -0.7094090819406609,
          0.647624136408352,
          -0.056939817949727634,
          -2.0938503562353876,
          1.1522289116879099,
          0.43945695783916466,
          1.0199457327509938,
          0.8259047129688619,
          -0.43717286489986557,
          -1.8874859655183183,
          0.6348946192877947,
          -1.7859523956955943,
          0.13333163954187455,
          -0.6353918987424078,
          -1.0049116048271711,
          -0.24942294813512036,
          0.7019758240727191,
          0.6036035864612834,
          0.6023724883064032
         ]
        },
        {
         "boxpoints": false,
         "line": {
          "width": 1.3
         },
         "marker": {
          "color": "rgba(55, 128, 191, 1.0)"
         },
         "name": "B",
         "orientation": "v",
         "type": "box",
         "y": [
          0.7557944147735085,
          0.08420801170730241,
          1.125224851480296,
          0.38065475151755207,
          0.5396274205240575,
          0.5683289602573715,
          -0.2608769685151894,
          -0.40282805854406645,
          1.0323173036744528,
          0.028417798834812127,
          -0.517174679146552,
          -1.920275899765896,
          -1.12992664746321,
          1.520453453577847,
          -0.6616003988885832,
          -2.2026206161735447,
          -0.11666027539963252,
          -2.2155337084780067,
          0.6367684799711685,
          -0.1764979359195468,
          1.3819423305761236,
          -0.008262148112657144,
          0.9782295514038942,
          1.99322695455303,
          -0.2550056163421702,
          1.1983104645087241,
          -1.1767282090517108,
          0.1866687098243254,
          -0.7443221314287102,
          -1.3368881098115208,
          0.8979161027537494,
          -0.6450371339227668,
          0.4674685984970453,
          1.0387929502296873,
          1.1420262987889602,
          0.33989156511313695,
          0.28218207921226246,
          0.7108031867533554,
          -0.19824614238408128,
          -0.9382975161738351,
          -0.30006528143077743,
          -0.02711395816594447,
          0.08773127271283397,
          1.1131128380108828,
          -1.5372209506583512,
          -1.2495788629223747,
          -0.5628672105320381,
          1.0253904572821646,
          0.12695003780597983,
          -0.6225220306494884,
          1.0034377291300447,
          -0.017920924540992887,
          0.7051442293937872,
          0.9768952039821863,
          0.1714519825542668,
          -0.4738481699106438,
          1.228276732941743,
          -0.004907755627084942,
          1.1020113226868538,
          -1.537743962725332,
          2.3098300590918144,
          0.8495190634194937,
          -1.8418600829624527,
          -0.5964836394497389,
          0.6388598070914784,
          0.3557569827543802,
          -0.7658323525724573,
          0.015269993899470594,
          -1.3551368944021027,
          0.4828390365168581,
          -0.9696325544797003,
          -0.39790738293710254,
          0.4011413136842935,
          -0.678147361211587,
          -0.5881407468585984,
          0.7315029154129858,
          1.0551627255471088,
          1.3012639291825332,
          1.752203520894791,
          -0.7549413493846202,
          -1.2856592275485377,
          0.772007266640758,
          -1.0868301893872796,
          -0.6748215539231817,
          -1.062831300971065,
          0.46462908811188613,
          -1.2584291900875348,
          -0.457270169220814,
          0.2627928071210074,
          -1.724573428359919,
          1.5939081634088021,
          0.5658581330993231,
          -0.7086495830979483,
          0.8100065851099465,
          -0.3883548594234347,
          -0.9402175365492719,
          -0.14248605623081273,
          1.336233786743859,
          0.030824605229955466,
          0.42536427696008167
         ]
        },
        {
         "boxpoints": false,
         "line": {
          "width": 1.3
         },
         "marker": {
          "color": "rgba(50, 171, 96, 1.0)"
         },
         "name": "C",
         "orientation": "v",
         "type": "box",
         "y": [
          1.1274878920186688,
          -0.9070224730561507,
          -1.2358374424996545,
          2.0133455209160096,
          -0.23532700276852167,
          -0.0843349411395761,
          0.5564580270064815,
          -2.001113199530813,
          -1.0237751564318915,
          0.7112455681071055,
          -0.095897814239274,
          0.012302705726989435,
          -0.3642422404181999,
          0.3403436190656834,
          1.8558023905088181,
          -0.02028397108156397,
          1.7265027173812615,
          0.718112498437952,
          -1.2442103221951375,
          0.2265317886511371,
          0.39388433813836293,
          -1.0083019157885458,
          -0.012422409185549738,
          0.8298767634416259,
          -0.5579516556769883,
          0.9823755782460005,
          0.979237318413185,
          -0.7590536455033828,
          -0.10566195252374322,
          0.7843088049510172,
          -0.20937563921771174,
          0.6816260923662242,
          -0.12794614849386346,
          -0.9357881012238115,
          0.435562156771844,
          -0.10226391303079788,
          1.1379034453854844,
          1.0214649224641377,
          -0.6416628431943977,
          0.14545977454861278,
          0.08534469747929535,
          1.6327934059789464,
          0.02546078625189333,
          0.507331299025282,
          -0.7541731810959679,
          -0.5400909224669489,
          2.0253428691208164,
          -1.7452483730247665,
          0.4332690152684399,
          -0.3747344686538722,
          0.35525626014582207,
          -0.11240294522341022,
          -0.1423042070038813,
          -0.928227200658264,
          0.6571710516921412,
          0.11739964208889658,
          -0.22783558748277402,
          0.003288864602357087,
          0.8932089752608745,
          -0.6089434361935895,
          -0.02747045092598185,
          -1.115382312401734,
          0.13923713465209778,
          1.5561479230532713,
          -0.7821445775333665,
          0.8246643458772466,
          2.8006403490602323,
          -1.9017618441603639,
          -0.2748926295358548,
          -0.13304470307879515,
          0.18325574328819283,
          0.17276872192465387,
          -0.817154036565531,
          -0.29850444195766196,
          0.45296083043296126,
          -0.6807807248975272,
          0.3103308884259926,
          0.8609755862973423,
          -0.14059133673323243,
          -1.3648969141564753,
          -0.1701187924647384,
          -0.575823442122371,
          -0.5391924677629335,
          -0.616544499309483,
          -0.6398922990169684,
          0.02217138929332535,
          1.627069719620034,
          -0.29193740505071714,
          -0.07953601275712574,
          -1.536503639647945,
          0.32698044720709857,
          0.25388847357176747,
          -1.4191505697267244,
          -0.4095786747646304,
          0.4342950977626566,
          0.6805375373991261,
          0.9938300719303992,
          0.9600263358175988,
          -1.4407095325358261,
          -0.44554279426885285
         ]
        },
        {
         "boxpoints": false,
         "line": {
          "width": 1.3
         },
         "marker": {
          "color": "rgba(128, 0, 128, 1.0)"
         },
         "name": "D",
         "orientation": "v",
         "type": "box",
         "y": [
          0.05577750943415836,
          0.4731162721670755,
          0.8560839821214502,
          -0.16454661556248282,
          -0.04723352810088136,
          -0.6959294644947278,
          -0.9283690607897231,
          -0.36240042398379857,
          -0.24681455860509896,
          1.5764744809546858,
          0.467702006018148,
          -1.8522219727940552,
          -1.4816439387161457,
          1.804507541246819,
          -0.19643428971750973,
          -2.6274293905482797,
          -0.7768222927835762,
          1.7251663901834515,
          0.35496308712359387,
          0.3383926563359808,
          -0.07615724073479516,
          1.3682260553011878,
          -2.738649240803818,
          1.188031571791971,
          -1.85073502836093,
          -0.3058818239948589,
          -0.46030388366757613,
          0.5674503237924392,
          -0.28786456016097994,
          -0.20122600508922805,
          0.3003496913856691,
          -0.13686447814901076,
          -0.6934926623103428,
          0.4677493800110422,
          -0.04967031335505621,
          0.0029873487534157967,
          1.3050058240936475,
          2.0822739524265272,
          1.3372454344194475,
          0.23248930744179683,
          0.6919630662398372,
          -0.20847708621608946,
          -0.7492561186811212,
          0.47067395845260995,
          -0.47476119697340363,
          -0.851722904254601,
          -0.1722634109699815,
          1.015687820891181,
          0.27957268479162284,
          -0.5264122026564911,
          1.3289085772682034,
          0.5926467792260204,
          0.20955880417222356,
          -0.03525223109824736,
          -0.24849056413308096,
          -0.12093662344667885,
          -0.6918759359585686,
          -0.9029716877333371,
          -0.5418786406852931,
          -1.1298724294260758,
          -1.022858650436064,
          -0.5049720436473629,
          0.07599191946717017,
          2.0716370022098443,
          0.588499848369862,
          -1.3347258669166913,
          1.1598158070388573,
          -0.2266657196158616,
          1.8175559972490056,
          0.20600794192633626,
          1.0695000792171083,
          -0.7875846395635173,
          -2.0945983332639955,
          0.7296362863503695,
          -0.8393480703685064,
          -0.13220048186587524,
          -0.9042768088880324,
          -0.6617618893943592,
          0.5785165671863408,
          -1.319808505930559,
          -0.0976818338748379,
          2.1204248438117923,
          1.1993541891064432,
          -0.5489240729639001,
          -0.766713592715684,
          -1.0169604849313043,
          0.16833552818333108,
          0.33694671414349947,
          0.06698343272097228,
          0.307382584599932,
          -0.19281105103566756,
          -0.5136645854214837,
          0.09057945378131652,
          -0.3266030820021077,
          -0.6521034755451522,
          -1.0022186044034576,
          0.8353405500554416,
          -0.40929600781708086,
          0.5920213330376822,
          -1.5910210224599777
         ]
        }
       ],
       "layout": {
        "legend": {
         "bgcolor": "#F5F6F9",
         "font": {
          "color": "#4D5663"
         }
        },
        "paper_bgcolor": "#F5F6F9",
        "plot_bgcolor": "#F5F6F9",
        "template": {
         "data": {
          "bar": [
           {
            "error_x": {
             "color": "#2a3f5f"
            },
            "error_y": {
             "color": "#2a3f5f"
            },
            "marker": {
             "line": {
              "color": "#E5ECF6",
              "width": 0.5
             }
            },
            "type": "bar"
           }
          ],
          "barpolar": [
           {
            "marker": {
             "line": {
              "color": "#E5ECF6",
              "width": 0.5
             }
            },
            "type": "barpolar"
           }
          ],
          "carpet": [
           {
            "aaxis": {
             "endlinecolor": "#2a3f5f",
             "gridcolor": "white",
             "linecolor": "white",
             "minorgridcolor": "white",
             "startlinecolor": "#2a3f5f"
            },
            "baxis": {
             "endlinecolor": "#2a3f5f",
             "gridcolor": "white",
             "linecolor": "white",
             "minorgridcolor": "white",
             "startlinecolor": "#2a3f5f"
            },
            "type": "carpet"
           }
          ],
          "choropleth": [
           {
            "colorbar": {
             "outlinewidth": 0,
             "ticks": ""
            },
            "type": "choropleth"
           }
          ],
          "contour": [
           {
            "colorbar": {
             "outlinewidth": 0,
             "ticks": ""
            },
            "colorscale": [
             [
              0,
              "#0d0887"
             ],
             [
              0.1111111111111111,
              "#46039f"
             ],
             [
              0.2222222222222222,
              "#7201a8"
             ],
             [
              0.3333333333333333,
              "#9c179e"
             ],
             [
              0.4444444444444444,
              "#bd3786"
             ],
             [
              0.5555555555555556,
              "#d8576b"
             ],
             [
              0.6666666666666666,
              "#ed7953"
             ],
             [
              0.7777777777777778,
              "#fb9f3a"
             ],
             [
              0.8888888888888888,
              "#fdca26"
             ],
             [
              1,
              "#f0f921"
             ]
            ],
            "type": "contour"
           }
          ],
          "contourcarpet": [
           {
            "colorbar": {
             "outlinewidth": 0,
             "ticks": ""
            },
            "type": "contourcarpet"
           }
          ],
          "heatmap": [
           {
            "colorbar": {
             "outlinewidth": 0,
             "ticks": ""
            },
            "colorscale": [
             [
              0,
              "#0d0887"
             ],
             [
              0.1111111111111111,
              "#46039f"
             ],
             [
              0.2222222222222222,
              "#7201a8"
             ],
             [
              0.3333333333333333,
              "#9c179e"
             ],
             [
              0.4444444444444444,
              "#bd3786"
             ],
             [
              0.5555555555555556,
              "#d8576b"
             ],
             [
              0.6666666666666666,
              "#ed7953"
             ],
             [
              0.7777777777777778,
              "#fb9f3a"
             ],
             [
              0.8888888888888888,
              "#fdca26"
             ],
             [
              1,
              "#f0f921"
             ]
            ],
            "type": "heatmap"
           }
          ],
          "heatmapgl": [
           {
            "colorbar": {
             "outlinewidth": 0,
             "ticks": ""
            },
            "colorscale": [
             [
              0,
              "#0d0887"
             ],
             [
              0.1111111111111111,
              "#46039f"
             ],
             [
              0.2222222222222222,
              "#7201a8"
             ],
             [
              0.3333333333333333,
              "#9c179e"
             ],
             [
              0.4444444444444444,
              "#bd3786"
             ],
             [
              0.5555555555555556,
              "#d8576b"
             ],
             [
              0.6666666666666666,
              "#ed7953"
             ],
             [
              0.7777777777777778,
              "#fb9f3a"
             ],
             [
              0.8888888888888888,
              "#fdca26"
             ],
             [
              1,
              "#f0f921"
             ]
            ],
            "type": "heatmapgl"
           }
          ],
          "histogram": [
           {
            "marker": {
             "colorbar": {
              "outlinewidth": 0,
              "ticks": ""
             }
            },
            "type": "histogram"
           }
          ],
          "histogram2d": [
           {
            "colorbar": {
             "outlinewidth": 0,
             "ticks": ""
            },
            "colorscale": [
             [
              0,
              "#0d0887"
             ],
             [
              0.1111111111111111,
              "#46039f"
             ],
             [
              0.2222222222222222,
              "#7201a8"
             ],
             [
              0.3333333333333333,
              "#9c179e"
             ],
             [
              0.4444444444444444,
              "#bd3786"
             ],
             [
              0.5555555555555556,
              "#d8576b"
             ],
             [
              0.6666666666666666,
              "#ed7953"
             ],
             [
              0.7777777777777778,
              "#fb9f3a"
             ],
             [
              0.8888888888888888,
              "#fdca26"
             ],
             [
              1,
              "#f0f921"
             ]
            ],
            "type": "histogram2d"
           }
          ],
          "histogram2dcontour": [
           {
            "colorbar": {
             "outlinewidth": 0,
             "ticks": ""
            },
            "colorscale": [
             [
              0,
              "#0d0887"
             ],
             [
              0.1111111111111111,
              "#46039f"
             ],
             [
              0.2222222222222222,
              "#7201a8"
             ],
             [
              0.3333333333333333,
              "#9c179e"
             ],
             [
              0.4444444444444444,
              "#bd3786"
             ],
             [
              0.5555555555555556,
              "#d8576b"
             ],
             [
              0.6666666666666666,
              "#ed7953"
             ],
             [
              0.7777777777777778,
              "#fb9f3a"
             ],
             [
              0.8888888888888888,
              "#fdca26"
             ],
             [
              1,
              "#f0f921"
             ]
            ],
            "type": "histogram2dcontour"
           }
          ],
          "mesh3d": [
           {
            "colorbar": {
             "outlinewidth": 0,
             "ticks": ""
            },
            "type": "mesh3d"
           }
          ],
          "parcoords": [
           {
            "line": {
             "colorbar": {
              "outlinewidth": 0,
              "ticks": ""
             }
            },
            "type": "parcoords"
           }
          ],
          "pie": [
           {
            "automargin": true,
            "type": "pie"
           }
          ],
          "scatter": [
           {
            "marker": {
             "colorbar": {
              "outlinewidth": 0,
              "ticks": ""
             }
            },
            "type": "scatter"
           }
          ],
          "scatter3d": [
           {
            "line": {
             "colorbar": {
              "outlinewidth": 0,
              "ticks": ""
             }
            },
            "marker": {
             "colorbar": {
              "outlinewidth": 0,
              "ticks": ""
             }
            },
            "type": "scatter3d"
           }
          ],
          "scattercarpet": [
           {
            "marker": {
             "colorbar": {
              "outlinewidth": 0,
              "ticks": ""
             }
            },
            "type": "scattercarpet"
           }
          ],
          "scattergeo": [
           {
            "marker": {
             "colorbar": {
              "outlinewidth": 0,
              "ticks": ""
             }
            },
            "type": "scattergeo"
           }
          ],
          "scattergl": [
           {
            "marker": {
             "colorbar": {
              "outlinewidth": 0,
              "ticks": ""
             }
            },
            "type": "scattergl"
           }
          ],
          "scattermapbox": [
           {
            "marker": {
             "colorbar": {
              "outlinewidth": 0,
              "ticks": ""
             }
            },
            "type": "scattermapbox"
           }
          ],
          "scatterpolar": [
           {
            "marker": {
             "colorbar": {
              "outlinewidth": 0,
              "ticks": ""
             }
            },
            "type": "scatterpolar"
           }
          ],
          "scatterpolargl": [
           {
            "marker": {
             "colorbar": {
              "outlinewidth": 0,
              "ticks": ""
             }
            },
            "type": "scatterpolargl"
           }
          ],
          "scatterternary": [
           {
            "marker": {
             "colorbar": {
              "outlinewidth": 0,
              "ticks": ""
             }
            },
            "type": "scatterternary"
           }
          ],
          "surface": [
           {
            "colorbar": {
             "outlinewidth": 0,
             "ticks": ""
            },
            "colorscale": [
             [
              0,
              "#0d0887"
             ],
             [
              0.1111111111111111,
              "#46039f"
             ],
             [
              0.2222222222222222,
              "#7201a8"
             ],
             [
              0.3333333333333333,
              "#9c179e"
             ],
             [
              0.4444444444444444,
              "#bd3786"
             ],
             [
              0.5555555555555556,
              "#d8576b"
             ],
             [
              0.6666666666666666,
              "#ed7953"
             ],
             [
              0.7777777777777778,
              "#fb9f3a"
             ],
             [
              0.8888888888888888,
              "#fdca26"
             ],
             [
              1,
              "#f0f921"
             ]
            ],
            "type": "surface"
           }
          ],
          "table": [
           {
            "cells": {
             "fill": {
              "color": "#EBF0F8"
             },
             "line": {
              "color": "white"
             }
            },
            "header": {
             "fill": {
              "color": "#C8D4E3"
             },
             "line": {
              "color": "white"
             }
            },
            "type": "table"
           }
          ]
         },
         "layout": {
          "annotationdefaults": {
           "arrowcolor": "#2a3f5f",
           "arrowhead": 0,
           "arrowwidth": 1
          },
          "coloraxis": {
           "colorbar": {
            "outlinewidth": 0,
            "ticks": ""
           }
          },
          "colorscale": {
           "diverging": [
            [
             0,
             "#8e0152"
            ],
            [
             0.1,
             "#c51b7d"
            ],
            [
             0.2,
             "#de77ae"
            ],
            [
             0.3,
             "#f1b6da"
            ],
            [
             0.4,
             "#fde0ef"
            ],
            [
             0.5,
             "#f7f7f7"
            ],
            [
             0.6,
             "#e6f5d0"
            ],
            [
             0.7,
             "#b8e186"
            ],
            [
             0.8,
             "#7fbc41"
            ],
            [
             0.9,
             "#4d9221"
            ],
            [
             1,
             "#276419"
            ]
           ],
           "sequential": [
            [
             0,
             "#0d0887"
            ],
            [
             0.1111111111111111,
             "#46039f"
            ],
            [
             0.2222222222222222,
             "#7201a8"
            ],
            [
             0.3333333333333333,
             "#9c179e"
            ],
            [
             0.4444444444444444,
             "#bd3786"
            ],
            [
             0.5555555555555556,
             "#d8576b"
            ],
            [
             0.6666666666666666,
             "#ed7953"
            ],
            [
             0.7777777777777778,
             "#fb9f3a"
            ],
            [
             0.8888888888888888,
             "#fdca26"
            ],
            [
             1,
             "#f0f921"
            ]
           ],
           "sequentialminus": [
            [
             0,
             "#0d0887"
            ],
            [
             0.1111111111111111,
             "#46039f"
            ],
            [
             0.2222222222222222,
             "#7201a8"
            ],
            [
             0.3333333333333333,
             "#9c179e"
            ],
            [
             0.4444444444444444,
             "#bd3786"
            ],
            [
             0.5555555555555556,
             "#d8576b"
            ],
            [
             0.6666666666666666,
             "#ed7953"
            ],
            [
             0.7777777777777778,
             "#fb9f3a"
            ],
            [
             0.8888888888888888,
             "#fdca26"
            ],
            [
             1,
             "#f0f921"
            ]
           ]
          },
          "colorway": [
           "#636efa",
           "#EF553B",
           "#00cc96",
           "#ab63fa",
           "#FFA15A",
           "#19d3f3",
           "#FF6692",
           "#B6E880",
           "#FF97FF",
           "#FECB52"
          ],
          "font": {
           "color": "#2a3f5f"
          },
          "geo": {
           "bgcolor": "white",
           "lakecolor": "white",
           "landcolor": "#E5ECF6",
           "showlakes": true,
           "showland": true,
           "subunitcolor": "white"
          },
          "hoverlabel": {
           "align": "left"
          },
          "hovermode": "closest",
          "mapbox": {
           "style": "light"
          },
          "paper_bgcolor": "white",
          "plot_bgcolor": "#E5ECF6",
          "polar": {
           "angularaxis": {
            "gridcolor": "white",
            "linecolor": "white",
            "ticks": ""
           },
           "bgcolor": "#E5ECF6",
           "radialaxis": {
            "gridcolor": "white",
            "linecolor": "white",
            "ticks": ""
           }
          },
          "scene": {
           "xaxis": {
            "backgroundcolor": "#E5ECF6",
            "gridcolor": "white",
            "gridwidth": 2,
            "linecolor": "white",
            "showbackground": true,
            "ticks": "",
            "zerolinecolor": "white"
           },
           "yaxis": {
            "backgroundcolor": "#E5ECF6",
            "gridcolor": "white",
            "gridwidth": 2,
            "linecolor": "white",
            "showbackground": true,
            "ticks": "",
            "zerolinecolor": "white"
           },
           "zaxis": {
            "backgroundcolor": "#E5ECF6",
            "gridcolor": "white",
            "gridwidth": 2,
            "linecolor": "white",
            "showbackground": true,
            "ticks": "",
            "zerolinecolor": "white"
           }
          },
          "shapedefaults": {
           "line": {
            "color": "#2a3f5f"
           }
          },
          "ternary": {
           "aaxis": {
            "gridcolor": "white",
            "linecolor": "white",
            "ticks": ""
           },
           "baxis": {
            "gridcolor": "white",
            "linecolor": "white",
            "ticks": ""
           },
           "bgcolor": "#E5ECF6",
           "caxis": {
            "gridcolor": "white",
            "linecolor": "white",
            "ticks": ""
           }
          },
          "title": {
           "x": 0.05
          },
          "xaxis": {
           "automargin": true,
           "gridcolor": "white",
           "linecolor": "white",
           "ticks": "",
           "title": {
            "standoff": 15
           },
           "zerolinecolor": "white",
           "zerolinewidth": 2
          },
          "yaxis": {
           "automargin": true,
           "gridcolor": "white",
           "linecolor": "white",
           "ticks": "",
           "title": {
            "standoff": 15
           },
           "zerolinecolor": "white",
           "zerolinewidth": 2
          }
         }
        },
        "title": {
         "font": {
          "color": "#4D5663"
         }
        },
        "xaxis": {
         "gridcolor": "#E1E5ED",
         "showgrid": true,
         "tickfont": {
          "color": "#4D5663"
         },
         "title": {
          "font": {
           "color": "#4D5663"
          },
          "text": ""
         },
         "zerolinecolor": "#E1E5ED"
        },
        "yaxis": {
         "gridcolor": "#E1E5ED",
         "showgrid": true,
         "tickfont": {
          "color": "#4D5663"
         },
         "title": {
          "font": {
           "color": "#4D5663"
          },
          "text": ""
         },
         "zerolinecolor": "#E1E5ED"
        }
       }
      },
      "text/html": [
       "<div>\n",
       "        \n",
       "        \n",
       "            <div id=\"56f2482f-5b46-4525-b640-2054d2775c58\" class=\"plotly-graph-div\" style=\"height:525px; width:100%;\"></div>\n",
       "            <script type=\"text/javascript\">\n",
       "                require([\"plotly\"], function(Plotly) {\n",
       "                    window.PLOTLYENV=window.PLOTLYENV || {};\n",
       "                    window.PLOTLYENV.BASE_URL='https://plot.ly';\n",
       "                    \n",
       "                if (document.getElementById(\"56f2482f-5b46-4525-b640-2054d2775c58\")) {\n",
       "                    Plotly.newPlot(\n",
       "                        '56f2482f-5b46-4525-b640-2054d2775c58',\n",
       "                        [{\"boxpoints\": false, \"line\": {\"width\": 1.3}, \"marker\": {\"color\": \"rgba(255, 153, 51, 1.0)\"}, \"name\": \"A\", \"orientation\": \"v\", \"type\": \"box\", \"y\": [1.1632319313482395, 0.4006995105216627, -0.2956762478256533, -0.05169719393589064, 0.00910757636508114, -0.6955839592405, -0.35909775057049803, -1.5625500495348743, 0.280382662704461, 0.6900988105151796, -2.7574912836742946, -0.07968419822034653, 1.8332128879861818, 1.4295281994653302, 0.1252613779335597, -0.49769928744988495, -0.856393091788203, 1.4352774817096858, -1.2664402308234686, 0.7890502900382642, -1.46167053131466, 0.8150472653619777, -1.17240523883422, -0.6705469117318189, -1.4341028074133875, -0.014599945431750708, 0.7435879685265763, -2.848647374794672, 0.49161354740033353, -0.45050436439059577, 0.28881432704739796, 0.33186383855201784, -0.047088381439171614, -0.9993636850678648, 1.1206599697688173, 1.1930326248835383, -1.1034554747230993, -0.5547348406545668, 0.13945607788763917, 1.301419479862865, -1.2400560909431215, 0.6203031047198649, 0.9380629637173821, -0.14400944082924053, -0.9240931840045439, -0.8282183540851877, -0.11961424790363061, -0.49999029669468653, 0.9819908608077234, -0.11606300782428085, 0.45764184722157275, 0.49346586682197907, -0.5433622602059989, -1.7900480082481471, 0.32044197002586217, -0.633058819620911, 0.035453392741268346, 0.28800897468143366, 0.1270836766417439, 1.1391905804798264, -0.058971810983125275, 1.5960984036066292, 0.043035034307208495, -0.8023299927990649, 0.9613524445273515, -0.39736206448423356, 0.2792623071725112, -0.36223179862154803, 1.0386103659394246, 0.768251393580555, -0.03247482932037407, -0.2833971496851408, -2.3264113817674885, 0.3601066380079715, -0.8975379312800085, 0.07627611530830201, 0.36155396903651077, -0.17833430581015805, -0.6767697508725241, 1.535979797909297, -0.4419843916432813, -0.7094090819406609, 0.647624136408352, -0.056939817949727634, -2.0938503562353876, 1.1522289116879099, 0.43945695783916466, 1.0199457327509938, 0.8259047129688619, -0.43717286489986557, -1.8874859655183183, 0.6348946192877947, -1.7859523956955943, 0.13333163954187455, -0.6353918987424078, -1.0049116048271711, -0.24942294813512036, 0.7019758240727191, 0.6036035864612834, 0.6023724883064032]}, {\"boxpoints\": false, \"line\": {\"width\": 1.3}, \"marker\": {\"color\": \"rgba(55, 128, 191, 1.0)\"}, \"name\": \"B\", \"orientation\": \"v\", \"type\": \"box\", \"y\": [0.7557944147735085, 0.08420801170730241, 1.125224851480296, 0.38065475151755207, 0.5396274205240575, 0.5683289602573715, -0.2608769685151894, -0.40282805854406645, 1.0323173036744528, 0.028417798834812127, -0.517174679146552, -1.920275899765896, -1.12992664746321, 1.520453453577847, -0.6616003988885832, -2.2026206161735447, -0.11666027539963252, -2.2155337084780067, 0.6367684799711685, -0.1764979359195468, 1.3819423305761236, -0.008262148112657144, 0.9782295514038942, 1.99322695455303, -0.2550056163421702, 1.1983104645087241, -1.1767282090517108, 0.1866687098243254, -0.7443221314287102, -1.3368881098115208, 0.8979161027537494, -0.6450371339227668, 0.4674685984970453, 1.0387929502296873, 1.1420262987889602, 0.33989156511313695, 0.28218207921226246, 0.7108031867533554, -0.19824614238408128, -0.9382975161738351, -0.30006528143077743, -0.02711395816594447, 0.08773127271283397, 1.1131128380108828, -1.5372209506583512, -1.2495788629223747, -0.5628672105320381, 1.0253904572821646, 0.12695003780597983, -0.6225220306494884, 1.0034377291300447, -0.017920924540992887, 0.7051442293937872, 0.9768952039821863, 0.1714519825542668, -0.4738481699106438, 1.228276732941743, -0.004907755627084942, 1.1020113226868538, -1.537743962725332, 2.3098300590918144, 0.8495190634194937, -1.8418600829624527, -0.5964836394497389, 0.6388598070914784, 0.3557569827543802, -0.7658323525724573, 0.015269993899470594, -1.3551368944021027, 0.4828390365168581, -0.9696325544797003, -0.39790738293710254, 0.4011413136842935, -0.678147361211587, -0.5881407468585984, 0.7315029154129858, 1.0551627255471088, 1.3012639291825332, 1.752203520894791, -0.7549413493846202, -1.2856592275485377, 0.772007266640758, -1.0868301893872796, -0.6748215539231817, -1.062831300971065, 0.46462908811188613, -1.2584291900875348, -0.457270169220814, 0.2627928071210074, -1.724573428359919, 1.5939081634088021, 0.5658581330993231, -0.7086495830979483, 0.8100065851099465, -0.3883548594234347, -0.9402175365492719, -0.14248605623081273, 1.336233786743859, 0.030824605229955466, 0.42536427696008167]}, {\"boxpoints\": false, \"line\": {\"width\": 1.3}, \"marker\": {\"color\": \"rgba(50, 171, 96, 1.0)\"}, \"name\": \"C\", \"orientation\": \"v\", \"type\": \"box\", \"y\": [1.1274878920186688, -0.9070224730561507, -1.2358374424996545, 2.0133455209160096, -0.23532700276852167, -0.0843349411395761, 0.5564580270064815, -2.001113199530813, -1.0237751564318915, 0.7112455681071055, -0.095897814239274, 0.012302705726989435, -0.3642422404181999, 0.3403436190656834, 1.8558023905088181, -0.02028397108156397, 1.7265027173812615, 0.718112498437952, -1.2442103221951375, 0.2265317886511371, 0.39388433813836293, -1.0083019157885458, -0.012422409185549738, 0.8298767634416259, -0.5579516556769883, 0.9823755782460005, 0.979237318413185, -0.7590536455033828, -0.10566195252374322, 0.7843088049510172, -0.20937563921771174, 0.6816260923662242, -0.12794614849386346, -0.9357881012238115, 0.435562156771844, -0.10226391303079788, 1.1379034453854844, 1.0214649224641377, -0.6416628431943977, 0.14545977454861278, 0.08534469747929535, 1.6327934059789464, 0.02546078625189333, 0.507331299025282, -0.7541731810959679, -0.5400909224669489, 2.0253428691208164, -1.7452483730247665, 0.4332690152684399, -0.3747344686538722, 0.35525626014582207, -0.11240294522341022, -0.1423042070038813, -0.928227200658264, 0.6571710516921412, 0.11739964208889658, -0.22783558748277402, 0.003288864602357087, 0.8932089752608745, -0.6089434361935895, -0.02747045092598185, -1.115382312401734, 0.13923713465209778, 1.5561479230532713, -0.7821445775333665, 0.8246643458772466, 2.8006403490602323, -1.9017618441603639, -0.2748926295358548, -0.13304470307879515, 0.18325574328819283, 0.17276872192465387, -0.817154036565531, -0.29850444195766196, 0.45296083043296126, -0.6807807248975272, 0.3103308884259926, 0.8609755862973423, -0.14059133673323243, -1.3648969141564753, -0.1701187924647384, -0.575823442122371, -0.5391924677629335, -0.616544499309483, -0.6398922990169684, 0.02217138929332535, 1.627069719620034, -0.29193740505071714, -0.07953601275712574, -1.536503639647945, 0.32698044720709857, 0.25388847357176747, -1.4191505697267244, -0.4095786747646304, 0.4342950977626566, 0.6805375373991261, 0.9938300719303992, 0.9600263358175988, -1.4407095325358261, -0.44554279426885285]}, {\"boxpoints\": false, \"line\": {\"width\": 1.3}, \"marker\": {\"color\": \"rgba(128, 0, 128, 1.0)\"}, \"name\": \"D\", \"orientation\": \"v\", \"type\": \"box\", \"y\": [0.05577750943415836, 0.4731162721670755, 0.8560839821214502, -0.16454661556248282, -0.04723352810088136, -0.6959294644947278, -0.9283690607897231, -0.36240042398379857, -0.24681455860509896, 1.5764744809546858, 0.467702006018148, -1.8522219727940552, -1.4816439387161457, 1.804507541246819, -0.19643428971750973, -2.6274293905482797, -0.7768222927835762, 1.7251663901834515, 0.35496308712359387, 0.3383926563359808, -0.07615724073479516, 1.3682260553011878, -2.738649240803818, 1.188031571791971, -1.85073502836093, -0.3058818239948589, -0.46030388366757613, 0.5674503237924392, -0.28786456016097994, -0.20122600508922805, 0.3003496913856691, -0.13686447814901076, -0.6934926623103428, 0.4677493800110422, -0.04967031335505621, 0.0029873487534157967, 1.3050058240936475, 2.0822739524265272, 1.3372454344194475, 0.23248930744179683, 0.6919630662398372, -0.20847708621608946, -0.7492561186811212, 0.47067395845260995, -0.47476119697340363, -0.851722904254601, -0.1722634109699815, 1.015687820891181, 0.27957268479162284, -0.5264122026564911, 1.3289085772682034, 0.5926467792260204, 0.20955880417222356, -0.03525223109824736, -0.24849056413308096, -0.12093662344667885, -0.6918759359585686, -0.9029716877333371, -0.5418786406852931, -1.1298724294260758, -1.022858650436064, -0.5049720436473629, 0.07599191946717017, 2.0716370022098443, 0.588499848369862, -1.3347258669166913, 1.1598158070388573, -0.2266657196158616, 1.8175559972490056, 0.20600794192633626, 1.0695000792171083, -0.7875846395635173, -2.0945983332639955, 0.7296362863503695, -0.8393480703685064, -0.13220048186587524, -0.9042768088880324, -0.6617618893943592, 0.5785165671863408, -1.319808505930559, -0.0976818338748379, 2.1204248438117923, 1.1993541891064432, -0.5489240729639001, -0.766713592715684, -1.0169604849313043, 0.16833552818333108, 0.33694671414349947, 0.06698343272097228, 0.307382584599932, -0.19281105103566756, -0.5136645854214837, 0.09057945378131652, -0.3266030820021077, -0.6521034755451522, -1.0022186044034576, 0.8353405500554416, -0.40929600781708086, 0.5920213330376822, -1.5910210224599777]}],\n",
       "                        {\"legend\": {\"bgcolor\": \"#F5F6F9\", \"font\": {\"color\": \"#4D5663\"}}, \"paper_bgcolor\": \"#F5F6F9\", \"plot_bgcolor\": \"#F5F6F9\", \"template\": {\"data\": {\"bar\": [{\"error_x\": {\"color\": \"#2a3f5f\"}, \"error_y\": {\"color\": \"#2a3f5f\"}, \"marker\": {\"line\": {\"color\": \"#E5ECF6\", \"width\": 0.5}}, \"type\": \"bar\"}], \"barpolar\": [{\"marker\": {\"line\": {\"color\": \"#E5ECF6\", \"width\": 0.5}}, \"type\": \"barpolar\"}], \"carpet\": [{\"aaxis\": {\"endlinecolor\": \"#2a3f5f\", \"gridcolor\": \"white\", \"linecolor\": \"white\", \"minorgridcolor\": \"white\", \"startlinecolor\": \"#2a3f5f\"}, \"baxis\": {\"endlinecolor\": \"#2a3f5f\", \"gridcolor\": \"white\", \"linecolor\": \"white\", \"minorgridcolor\": \"white\", \"startlinecolor\": \"#2a3f5f\"}, \"type\": \"carpet\"}], \"choropleth\": [{\"colorbar\": {\"outlinewidth\": 0, \"ticks\": \"\"}, \"type\": \"choropleth\"}], \"contour\": [{\"colorbar\": {\"outlinewidth\": 0, \"ticks\": \"\"}, \"colorscale\": [[0.0, \"#0d0887\"], [0.1111111111111111, \"#46039f\"], [0.2222222222222222, \"#7201a8\"], [0.3333333333333333, \"#9c179e\"], [0.4444444444444444, \"#bd3786\"], [0.5555555555555556, \"#d8576b\"], [0.6666666666666666, \"#ed7953\"], [0.7777777777777778, \"#fb9f3a\"], [0.8888888888888888, \"#fdca26\"], [1.0, \"#f0f921\"]], \"type\": \"contour\"}], \"contourcarpet\": [{\"colorbar\": {\"outlinewidth\": 0, \"ticks\": \"\"}, \"type\": \"contourcarpet\"}], \"heatmap\": [{\"colorbar\": {\"outlinewidth\": 0, \"ticks\": \"\"}, \"colorscale\": [[0.0, \"#0d0887\"], [0.1111111111111111, \"#46039f\"], [0.2222222222222222, \"#7201a8\"], [0.3333333333333333, \"#9c179e\"], [0.4444444444444444, \"#bd3786\"], [0.5555555555555556, \"#d8576b\"], [0.6666666666666666, \"#ed7953\"], [0.7777777777777778, \"#fb9f3a\"], [0.8888888888888888, \"#fdca26\"], [1.0, \"#f0f921\"]], \"type\": \"heatmap\"}], \"heatmapgl\": [{\"colorbar\": {\"outlinewidth\": 0, \"ticks\": \"\"}, \"colorscale\": [[0.0, \"#0d0887\"], [0.1111111111111111, \"#46039f\"], [0.2222222222222222, \"#7201a8\"], [0.3333333333333333, \"#9c179e\"], [0.4444444444444444, \"#bd3786\"], [0.5555555555555556, \"#d8576b\"], [0.6666666666666666, \"#ed7953\"], [0.7777777777777778, \"#fb9f3a\"], [0.8888888888888888, \"#fdca26\"], [1.0, \"#f0f921\"]], \"type\": \"heatmapgl\"}], \"histogram\": [{\"marker\": {\"colorbar\": {\"outlinewidth\": 0, \"ticks\": \"\"}}, \"type\": \"histogram\"}], \"histogram2d\": [{\"colorbar\": {\"outlinewidth\": 0, \"ticks\": \"\"}, \"colorscale\": [[0.0, \"#0d0887\"], [0.1111111111111111, \"#46039f\"], [0.2222222222222222, \"#7201a8\"], [0.3333333333333333, \"#9c179e\"], [0.4444444444444444, \"#bd3786\"], [0.5555555555555556, \"#d8576b\"], [0.6666666666666666, \"#ed7953\"], [0.7777777777777778, \"#fb9f3a\"], [0.8888888888888888, \"#fdca26\"], [1.0, \"#f0f921\"]], \"type\": \"histogram2d\"}], \"histogram2dcontour\": [{\"colorbar\": {\"outlinewidth\": 0, \"ticks\": \"\"}, \"colorscale\": [[0.0, \"#0d0887\"], [0.1111111111111111, \"#46039f\"], [0.2222222222222222, \"#7201a8\"], [0.3333333333333333, \"#9c179e\"], [0.4444444444444444, \"#bd3786\"], [0.5555555555555556, \"#d8576b\"], [0.6666666666666666, \"#ed7953\"], [0.7777777777777778, \"#fb9f3a\"], [0.8888888888888888, \"#fdca26\"], [1.0, \"#f0f921\"]], \"type\": \"histogram2dcontour\"}], \"mesh3d\": [{\"colorbar\": {\"outlinewidth\": 0, \"ticks\": \"\"}, \"type\": \"mesh3d\"}], \"parcoords\": [{\"line\": {\"colorbar\": {\"outlinewidth\": 0, \"ticks\": \"\"}}, \"type\": \"parcoords\"}], \"pie\": [{\"automargin\": true, \"type\": \"pie\"}], \"scatter\": [{\"marker\": {\"colorbar\": {\"outlinewidth\": 0, \"ticks\": \"\"}}, \"type\": \"scatter\"}], \"scatter3d\": [{\"line\": {\"colorbar\": {\"outlinewidth\": 0, \"ticks\": \"\"}}, \"marker\": {\"colorbar\": {\"outlinewidth\": 0, \"ticks\": \"\"}}, \"type\": \"scatter3d\"}], \"scattercarpet\": [{\"marker\": {\"colorbar\": {\"outlinewidth\": 0, \"ticks\": \"\"}}, \"type\": \"scattercarpet\"}], \"scattergeo\": [{\"marker\": {\"colorbar\": {\"outlinewidth\": 0, \"ticks\": \"\"}}, \"type\": \"scattergeo\"}], \"scattergl\": [{\"marker\": {\"colorbar\": {\"outlinewidth\": 0, \"ticks\": \"\"}}, \"type\": \"scattergl\"}], \"scattermapbox\": [{\"marker\": {\"colorbar\": {\"outlinewidth\": 0, \"ticks\": \"\"}}, \"type\": \"scattermapbox\"}], \"scatterpolar\": [{\"marker\": {\"colorbar\": {\"outlinewidth\": 0, \"ticks\": \"\"}}, \"type\": \"scatterpolar\"}], \"scatterpolargl\": [{\"marker\": {\"colorbar\": {\"outlinewidth\": 0, \"ticks\": \"\"}}, \"type\": \"scatterpolargl\"}], \"scatterternary\": [{\"marker\": {\"colorbar\": {\"outlinewidth\": 0, \"ticks\": \"\"}}, \"type\": \"scatterternary\"}], \"surface\": [{\"colorbar\": {\"outlinewidth\": 0, \"ticks\": \"\"}, \"colorscale\": [[0.0, \"#0d0887\"], [0.1111111111111111, \"#46039f\"], [0.2222222222222222, \"#7201a8\"], [0.3333333333333333, \"#9c179e\"], [0.4444444444444444, \"#bd3786\"], [0.5555555555555556, \"#d8576b\"], [0.6666666666666666, \"#ed7953\"], [0.7777777777777778, \"#fb9f3a\"], [0.8888888888888888, \"#fdca26\"], [1.0, \"#f0f921\"]], \"type\": \"surface\"}], \"table\": [{\"cells\": {\"fill\": {\"color\": \"#EBF0F8\"}, \"line\": {\"color\": \"white\"}}, \"header\": {\"fill\": {\"color\": \"#C8D4E3\"}, \"line\": {\"color\": \"white\"}}, \"type\": \"table\"}]}, \"layout\": {\"annotationdefaults\": {\"arrowcolor\": \"#2a3f5f\", \"arrowhead\": 0, \"arrowwidth\": 1}, \"coloraxis\": {\"colorbar\": {\"outlinewidth\": 0, \"ticks\": \"\"}}, \"colorscale\": {\"diverging\": [[0, \"#8e0152\"], [0.1, \"#c51b7d\"], [0.2, \"#de77ae\"], [0.3, \"#f1b6da\"], [0.4, \"#fde0ef\"], [0.5, \"#f7f7f7\"], [0.6, \"#e6f5d0\"], [0.7, \"#b8e186\"], [0.8, \"#7fbc41\"], [0.9, \"#4d9221\"], [1, \"#276419\"]], \"sequential\": [[0.0, \"#0d0887\"], [0.1111111111111111, \"#46039f\"], [0.2222222222222222, \"#7201a8\"], [0.3333333333333333, \"#9c179e\"], [0.4444444444444444, \"#bd3786\"], [0.5555555555555556, \"#d8576b\"], [0.6666666666666666, \"#ed7953\"], [0.7777777777777778, \"#fb9f3a\"], [0.8888888888888888, \"#fdca26\"], [1.0, \"#f0f921\"]], \"sequentialminus\": [[0.0, \"#0d0887\"], [0.1111111111111111, \"#46039f\"], [0.2222222222222222, \"#7201a8\"], [0.3333333333333333, \"#9c179e\"], [0.4444444444444444, \"#bd3786\"], [0.5555555555555556, \"#d8576b\"], [0.6666666666666666, \"#ed7953\"], [0.7777777777777778, \"#fb9f3a\"], [0.8888888888888888, \"#fdca26\"], [1.0, \"#f0f921\"]]}, \"colorway\": [\"#636efa\", \"#EF553B\", \"#00cc96\", \"#ab63fa\", \"#FFA15A\", \"#19d3f3\", \"#FF6692\", \"#B6E880\", \"#FF97FF\", \"#FECB52\"], \"font\": {\"color\": \"#2a3f5f\"}, \"geo\": {\"bgcolor\": \"white\", \"lakecolor\": \"white\", \"landcolor\": \"#E5ECF6\", \"showlakes\": true, \"showland\": true, \"subunitcolor\": \"white\"}, \"hoverlabel\": {\"align\": \"left\"}, \"hovermode\": \"closest\", \"mapbox\": {\"style\": \"light\"}, \"paper_bgcolor\": \"white\", \"plot_bgcolor\": \"#E5ECF6\", \"polar\": {\"angularaxis\": {\"gridcolor\": \"white\", \"linecolor\": \"white\", \"ticks\": \"\"}, \"bgcolor\": \"#E5ECF6\", \"radialaxis\": {\"gridcolor\": \"white\", \"linecolor\": \"white\", \"ticks\": \"\"}}, \"scene\": {\"xaxis\": {\"backgroundcolor\": \"#E5ECF6\", \"gridcolor\": \"white\", \"gridwidth\": 2, \"linecolor\": \"white\", \"showbackground\": true, \"ticks\": \"\", \"zerolinecolor\": \"white\"}, \"yaxis\": {\"backgroundcolor\": \"#E5ECF6\", \"gridcolor\": \"white\", \"gridwidth\": 2, \"linecolor\": \"white\", \"showbackground\": true, \"ticks\": \"\", \"zerolinecolor\": \"white\"}, \"zaxis\": {\"backgroundcolor\": \"#E5ECF6\", \"gridcolor\": \"white\", \"gridwidth\": 2, \"linecolor\": \"white\", \"showbackground\": true, \"ticks\": \"\", \"zerolinecolor\": \"white\"}}, \"shapedefaults\": {\"line\": {\"color\": \"#2a3f5f\"}}, \"ternary\": {\"aaxis\": {\"gridcolor\": \"white\", \"linecolor\": \"white\", \"ticks\": \"\"}, \"baxis\": {\"gridcolor\": \"white\", \"linecolor\": \"white\", \"ticks\": \"\"}, \"bgcolor\": \"#E5ECF6\", \"caxis\": {\"gridcolor\": \"white\", \"linecolor\": \"white\", \"ticks\": \"\"}}, \"title\": {\"x\": 0.05}, \"xaxis\": {\"automargin\": true, \"gridcolor\": \"white\", \"linecolor\": \"white\", \"ticks\": \"\", \"title\": {\"standoff\": 15}, \"zerolinecolor\": \"white\", \"zerolinewidth\": 2}, \"yaxis\": {\"automargin\": true, \"gridcolor\": \"white\", \"linecolor\": \"white\", \"ticks\": \"\", \"title\": {\"standoff\": 15}, \"zerolinecolor\": \"white\", \"zerolinewidth\": 2}}}, \"title\": {\"font\": {\"color\": \"#4D5663\"}}, \"xaxis\": {\"gridcolor\": \"#E1E5ED\", \"showgrid\": true, \"tickfont\": {\"color\": \"#4D5663\"}, \"title\": {\"font\": {\"color\": \"#4D5663\"}, \"text\": \"\"}, \"zerolinecolor\": \"#E1E5ED\"}, \"yaxis\": {\"gridcolor\": \"#E1E5ED\", \"showgrid\": true, \"tickfont\": {\"color\": \"#4D5663\"}, \"title\": {\"font\": {\"color\": \"#4D5663\"}, \"text\": \"\"}, \"zerolinecolor\": \"#E1E5ED\"}},\n",
       "                        {\"showLink\": true, \"linkText\": \"Export to plot.ly\", \"plotlyServerURL\": \"https://plot.ly\", \"responsive\": true}\n",
       "                    ).then(function(){\n",
       "                            \n",
       "var gd = document.getElementById('56f2482f-5b46-4525-b640-2054d2775c58');\n",
       "var x = new MutationObserver(function (mutations, observer) {{\n",
       "        var display = window.getComputedStyle(gd).display;\n",
       "        if (!display || display === 'none') {{\n",
       "            console.log([gd, 'removed!']);\n",
       "            Plotly.purge(gd);\n",
       "            observer.disconnect();\n",
       "        }}\n",
       "}});\n",
       "\n",
       "// Listen for the removal of the full notebook cells\n",
       "var notebookContainer = gd.closest('#notebook-container');\n",
       "if (notebookContainer) {{\n",
       "    x.observe(notebookContainer, {childList: true});\n",
       "}}\n",
       "\n",
       "// Listen for the clearing of the current output cell\n",
       "var outputEl = gd.closest('.output');\n",
       "if (outputEl) {{\n",
       "    x.observe(outputEl, {childList: true});\n",
       "}}\n",
       "\n",
       "                        })\n",
       "                };\n",
       "                });\n",
       "            </script>\n",
       "        </div>"
      ]
     },
     "metadata": {},
     "output_type": "display_data"
    }
   ],
   "source": [
    "df.iplot(kind='box')"
   ]
  },
  {
   "cell_type": "markdown",
   "metadata": {},
   "source": [
    "## 3d Surface"
   ]
  },
  {
   "cell_type": "code",
   "execution_count": 18,
   "metadata": {},
   "outputs": [
    {
     "data": {
      "application/vnd.plotly.v1+json": {
       "config": {
        "linkText": "Export to plot.ly",
        "plotlyServerURL": "https://plot.ly",
        "showLink": true
       },
       "data": [
        {
         "colorscale": [
          [
           0,
           "rgb(165,0,38)"
          ],
          [
           0.1,
           "rgb(215,48,39)"
          ],
          [
           0.2,
           "rgb(244,109,67)"
          ],
          [
           0.3,
           "rgb(253,174,97)"
          ],
          [
           0.4,
           "rgb(254,224,144)"
          ],
          [
           0.5,
           "rgb(255,255,191)"
          ],
          [
           0.6,
           "rgb(224,243,248)"
          ],
          [
           0.7,
           "rgb(171,217,233)"
          ],
          [
           0.8,
           "rgb(116,173,209)"
          ],
          [
           0.9,
           "rgb(69,117,180)"
          ],
          [
           1,
           "rgb(49,54,149)"
          ]
         ],
         "type": "surface",
         "x": [
          0,
          1,
          2,
          3,
          4
         ],
         "y": [
          "x",
          "y",
          "z"
         ],
         "z": [
          [
           1,
           2,
           3,
           4,
           5
          ],
          [
           10,
           20,
           30,
           20,
           10
          ],
          [
           5,
           4,
           3,
           2,
           1
          ]
         ]
        }
       ],
       "layout": {
        "legend": {
         "bgcolor": "#F5F6F9",
         "font": {
          "color": "#4D5663"
         }
        },
        "paper_bgcolor": "#F5F6F9",
        "plot_bgcolor": "#F5F6F9",
        "template": {
         "data": {
          "bar": [
           {
            "error_x": {
             "color": "#2a3f5f"
            },
            "error_y": {
             "color": "#2a3f5f"
            },
            "marker": {
             "line": {
              "color": "#E5ECF6",
              "width": 0.5
             }
            },
            "type": "bar"
           }
          ],
          "barpolar": [
           {
            "marker": {
             "line": {
              "color": "#E5ECF6",
              "width": 0.5
             }
            },
            "type": "barpolar"
           }
          ],
          "carpet": [
           {
            "aaxis": {
             "endlinecolor": "#2a3f5f",
             "gridcolor": "white",
             "linecolor": "white",
             "minorgridcolor": "white",
             "startlinecolor": "#2a3f5f"
            },
            "baxis": {
             "endlinecolor": "#2a3f5f",
             "gridcolor": "white",
             "linecolor": "white",
             "minorgridcolor": "white",
             "startlinecolor": "#2a3f5f"
            },
            "type": "carpet"
           }
          ],
          "choropleth": [
           {
            "colorbar": {
             "outlinewidth": 0,
             "ticks": ""
            },
            "type": "choropleth"
           }
          ],
          "contour": [
           {
            "colorbar": {
             "outlinewidth": 0,
             "ticks": ""
            },
            "colorscale": [
             [
              0,
              "#0d0887"
             ],
             [
              0.1111111111111111,
              "#46039f"
             ],
             [
              0.2222222222222222,
              "#7201a8"
             ],
             [
              0.3333333333333333,
              "#9c179e"
             ],
             [
              0.4444444444444444,
              "#bd3786"
             ],
             [
              0.5555555555555556,
              "#d8576b"
             ],
             [
              0.6666666666666666,
              "#ed7953"
             ],
             [
              0.7777777777777778,
              "#fb9f3a"
             ],
             [
              0.8888888888888888,
              "#fdca26"
             ],
             [
              1,
              "#f0f921"
             ]
            ],
            "type": "contour"
           }
          ],
          "contourcarpet": [
           {
            "colorbar": {
             "outlinewidth": 0,
             "ticks": ""
            },
            "type": "contourcarpet"
           }
          ],
          "heatmap": [
           {
            "colorbar": {
             "outlinewidth": 0,
             "ticks": ""
            },
            "colorscale": [
             [
              0,
              "#0d0887"
             ],
             [
              0.1111111111111111,
              "#46039f"
             ],
             [
              0.2222222222222222,
              "#7201a8"
             ],
             [
              0.3333333333333333,
              "#9c179e"
             ],
             [
              0.4444444444444444,
              "#bd3786"
             ],
             [
              0.5555555555555556,
              "#d8576b"
             ],
             [
              0.6666666666666666,
              "#ed7953"
             ],
             [
              0.7777777777777778,
              "#fb9f3a"
             ],
             [
              0.8888888888888888,
              "#fdca26"
             ],
             [
              1,
              "#f0f921"
             ]
            ],
            "type": "heatmap"
           }
          ],
          "heatmapgl": [
           {
            "colorbar": {
             "outlinewidth": 0,
             "ticks": ""
            },
            "colorscale": [
             [
              0,
              "#0d0887"
             ],
             [
              0.1111111111111111,
              "#46039f"
             ],
             [
              0.2222222222222222,
              "#7201a8"
             ],
             [
              0.3333333333333333,
              "#9c179e"
             ],
             [
              0.4444444444444444,
              "#bd3786"
             ],
             [
              0.5555555555555556,
              "#d8576b"
             ],
             [
              0.6666666666666666,
              "#ed7953"
             ],
             [
              0.7777777777777778,
              "#fb9f3a"
             ],
             [
              0.8888888888888888,
              "#fdca26"
             ],
             [
              1,
              "#f0f921"
             ]
            ],
            "type": "heatmapgl"
           }
          ],
          "histogram": [
           {
            "marker": {
             "colorbar": {
              "outlinewidth": 0,
              "ticks": ""
             }
            },
            "type": "histogram"
           }
          ],
          "histogram2d": [
           {
            "colorbar": {
             "outlinewidth": 0,
             "ticks": ""
            },
            "colorscale": [
             [
              0,
              "#0d0887"
             ],
             [
              0.1111111111111111,
              "#46039f"
             ],
             [
              0.2222222222222222,
              "#7201a8"
             ],
             [
              0.3333333333333333,
              "#9c179e"
             ],
             [
              0.4444444444444444,
              "#bd3786"
             ],
             [
              0.5555555555555556,
              "#d8576b"
             ],
             [
              0.6666666666666666,
              "#ed7953"
             ],
             [
              0.7777777777777778,
              "#fb9f3a"
             ],
             [
              0.8888888888888888,
              "#fdca26"
             ],
             [
              1,
              "#f0f921"
             ]
            ],
            "type": "histogram2d"
           }
          ],
          "histogram2dcontour": [
           {
            "colorbar": {
             "outlinewidth": 0,
             "ticks": ""
            },
            "colorscale": [
             [
              0,
              "#0d0887"
             ],
             [
              0.1111111111111111,
              "#46039f"
             ],
             [
              0.2222222222222222,
              "#7201a8"
             ],
             [
              0.3333333333333333,
              "#9c179e"
             ],
             [
              0.4444444444444444,
              "#bd3786"
             ],
             [
              0.5555555555555556,
              "#d8576b"
             ],
             [
              0.6666666666666666,
              "#ed7953"
             ],
             [
              0.7777777777777778,
              "#fb9f3a"
             ],
             [
              0.8888888888888888,
              "#fdca26"
             ],
             [
              1,
              "#f0f921"
             ]
            ],
            "type": "histogram2dcontour"
           }
          ],
          "mesh3d": [
           {
            "colorbar": {
             "outlinewidth": 0,
             "ticks": ""
            },
            "type": "mesh3d"
           }
          ],
          "parcoords": [
           {
            "line": {
             "colorbar": {
              "outlinewidth": 0,
              "ticks": ""
             }
            },
            "type": "parcoords"
           }
          ],
          "pie": [
           {
            "automargin": true,
            "type": "pie"
           }
          ],
          "scatter": [
           {
            "marker": {
             "colorbar": {
              "outlinewidth": 0,
              "ticks": ""
             }
            },
            "type": "scatter"
           }
          ],
          "scatter3d": [
           {
            "line": {
             "colorbar": {
              "outlinewidth": 0,
              "ticks": ""
             }
            },
            "marker": {
             "colorbar": {
              "outlinewidth": 0,
              "ticks": ""
             }
            },
            "type": "scatter3d"
           }
          ],
          "scattercarpet": [
           {
            "marker": {
             "colorbar": {
              "outlinewidth": 0,
              "ticks": ""
             }
            },
            "type": "scattercarpet"
           }
          ],
          "scattergeo": [
           {
            "marker": {
             "colorbar": {
              "outlinewidth": 0,
              "ticks": ""
             }
            },
            "type": "scattergeo"
           }
          ],
          "scattergl": [
           {
            "marker": {
             "colorbar": {
              "outlinewidth": 0,
              "ticks": ""
             }
            },
            "type": "scattergl"
           }
          ],
          "scattermapbox": [
           {
            "marker": {
             "colorbar": {
              "outlinewidth": 0,
              "ticks": ""
             }
            },
            "type": "scattermapbox"
           }
          ],
          "scatterpolar": [
           {
            "marker": {
             "colorbar": {
              "outlinewidth": 0,
              "ticks": ""
             }
            },
            "type": "scatterpolar"
           }
          ],
          "scatterpolargl": [
           {
            "marker": {
             "colorbar": {
              "outlinewidth": 0,
              "ticks": ""
             }
            },
            "type": "scatterpolargl"
           }
          ],
          "scatterternary": [
           {
            "marker": {
             "colorbar": {
              "outlinewidth": 0,
              "ticks": ""
             }
            },
            "type": "scatterternary"
           }
          ],
          "surface": [
           {
            "colorbar": {
             "outlinewidth": 0,
             "ticks": ""
            },
            "colorscale": [
             [
              0,
              "#0d0887"
             ],
             [
              0.1111111111111111,
              "#46039f"
             ],
             [
              0.2222222222222222,
              "#7201a8"
             ],
             [
              0.3333333333333333,
              "#9c179e"
             ],
             [
              0.4444444444444444,
              "#bd3786"
             ],
             [
              0.5555555555555556,
              "#d8576b"
             ],
             [
              0.6666666666666666,
              "#ed7953"
             ],
             [
              0.7777777777777778,
              "#fb9f3a"
             ],
             [
              0.8888888888888888,
              "#fdca26"
             ],
             [
              1,
              "#f0f921"
             ]
            ],
            "type": "surface"
           }
          ],
          "table": [
           {
            "cells": {
             "fill": {
              "color": "#EBF0F8"
             },
             "line": {
              "color": "white"
             }
            },
            "header": {
             "fill": {
              "color": "#C8D4E3"
             },
             "line": {
              "color": "white"
             }
            },
            "type": "table"
           }
          ]
         },
         "layout": {
          "annotationdefaults": {
           "arrowcolor": "#2a3f5f",
           "arrowhead": 0,
           "arrowwidth": 1
          },
          "coloraxis": {
           "colorbar": {
            "outlinewidth": 0,
            "ticks": ""
           }
          },
          "colorscale": {
           "diverging": [
            [
             0,
             "#8e0152"
            ],
            [
             0.1,
             "#c51b7d"
            ],
            [
             0.2,
             "#de77ae"
            ],
            [
             0.3,
             "#f1b6da"
            ],
            [
             0.4,
             "#fde0ef"
            ],
            [
             0.5,
             "#f7f7f7"
            ],
            [
             0.6,
             "#e6f5d0"
            ],
            [
             0.7,
             "#b8e186"
            ],
            [
             0.8,
             "#7fbc41"
            ],
            [
             0.9,
             "#4d9221"
            ],
            [
             1,
             "#276419"
            ]
           ],
           "sequential": [
            [
             0,
             "#0d0887"
            ],
            [
             0.1111111111111111,
             "#46039f"
            ],
            [
             0.2222222222222222,
             "#7201a8"
            ],
            [
             0.3333333333333333,
             "#9c179e"
            ],
            [
             0.4444444444444444,
             "#bd3786"
            ],
            [
             0.5555555555555556,
             "#d8576b"
            ],
            [
             0.6666666666666666,
             "#ed7953"
            ],
            [
             0.7777777777777778,
             "#fb9f3a"
            ],
            [
             0.8888888888888888,
             "#fdca26"
            ],
            [
             1,
             "#f0f921"
            ]
           ],
           "sequentialminus": [
            [
             0,
             "#0d0887"
            ],
            [
             0.1111111111111111,
             "#46039f"
            ],
            [
             0.2222222222222222,
             "#7201a8"
            ],
            [
             0.3333333333333333,
             "#9c179e"
            ],
            [
             0.4444444444444444,
             "#bd3786"
            ],
            [
             0.5555555555555556,
             "#d8576b"
            ],
            [
             0.6666666666666666,
             "#ed7953"
            ],
            [
             0.7777777777777778,
             "#fb9f3a"
            ],
            [
             0.8888888888888888,
             "#fdca26"
            ],
            [
             1,
             "#f0f921"
            ]
           ]
          },
          "colorway": [
           "#636efa",
           "#EF553B",
           "#00cc96",
           "#ab63fa",
           "#FFA15A",
           "#19d3f3",
           "#FF6692",
           "#B6E880",
           "#FF97FF",
           "#FECB52"
          ],
          "font": {
           "color": "#2a3f5f"
          },
          "geo": {
           "bgcolor": "white",
           "lakecolor": "white",
           "landcolor": "#E5ECF6",
           "showlakes": true,
           "showland": true,
           "subunitcolor": "white"
          },
          "hoverlabel": {
           "align": "left"
          },
          "hovermode": "closest",
          "mapbox": {
           "style": "light"
          },
          "paper_bgcolor": "white",
          "plot_bgcolor": "#E5ECF6",
          "polar": {
           "angularaxis": {
            "gridcolor": "white",
            "linecolor": "white",
            "ticks": ""
           },
           "bgcolor": "#E5ECF6",
           "radialaxis": {
            "gridcolor": "white",
            "linecolor": "white",
            "ticks": ""
           }
          },
          "scene": {
           "xaxis": {
            "backgroundcolor": "#E5ECF6",
            "gridcolor": "white",
            "gridwidth": 2,
            "linecolor": "white",
            "showbackground": true,
            "ticks": "",
            "zerolinecolor": "white"
           },
           "yaxis": {
            "backgroundcolor": "#E5ECF6",
            "gridcolor": "white",
            "gridwidth": 2,
            "linecolor": "white",
            "showbackground": true,
            "ticks": "",
            "zerolinecolor": "white"
           },
           "zaxis": {
            "backgroundcolor": "#E5ECF6",
            "gridcolor": "white",
            "gridwidth": 2,
            "linecolor": "white",
            "showbackground": true,
            "ticks": "",
            "zerolinecolor": "white"
           }
          },
          "shapedefaults": {
           "line": {
            "color": "#2a3f5f"
           }
          },
          "ternary": {
           "aaxis": {
            "gridcolor": "white",
            "linecolor": "white",
            "ticks": ""
           },
           "baxis": {
            "gridcolor": "white",
            "linecolor": "white",
            "ticks": ""
           },
           "bgcolor": "#E5ECF6",
           "caxis": {
            "gridcolor": "white",
            "linecolor": "white",
            "ticks": ""
           }
          },
          "title": {
           "x": 0.05
          },
          "xaxis": {
           "automargin": true,
           "gridcolor": "white",
           "linecolor": "white",
           "ticks": "",
           "title": {
            "standoff": 15
           },
           "zerolinecolor": "white",
           "zerolinewidth": 2
          },
          "yaxis": {
           "automargin": true,
           "gridcolor": "white",
           "linecolor": "white",
           "ticks": "",
           "title": {
            "standoff": 15
           },
           "zerolinecolor": "white",
           "zerolinewidth": 2
          }
         }
        },
        "title": {
         "font": {
          "color": "#4D5663"
         }
        },
        "xaxis": {
         "gridcolor": "#E1E5ED",
         "showgrid": true,
         "tickfont": {
          "color": "#4D5663"
         },
         "title": {
          "font": {
           "color": "#4D5663"
          },
          "text": ""
         },
         "zerolinecolor": "#E1E5ED"
        },
        "yaxis": {
         "gridcolor": "#E1E5ED",
         "showgrid": true,
         "tickfont": {
          "color": "#4D5663"
         },
         "title": {
          "font": {
           "color": "#4D5663"
          },
          "text": ""
         },
         "zerolinecolor": "#E1E5ED"
        }
       }
      },
      "text/html": [
       "<div>\n",
       "        \n",
       "        \n",
       "            <div id=\"76d1239e-0fe8-464a-97ee-384f8e78851f\" class=\"plotly-graph-div\" style=\"height:525px; width:100%;\"></div>\n",
       "            <script type=\"text/javascript\">\n",
       "                require([\"plotly\"], function(Plotly) {\n",
       "                    window.PLOTLYENV=window.PLOTLYENV || {};\n",
       "                    window.PLOTLYENV.BASE_URL='https://plot.ly';\n",
       "                    \n",
       "                if (document.getElementById(\"76d1239e-0fe8-464a-97ee-384f8e78851f\")) {\n",
       "                    Plotly.newPlot(\n",
       "                        '76d1239e-0fe8-464a-97ee-384f8e78851f',\n",
       "                        [{\"colorscale\": [[0.0, \"rgb(165,0,38)\"], [0.1, \"rgb(215,48,39)\"], [0.2, \"rgb(244,109,67)\"], [0.3, \"rgb(253,174,97)\"], [0.4, \"rgb(254,224,144)\"], [0.5, \"rgb(255,255,191)\"], [0.6, \"rgb(224,243,248)\"], [0.7, \"rgb(171,217,233)\"], [0.8, \"rgb(116,173,209)\"], [0.9, \"rgb(69,117,180)\"], [1.0, \"rgb(49,54,149)\"]], \"type\": \"surface\", \"x\": [0, 1, 2, 3, 4], \"y\": [\"x\", \"y\", \"z\"], \"z\": [[1, 2, 3, 4, 5], [10, 20, 30, 20, 10], [5, 4, 3, 2, 1]]}],\n",
       "                        {\"legend\": {\"bgcolor\": \"#F5F6F9\", \"font\": {\"color\": \"#4D5663\"}}, \"paper_bgcolor\": \"#F5F6F9\", \"plot_bgcolor\": \"#F5F6F9\", \"template\": {\"data\": {\"bar\": [{\"error_x\": {\"color\": \"#2a3f5f\"}, \"error_y\": {\"color\": \"#2a3f5f\"}, \"marker\": {\"line\": {\"color\": \"#E5ECF6\", \"width\": 0.5}}, \"type\": \"bar\"}], \"barpolar\": [{\"marker\": {\"line\": {\"color\": \"#E5ECF6\", \"width\": 0.5}}, \"type\": \"barpolar\"}], \"carpet\": [{\"aaxis\": {\"endlinecolor\": \"#2a3f5f\", \"gridcolor\": \"white\", \"linecolor\": \"white\", \"minorgridcolor\": \"white\", \"startlinecolor\": \"#2a3f5f\"}, \"baxis\": {\"endlinecolor\": \"#2a3f5f\", \"gridcolor\": \"white\", \"linecolor\": \"white\", \"minorgridcolor\": \"white\", \"startlinecolor\": \"#2a3f5f\"}, \"type\": \"carpet\"}], \"choropleth\": [{\"colorbar\": {\"outlinewidth\": 0, \"ticks\": \"\"}, \"type\": \"choropleth\"}], \"contour\": [{\"colorbar\": {\"outlinewidth\": 0, \"ticks\": \"\"}, \"colorscale\": [[0.0, \"#0d0887\"], [0.1111111111111111, \"#46039f\"], [0.2222222222222222, \"#7201a8\"], [0.3333333333333333, \"#9c179e\"], [0.4444444444444444, \"#bd3786\"], [0.5555555555555556, \"#d8576b\"], [0.6666666666666666, \"#ed7953\"], [0.7777777777777778, \"#fb9f3a\"], [0.8888888888888888, \"#fdca26\"], [1.0, \"#f0f921\"]], \"type\": \"contour\"}], \"contourcarpet\": [{\"colorbar\": {\"outlinewidth\": 0, \"ticks\": \"\"}, \"type\": \"contourcarpet\"}], \"heatmap\": [{\"colorbar\": {\"outlinewidth\": 0, \"ticks\": \"\"}, \"colorscale\": [[0.0, \"#0d0887\"], [0.1111111111111111, \"#46039f\"], [0.2222222222222222, \"#7201a8\"], [0.3333333333333333, \"#9c179e\"], [0.4444444444444444, \"#bd3786\"], [0.5555555555555556, \"#d8576b\"], [0.6666666666666666, \"#ed7953\"], [0.7777777777777778, \"#fb9f3a\"], [0.8888888888888888, \"#fdca26\"], [1.0, \"#f0f921\"]], \"type\": \"heatmap\"}], \"heatmapgl\": [{\"colorbar\": {\"outlinewidth\": 0, \"ticks\": \"\"}, \"colorscale\": [[0.0, \"#0d0887\"], [0.1111111111111111, \"#46039f\"], [0.2222222222222222, \"#7201a8\"], [0.3333333333333333, \"#9c179e\"], [0.4444444444444444, \"#bd3786\"], [0.5555555555555556, \"#d8576b\"], [0.6666666666666666, \"#ed7953\"], [0.7777777777777778, \"#fb9f3a\"], [0.8888888888888888, \"#fdca26\"], [1.0, \"#f0f921\"]], \"type\": \"heatmapgl\"}], \"histogram\": [{\"marker\": {\"colorbar\": {\"outlinewidth\": 0, \"ticks\": \"\"}}, \"type\": \"histogram\"}], \"histogram2d\": [{\"colorbar\": {\"outlinewidth\": 0, \"ticks\": \"\"}, \"colorscale\": [[0.0, \"#0d0887\"], [0.1111111111111111, \"#46039f\"], [0.2222222222222222, \"#7201a8\"], [0.3333333333333333, \"#9c179e\"], [0.4444444444444444, \"#bd3786\"], [0.5555555555555556, \"#d8576b\"], [0.6666666666666666, \"#ed7953\"], [0.7777777777777778, \"#fb9f3a\"], [0.8888888888888888, \"#fdca26\"], [1.0, \"#f0f921\"]], \"type\": \"histogram2d\"}], \"histogram2dcontour\": [{\"colorbar\": {\"outlinewidth\": 0, \"ticks\": \"\"}, \"colorscale\": [[0.0, \"#0d0887\"], [0.1111111111111111, \"#46039f\"], [0.2222222222222222, \"#7201a8\"], [0.3333333333333333, \"#9c179e\"], [0.4444444444444444, \"#bd3786\"], [0.5555555555555556, \"#d8576b\"], [0.6666666666666666, \"#ed7953\"], [0.7777777777777778, \"#fb9f3a\"], [0.8888888888888888, \"#fdca26\"], [1.0, \"#f0f921\"]], \"type\": \"histogram2dcontour\"}], \"mesh3d\": [{\"colorbar\": {\"outlinewidth\": 0, \"ticks\": \"\"}, \"type\": \"mesh3d\"}], \"parcoords\": [{\"line\": {\"colorbar\": {\"outlinewidth\": 0, \"ticks\": \"\"}}, \"type\": \"parcoords\"}], \"pie\": [{\"automargin\": true, \"type\": \"pie\"}], \"scatter\": [{\"marker\": {\"colorbar\": {\"outlinewidth\": 0, \"ticks\": \"\"}}, \"type\": \"scatter\"}], \"scatter3d\": [{\"line\": {\"colorbar\": {\"outlinewidth\": 0, \"ticks\": \"\"}}, \"marker\": {\"colorbar\": {\"outlinewidth\": 0, \"ticks\": \"\"}}, \"type\": \"scatter3d\"}], \"scattercarpet\": [{\"marker\": {\"colorbar\": {\"outlinewidth\": 0, \"ticks\": \"\"}}, \"type\": \"scattercarpet\"}], \"scattergeo\": [{\"marker\": {\"colorbar\": {\"outlinewidth\": 0, \"ticks\": \"\"}}, \"type\": \"scattergeo\"}], \"scattergl\": [{\"marker\": {\"colorbar\": {\"outlinewidth\": 0, \"ticks\": \"\"}}, \"type\": \"scattergl\"}], \"scattermapbox\": [{\"marker\": {\"colorbar\": {\"outlinewidth\": 0, \"ticks\": \"\"}}, \"type\": \"scattermapbox\"}], \"scatterpolar\": [{\"marker\": {\"colorbar\": {\"outlinewidth\": 0, \"ticks\": \"\"}}, \"type\": \"scatterpolar\"}], \"scatterpolargl\": [{\"marker\": {\"colorbar\": {\"outlinewidth\": 0, \"ticks\": \"\"}}, \"type\": \"scatterpolargl\"}], \"scatterternary\": [{\"marker\": {\"colorbar\": {\"outlinewidth\": 0, \"ticks\": \"\"}}, \"type\": \"scatterternary\"}], \"surface\": [{\"colorbar\": {\"outlinewidth\": 0, \"ticks\": \"\"}, \"colorscale\": [[0.0, \"#0d0887\"], [0.1111111111111111, \"#46039f\"], [0.2222222222222222, \"#7201a8\"], [0.3333333333333333, \"#9c179e\"], [0.4444444444444444, \"#bd3786\"], [0.5555555555555556, \"#d8576b\"], [0.6666666666666666, \"#ed7953\"], [0.7777777777777778, \"#fb9f3a\"], [0.8888888888888888, \"#fdca26\"], [1.0, \"#f0f921\"]], \"type\": \"surface\"}], \"table\": [{\"cells\": {\"fill\": {\"color\": \"#EBF0F8\"}, \"line\": {\"color\": \"white\"}}, \"header\": {\"fill\": {\"color\": \"#C8D4E3\"}, \"line\": {\"color\": \"white\"}}, \"type\": \"table\"}]}, \"layout\": {\"annotationdefaults\": {\"arrowcolor\": \"#2a3f5f\", \"arrowhead\": 0, \"arrowwidth\": 1}, \"coloraxis\": {\"colorbar\": {\"outlinewidth\": 0, \"ticks\": \"\"}}, \"colorscale\": {\"diverging\": [[0, \"#8e0152\"], [0.1, \"#c51b7d\"], [0.2, \"#de77ae\"], [0.3, \"#f1b6da\"], [0.4, \"#fde0ef\"], [0.5, \"#f7f7f7\"], [0.6, \"#e6f5d0\"], [0.7, \"#b8e186\"], [0.8, \"#7fbc41\"], [0.9, \"#4d9221\"], [1, \"#276419\"]], \"sequential\": [[0.0, \"#0d0887\"], [0.1111111111111111, \"#46039f\"], [0.2222222222222222, \"#7201a8\"], [0.3333333333333333, \"#9c179e\"], [0.4444444444444444, \"#bd3786\"], [0.5555555555555556, \"#d8576b\"], [0.6666666666666666, \"#ed7953\"], [0.7777777777777778, \"#fb9f3a\"], [0.8888888888888888, \"#fdca26\"], [1.0, \"#f0f921\"]], \"sequentialminus\": [[0.0, \"#0d0887\"], [0.1111111111111111, \"#46039f\"], [0.2222222222222222, \"#7201a8\"], [0.3333333333333333, \"#9c179e\"], [0.4444444444444444, \"#bd3786\"], [0.5555555555555556, \"#d8576b\"], [0.6666666666666666, \"#ed7953\"], [0.7777777777777778, \"#fb9f3a\"], [0.8888888888888888, \"#fdca26\"], [1.0, \"#f0f921\"]]}, \"colorway\": [\"#636efa\", \"#EF553B\", \"#00cc96\", \"#ab63fa\", \"#FFA15A\", \"#19d3f3\", \"#FF6692\", \"#B6E880\", \"#FF97FF\", \"#FECB52\"], \"font\": {\"color\": \"#2a3f5f\"}, \"geo\": {\"bgcolor\": \"white\", \"lakecolor\": \"white\", \"landcolor\": \"#E5ECF6\", \"showlakes\": true, \"showland\": true, \"subunitcolor\": \"white\"}, \"hoverlabel\": {\"align\": \"left\"}, \"hovermode\": \"closest\", \"mapbox\": {\"style\": \"light\"}, \"paper_bgcolor\": \"white\", \"plot_bgcolor\": \"#E5ECF6\", \"polar\": {\"angularaxis\": {\"gridcolor\": \"white\", \"linecolor\": \"white\", \"ticks\": \"\"}, \"bgcolor\": \"#E5ECF6\", \"radialaxis\": {\"gridcolor\": \"white\", \"linecolor\": \"white\", \"ticks\": \"\"}}, \"scene\": {\"xaxis\": {\"backgroundcolor\": \"#E5ECF6\", \"gridcolor\": \"white\", \"gridwidth\": 2, \"linecolor\": \"white\", \"showbackground\": true, \"ticks\": \"\", \"zerolinecolor\": \"white\"}, \"yaxis\": {\"backgroundcolor\": \"#E5ECF6\", \"gridcolor\": \"white\", \"gridwidth\": 2, \"linecolor\": \"white\", \"showbackground\": true, \"ticks\": \"\", \"zerolinecolor\": \"white\"}, \"zaxis\": {\"backgroundcolor\": \"#E5ECF6\", \"gridcolor\": \"white\", \"gridwidth\": 2, \"linecolor\": \"white\", \"showbackground\": true, \"ticks\": \"\", \"zerolinecolor\": \"white\"}}, \"shapedefaults\": {\"line\": {\"color\": \"#2a3f5f\"}}, \"ternary\": {\"aaxis\": {\"gridcolor\": \"white\", \"linecolor\": \"white\", \"ticks\": \"\"}, \"baxis\": {\"gridcolor\": \"white\", \"linecolor\": \"white\", \"ticks\": \"\"}, \"bgcolor\": \"#E5ECF6\", \"caxis\": {\"gridcolor\": \"white\", \"linecolor\": \"white\", \"ticks\": \"\"}}, \"title\": {\"x\": 0.05}, \"xaxis\": {\"automargin\": true, \"gridcolor\": \"white\", \"linecolor\": \"white\", \"ticks\": \"\", \"title\": {\"standoff\": 15}, \"zerolinecolor\": \"white\", \"zerolinewidth\": 2}, \"yaxis\": {\"automargin\": true, \"gridcolor\": \"white\", \"linecolor\": \"white\", \"ticks\": \"\", \"title\": {\"standoff\": 15}, \"zerolinecolor\": \"white\", \"zerolinewidth\": 2}}}, \"title\": {\"font\": {\"color\": \"#4D5663\"}}, \"xaxis\": {\"gridcolor\": \"#E1E5ED\", \"showgrid\": true, \"tickfont\": {\"color\": \"#4D5663\"}, \"title\": {\"font\": {\"color\": \"#4D5663\"}, \"text\": \"\"}, \"zerolinecolor\": \"#E1E5ED\"}, \"yaxis\": {\"gridcolor\": \"#E1E5ED\", \"showgrid\": true, \"tickfont\": {\"color\": \"#4D5663\"}, \"title\": {\"font\": {\"color\": \"#4D5663\"}, \"text\": \"\"}, \"zerolinecolor\": \"#E1E5ED\"}},\n",
       "                        {\"showLink\": true, \"linkText\": \"Export to plot.ly\", \"plotlyServerURL\": \"https://plot.ly\", \"responsive\": true}\n",
       "                    ).then(function(){\n",
       "                            \n",
       "var gd = document.getElementById('76d1239e-0fe8-464a-97ee-384f8e78851f');\n",
       "var x = new MutationObserver(function (mutations, observer) {{\n",
       "        var display = window.getComputedStyle(gd).display;\n",
       "        if (!display || display === 'none') {{\n",
       "            console.log([gd, 'removed!']);\n",
       "            Plotly.purge(gd);\n",
       "            observer.disconnect();\n",
       "        }}\n",
       "}});\n",
       "\n",
       "// Listen for the removal of the full notebook cells\n",
       "var notebookContainer = gd.closest('#notebook-container');\n",
       "if (notebookContainer) {{\n",
       "    x.observe(notebookContainer, {childList: true});\n",
       "}}\n",
       "\n",
       "// Listen for the clearing of the current output cell\n",
       "var outputEl = gd.closest('.output');\n",
       "if (outputEl) {{\n",
       "    x.observe(outputEl, {childList: true});\n",
       "}}\n",
       "\n",
       "                        })\n",
       "                };\n",
       "                });\n",
       "            </script>\n",
       "        </div>"
      ]
     },
     "metadata": {},
     "output_type": "display_data"
    }
   ],
   "source": [
    "df3 = pd.DataFrame({'x':[1,2,3,4,5],'y':[10,20,30,20,10],'z':[5,4,3,2,1]})\n",
    "df3.iplot(kind='surface',colorscale='rdylbu')"
   ]
  },
  {
   "cell_type": "markdown",
   "metadata": {},
   "source": [
    "## Spread"
   ]
  },
  {
   "cell_type": "code",
   "execution_count": 19,
   "metadata": {},
   "outputs": [
    {
     "data": {
      "application/vnd.plotly.v1+json": {
       "config": {
        "linkText": "Export to plot.ly",
        "plotlyServerURL": "https://plot.ly",
        "showLink": true
       },
       "data": [
        {
         "line": {
          "color": "rgba(255, 153, 51, 1.0)",
          "dash": "solid",
          "shape": "linear",
          "width": 1.3
         },
         "mode": "lines",
         "name": "A",
         "text": "",
         "type": "scatter",
         "x": [
          0,
          1,
          2,
          3,
          4,
          5,
          6,
          7,
          8,
          9,
          10,
          11,
          12,
          13,
          14,
          15,
          16,
          17,
          18,
          19,
          20,
          21,
          22,
          23,
          24,
          25,
          26,
          27,
          28,
          29,
          30,
          31,
          32,
          33,
          34,
          35,
          36,
          37,
          38,
          39,
          40,
          41,
          42,
          43,
          44,
          45,
          46,
          47,
          48,
          49,
          50,
          51,
          52,
          53,
          54,
          55,
          56,
          57,
          58,
          59,
          60,
          61,
          62,
          63,
          64,
          65,
          66,
          67,
          68,
          69,
          70,
          71,
          72,
          73,
          74,
          75,
          76,
          77,
          78,
          79,
          80,
          81,
          82,
          83,
          84,
          85,
          86,
          87,
          88,
          89,
          90,
          91,
          92,
          93,
          94,
          95,
          96,
          97,
          98,
          99
         ],
         "y": [
          1.1632319313482395,
          0.4006995105216627,
          -0.2956762478256533,
          -0.05169719393589064,
          0.00910757636508114,
          -0.6955839592405,
          -0.35909775057049803,
          -1.5625500495348743,
          0.280382662704461,
          0.6900988105151796,
          -2.7574912836742946,
          -0.07968419822034653,
          1.8332128879861818,
          1.4295281994653302,
          0.1252613779335597,
          -0.49769928744988495,
          -0.856393091788203,
          1.4352774817096858,
          -1.2664402308234686,
          0.7890502900382642,
          -1.46167053131466,
          0.8150472653619777,
          -1.17240523883422,
          -0.6705469117318189,
          -1.4341028074133875,
          -0.014599945431750708,
          0.7435879685265763,
          -2.848647374794672,
          0.49161354740033353,
          -0.45050436439059577,
          0.28881432704739796,
          0.33186383855201784,
          -0.047088381439171614,
          -0.9993636850678648,
          1.1206599697688173,
          1.1930326248835383,
          -1.1034554747230993,
          -0.5547348406545668,
          0.13945607788763917,
          1.301419479862865,
          -1.2400560909431215,
          0.6203031047198649,
          0.9380629637173821,
          -0.14400944082924053,
          -0.9240931840045439,
          -0.8282183540851877,
          -0.11961424790363061,
          -0.49999029669468653,
          0.9819908608077234,
          -0.11606300782428085,
          0.45764184722157275,
          0.49346586682197907,
          -0.5433622602059989,
          -1.7900480082481471,
          0.32044197002586217,
          -0.633058819620911,
          0.035453392741268346,
          0.28800897468143366,
          0.1270836766417439,
          1.1391905804798264,
          -0.058971810983125275,
          1.5960984036066292,
          0.043035034307208495,
          -0.8023299927990649,
          0.9613524445273515,
          -0.39736206448423356,
          0.2792623071725112,
          -0.36223179862154803,
          1.0386103659394246,
          0.768251393580555,
          -0.03247482932037407,
          -0.2833971496851408,
          -2.3264113817674885,
          0.3601066380079715,
          -0.8975379312800085,
          0.07627611530830201,
          0.36155396903651077,
          -0.17833430581015805,
          -0.6767697508725241,
          1.535979797909297,
          -0.4419843916432813,
          -0.7094090819406609,
          0.647624136408352,
          -0.056939817949727634,
          -2.0938503562353876,
          1.1522289116879099,
          0.43945695783916466,
          1.0199457327509938,
          0.8259047129688619,
          -0.43717286489986557,
          -1.8874859655183183,
          0.6348946192877947,
          -1.7859523956955943,
          0.13333163954187455,
          -0.6353918987424078,
          -1.0049116048271711,
          -0.24942294813512036,
          0.7019758240727191,
          0.6036035864612834,
          0.6023724883064032
         ]
        },
        {
         "line": {
          "color": "rgba(55, 128, 191, 1.0)",
          "dash": "solid",
          "shape": "linear",
          "width": 1.3
         },
         "mode": "lines",
         "name": "B",
         "text": "",
         "type": "scatter",
         "x": [
          0,
          1,
          2,
          3,
          4,
          5,
          6,
          7,
          8,
          9,
          10,
          11,
          12,
          13,
          14,
          15,
          16,
          17,
          18,
          19,
          20,
          21,
          22,
          23,
          24,
          25,
          26,
          27,
          28,
          29,
          30,
          31,
          32,
          33,
          34,
          35,
          36,
          37,
          38,
          39,
          40,
          41,
          42,
          43,
          44,
          45,
          46,
          47,
          48,
          49,
          50,
          51,
          52,
          53,
          54,
          55,
          56,
          57,
          58,
          59,
          60,
          61,
          62,
          63,
          64,
          65,
          66,
          67,
          68,
          69,
          70,
          71,
          72,
          73,
          74,
          75,
          76,
          77,
          78,
          79,
          80,
          81,
          82,
          83,
          84,
          85,
          86,
          87,
          88,
          89,
          90,
          91,
          92,
          93,
          94,
          95,
          96,
          97,
          98,
          99
         ],
         "y": [
          0.7557944147735085,
          0.08420801170730241,
          1.125224851480296,
          0.38065475151755207,
          0.5396274205240575,
          0.5683289602573715,
          -0.2608769685151894,
          -0.40282805854406645,
          1.0323173036744528,
          0.028417798834812127,
          -0.517174679146552,
          -1.920275899765896,
          -1.12992664746321,
          1.520453453577847,
          -0.6616003988885832,
          -2.2026206161735447,
          -0.11666027539963252,
          -2.2155337084780067,
          0.6367684799711685,
          -0.1764979359195468,
          1.3819423305761236,
          -0.008262148112657144,
          0.9782295514038942,
          1.99322695455303,
          -0.2550056163421702,
          1.1983104645087241,
          -1.1767282090517108,
          0.1866687098243254,
          -0.7443221314287102,
          -1.3368881098115208,
          0.8979161027537494,
          -0.6450371339227668,
          0.4674685984970453,
          1.0387929502296873,
          1.1420262987889602,
          0.33989156511313695,
          0.28218207921226246,
          0.7108031867533554,
          -0.19824614238408128,
          -0.9382975161738351,
          -0.30006528143077743,
          -0.02711395816594447,
          0.08773127271283397,
          1.1131128380108828,
          -1.5372209506583512,
          -1.2495788629223747,
          -0.5628672105320381,
          1.0253904572821646,
          0.12695003780597983,
          -0.6225220306494884,
          1.0034377291300447,
          -0.017920924540992887,
          0.7051442293937872,
          0.9768952039821863,
          0.1714519825542668,
          -0.4738481699106438,
          1.228276732941743,
          -0.004907755627084942,
          1.1020113226868538,
          -1.537743962725332,
          2.3098300590918144,
          0.8495190634194937,
          -1.8418600829624527,
          -0.5964836394497389,
          0.6388598070914784,
          0.3557569827543802,
          -0.7658323525724573,
          0.015269993899470594,
          -1.3551368944021027,
          0.4828390365168581,
          -0.9696325544797003,
          -0.39790738293710254,
          0.4011413136842935,
          -0.678147361211587,
          -0.5881407468585984,
          0.7315029154129858,
          1.0551627255471088,
          1.3012639291825332,
          1.752203520894791,
          -0.7549413493846202,
          -1.2856592275485377,
          0.772007266640758,
          -1.0868301893872796,
          -0.6748215539231817,
          -1.062831300971065,
          0.46462908811188613,
          -1.2584291900875348,
          -0.457270169220814,
          0.2627928071210074,
          -1.724573428359919,
          1.5939081634088021,
          0.5658581330993231,
          -0.7086495830979483,
          0.8100065851099465,
          -0.3883548594234347,
          -0.9402175365492719,
          -0.14248605623081273,
          1.336233786743859,
          0.030824605229955466,
          0.42536427696008167
         ]
        },
        {
         "connectgaps": false,
         "fill": "tozeroy",
         "line": {
          "color": "green",
          "dash": "solid",
          "shape": "linear",
          "width": 0.5
         },
         "mode": "lines",
         "name": "Spread",
         "showlegend": false,
         "type": "scatter",
         "x": [
          0,
          1,
          2,
          3,
          4,
          5,
          6,
          7,
          8,
          9,
          10,
          11,
          12,
          13,
          14,
          15,
          16,
          17,
          18,
          19,
          20,
          21,
          22,
          23,
          24,
          25,
          26,
          27,
          28,
          29,
          30,
          31,
          32,
          33,
          34,
          35,
          36,
          37,
          38,
          39,
          40,
          41,
          42,
          43,
          44,
          45,
          46,
          47,
          48,
          49,
          50,
          51,
          52,
          53,
          54,
          55,
          56,
          57,
          58,
          59,
          60,
          61,
          62,
          63,
          64,
          65,
          66,
          67,
          68,
          69,
          70,
          71,
          72,
          73,
          74,
          75,
          76,
          77,
          78,
          79,
          80,
          81,
          82,
          83,
          84,
          85,
          86,
          87,
          88,
          89,
          90,
          91,
          92,
          93,
          94,
          95,
          96,
          97,
          98,
          99
         ],
         "xaxis": "x2",
         "y": [
          0.40743751657473104,
          0.3164914988143603,
          "",
          "",
          "",
          "",
          "",
          "",
          "",
          0.6616810116803675,
          "",
          1.8405917015455495,
          2.9631395354493915,
          "",
          0.786861776822143,
          1.7049213287236598,
          "",
          3.6508111901876923,
          "",
          0.965548225957811,
          "",
          0.8233094134746348,
          "",
          "",
          "",
          "",
          1.920316177578287,
          "",
          1.2359356788290436,
          0.8863837454209251,
          "",
          0.9769009724747847,
          "",
          "",
          "",
          0.8531410597704014,
          "",
          "",
          0.3377022202717205,
          2.2397169960367003,
          "",
          0.6474170628858094,
          0.8503316910045481,
          "",
          0.6131277666538073,
          0.421360508837187,
          0.4432529626284075,
          "",
          0.8550408230017436,
          0.5064590228252076,
          "",
          0.5113867913629719,
          "",
          "",
          0.14898998747159536,
          "",
          "",
          0.2929167303085186,
          "",
          2.6769345432051583,
          "",
          0.7465793401871356,
          1.8848951172696613,
          "",
          0.3224926374358731,
          "",
          1.0450946597449686,
          "",
          2.3937472603415273,
          0.28541235706369694,
          0.9371577251593263,
          0.11451023325196175,
          "",
          1.0382539992195585,
          "",
          "",
          "",
          "",
          "",
          2.2909211472939175,
          0.8436748359052564,
          "",
          1.7344543257956317,
          0.6178817359734541,
          "",
          0.6875998235760237,
          1.6978861479266996,
          1.4772159019718076,
          0.5631119058478545,
          1.2874005634600534,
          "",
          0.06903648618847158,
          "",
          "",
          "",
          "",
          "",
          "",
          0.572778981231328,
          0.17700821134632155
         ],
         "yaxis": "y2"
        },
        {
         "connectgaps": false,
         "fill": "tozeroy",
         "line": {
          "color": "red",
          "dash": "solid",
          "shape": "linear",
          "width": 0.5
         },
         "mode": "lines",
         "name": "Spread",
         "showlegend": false,
         "type": "scatter",
         "x": [
          0,
          1,
          2,
          3,
          4,
          5,
          6,
          7,
          8,
          9,
          10,
          11,
          12,
          13,
          14,
          15,
          16,
          17,
          18,
          19,
          20,
          21,
          22,
          23,
          24,
          25,
          26,
          27,
          28,
          29,
          30,
          31,
          32,
          33,
          34,
          35,
          36,
          37,
          38,
          39,
          40,
          41,
          42,
          43,
          44,
          45,
          46,
          47,
          48,
          49,
          50,
          51,
          52,
          53,
          54,
          55,
          56,
          57,
          58,
          59,
          60,
          61,
          62,
          63,
          64,
          65,
          66,
          67,
          68,
          69,
          70,
          71,
          72,
          73,
          74,
          75,
          76,
          77,
          78,
          79,
          80,
          81,
          82,
          83,
          84,
          85,
          86,
          87,
          88,
          89,
          90,
          91,
          92,
          93,
          94,
          95,
          96,
          97,
          98,
          99
         ],
         "xaxis": "x2",
         "y": [
          "",
          "",
          -1.4209010993059494,
          -0.4323519454534427,
          -0.5305198441589764,
          -1.2639129194978715,
          -0.09822078205530865,
          -1.1597219909908079,
          -0.7519346409699919,
          "",
          -2.2403166045277425,
          "",
          "",
          -0.09092525411251673,
          "",
          "",
          -0.7397328163885705,
          "",
          -1.9032087107946372,
          "",
          -2.843612861890784,
          "",
          -2.150634790238114,
          -2.6637738662848487,
          -1.1790971910712171,
          -1.2129104099404748,
          "",
          -3.0353160846189975,
          "",
          "",
          -0.6091017757063515,
          "",
          -0.514556979936217,
          -2.038156635297552,
          -0.021366329020142905,
          "",
          -1.3856375539353618,
          -1.2655380274079222,
          "",
          "",
          -0.9399908095123441,
          "",
          "",
          -1.2571222788401233,
          "",
          "",
          "",
          -1.5253807539768511,
          "",
          "",
          -0.545795881908472,
          "",
          -1.248506489599786,
          -2.7669432122303332,
          "",
          -0.15921064971026722,
          -1.1928233402004746,
          "",
          -0.9749276460451098,
          "",
          -2.3688018700749396,
          "",
          "",
          -0.205846353349326,
          "",
          -0.7531190472386138,
          "",
          -0.3775017925210186,
          "",
          "",
          "",
          "",
          -2.727552695451782,
          "",
          -0.30939718442141007,
          -0.6552268001046838,
          -0.693608756510598,
          -1.4795982349926913,
          -2.4289732717673154,
          "",
          "",
          -1.481416348581419,
          "",
          "",
          -1.0310190552643226,
          "",
          "",
          "",
          "",
          "",
          -3.4813941289271204,
          "",
          -1.077302812597646,
          -0.676674945568072,
          -0.24703703931897308,
          -0.06469406827789925,
          -0.10693689190430763,
          -0.6342579626711399,
          "",
          ""
         ],
         "yaxis": "y2"
        }
       ],
       "layout": {
        "hovermode": "x",
        "legend": {
         "bgcolor": "#F5F6F9",
         "font": {
          "color": "#4D5663"
         }
        },
        "paper_bgcolor": "#F5F6F9",
        "plot_bgcolor": "#F5F6F9",
        "template": {
         "data": {
          "bar": [
           {
            "error_x": {
             "color": "#2a3f5f"
            },
            "error_y": {
             "color": "#2a3f5f"
            },
            "marker": {
             "line": {
              "color": "#E5ECF6",
              "width": 0.5
             }
            },
            "type": "bar"
           }
          ],
          "barpolar": [
           {
            "marker": {
             "line": {
              "color": "#E5ECF6",
              "width": 0.5
             }
            },
            "type": "barpolar"
           }
          ],
          "carpet": [
           {
            "aaxis": {
             "endlinecolor": "#2a3f5f",
             "gridcolor": "white",
             "linecolor": "white",
             "minorgridcolor": "white",
             "startlinecolor": "#2a3f5f"
            },
            "baxis": {
             "endlinecolor": "#2a3f5f",
             "gridcolor": "white",
             "linecolor": "white",
             "minorgridcolor": "white",
             "startlinecolor": "#2a3f5f"
            },
            "type": "carpet"
           }
          ],
          "choropleth": [
           {
            "colorbar": {
             "outlinewidth": 0,
             "ticks": ""
            },
            "type": "choropleth"
           }
          ],
          "contour": [
           {
            "colorbar": {
             "outlinewidth": 0,
             "ticks": ""
            },
            "colorscale": [
             [
              0,
              "#0d0887"
             ],
             [
              0.1111111111111111,
              "#46039f"
             ],
             [
              0.2222222222222222,
              "#7201a8"
             ],
             [
              0.3333333333333333,
              "#9c179e"
             ],
             [
              0.4444444444444444,
              "#bd3786"
             ],
             [
              0.5555555555555556,
              "#d8576b"
             ],
             [
              0.6666666666666666,
              "#ed7953"
             ],
             [
              0.7777777777777778,
              "#fb9f3a"
             ],
             [
              0.8888888888888888,
              "#fdca26"
             ],
             [
              1,
              "#f0f921"
             ]
            ],
            "type": "contour"
           }
          ],
          "contourcarpet": [
           {
            "colorbar": {
             "outlinewidth": 0,
             "ticks": ""
            },
            "type": "contourcarpet"
           }
          ],
          "heatmap": [
           {
            "colorbar": {
             "outlinewidth": 0,
             "ticks": ""
            },
            "colorscale": [
             [
              0,
              "#0d0887"
             ],
             [
              0.1111111111111111,
              "#46039f"
             ],
             [
              0.2222222222222222,
              "#7201a8"
             ],
             [
              0.3333333333333333,
              "#9c179e"
             ],
             [
              0.4444444444444444,
              "#bd3786"
             ],
             [
              0.5555555555555556,
              "#d8576b"
             ],
             [
              0.6666666666666666,
              "#ed7953"
             ],
             [
              0.7777777777777778,
              "#fb9f3a"
             ],
             [
              0.8888888888888888,
              "#fdca26"
             ],
             [
              1,
              "#f0f921"
             ]
            ],
            "type": "heatmap"
           }
          ],
          "heatmapgl": [
           {
            "colorbar": {
             "outlinewidth": 0,
             "ticks": ""
            },
            "colorscale": [
             [
              0,
              "#0d0887"
             ],
             [
              0.1111111111111111,
              "#46039f"
             ],
             [
              0.2222222222222222,
              "#7201a8"
             ],
             [
              0.3333333333333333,
              "#9c179e"
             ],
             [
              0.4444444444444444,
              "#bd3786"
             ],
             [
              0.5555555555555556,
              "#d8576b"
             ],
             [
              0.6666666666666666,
              "#ed7953"
             ],
             [
              0.7777777777777778,
              "#fb9f3a"
             ],
             [
              0.8888888888888888,
              "#fdca26"
             ],
             [
              1,
              "#f0f921"
             ]
            ],
            "type": "heatmapgl"
           }
          ],
          "histogram": [
           {
            "marker": {
             "colorbar": {
              "outlinewidth": 0,
              "ticks": ""
             }
            },
            "type": "histogram"
           }
          ],
          "histogram2d": [
           {
            "colorbar": {
             "outlinewidth": 0,
             "ticks": ""
            },
            "colorscale": [
             [
              0,
              "#0d0887"
             ],
             [
              0.1111111111111111,
              "#46039f"
             ],
             [
              0.2222222222222222,
              "#7201a8"
             ],
             [
              0.3333333333333333,
              "#9c179e"
             ],
             [
              0.4444444444444444,
              "#bd3786"
             ],
             [
              0.5555555555555556,
              "#d8576b"
             ],
             [
              0.6666666666666666,
              "#ed7953"
             ],
             [
              0.7777777777777778,
              "#fb9f3a"
             ],
             [
              0.8888888888888888,
              "#fdca26"
             ],
             [
              1,
              "#f0f921"
             ]
            ],
            "type": "histogram2d"
           }
          ],
          "histogram2dcontour": [
           {
            "colorbar": {
             "outlinewidth": 0,
             "ticks": ""
            },
            "colorscale": [
             [
              0,
              "#0d0887"
             ],
             [
              0.1111111111111111,
              "#46039f"
             ],
             [
              0.2222222222222222,
              "#7201a8"
             ],
             [
              0.3333333333333333,
              "#9c179e"
             ],
             [
              0.4444444444444444,
              "#bd3786"
             ],
             [
              0.5555555555555556,
              "#d8576b"
             ],
             [
              0.6666666666666666,
              "#ed7953"
             ],
             [
              0.7777777777777778,
              "#fb9f3a"
             ],
             [
              0.8888888888888888,
              "#fdca26"
             ],
             [
              1,
              "#f0f921"
             ]
            ],
            "type": "histogram2dcontour"
           }
          ],
          "mesh3d": [
           {
            "colorbar": {
             "outlinewidth": 0,
             "ticks": ""
            },
            "type": "mesh3d"
           }
          ],
          "parcoords": [
           {
            "line": {
             "colorbar": {
              "outlinewidth": 0,
              "ticks": ""
             }
            },
            "type": "parcoords"
           }
          ],
          "pie": [
           {
            "automargin": true,
            "type": "pie"
           }
          ],
          "scatter": [
           {
            "marker": {
             "colorbar": {
              "outlinewidth": 0,
              "ticks": ""
             }
            },
            "type": "scatter"
           }
          ],
          "scatter3d": [
           {
            "line": {
             "colorbar": {
              "outlinewidth": 0,
              "ticks": ""
             }
            },
            "marker": {
             "colorbar": {
              "outlinewidth": 0,
              "ticks": ""
             }
            },
            "type": "scatter3d"
           }
          ],
          "scattercarpet": [
           {
            "marker": {
             "colorbar": {
              "outlinewidth": 0,
              "ticks": ""
             }
            },
            "type": "scattercarpet"
           }
          ],
          "scattergeo": [
           {
            "marker": {
             "colorbar": {
              "outlinewidth": 0,
              "ticks": ""
             }
            },
            "type": "scattergeo"
           }
          ],
          "scattergl": [
           {
            "marker": {
             "colorbar": {
              "outlinewidth": 0,
              "ticks": ""
             }
            },
            "type": "scattergl"
           }
          ],
          "scattermapbox": [
           {
            "marker": {
             "colorbar": {
              "outlinewidth": 0,
              "ticks": ""
             }
            },
            "type": "scattermapbox"
           }
          ],
          "scatterpolar": [
           {
            "marker": {
             "colorbar": {
              "outlinewidth": 0,
              "ticks": ""
             }
            },
            "type": "scatterpolar"
           }
          ],
          "scatterpolargl": [
           {
            "marker": {
             "colorbar": {
              "outlinewidth": 0,
              "ticks": ""
             }
            },
            "type": "scatterpolargl"
           }
          ],
          "scatterternary": [
           {
            "marker": {
             "colorbar": {
              "outlinewidth": 0,
              "ticks": ""
             }
            },
            "type": "scatterternary"
           }
          ],
          "surface": [
           {
            "colorbar": {
             "outlinewidth": 0,
             "ticks": ""
            },
            "colorscale": [
             [
              0,
              "#0d0887"
             ],
             [
              0.1111111111111111,
              "#46039f"
             ],
             [
              0.2222222222222222,
              "#7201a8"
             ],
             [
              0.3333333333333333,
              "#9c179e"
             ],
             [
              0.4444444444444444,
              "#bd3786"
             ],
             [
              0.5555555555555556,
              "#d8576b"
             ],
             [
              0.6666666666666666,
              "#ed7953"
             ],
             [
              0.7777777777777778,
              "#fb9f3a"
             ],
             [
              0.8888888888888888,
              "#fdca26"
             ],
             [
              1,
              "#f0f921"
             ]
            ],
            "type": "surface"
           }
          ],
          "table": [
           {
            "cells": {
             "fill": {
              "color": "#EBF0F8"
             },
             "line": {
              "color": "white"
             }
            },
            "header": {
             "fill": {
              "color": "#C8D4E3"
             },
             "line": {
              "color": "white"
             }
            },
            "type": "table"
           }
          ]
         },
         "layout": {
          "annotationdefaults": {
           "arrowcolor": "#2a3f5f",
           "arrowhead": 0,
           "arrowwidth": 1
          },
          "coloraxis": {
           "colorbar": {
            "outlinewidth": 0,
            "ticks": ""
           }
          },
          "colorscale": {
           "diverging": [
            [
             0,
             "#8e0152"
            ],
            [
             0.1,
             "#c51b7d"
            ],
            [
             0.2,
             "#de77ae"
            ],
            [
             0.3,
             "#f1b6da"
            ],
            [
             0.4,
             "#fde0ef"
            ],
            [
             0.5,
             "#f7f7f7"
            ],
            [
             0.6,
             "#e6f5d0"
            ],
            [
             0.7,
             "#b8e186"
            ],
            [
             0.8,
             "#7fbc41"
            ],
            [
             0.9,
             "#4d9221"
            ],
            [
             1,
             "#276419"
            ]
           ],
           "sequential": [
            [
             0,
             "#0d0887"
            ],
            [
             0.1111111111111111,
             "#46039f"
            ],
            [
             0.2222222222222222,
             "#7201a8"
            ],
            [
             0.3333333333333333,
             "#9c179e"
            ],
            [
             0.4444444444444444,
             "#bd3786"
            ],
            [
             0.5555555555555556,
             "#d8576b"
            ],
            [
             0.6666666666666666,
             "#ed7953"
            ],
            [
             0.7777777777777778,
             "#fb9f3a"
            ],
            [
             0.8888888888888888,
             "#fdca26"
            ],
            [
             1,
             "#f0f921"
            ]
           ],
           "sequentialminus": [
            [
             0,
             "#0d0887"
            ],
            [
             0.1111111111111111,
             "#46039f"
            ],
            [
             0.2222222222222222,
             "#7201a8"
            ],
            [
             0.3333333333333333,
             "#9c179e"
            ],
            [
             0.4444444444444444,
             "#bd3786"
            ],
            [
             0.5555555555555556,
             "#d8576b"
            ],
            [
             0.6666666666666666,
             "#ed7953"
            ],
            [
             0.7777777777777778,
             "#fb9f3a"
            ],
            [
             0.8888888888888888,
             "#fdca26"
            ],
            [
             1,
             "#f0f921"
            ]
           ]
          },
          "colorway": [
           "#636efa",
           "#EF553B",
           "#00cc96",
           "#ab63fa",
           "#FFA15A",
           "#19d3f3",
           "#FF6692",
           "#B6E880",
           "#FF97FF",
           "#FECB52"
          ],
          "font": {
           "color": "#2a3f5f"
          },
          "geo": {
           "bgcolor": "white",
           "lakecolor": "white",
           "landcolor": "#E5ECF6",
           "showlakes": true,
           "showland": true,
           "subunitcolor": "white"
          },
          "hoverlabel": {
           "align": "left"
          },
          "hovermode": "closest",
          "mapbox": {
           "style": "light"
          },
          "paper_bgcolor": "white",
          "plot_bgcolor": "#E5ECF6",
          "polar": {
           "angularaxis": {
            "gridcolor": "white",
            "linecolor": "white",
            "ticks": ""
           },
           "bgcolor": "#E5ECF6",
           "radialaxis": {
            "gridcolor": "white",
            "linecolor": "white",
            "ticks": ""
           }
          },
          "scene": {
           "xaxis": {
            "backgroundcolor": "#E5ECF6",
            "gridcolor": "white",
            "gridwidth": 2,
            "linecolor": "white",
            "showbackground": true,
            "ticks": "",
            "zerolinecolor": "white"
           },
           "yaxis": {
            "backgroundcolor": "#E5ECF6",
            "gridcolor": "white",
            "gridwidth": 2,
            "linecolor": "white",
            "showbackground": true,
            "ticks": "",
            "zerolinecolor": "white"
           },
           "zaxis": {
            "backgroundcolor": "#E5ECF6",
            "gridcolor": "white",
            "gridwidth": 2,
            "linecolor": "white",
            "showbackground": true,
            "ticks": "",
            "zerolinecolor": "white"
           }
          },
          "shapedefaults": {
           "line": {
            "color": "#2a3f5f"
           }
          },
          "ternary": {
           "aaxis": {
            "gridcolor": "white",
            "linecolor": "white",
            "ticks": ""
           },
           "baxis": {
            "gridcolor": "white",
            "linecolor": "white",
            "ticks": ""
           },
           "bgcolor": "#E5ECF6",
           "caxis": {
            "gridcolor": "white",
            "linecolor": "white",
            "ticks": ""
           }
          },
          "title": {
           "x": 0.05
          },
          "xaxis": {
           "automargin": true,
           "gridcolor": "white",
           "linecolor": "white",
           "ticks": "",
           "title": {
            "standoff": 15
           },
           "zerolinecolor": "white",
           "zerolinewidth": 2
          },
          "yaxis": {
           "automargin": true,
           "gridcolor": "white",
           "linecolor": "white",
           "ticks": "",
           "title": {
            "standoff": 15
           },
           "zerolinecolor": "white",
           "zerolinewidth": 2
          }
         }
        },
        "title": {
         "font": {
          "color": "#4D5663"
         }
        },
        "xaxis": {
         "gridcolor": "#E1E5ED",
         "showgrid": true,
         "tickfont": {
          "color": "#4D5663"
         },
         "title": {
          "font": {
           "color": "#4D5663"
          },
          "text": ""
         },
         "zerolinecolor": "#E1E5ED"
        },
        "xaxis2": {
         "anchor": "y2",
         "gridcolor": "#E1E5ED",
         "showgrid": true,
         "showticklabels": false,
         "tickfont": {
          "color": "#4D5663"
         },
         "title": {
          "font": {
           "color": "#4D5663"
          },
          "text": ""
         },
         "zerolinecolor": "#E1E5ED"
        },
        "yaxis": {
         "domain": [
          0.3,
          1
         ],
         "gridcolor": "#E1E5ED",
         "showgrid": true,
         "tickfont": {
          "color": "#4D5663"
         },
         "title": {
          "font": {
           "color": "#4D5663"
          },
          "text": ""
         },
         "zerolinecolor": "#E1E5ED"
        },
        "yaxis2": {
         "domain": [
          0,
          0.25
         ],
         "gridcolor": "#E1E5ED",
         "showgrid": true,
         "tickfont": {
          "color": "#4D5663"
         },
         "title": {
          "font": {
           "color": "#4D5663"
          },
          "text": "Spread"
         },
         "zerolinecolor": "#E1E5ED"
        }
       }
      },
      "text/html": [
       "<div>\n",
       "        \n",
       "        \n",
       "            <div id=\"cc48f576-d232-4b48-bc00-e3dc47380364\" class=\"plotly-graph-div\" style=\"height:525px; width:100%;\"></div>\n",
       "            <script type=\"text/javascript\">\n",
       "                require([\"plotly\"], function(Plotly) {\n",
       "                    window.PLOTLYENV=window.PLOTLYENV || {};\n",
       "                    window.PLOTLYENV.BASE_URL='https://plot.ly';\n",
       "                    \n",
       "                if (document.getElementById(\"cc48f576-d232-4b48-bc00-e3dc47380364\")) {\n",
       "                    Plotly.newPlot(\n",
       "                        'cc48f576-d232-4b48-bc00-e3dc47380364',\n",
       "                        [{\"line\": {\"color\": \"rgba(255, 153, 51, 1.0)\", \"dash\": \"solid\", \"shape\": \"linear\", \"width\": 1.3}, \"mode\": \"lines\", \"name\": \"A\", \"text\": \"\", \"type\": \"scatter\", \"x\": [0, 1, 2, 3, 4, 5, 6, 7, 8, 9, 10, 11, 12, 13, 14, 15, 16, 17, 18, 19, 20, 21, 22, 23, 24, 25, 26, 27, 28, 29, 30, 31, 32, 33, 34, 35, 36, 37, 38, 39, 40, 41, 42, 43, 44, 45, 46, 47, 48, 49, 50, 51, 52, 53, 54, 55, 56, 57, 58, 59, 60, 61, 62, 63, 64, 65, 66, 67, 68, 69, 70, 71, 72, 73, 74, 75, 76, 77, 78, 79, 80, 81, 82, 83, 84, 85, 86, 87, 88, 89, 90, 91, 92, 93, 94, 95, 96, 97, 98, 99], \"y\": [1.1632319313482395, 0.4006995105216627, -0.2956762478256533, -0.05169719393589064, 0.00910757636508114, -0.6955839592405, -0.35909775057049803, -1.5625500495348743, 0.280382662704461, 0.6900988105151796, -2.7574912836742946, -0.07968419822034653, 1.8332128879861818, 1.4295281994653302, 0.1252613779335597, -0.49769928744988495, -0.856393091788203, 1.4352774817096858, -1.2664402308234686, 0.7890502900382642, -1.46167053131466, 0.8150472653619777, -1.17240523883422, -0.6705469117318189, -1.4341028074133875, -0.014599945431750708, 0.7435879685265763, -2.848647374794672, 0.49161354740033353, -0.45050436439059577, 0.28881432704739796, 0.33186383855201784, -0.047088381439171614, -0.9993636850678648, 1.1206599697688173, 1.1930326248835383, -1.1034554747230993, -0.5547348406545668, 0.13945607788763917, 1.301419479862865, -1.2400560909431215, 0.6203031047198649, 0.9380629637173821, -0.14400944082924053, -0.9240931840045439, -0.8282183540851877, -0.11961424790363061, -0.49999029669468653, 0.9819908608077234, -0.11606300782428085, 0.45764184722157275, 0.49346586682197907, -0.5433622602059989, -1.7900480082481471, 0.32044197002586217, -0.633058819620911, 0.035453392741268346, 0.28800897468143366, 0.1270836766417439, 1.1391905804798264, -0.058971810983125275, 1.5960984036066292, 0.043035034307208495, -0.8023299927990649, 0.9613524445273515, -0.39736206448423356, 0.2792623071725112, -0.36223179862154803, 1.0386103659394246, 0.768251393580555, -0.03247482932037407, -0.2833971496851408, -2.3264113817674885, 0.3601066380079715, -0.8975379312800085, 0.07627611530830201, 0.36155396903651077, -0.17833430581015805, -0.6767697508725241, 1.535979797909297, -0.4419843916432813, -0.7094090819406609, 0.647624136408352, -0.056939817949727634, -2.0938503562353876, 1.1522289116879099, 0.43945695783916466, 1.0199457327509938, 0.8259047129688619, -0.43717286489986557, -1.8874859655183183, 0.6348946192877947, -1.7859523956955943, 0.13333163954187455, -0.6353918987424078, -1.0049116048271711, -0.24942294813512036, 0.7019758240727191, 0.6036035864612834, 0.6023724883064032]}, {\"line\": {\"color\": \"rgba(55, 128, 191, 1.0)\", \"dash\": \"solid\", \"shape\": \"linear\", \"width\": 1.3}, \"mode\": \"lines\", \"name\": \"B\", \"text\": \"\", \"type\": \"scatter\", \"x\": [0, 1, 2, 3, 4, 5, 6, 7, 8, 9, 10, 11, 12, 13, 14, 15, 16, 17, 18, 19, 20, 21, 22, 23, 24, 25, 26, 27, 28, 29, 30, 31, 32, 33, 34, 35, 36, 37, 38, 39, 40, 41, 42, 43, 44, 45, 46, 47, 48, 49, 50, 51, 52, 53, 54, 55, 56, 57, 58, 59, 60, 61, 62, 63, 64, 65, 66, 67, 68, 69, 70, 71, 72, 73, 74, 75, 76, 77, 78, 79, 80, 81, 82, 83, 84, 85, 86, 87, 88, 89, 90, 91, 92, 93, 94, 95, 96, 97, 98, 99], \"y\": [0.7557944147735085, 0.08420801170730241, 1.125224851480296, 0.38065475151755207, 0.5396274205240575, 0.5683289602573715, -0.2608769685151894, -0.40282805854406645, 1.0323173036744528, 0.028417798834812127, -0.517174679146552, -1.920275899765896, -1.12992664746321, 1.520453453577847, -0.6616003988885832, -2.2026206161735447, -0.11666027539963252, -2.2155337084780067, 0.6367684799711685, -0.1764979359195468, 1.3819423305761236, -0.008262148112657144, 0.9782295514038942, 1.99322695455303, -0.2550056163421702, 1.1983104645087241, -1.1767282090517108, 0.1866687098243254, -0.7443221314287102, -1.3368881098115208, 0.8979161027537494, -0.6450371339227668, 0.4674685984970453, 1.0387929502296873, 1.1420262987889602, 0.33989156511313695, 0.28218207921226246, 0.7108031867533554, -0.19824614238408128, -0.9382975161738351, -0.30006528143077743, -0.02711395816594447, 0.08773127271283397, 1.1131128380108828, -1.5372209506583512, -1.2495788629223747, -0.5628672105320381, 1.0253904572821646, 0.12695003780597983, -0.6225220306494884, 1.0034377291300447, -0.017920924540992887, 0.7051442293937872, 0.9768952039821863, 0.1714519825542668, -0.4738481699106438, 1.228276732941743, -0.004907755627084942, 1.1020113226868538, -1.537743962725332, 2.3098300590918144, 0.8495190634194937, -1.8418600829624527, -0.5964836394497389, 0.6388598070914784, 0.3557569827543802, -0.7658323525724573, 0.015269993899470594, -1.3551368944021027, 0.4828390365168581, -0.9696325544797003, -0.39790738293710254, 0.4011413136842935, -0.678147361211587, -0.5881407468585984, 0.7315029154129858, 1.0551627255471088, 1.3012639291825332, 1.752203520894791, -0.7549413493846202, -1.2856592275485377, 0.772007266640758, -1.0868301893872796, -0.6748215539231817, -1.062831300971065, 0.46462908811188613, -1.2584291900875348, -0.457270169220814, 0.2627928071210074, -1.724573428359919, 1.5939081634088021, 0.5658581330993231, -0.7086495830979483, 0.8100065851099465, -0.3883548594234347, -0.9402175365492719, -0.14248605623081273, 1.336233786743859, 0.030824605229955466, 0.42536427696008167]}, {\"connectgaps\": false, \"fill\": \"tozeroy\", \"line\": {\"color\": \"green\", \"dash\": \"solid\", \"shape\": \"linear\", \"width\": 0.5}, \"mode\": \"lines\", \"name\": \"Spread\", \"showlegend\": false, \"type\": \"scatter\", \"x\": [0, 1, 2, 3, 4, 5, 6, 7, 8, 9, 10, 11, 12, 13, 14, 15, 16, 17, 18, 19, 20, 21, 22, 23, 24, 25, 26, 27, 28, 29, 30, 31, 32, 33, 34, 35, 36, 37, 38, 39, 40, 41, 42, 43, 44, 45, 46, 47, 48, 49, 50, 51, 52, 53, 54, 55, 56, 57, 58, 59, 60, 61, 62, 63, 64, 65, 66, 67, 68, 69, 70, 71, 72, 73, 74, 75, 76, 77, 78, 79, 80, 81, 82, 83, 84, 85, 86, 87, 88, 89, 90, 91, 92, 93, 94, 95, 96, 97, 98, 99], \"xaxis\": \"x2\", \"y\": [0.40743751657473104, 0.3164914988143603, \"\", \"\", \"\", \"\", \"\", \"\", \"\", 0.6616810116803675, \"\", 1.8405917015455495, 2.9631395354493915, \"\", 0.786861776822143, 1.7049213287236598, \"\", 3.6508111901876923, \"\", 0.965548225957811, \"\", 0.8233094134746348, \"\", \"\", \"\", \"\", 1.920316177578287, \"\", 1.2359356788290436, 0.8863837454209251, \"\", 0.9769009724747847, \"\", \"\", \"\", 0.8531410597704014, \"\", \"\", 0.3377022202717205, 2.2397169960367003, \"\", 0.6474170628858094, 0.8503316910045481, \"\", 0.6131277666538073, 0.421360508837187, 0.4432529626284075, \"\", 0.8550408230017436, 0.5064590228252076, \"\", 0.5113867913629719, \"\", \"\", 0.14898998747159536, \"\", \"\", 0.2929167303085186, \"\", 2.6769345432051583, \"\", 0.7465793401871356, 1.8848951172696613, \"\", 0.3224926374358731, \"\", 1.0450946597449686, \"\", 2.3937472603415273, 0.28541235706369694, 0.9371577251593263, 0.11451023325196175, \"\", 1.0382539992195585, \"\", \"\", \"\", \"\", \"\", 2.2909211472939175, 0.8436748359052564, \"\", 1.7344543257956317, 0.6178817359734541, \"\", 0.6875998235760237, 1.6978861479266996, 1.4772159019718076, 0.5631119058478545, 1.2874005634600534, \"\", 0.06903648618847158, \"\", \"\", \"\", \"\", \"\", \"\", 0.572778981231328, 0.17700821134632155], \"yaxis\": \"y2\"}, {\"connectgaps\": false, \"fill\": \"tozeroy\", \"line\": {\"color\": \"red\", \"dash\": \"solid\", \"shape\": \"linear\", \"width\": 0.5}, \"mode\": \"lines\", \"name\": \"Spread\", \"showlegend\": false, \"type\": \"scatter\", \"x\": [0, 1, 2, 3, 4, 5, 6, 7, 8, 9, 10, 11, 12, 13, 14, 15, 16, 17, 18, 19, 20, 21, 22, 23, 24, 25, 26, 27, 28, 29, 30, 31, 32, 33, 34, 35, 36, 37, 38, 39, 40, 41, 42, 43, 44, 45, 46, 47, 48, 49, 50, 51, 52, 53, 54, 55, 56, 57, 58, 59, 60, 61, 62, 63, 64, 65, 66, 67, 68, 69, 70, 71, 72, 73, 74, 75, 76, 77, 78, 79, 80, 81, 82, 83, 84, 85, 86, 87, 88, 89, 90, 91, 92, 93, 94, 95, 96, 97, 98, 99], \"xaxis\": \"x2\", \"y\": [\"\", \"\", -1.4209010993059494, -0.4323519454534427, -0.5305198441589764, -1.2639129194978715, -0.09822078205530865, -1.1597219909908079, -0.7519346409699919, \"\", -2.2403166045277425, \"\", \"\", -0.09092525411251673, \"\", \"\", -0.7397328163885705, \"\", -1.9032087107946372, \"\", -2.843612861890784, \"\", -2.150634790238114, -2.6637738662848487, -1.1790971910712171, -1.2129104099404748, \"\", -3.0353160846189975, \"\", \"\", -0.6091017757063515, \"\", -0.514556979936217, -2.038156635297552, -0.021366329020142905, \"\", -1.3856375539353618, -1.2655380274079222, \"\", \"\", -0.9399908095123441, \"\", \"\", -1.2571222788401233, \"\", \"\", \"\", -1.5253807539768511, \"\", \"\", -0.545795881908472, \"\", -1.248506489599786, -2.7669432122303332, \"\", -0.15921064971026722, -1.1928233402004746, \"\", -0.9749276460451098, \"\", -2.3688018700749396, \"\", \"\", -0.205846353349326, \"\", -0.7531190472386138, \"\", -0.3775017925210186, \"\", \"\", \"\", \"\", -2.727552695451782, \"\", -0.30939718442141007, -0.6552268001046838, -0.693608756510598, -1.4795982349926913, -2.4289732717673154, \"\", \"\", -1.481416348581419, \"\", \"\", -1.0310190552643226, \"\", \"\", \"\", \"\", \"\", -3.4813941289271204, \"\", -1.077302812597646, -0.676674945568072, -0.24703703931897308, -0.06469406827789925, -0.10693689190430763, -0.6342579626711399, \"\", \"\"], \"yaxis\": \"y2\"}],\n",
       "                        {\"hovermode\": \"x\", \"legend\": {\"bgcolor\": \"#F5F6F9\", \"font\": {\"color\": \"#4D5663\"}}, \"paper_bgcolor\": \"#F5F6F9\", \"plot_bgcolor\": \"#F5F6F9\", \"template\": {\"data\": {\"bar\": [{\"error_x\": {\"color\": \"#2a3f5f\"}, \"error_y\": {\"color\": \"#2a3f5f\"}, \"marker\": {\"line\": {\"color\": \"#E5ECF6\", \"width\": 0.5}}, \"type\": \"bar\"}], \"barpolar\": [{\"marker\": {\"line\": {\"color\": \"#E5ECF6\", \"width\": 0.5}}, \"type\": \"barpolar\"}], \"carpet\": [{\"aaxis\": {\"endlinecolor\": \"#2a3f5f\", \"gridcolor\": \"white\", \"linecolor\": \"white\", \"minorgridcolor\": \"white\", \"startlinecolor\": \"#2a3f5f\"}, \"baxis\": {\"endlinecolor\": \"#2a3f5f\", \"gridcolor\": \"white\", \"linecolor\": \"white\", \"minorgridcolor\": \"white\", \"startlinecolor\": \"#2a3f5f\"}, \"type\": \"carpet\"}], \"choropleth\": [{\"colorbar\": {\"outlinewidth\": 0, \"ticks\": \"\"}, \"type\": \"choropleth\"}], \"contour\": [{\"colorbar\": {\"outlinewidth\": 0, \"ticks\": \"\"}, \"colorscale\": [[0.0, \"#0d0887\"], [0.1111111111111111, \"#46039f\"], [0.2222222222222222, \"#7201a8\"], [0.3333333333333333, \"#9c179e\"], [0.4444444444444444, \"#bd3786\"], [0.5555555555555556, \"#d8576b\"], [0.6666666666666666, \"#ed7953\"], [0.7777777777777778, \"#fb9f3a\"], [0.8888888888888888, \"#fdca26\"], [1.0, \"#f0f921\"]], \"type\": \"contour\"}], \"contourcarpet\": [{\"colorbar\": {\"outlinewidth\": 0, \"ticks\": \"\"}, \"type\": \"contourcarpet\"}], \"heatmap\": [{\"colorbar\": {\"outlinewidth\": 0, \"ticks\": \"\"}, \"colorscale\": [[0.0, \"#0d0887\"], [0.1111111111111111, \"#46039f\"], [0.2222222222222222, \"#7201a8\"], [0.3333333333333333, \"#9c179e\"], [0.4444444444444444, \"#bd3786\"], [0.5555555555555556, \"#d8576b\"], [0.6666666666666666, \"#ed7953\"], [0.7777777777777778, \"#fb9f3a\"], [0.8888888888888888, \"#fdca26\"], [1.0, \"#f0f921\"]], \"type\": \"heatmap\"}], \"heatmapgl\": [{\"colorbar\": {\"outlinewidth\": 0, \"ticks\": \"\"}, \"colorscale\": [[0.0, \"#0d0887\"], [0.1111111111111111, \"#46039f\"], [0.2222222222222222, \"#7201a8\"], [0.3333333333333333, \"#9c179e\"], [0.4444444444444444, \"#bd3786\"], [0.5555555555555556, \"#d8576b\"], [0.6666666666666666, \"#ed7953\"], [0.7777777777777778, \"#fb9f3a\"], [0.8888888888888888, \"#fdca26\"], [1.0, \"#f0f921\"]], \"type\": \"heatmapgl\"}], \"histogram\": [{\"marker\": {\"colorbar\": {\"outlinewidth\": 0, \"ticks\": \"\"}}, \"type\": \"histogram\"}], \"histogram2d\": [{\"colorbar\": {\"outlinewidth\": 0, \"ticks\": \"\"}, \"colorscale\": [[0.0, \"#0d0887\"], [0.1111111111111111, \"#46039f\"], [0.2222222222222222, \"#7201a8\"], [0.3333333333333333, \"#9c179e\"], [0.4444444444444444, \"#bd3786\"], [0.5555555555555556, \"#d8576b\"], [0.6666666666666666, \"#ed7953\"], [0.7777777777777778, \"#fb9f3a\"], [0.8888888888888888, \"#fdca26\"], [1.0, \"#f0f921\"]], \"type\": \"histogram2d\"}], \"histogram2dcontour\": [{\"colorbar\": {\"outlinewidth\": 0, \"ticks\": \"\"}, \"colorscale\": [[0.0, \"#0d0887\"], [0.1111111111111111, \"#46039f\"], [0.2222222222222222, \"#7201a8\"], [0.3333333333333333, \"#9c179e\"], [0.4444444444444444, \"#bd3786\"], [0.5555555555555556, \"#d8576b\"], [0.6666666666666666, \"#ed7953\"], [0.7777777777777778, \"#fb9f3a\"], [0.8888888888888888, \"#fdca26\"], [1.0, \"#f0f921\"]], \"type\": \"histogram2dcontour\"}], \"mesh3d\": [{\"colorbar\": {\"outlinewidth\": 0, \"ticks\": \"\"}, \"type\": \"mesh3d\"}], \"parcoords\": [{\"line\": {\"colorbar\": {\"outlinewidth\": 0, \"ticks\": \"\"}}, \"type\": \"parcoords\"}], \"pie\": [{\"automargin\": true, \"type\": \"pie\"}], \"scatter\": [{\"marker\": {\"colorbar\": {\"outlinewidth\": 0, \"ticks\": \"\"}}, \"type\": \"scatter\"}], \"scatter3d\": [{\"line\": {\"colorbar\": {\"outlinewidth\": 0, \"ticks\": \"\"}}, \"marker\": {\"colorbar\": {\"outlinewidth\": 0, \"ticks\": \"\"}}, \"type\": \"scatter3d\"}], \"scattercarpet\": [{\"marker\": {\"colorbar\": {\"outlinewidth\": 0, \"ticks\": \"\"}}, \"type\": \"scattercarpet\"}], \"scattergeo\": [{\"marker\": {\"colorbar\": {\"outlinewidth\": 0, \"ticks\": \"\"}}, \"type\": \"scattergeo\"}], \"scattergl\": [{\"marker\": {\"colorbar\": {\"outlinewidth\": 0, \"ticks\": \"\"}}, \"type\": \"scattergl\"}], \"scattermapbox\": [{\"marker\": {\"colorbar\": {\"outlinewidth\": 0, \"ticks\": \"\"}}, \"type\": \"scattermapbox\"}], \"scatterpolar\": [{\"marker\": {\"colorbar\": {\"outlinewidth\": 0, \"ticks\": \"\"}}, \"type\": \"scatterpolar\"}], \"scatterpolargl\": [{\"marker\": {\"colorbar\": {\"outlinewidth\": 0, \"ticks\": \"\"}}, \"type\": \"scatterpolargl\"}], \"scatterternary\": [{\"marker\": {\"colorbar\": {\"outlinewidth\": 0, \"ticks\": \"\"}}, \"type\": \"scatterternary\"}], \"surface\": [{\"colorbar\": {\"outlinewidth\": 0, \"ticks\": \"\"}, \"colorscale\": [[0.0, \"#0d0887\"], [0.1111111111111111, \"#46039f\"], [0.2222222222222222, \"#7201a8\"], [0.3333333333333333, \"#9c179e\"], [0.4444444444444444, \"#bd3786\"], [0.5555555555555556, \"#d8576b\"], [0.6666666666666666, \"#ed7953\"], [0.7777777777777778, \"#fb9f3a\"], [0.8888888888888888, \"#fdca26\"], [1.0, \"#f0f921\"]], \"type\": \"surface\"}], \"table\": [{\"cells\": {\"fill\": {\"color\": \"#EBF0F8\"}, \"line\": {\"color\": \"white\"}}, \"header\": {\"fill\": {\"color\": \"#C8D4E3\"}, \"line\": {\"color\": \"white\"}}, \"type\": \"table\"}]}, \"layout\": {\"annotationdefaults\": {\"arrowcolor\": \"#2a3f5f\", \"arrowhead\": 0, \"arrowwidth\": 1}, \"coloraxis\": {\"colorbar\": {\"outlinewidth\": 0, \"ticks\": \"\"}}, \"colorscale\": {\"diverging\": [[0, \"#8e0152\"], [0.1, \"#c51b7d\"], [0.2, \"#de77ae\"], [0.3, \"#f1b6da\"], [0.4, \"#fde0ef\"], [0.5, \"#f7f7f7\"], [0.6, \"#e6f5d0\"], [0.7, \"#b8e186\"], [0.8, \"#7fbc41\"], [0.9, \"#4d9221\"], [1, \"#276419\"]], \"sequential\": [[0.0, \"#0d0887\"], [0.1111111111111111, \"#46039f\"], [0.2222222222222222, \"#7201a8\"], [0.3333333333333333, \"#9c179e\"], [0.4444444444444444, \"#bd3786\"], [0.5555555555555556, \"#d8576b\"], [0.6666666666666666, \"#ed7953\"], [0.7777777777777778, \"#fb9f3a\"], [0.8888888888888888, \"#fdca26\"], [1.0, \"#f0f921\"]], \"sequentialminus\": [[0.0, \"#0d0887\"], [0.1111111111111111, \"#46039f\"], [0.2222222222222222, \"#7201a8\"], [0.3333333333333333, \"#9c179e\"], [0.4444444444444444, \"#bd3786\"], [0.5555555555555556, \"#d8576b\"], [0.6666666666666666, \"#ed7953\"], [0.7777777777777778, \"#fb9f3a\"], [0.8888888888888888, \"#fdca26\"], [1.0, \"#f0f921\"]]}, \"colorway\": [\"#636efa\", \"#EF553B\", \"#00cc96\", \"#ab63fa\", \"#FFA15A\", \"#19d3f3\", \"#FF6692\", \"#B6E880\", \"#FF97FF\", \"#FECB52\"], \"font\": {\"color\": \"#2a3f5f\"}, \"geo\": {\"bgcolor\": \"white\", \"lakecolor\": \"white\", \"landcolor\": \"#E5ECF6\", \"showlakes\": true, \"showland\": true, \"subunitcolor\": \"white\"}, \"hoverlabel\": {\"align\": \"left\"}, \"hovermode\": \"closest\", \"mapbox\": {\"style\": \"light\"}, \"paper_bgcolor\": \"white\", \"plot_bgcolor\": \"#E5ECF6\", \"polar\": {\"angularaxis\": {\"gridcolor\": \"white\", \"linecolor\": \"white\", \"ticks\": \"\"}, \"bgcolor\": \"#E5ECF6\", \"radialaxis\": {\"gridcolor\": \"white\", \"linecolor\": \"white\", \"ticks\": \"\"}}, \"scene\": {\"xaxis\": {\"backgroundcolor\": \"#E5ECF6\", \"gridcolor\": \"white\", \"gridwidth\": 2, \"linecolor\": \"white\", \"showbackground\": true, \"ticks\": \"\", \"zerolinecolor\": \"white\"}, \"yaxis\": {\"backgroundcolor\": \"#E5ECF6\", \"gridcolor\": \"white\", \"gridwidth\": 2, \"linecolor\": \"white\", \"showbackground\": true, \"ticks\": \"\", \"zerolinecolor\": \"white\"}, \"zaxis\": {\"backgroundcolor\": \"#E5ECF6\", \"gridcolor\": \"white\", \"gridwidth\": 2, \"linecolor\": \"white\", \"showbackground\": true, \"ticks\": \"\", \"zerolinecolor\": \"white\"}}, \"shapedefaults\": {\"line\": {\"color\": \"#2a3f5f\"}}, \"ternary\": {\"aaxis\": {\"gridcolor\": \"white\", \"linecolor\": \"white\", \"ticks\": \"\"}, \"baxis\": {\"gridcolor\": \"white\", \"linecolor\": \"white\", \"ticks\": \"\"}, \"bgcolor\": \"#E5ECF6\", \"caxis\": {\"gridcolor\": \"white\", \"linecolor\": \"white\", \"ticks\": \"\"}}, \"title\": {\"x\": 0.05}, \"xaxis\": {\"automargin\": true, \"gridcolor\": \"white\", \"linecolor\": \"white\", \"ticks\": \"\", \"title\": {\"standoff\": 15}, \"zerolinecolor\": \"white\", \"zerolinewidth\": 2}, \"yaxis\": {\"automargin\": true, \"gridcolor\": \"white\", \"linecolor\": \"white\", \"ticks\": \"\", \"title\": {\"standoff\": 15}, \"zerolinecolor\": \"white\", \"zerolinewidth\": 2}}}, \"title\": {\"font\": {\"color\": \"#4D5663\"}}, \"xaxis\": {\"gridcolor\": \"#E1E5ED\", \"showgrid\": true, \"tickfont\": {\"color\": \"#4D5663\"}, \"title\": {\"font\": {\"color\": \"#4D5663\"}, \"text\": \"\"}, \"zerolinecolor\": \"#E1E5ED\"}, \"xaxis2\": {\"anchor\": \"y2\", \"gridcolor\": \"#E1E5ED\", \"showgrid\": true, \"showticklabels\": false, \"tickfont\": {\"color\": \"#4D5663\"}, \"title\": {\"font\": {\"color\": \"#4D5663\"}, \"text\": \"\"}, \"zerolinecolor\": \"#E1E5ED\"}, \"yaxis\": {\"domain\": [0.3, 1], \"gridcolor\": \"#E1E5ED\", \"showgrid\": true, \"tickfont\": {\"color\": \"#4D5663\"}, \"title\": {\"font\": {\"color\": \"#4D5663\"}, \"text\": \"\"}, \"zerolinecolor\": \"#E1E5ED\"}, \"yaxis2\": {\"domain\": [0, 0.25], \"gridcolor\": \"#E1E5ED\", \"showgrid\": true, \"tickfont\": {\"color\": \"#4D5663\"}, \"title\": {\"font\": {\"color\": \"#4D5663\"}, \"text\": \"Spread\"}, \"zerolinecolor\": \"#E1E5ED\"}},\n",
       "                        {\"showLink\": true, \"linkText\": \"Export to plot.ly\", \"plotlyServerURL\": \"https://plot.ly\", \"responsive\": true}\n",
       "                    ).then(function(){\n",
       "                            \n",
       "var gd = document.getElementById('cc48f576-d232-4b48-bc00-e3dc47380364');\n",
       "var x = new MutationObserver(function (mutations, observer) {{\n",
       "        var display = window.getComputedStyle(gd).display;\n",
       "        if (!display || display === 'none') {{\n",
       "            console.log([gd, 'removed!']);\n",
       "            Plotly.purge(gd);\n",
       "            observer.disconnect();\n",
       "        }}\n",
       "}});\n",
       "\n",
       "// Listen for the removal of the full notebook cells\n",
       "var notebookContainer = gd.closest('#notebook-container');\n",
       "if (notebookContainer) {{\n",
       "    x.observe(notebookContainer, {childList: true});\n",
       "}}\n",
       "\n",
       "// Listen for the clearing of the current output cell\n",
       "var outputEl = gd.closest('.output');\n",
       "if (outputEl) {{\n",
       "    x.observe(outputEl, {childList: true});\n",
       "}}\n",
       "\n",
       "                        })\n",
       "                };\n",
       "                });\n",
       "            </script>\n",
       "        </div>"
      ]
     },
     "metadata": {},
     "output_type": "display_data"
    }
   ],
   "source": [
    "df[['A','B']].iplot(kind='spread')"
   ]
  },
  {
   "cell_type": "markdown",
   "metadata": {},
   "source": [
    "## histogram"
   ]
  },
  {
   "cell_type": "code",
   "execution_count": 20,
   "metadata": {},
   "outputs": [
    {
     "data": {
      "application/vnd.plotly.v1+json": {
       "config": {
        "linkText": "Export to plot.ly",
        "plotlyServerURL": "https://plot.ly",
        "showLink": true
       },
       "data": [
        {
         "histfunc": "count",
         "histnorm": "",
         "marker": {
          "color": "rgba(255, 153, 51, 1.0)",
          "line": {
           "color": "#4D5663",
           "width": 1.3
          }
         },
         "name": "A",
         "nbinsx": 25,
         "opacity": 0.8,
         "orientation": "v",
         "type": "histogram",
         "x": [
          1.1632319313482395,
          0.4006995105216627,
          -0.2956762478256533,
          -0.05169719393589064,
          0.00910757636508114,
          -0.6955839592405,
          -0.35909775057049803,
          -1.5625500495348743,
          0.280382662704461,
          0.6900988105151796,
          -2.7574912836742946,
          -0.07968419822034653,
          1.8332128879861818,
          1.4295281994653302,
          0.1252613779335597,
          -0.49769928744988495,
          -0.856393091788203,
          1.4352774817096858,
          -1.2664402308234686,
          0.7890502900382642,
          -1.46167053131466,
          0.8150472653619777,
          -1.17240523883422,
          -0.6705469117318189,
          -1.4341028074133875,
          -0.014599945431750708,
          0.7435879685265763,
          -2.848647374794672,
          0.49161354740033353,
          -0.45050436439059577,
          0.28881432704739796,
          0.33186383855201784,
          -0.047088381439171614,
          -0.9993636850678648,
          1.1206599697688173,
          1.1930326248835383,
          -1.1034554747230993,
          -0.5547348406545668,
          0.13945607788763917,
          1.301419479862865,
          -1.2400560909431215,
          0.6203031047198649,
          0.9380629637173821,
          -0.14400944082924053,
          -0.9240931840045439,
          -0.8282183540851877,
          -0.11961424790363061,
          -0.49999029669468653,
          0.9819908608077234,
          -0.11606300782428085,
          0.45764184722157275,
          0.49346586682197907,
          -0.5433622602059989,
          -1.7900480082481471,
          0.32044197002586217,
          -0.633058819620911,
          0.035453392741268346,
          0.28800897468143366,
          0.1270836766417439,
          1.1391905804798264,
          -0.058971810983125275,
          1.5960984036066292,
          0.043035034307208495,
          -0.8023299927990649,
          0.9613524445273515,
          -0.39736206448423356,
          0.2792623071725112,
          -0.36223179862154803,
          1.0386103659394246,
          0.768251393580555,
          -0.03247482932037407,
          -0.2833971496851408,
          -2.3264113817674885,
          0.3601066380079715,
          -0.8975379312800085,
          0.07627611530830201,
          0.36155396903651077,
          -0.17833430581015805,
          -0.6767697508725241,
          1.535979797909297,
          -0.4419843916432813,
          -0.7094090819406609,
          0.647624136408352,
          -0.056939817949727634,
          -2.0938503562353876,
          1.1522289116879099,
          0.43945695783916466,
          1.0199457327509938,
          0.8259047129688619,
          -0.43717286489986557,
          -1.8874859655183183,
          0.6348946192877947,
          -1.7859523956955943,
          0.13333163954187455,
          -0.6353918987424078,
          -1.0049116048271711,
          -0.24942294813512036,
          0.7019758240727191,
          0.6036035864612834,
          0.6023724883064032
         ]
        }
       ],
       "layout": {
        "barmode": "overlay",
        "legend": {
         "bgcolor": "#F5F6F9",
         "font": {
          "color": "#4D5663"
         }
        },
        "paper_bgcolor": "#F5F6F9",
        "plot_bgcolor": "#F5F6F9",
        "template": {
         "data": {
          "bar": [
           {
            "error_x": {
             "color": "#2a3f5f"
            },
            "error_y": {
             "color": "#2a3f5f"
            },
            "marker": {
             "line": {
              "color": "#E5ECF6",
              "width": 0.5
             }
            },
            "type": "bar"
           }
          ],
          "barpolar": [
           {
            "marker": {
             "line": {
              "color": "#E5ECF6",
              "width": 0.5
             }
            },
            "type": "barpolar"
           }
          ],
          "carpet": [
           {
            "aaxis": {
             "endlinecolor": "#2a3f5f",
             "gridcolor": "white",
             "linecolor": "white",
             "minorgridcolor": "white",
             "startlinecolor": "#2a3f5f"
            },
            "baxis": {
             "endlinecolor": "#2a3f5f",
             "gridcolor": "white",
             "linecolor": "white",
             "minorgridcolor": "white",
             "startlinecolor": "#2a3f5f"
            },
            "type": "carpet"
           }
          ],
          "choropleth": [
           {
            "colorbar": {
             "outlinewidth": 0,
             "ticks": ""
            },
            "type": "choropleth"
           }
          ],
          "contour": [
           {
            "colorbar": {
             "outlinewidth": 0,
             "ticks": ""
            },
            "colorscale": [
             [
              0,
              "#0d0887"
             ],
             [
              0.1111111111111111,
              "#46039f"
             ],
             [
              0.2222222222222222,
              "#7201a8"
             ],
             [
              0.3333333333333333,
              "#9c179e"
             ],
             [
              0.4444444444444444,
              "#bd3786"
             ],
             [
              0.5555555555555556,
              "#d8576b"
             ],
             [
              0.6666666666666666,
              "#ed7953"
             ],
             [
              0.7777777777777778,
              "#fb9f3a"
             ],
             [
              0.8888888888888888,
              "#fdca26"
             ],
             [
              1,
              "#f0f921"
             ]
            ],
            "type": "contour"
           }
          ],
          "contourcarpet": [
           {
            "colorbar": {
             "outlinewidth": 0,
             "ticks": ""
            },
            "type": "contourcarpet"
           }
          ],
          "heatmap": [
           {
            "colorbar": {
             "outlinewidth": 0,
             "ticks": ""
            },
            "colorscale": [
             [
              0,
              "#0d0887"
             ],
             [
              0.1111111111111111,
              "#46039f"
             ],
             [
              0.2222222222222222,
              "#7201a8"
             ],
             [
              0.3333333333333333,
              "#9c179e"
             ],
             [
              0.4444444444444444,
              "#bd3786"
             ],
             [
              0.5555555555555556,
              "#d8576b"
             ],
             [
              0.6666666666666666,
              "#ed7953"
             ],
             [
              0.7777777777777778,
              "#fb9f3a"
             ],
             [
              0.8888888888888888,
              "#fdca26"
             ],
             [
              1,
              "#f0f921"
             ]
            ],
            "type": "heatmap"
           }
          ],
          "heatmapgl": [
           {
            "colorbar": {
             "outlinewidth": 0,
             "ticks": ""
            },
            "colorscale": [
             [
              0,
              "#0d0887"
             ],
             [
              0.1111111111111111,
              "#46039f"
             ],
             [
              0.2222222222222222,
              "#7201a8"
             ],
             [
              0.3333333333333333,
              "#9c179e"
             ],
             [
              0.4444444444444444,
              "#bd3786"
             ],
             [
              0.5555555555555556,
              "#d8576b"
             ],
             [
              0.6666666666666666,
              "#ed7953"
             ],
             [
              0.7777777777777778,
              "#fb9f3a"
             ],
             [
              0.8888888888888888,
              "#fdca26"
             ],
             [
              1,
              "#f0f921"
             ]
            ],
            "type": "heatmapgl"
           }
          ],
          "histogram": [
           {
            "marker": {
             "colorbar": {
              "outlinewidth": 0,
              "ticks": ""
             }
            },
            "type": "histogram"
           }
          ],
          "histogram2d": [
           {
            "colorbar": {
             "outlinewidth": 0,
             "ticks": ""
            },
            "colorscale": [
             [
              0,
              "#0d0887"
             ],
             [
              0.1111111111111111,
              "#46039f"
             ],
             [
              0.2222222222222222,
              "#7201a8"
             ],
             [
              0.3333333333333333,
              "#9c179e"
             ],
             [
              0.4444444444444444,
              "#bd3786"
             ],
             [
              0.5555555555555556,
              "#d8576b"
             ],
             [
              0.6666666666666666,
              "#ed7953"
             ],
             [
              0.7777777777777778,
              "#fb9f3a"
             ],
             [
              0.8888888888888888,
              "#fdca26"
             ],
             [
              1,
              "#f0f921"
             ]
            ],
            "type": "histogram2d"
           }
          ],
          "histogram2dcontour": [
           {
            "colorbar": {
             "outlinewidth": 0,
             "ticks": ""
            },
            "colorscale": [
             [
              0,
              "#0d0887"
             ],
             [
              0.1111111111111111,
              "#46039f"
             ],
             [
              0.2222222222222222,
              "#7201a8"
             ],
             [
              0.3333333333333333,
              "#9c179e"
             ],
             [
              0.4444444444444444,
              "#bd3786"
             ],
             [
              0.5555555555555556,
              "#d8576b"
             ],
             [
              0.6666666666666666,
              "#ed7953"
             ],
             [
              0.7777777777777778,
              "#fb9f3a"
             ],
             [
              0.8888888888888888,
              "#fdca26"
             ],
             [
              1,
              "#f0f921"
             ]
            ],
            "type": "histogram2dcontour"
           }
          ],
          "mesh3d": [
           {
            "colorbar": {
             "outlinewidth": 0,
             "ticks": ""
            },
            "type": "mesh3d"
           }
          ],
          "parcoords": [
           {
            "line": {
             "colorbar": {
              "outlinewidth": 0,
              "ticks": ""
             }
            },
            "type": "parcoords"
           }
          ],
          "pie": [
           {
            "automargin": true,
            "type": "pie"
           }
          ],
          "scatter": [
           {
            "marker": {
             "colorbar": {
              "outlinewidth": 0,
              "ticks": ""
             }
            },
            "type": "scatter"
           }
          ],
          "scatter3d": [
           {
            "line": {
             "colorbar": {
              "outlinewidth": 0,
              "ticks": ""
             }
            },
            "marker": {
             "colorbar": {
              "outlinewidth": 0,
              "ticks": ""
             }
            },
            "type": "scatter3d"
           }
          ],
          "scattercarpet": [
           {
            "marker": {
             "colorbar": {
              "outlinewidth": 0,
              "ticks": ""
             }
            },
            "type": "scattercarpet"
           }
          ],
          "scattergeo": [
           {
            "marker": {
             "colorbar": {
              "outlinewidth": 0,
              "ticks": ""
             }
            },
            "type": "scattergeo"
           }
          ],
          "scattergl": [
           {
            "marker": {
             "colorbar": {
              "outlinewidth": 0,
              "ticks": ""
             }
            },
            "type": "scattergl"
           }
          ],
          "scattermapbox": [
           {
            "marker": {
             "colorbar": {
              "outlinewidth": 0,
              "ticks": ""
             }
            },
            "type": "scattermapbox"
           }
          ],
          "scatterpolar": [
           {
            "marker": {
             "colorbar": {
              "outlinewidth": 0,
              "ticks": ""
             }
            },
            "type": "scatterpolar"
           }
          ],
          "scatterpolargl": [
           {
            "marker": {
             "colorbar": {
              "outlinewidth": 0,
              "ticks": ""
             }
            },
            "type": "scatterpolargl"
           }
          ],
          "scatterternary": [
           {
            "marker": {
             "colorbar": {
              "outlinewidth": 0,
              "ticks": ""
             }
            },
            "type": "scatterternary"
           }
          ],
          "surface": [
           {
            "colorbar": {
             "outlinewidth": 0,
             "ticks": ""
            },
            "colorscale": [
             [
              0,
              "#0d0887"
             ],
             [
              0.1111111111111111,
              "#46039f"
             ],
             [
              0.2222222222222222,
              "#7201a8"
             ],
             [
              0.3333333333333333,
              "#9c179e"
             ],
             [
              0.4444444444444444,
              "#bd3786"
             ],
             [
              0.5555555555555556,
              "#d8576b"
             ],
             [
              0.6666666666666666,
              "#ed7953"
             ],
             [
              0.7777777777777778,
              "#fb9f3a"
             ],
             [
              0.8888888888888888,
              "#fdca26"
             ],
             [
              1,
              "#f0f921"
             ]
            ],
            "type": "surface"
           }
          ],
          "table": [
           {
            "cells": {
             "fill": {
              "color": "#EBF0F8"
             },
             "line": {
              "color": "white"
             }
            },
            "header": {
             "fill": {
              "color": "#C8D4E3"
             },
             "line": {
              "color": "white"
             }
            },
            "type": "table"
           }
          ]
         },
         "layout": {
          "annotationdefaults": {
           "arrowcolor": "#2a3f5f",
           "arrowhead": 0,
           "arrowwidth": 1
          },
          "coloraxis": {
           "colorbar": {
            "outlinewidth": 0,
            "ticks": ""
           }
          },
          "colorscale": {
           "diverging": [
            [
             0,
             "#8e0152"
            ],
            [
             0.1,
             "#c51b7d"
            ],
            [
             0.2,
             "#de77ae"
            ],
            [
             0.3,
             "#f1b6da"
            ],
            [
             0.4,
             "#fde0ef"
            ],
            [
             0.5,
             "#f7f7f7"
            ],
            [
             0.6,
             "#e6f5d0"
            ],
            [
             0.7,
             "#b8e186"
            ],
            [
             0.8,
             "#7fbc41"
            ],
            [
             0.9,
             "#4d9221"
            ],
            [
             1,
             "#276419"
            ]
           ],
           "sequential": [
            [
             0,
             "#0d0887"
            ],
            [
             0.1111111111111111,
             "#46039f"
            ],
            [
             0.2222222222222222,
             "#7201a8"
            ],
            [
             0.3333333333333333,
             "#9c179e"
            ],
            [
             0.4444444444444444,
             "#bd3786"
            ],
            [
             0.5555555555555556,
             "#d8576b"
            ],
            [
             0.6666666666666666,
             "#ed7953"
            ],
            [
             0.7777777777777778,
             "#fb9f3a"
            ],
            [
             0.8888888888888888,
             "#fdca26"
            ],
            [
             1,
             "#f0f921"
            ]
           ],
           "sequentialminus": [
            [
             0,
             "#0d0887"
            ],
            [
             0.1111111111111111,
             "#46039f"
            ],
            [
             0.2222222222222222,
             "#7201a8"
            ],
            [
             0.3333333333333333,
             "#9c179e"
            ],
            [
             0.4444444444444444,
             "#bd3786"
            ],
            [
             0.5555555555555556,
             "#d8576b"
            ],
            [
             0.6666666666666666,
             "#ed7953"
            ],
            [
             0.7777777777777778,
             "#fb9f3a"
            ],
            [
             0.8888888888888888,
             "#fdca26"
            ],
            [
             1,
             "#f0f921"
            ]
           ]
          },
          "colorway": [
           "#636efa",
           "#EF553B",
           "#00cc96",
           "#ab63fa",
           "#FFA15A",
           "#19d3f3",
           "#FF6692",
           "#B6E880",
           "#FF97FF",
           "#FECB52"
          ],
          "font": {
           "color": "#2a3f5f"
          },
          "geo": {
           "bgcolor": "white",
           "lakecolor": "white",
           "landcolor": "#E5ECF6",
           "showlakes": true,
           "showland": true,
           "subunitcolor": "white"
          },
          "hoverlabel": {
           "align": "left"
          },
          "hovermode": "closest",
          "mapbox": {
           "style": "light"
          },
          "paper_bgcolor": "white",
          "plot_bgcolor": "#E5ECF6",
          "polar": {
           "angularaxis": {
            "gridcolor": "white",
            "linecolor": "white",
            "ticks": ""
           },
           "bgcolor": "#E5ECF6",
           "radialaxis": {
            "gridcolor": "white",
            "linecolor": "white",
            "ticks": ""
           }
          },
          "scene": {
           "xaxis": {
            "backgroundcolor": "#E5ECF6",
            "gridcolor": "white",
            "gridwidth": 2,
            "linecolor": "white",
            "showbackground": true,
            "ticks": "",
            "zerolinecolor": "white"
           },
           "yaxis": {
            "backgroundcolor": "#E5ECF6",
            "gridcolor": "white",
            "gridwidth": 2,
            "linecolor": "white",
            "showbackground": true,
            "ticks": "",
            "zerolinecolor": "white"
           },
           "zaxis": {
            "backgroundcolor": "#E5ECF6",
            "gridcolor": "white",
            "gridwidth": 2,
            "linecolor": "white",
            "showbackground": true,
            "ticks": "",
            "zerolinecolor": "white"
           }
          },
          "shapedefaults": {
           "line": {
            "color": "#2a3f5f"
           }
          },
          "ternary": {
           "aaxis": {
            "gridcolor": "white",
            "linecolor": "white",
            "ticks": ""
           },
           "baxis": {
            "gridcolor": "white",
            "linecolor": "white",
            "ticks": ""
           },
           "bgcolor": "#E5ECF6",
           "caxis": {
            "gridcolor": "white",
            "linecolor": "white",
            "ticks": ""
           }
          },
          "title": {
           "x": 0.05
          },
          "xaxis": {
           "automargin": true,
           "gridcolor": "white",
           "linecolor": "white",
           "ticks": "",
           "title": {
            "standoff": 15
           },
           "zerolinecolor": "white",
           "zerolinewidth": 2
          },
          "yaxis": {
           "automargin": true,
           "gridcolor": "white",
           "linecolor": "white",
           "ticks": "",
           "title": {
            "standoff": 15
           },
           "zerolinecolor": "white",
           "zerolinewidth": 2
          }
         }
        },
        "title": {
         "font": {
          "color": "#4D5663"
         }
        },
        "xaxis": {
         "gridcolor": "#E1E5ED",
         "showgrid": true,
         "tickfont": {
          "color": "#4D5663"
         },
         "title": {
          "font": {
           "color": "#4D5663"
          },
          "text": ""
         },
         "zerolinecolor": "#E1E5ED"
        },
        "yaxis": {
         "gridcolor": "#E1E5ED",
         "showgrid": true,
         "tickfont": {
          "color": "#4D5663"
         },
         "title": {
          "font": {
           "color": "#4D5663"
          },
          "text": ""
         },
         "zerolinecolor": "#E1E5ED"
        }
       }
      },
      "text/html": [
       "<div>\n",
       "        \n",
       "        \n",
       "            <div id=\"d254bac1-ec8a-48fb-b26f-a340596e42ab\" class=\"plotly-graph-div\" style=\"height:525px; width:100%;\"></div>\n",
       "            <script type=\"text/javascript\">\n",
       "                require([\"plotly\"], function(Plotly) {\n",
       "                    window.PLOTLYENV=window.PLOTLYENV || {};\n",
       "                    window.PLOTLYENV.BASE_URL='https://plot.ly';\n",
       "                    \n",
       "                if (document.getElementById(\"d254bac1-ec8a-48fb-b26f-a340596e42ab\")) {\n",
       "                    Plotly.newPlot(\n",
       "                        'd254bac1-ec8a-48fb-b26f-a340596e42ab',\n",
       "                        [{\"histfunc\": \"count\", \"histnorm\": \"\", \"marker\": {\"color\": \"rgba(255, 153, 51, 1.0)\", \"line\": {\"color\": \"#4D5663\", \"width\": 1.3}}, \"name\": \"A\", \"nbinsx\": 25, \"opacity\": 0.8, \"orientation\": \"v\", \"type\": \"histogram\", \"x\": [1.1632319313482395, 0.4006995105216627, -0.2956762478256533, -0.05169719393589064, 0.00910757636508114, -0.6955839592405, -0.35909775057049803, -1.5625500495348743, 0.280382662704461, 0.6900988105151796, -2.7574912836742946, -0.07968419822034653, 1.8332128879861818, 1.4295281994653302, 0.1252613779335597, -0.49769928744988495, -0.856393091788203, 1.4352774817096858, -1.2664402308234686, 0.7890502900382642, -1.46167053131466, 0.8150472653619777, -1.17240523883422, -0.6705469117318189, -1.4341028074133875, -0.014599945431750708, 0.7435879685265763, -2.848647374794672, 0.49161354740033353, -0.45050436439059577, 0.28881432704739796, 0.33186383855201784, -0.047088381439171614, -0.9993636850678648, 1.1206599697688173, 1.1930326248835383, -1.1034554747230993, -0.5547348406545668, 0.13945607788763917, 1.301419479862865, -1.2400560909431215, 0.6203031047198649, 0.9380629637173821, -0.14400944082924053, -0.9240931840045439, -0.8282183540851877, -0.11961424790363061, -0.49999029669468653, 0.9819908608077234, -0.11606300782428085, 0.45764184722157275, 0.49346586682197907, -0.5433622602059989, -1.7900480082481471, 0.32044197002586217, -0.633058819620911, 0.035453392741268346, 0.28800897468143366, 0.1270836766417439, 1.1391905804798264, -0.058971810983125275, 1.5960984036066292, 0.043035034307208495, -0.8023299927990649, 0.9613524445273515, -0.39736206448423356, 0.2792623071725112, -0.36223179862154803, 1.0386103659394246, 0.768251393580555, -0.03247482932037407, -0.2833971496851408, -2.3264113817674885, 0.3601066380079715, -0.8975379312800085, 0.07627611530830201, 0.36155396903651077, -0.17833430581015805, -0.6767697508725241, 1.535979797909297, -0.4419843916432813, -0.7094090819406609, 0.647624136408352, -0.056939817949727634, -2.0938503562353876, 1.1522289116879099, 0.43945695783916466, 1.0199457327509938, 0.8259047129688619, -0.43717286489986557, -1.8874859655183183, 0.6348946192877947, -1.7859523956955943, 0.13333163954187455, -0.6353918987424078, -1.0049116048271711, -0.24942294813512036, 0.7019758240727191, 0.6036035864612834, 0.6023724883064032]}],\n",
       "                        {\"barmode\": \"overlay\", \"legend\": {\"bgcolor\": \"#F5F6F9\", \"font\": {\"color\": \"#4D5663\"}}, \"paper_bgcolor\": \"#F5F6F9\", \"plot_bgcolor\": \"#F5F6F9\", \"template\": {\"data\": {\"bar\": [{\"error_x\": {\"color\": \"#2a3f5f\"}, \"error_y\": {\"color\": \"#2a3f5f\"}, \"marker\": {\"line\": {\"color\": \"#E5ECF6\", \"width\": 0.5}}, \"type\": \"bar\"}], \"barpolar\": [{\"marker\": {\"line\": {\"color\": \"#E5ECF6\", \"width\": 0.5}}, \"type\": \"barpolar\"}], \"carpet\": [{\"aaxis\": {\"endlinecolor\": \"#2a3f5f\", \"gridcolor\": \"white\", \"linecolor\": \"white\", \"minorgridcolor\": \"white\", \"startlinecolor\": \"#2a3f5f\"}, \"baxis\": {\"endlinecolor\": \"#2a3f5f\", \"gridcolor\": \"white\", \"linecolor\": \"white\", \"minorgridcolor\": \"white\", \"startlinecolor\": \"#2a3f5f\"}, \"type\": \"carpet\"}], \"choropleth\": [{\"colorbar\": {\"outlinewidth\": 0, \"ticks\": \"\"}, \"type\": \"choropleth\"}], \"contour\": [{\"colorbar\": {\"outlinewidth\": 0, \"ticks\": \"\"}, \"colorscale\": [[0.0, \"#0d0887\"], [0.1111111111111111, \"#46039f\"], [0.2222222222222222, \"#7201a8\"], [0.3333333333333333, \"#9c179e\"], [0.4444444444444444, \"#bd3786\"], [0.5555555555555556, \"#d8576b\"], [0.6666666666666666, \"#ed7953\"], [0.7777777777777778, \"#fb9f3a\"], [0.8888888888888888, \"#fdca26\"], [1.0, \"#f0f921\"]], \"type\": \"contour\"}], \"contourcarpet\": [{\"colorbar\": {\"outlinewidth\": 0, \"ticks\": \"\"}, \"type\": \"contourcarpet\"}], \"heatmap\": [{\"colorbar\": {\"outlinewidth\": 0, \"ticks\": \"\"}, \"colorscale\": [[0.0, \"#0d0887\"], [0.1111111111111111, \"#46039f\"], [0.2222222222222222, \"#7201a8\"], [0.3333333333333333, \"#9c179e\"], [0.4444444444444444, \"#bd3786\"], [0.5555555555555556, \"#d8576b\"], [0.6666666666666666, \"#ed7953\"], [0.7777777777777778, \"#fb9f3a\"], [0.8888888888888888, \"#fdca26\"], [1.0, \"#f0f921\"]], \"type\": \"heatmap\"}], \"heatmapgl\": [{\"colorbar\": {\"outlinewidth\": 0, \"ticks\": \"\"}, \"colorscale\": [[0.0, \"#0d0887\"], [0.1111111111111111, \"#46039f\"], [0.2222222222222222, \"#7201a8\"], [0.3333333333333333, \"#9c179e\"], [0.4444444444444444, \"#bd3786\"], [0.5555555555555556, \"#d8576b\"], [0.6666666666666666, \"#ed7953\"], [0.7777777777777778, \"#fb9f3a\"], [0.8888888888888888, \"#fdca26\"], [1.0, \"#f0f921\"]], \"type\": \"heatmapgl\"}], \"histogram\": [{\"marker\": {\"colorbar\": {\"outlinewidth\": 0, \"ticks\": \"\"}}, \"type\": \"histogram\"}], \"histogram2d\": [{\"colorbar\": {\"outlinewidth\": 0, \"ticks\": \"\"}, \"colorscale\": [[0.0, \"#0d0887\"], [0.1111111111111111, \"#46039f\"], [0.2222222222222222, \"#7201a8\"], [0.3333333333333333, \"#9c179e\"], [0.4444444444444444, \"#bd3786\"], [0.5555555555555556, \"#d8576b\"], [0.6666666666666666, \"#ed7953\"], [0.7777777777777778, \"#fb9f3a\"], [0.8888888888888888, \"#fdca26\"], [1.0, \"#f0f921\"]], \"type\": \"histogram2d\"}], \"histogram2dcontour\": [{\"colorbar\": {\"outlinewidth\": 0, \"ticks\": \"\"}, \"colorscale\": [[0.0, \"#0d0887\"], [0.1111111111111111, \"#46039f\"], [0.2222222222222222, \"#7201a8\"], [0.3333333333333333, \"#9c179e\"], [0.4444444444444444, \"#bd3786\"], [0.5555555555555556, \"#d8576b\"], [0.6666666666666666, \"#ed7953\"], [0.7777777777777778, \"#fb9f3a\"], [0.8888888888888888, \"#fdca26\"], [1.0, \"#f0f921\"]], \"type\": \"histogram2dcontour\"}], \"mesh3d\": [{\"colorbar\": {\"outlinewidth\": 0, \"ticks\": \"\"}, \"type\": \"mesh3d\"}], \"parcoords\": [{\"line\": {\"colorbar\": {\"outlinewidth\": 0, \"ticks\": \"\"}}, \"type\": \"parcoords\"}], \"pie\": [{\"automargin\": true, \"type\": \"pie\"}], \"scatter\": [{\"marker\": {\"colorbar\": {\"outlinewidth\": 0, \"ticks\": \"\"}}, \"type\": \"scatter\"}], \"scatter3d\": [{\"line\": {\"colorbar\": {\"outlinewidth\": 0, \"ticks\": \"\"}}, \"marker\": {\"colorbar\": {\"outlinewidth\": 0, \"ticks\": \"\"}}, \"type\": \"scatter3d\"}], \"scattercarpet\": [{\"marker\": {\"colorbar\": {\"outlinewidth\": 0, \"ticks\": \"\"}}, \"type\": \"scattercarpet\"}], \"scattergeo\": [{\"marker\": {\"colorbar\": {\"outlinewidth\": 0, \"ticks\": \"\"}}, \"type\": \"scattergeo\"}], \"scattergl\": [{\"marker\": {\"colorbar\": {\"outlinewidth\": 0, \"ticks\": \"\"}}, \"type\": \"scattergl\"}], \"scattermapbox\": [{\"marker\": {\"colorbar\": {\"outlinewidth\": 0, \"ticks\": \"\"}}, \"type\": \"scattermapbox\"}], \"scatterpolar\": [{\"marker\": {\"colorbar\": {\"outlinewidth\": 0, \"ticks\": \"\"}}, \"type\": \"scatterpolar\"}], \"scatterpolargl\": [{\"marker\": {\"colorbar\": {\"outlinewidth\": 0, \"ticks\": \"\"}}, \"type\": \"scatterpolargl\"}], \"scatterternary\": [{\"marker\": {\"colorbar\": {\"outlinewidth\": 0, \"ticks\": \"\"}}, \"type\": \"scatterternary\"}], \"surface\": [{\"colorbar\": {\"outlinewidth\": 0, \"ticks\": \"\"}, \"colorscale\": [[0.0, \"#0d0887\"], [0.1111111111111111, \"#46039f\"], [0.2222222222222222, \"#7201a8\"], [0.3333333333333333, \"#9c179e\"], [0.4444444444444444, \"#bd3786\"], [0.5555555555555556, \"#d8576b\"], [0.6666666666666666, \"#ed7953\"], [0.7777777777777778, \"#fb9f3a\"], [0.8888888888888888, \"#fdca26\"], [1.0, \"#f0f921\"]], \"type\": \"surface\"}], \"table\": [{\"cells\": {\"fill\": {\"color\": \"#EBF0F8\"}, \"line\": {\"color\": \"white\"}}, \"header\": {\"fill\": {\"color\": \"#C8D4E3\"}, \"line\": {\"color\": \"white\"}}, \"type\": \"table\"}]}, \"layout\": {\"annotationdefaults\": {\"arrowcolor\": \"#2a3f5f\", \"arrowhead\": 0, \"arrowwidth\": 1}, \"coloraxis\": {\"colorbar\": {\"outlinewidth\": 0, \"ticks\": \"\"}}, \"colorscale\": {\"diverging\": [[0, \"#8e0152\"], [0.1, \"#c51b7d\"], [0.2, \"#de77ae\"], [0.3, \"#f1b6da\"], [0.4, \"#fde0ef\"], [0.5, \"#f7f7f7\"], [0.6, \"#e6f5d0\"], [0.7, \"#b8e186\"], [0.8, \"#7fbc41\"], [0.9, \"#4d9221\"], [1, \"#276419\"]], \"sequential\": [[0.0, \"#0d0887\"], [0.1111111111111111, \"#46039f\"], [0.2222222222222222, \"#7201a8\"], [0.3333333333333333, \"#9c179e\"], [0.4444444444444444, \"#bd3786\"], [0.5555555555555556, \"#d8576b\"], [0.6666666666666666, \"#ed7953\"], [0.7777777777777778, \"#fb9f3a\"], [0.8888888888888888, \"#fdca26\"], [1.0, \"#f0f921\"]], \"sequentialminus\": [[0.0, \"#0d0887\"], [0.1111111111111111, \"#46039f\"], [0.2222222222222222, \"#7201a8\"], [0.3333333333333333, \"#9c179e\"], [0.4444444444444444, \"#bd3786\"], [0.5555555555555556, \"#d8576b\"], [0.6666666666666666, \"#ed7953\"], [0.7777777777777778, \"#fb9f3a\"], [0.8888888888888888, \"#fdca26\"], [1.0, \"#f0f921\"]]}, \"colorway\": [\"#636efa\", \"#EF553B\", \"#00cc96\", \"#ab63fa\", \"#FFA15A\", \"#19d3f3\", \"#FF6692\", \"#B6E880\", \"#FF97FF\", \"#FECB52\"], \"font\": {\"color\": \"#2a3f5f\"}, \"geo\": {\"bgcolor\": \"white\", \"lakecolor\": \"white\", \"landcolor\": \"#E5ECF6\", \"showlakes\": true, \"showland\": true, \"subunitcolor\": \"white\"}, \"hoverlabel\": {\"align\": \"left\"}, \"hovermode\": \"closest\", \"mapbox\": {\"style\": \"light\"}, \"paper_bgcolor\": \"white\", \"plot_bgcolor\": \"#E5ECF6\", \"polar\": {\"angularaxis\": {\"gridcolor\": \"white\", \"linecolor\": \"white\", \"ticks\": \"\"}, \"bgcolor\": \"#E5ECF6\", \"radialaxis\": {\"gridcolor\": \"white\", \"linecolor\": \"white\", \"ticks\": \"\"}}, \"scene\": {\"xaxis\": {\"backgroundcolor\": \"#E5ECF6\", \"gridcolor\": \"white\", \"gridwidth\": 2, \"linecolor\": \"white\", \"showbackground\": true, \"ticks\": \"\", \"zerolinecolor\": \"white\"}, \"yaxis\": {\"backgroundcolor\": \"#E5ECF6\", \"gridcolor\": \"white\", \"gridwidth\": 2, \"linecolor\": \"white\", \"showbackground\": true, \"ticks\": \"\", \"zerolinecolor\": \"white\"}, \"zaxis\": {\"backgroundcolor\": \"#E5ECF6\", \"gridcolor\": \"white\", \"gridwidth\": 2, \"linecolor\": \"white\", \"showbackground\": true, \"ticks\": \"\", \"zerolinecolor\": \"white\"}}, \"shapedefaults\": {\"line\": {\"color\": \"#2a3f5f\"}}, \"ternary\": {\"aaxis\": {\"gridcolor\": \"white\", \"linecolor\": \"white\", \"ticks\": \"\"}, \"baxis\": {\"gridcolor\": \"white\", \"linecolor\": \"white\", \"ticks\": \"\"}, \"bgcolor\": \"#E5ECF6\", \"caxis\": {\"gridcolor\": \"white\", \"linecolor\": \"white\", \"ticks\": \"\"}}, \"title\": {\"x\": 0.05}, \"xaxis\": {\"automargin\": true, \"gridcolor\": \"white\", \"linecolor\": \"white\", \"ticks\": \"\", \"title\": {\"standoff\": 15}, \"zerolinecolor\": \"white\", \"zerolinewidth\": 2}, \"yaxis\": {\"automargin\": true, \"gridcolor\": \"white\", \"linecolor\": \"white\", \"ticks\": \"\", \"title\": {\"standoff\": 15}, \"zerolinecolor\": \"white\", \"zerolinewidth\": 2}}}, \"title\": {\"font\": {\"color\": \"#4D5663\"}}, \"xaxis\": {\"gridcolor\": \"#E1E5ED\", \"showgrid\": true, \"tickfont\": {\"color\": \"#4D5663\"}, \"title\": {\"font\": {\"color\": \"#4D5663\"}, \"text\": \"\"}, \"zerolinecolor\": \"#E1E5ED\"}, \"yaxis\": {\"gridcolor\": \"#E1E5ED\", \"showgrid\": true, \"tickfont\": {\"color\": \"#4D5663\"}, \"title\": {\"font\": {\"color\": \"#4D5663\"}, \"text\": \"\"}, \"zerolinecolor\": \"#E1E5ED\"}},\n",
       "                        {\"showLink\": true, \"linkText\": \"Export to plot.ly\", \"plotlyServerURL\": \"https://plot.ly\", \"responsive\": true}\n",
       "                    ).then(function(){\n",
       "                            \n",
       "var gd = document.getElementById('d254bac1-ec8a-48fb-b26f-a340596e42ab');\n",
       "var x = new MutationObserver(function (mutations, observer) {{\n",
       "        var display = window.getComputedStyle(gd).display;\n",
       "        if (!display || display === 'none') {{\n",
       "            console.log([gd, 'removed!']);\n",
       "            Plotly.purge(gd);\n",
       "            observer.disconnect();\n",
       "        }}\n",
       "}});\n",
       "\n",
       "// Listen for the removal of the full notebook cells\n",
       "var notebookContainer = gd.closest('#notebook-container');\n",
       "if (notebookContainer) {{\n",
       "    x.observe(notebookContainer, {childList: true});\n",
       "}}\n",
       "\n",
       "// Listen for the clearing of the current output cell\n",
       "var outputEl = gd.closest('.output');\n",
       "if (outputEl) {{\n",
       "    x.observe(outputEl, {childList: true});\n",
       "}}\n",
       "\n",
       "                        })\n",
       "                };\n",
       "                });\n",
       "            </script>\n",
       "        </div>"
      ]
     },
     "metadata": {},
     "output_type": "display_data"
    }
   ],
   "source": [
    "df['A'].iplot(kind='hist',bins=25)"
   ]
  },
  {
   "cell_type": "code",
   "execution_count": 21,
   "metadata": {},
   "outputs": [
    {
     "data": {
      "application/vnd.plotly.v1+json": {
       "config": {
        "linkText": "Export to plot.ly",
        "plotlyServerURL": "https://plot.ly",
        "showLink": true
       },
       "data": [
        {
         "marker": {
          "color": [
           "rgb(255, 153, 51)",
           "rgb(55, 128, 191)",
           "rgb(50, 171, 96)",
           "rgb(128, 0, 128)",
           "rgb(219, 64, 82)",
           "rgb(0, 128, 128)",
           "rgb(255, 255, 51)",
           "rgb(128, 128, 0)",
           "rgb(251, 128, 114)",
           "rgb(128, 177, 211)"
          ],
          "line": {
           "width": 1.3
          },
          "size": [
           77,
           34,
           27,
           95,
           48,
           51,
           65,
           12,
           32,
           68,
           51,
           53,
           46,
           60,
           92,
           53,
           89,
           68,
           27,
           58,
           61,
           32,
           53,
           70,
           42,
           74,
           74,
           37,
           51,
           70,
           49,
           67,
           51,
           34,
           62,
           51,
           77,
           74,
           40,
           56,
           55,
           87,
           54,
           64,
           37,
           42,
           95,
           17,
           62,
           45,
           61,
           51,
           50,
           34,
           67,
           56,
           48,
           53,
           72,
           40,
           53,
           30,
           56,
           86,
           37,
           70,
           112,
           14,
           47,
           50,
           57,
           57,
           36,
           47,
           63,
           39,
           60,
           71,
           50,
           25,
           50,
           41,
           42,
           40,
           40,
           54,
           87,
           47,
           52,
           21,
           60,
           58,
           24,
           45,
           62,
           67,
           74,
           73,
           23,
           44
          ],
          "symbol": "circle"
         },
         "mode": "markers",
         "text": "",
         "type": "scatter",
         "x": [
          1.1632319313482395,
          0.4006995105216627,
          -0.2956762478256533,
          -0.05169719393589064,
          0.00910757636508114,
          -0.6955839592405,
          -0.35909775057049803,
          -1.5625500495348743,
          0.280382662704461,
          0.6900988105151796,
          -2.7574912836742946,
          -0.07968419822034653,
          1.8332128879861818,
          1.4295281994653302,
          0.1252613779335597,
          -0.49769928744988495,
          -0.856393091788203,
          1.4352774817096858,
          -1.2664402308234686,
          0.7890502900382642,
          -1.46167053131466,
          0.8150472653619777,
          -1.17240523883422,
          -0.6705469117318189,
          -1.4341028074133875,
          -0.014599945431750708,
          0.7435879685265763,
          -2.848647374794672,
          0.49161354740033353,
          -0.45050436439059577,
          0.28881432704739796,
          0.33186383855201784,
          -0.047088381439171614,
          -0.9993636850678648,
          1.1206599697688173,
          1.1930326248835383,
          -1.1034554747230993,
          -0.5547348406545668,
          0.13945607788763917,
          1.301419479862865,
          -1.2400560909431215,
          0.6203031047198649,
          0.9380629637173821,
          -0.14400944082924053,
          -0.9240931840045439,
          -0.8282183540851877,
          -0.11961424790363061,
          -0.49999029669468653,
          0.9819908608077234,
          -0.11606300782428085,
          0.45764184722157275,
          0.49346586682197907,
          -0.5433622602059989,
          -1.7900480082481471,
          0.32044197002586217,
          -0.633058819620911,
          0.035453392741268346,
          0.28800897468143366,
          0.1270836766417439,
          1.1391905804798264,
          -0.058971810983125275,
          1.5960984036066292,
          0.043035034307208495,
          -0.8023299927990649,
          0.9613524445273515,
          -0.39736206448423356,
          0.2792623071725112,
          -0.36223179862154803,
          1.0386103659394246,
          0.768251393580555,
          -0.03247482932037407,
          -0.2833971496851408,
          -2.3264113817674885,
          0.3601066380079715,
          -0.8975379312800085,
          0.07627611530830201,
          0.36155396903651077,
          -0.17833430581015805,
          -0.6767697508725241,
          1.535979797909297,
          -0.4419843916432813,
          -0.7094090819406609,
          0.647624136408352,
          -0.056939817949727634,
          -2.0938503562353876,
          1.1522289116879099,
          0.43945695783916466,
          1.0199457327509938,
          0.8259047129688619,
          -0.43717286489986557,
          -1.8874859655183183,
          0.6348946192877947,
          -1.7859523956955943,
          0.13333163954187455,
          -0.6353918987424078,
          -1.0049116048271711,
          -0.24942294813512036,
          0.7019758240727191,
          0.6036035864612834,
          0.6023724883064032
         ],
         "y": [
          0.7557944147735085,
          0.08420801170730241,
          1.125224851480296,
          0.38065475151755207,
          0.5396274205240575,
          0.5683289602573715,
          -0.2608769685151894,
          -0.40282805854406645,
          1.0323173036744528,
          0.028417798834812127,
          -0.517174679146552,
          -1.920275899765896,
          -1.12992664746321,
          1.520453453577847,
          -0.6616003988885832,
          -2.2026206161735447,
          -0.11666027539963252,
          -2.2155337084780067,
          0.6367684799711685,
          -0.1764979359195468,
          1.3819423305761236,
          -0.008262148112657144,
          0.9782295514038942,
          1.99322695455303,
          -0.2550056163421702,
          1.1983104645087241,
          -1.1767282090517108,
          0.1866687098243254,
          -0.7443221314287102,
          -1.3368881098115208,
          0.8979161027537494,
          -0.6450371339227668,
          0.4674685984970453,
          1.0387929502296873,
          1.1420262987889602,
          0.33989156511313695,
          0.28218207921226246,
          0.7108031867533554,
          -0.19824614238408128,
          -0.9382975161738351,
          -0.30006528143077743,
          -0.02711395816594447,
          0.08773127271283397,
          1.1131128380108828,
          -1.5372209506583512,
          -1.2495788629223747,
          -0.5628672105320381,
          1.0253904572821646,
          0.12695003780597983,
          -0.6225220306494884,
          1.0034377291300447,
          -0.017920924540992887,
          0.7051442293937872,
          0.9768952039821863,
          0.1714519825542668,
          -0.4738481699106438,
          1.228276732941743,
          -0.004907755627084942,
          1.1020113226868538,
          -1.537743962725332,
          2.3098300590918144,
          0.8495190634194937,
          -1.8418600829624527,
          -0.5964836394497389,
          0.6388598070914784,
          0.3557569827543802,
          -0.7658323525724573,
          0.015269993899470594,
          -1.3551368944021027,
          0.4828390365168581,
          -0.9696325544797003,
          -0.39790738293710254,
          0.4011413136842935,
          -0.678147361211587,
          -0.5881407468585984,
          0.7315029154129858,
          1.0551627255471088,
          1.3012639291825332,
          1.752203520894791,
          -0.7549413493846202,
          -1.2856592275485377,
          0.772007266640758,
          -1.0868301893872796,
          -0.6748215539231817,
          -1.062831300971065,
          0.46462908811188613,
          -1.2584291900875348,
          -0.457270169220814,
          0.2627928071210074,
          -1.724573428359919,
          1.5939081634088021,
          0.5658581330993231,
          -0.7086495830979483,
          0.8100065851099465,
          -0.3883548594234347,
          -0.9402175365492719,
          -0.14248605623081273,
          1.336233786743859,
          0.030824605229955466,
          0.42536427696008167
         ]
        }
       ],
       "layout": {
        "legend": {
         "bgcolor": "#F5F6F9",
         "font": {
          "color": "#4D5663"
         }
        },
        "paper_bgcolor": "#F5F6F9",
        "plot_bgcolor": "#F5F6F9",
        "template": {
         "data": {
          "bar": [
           {
            "error_x": {
             "color": "#2a3f5f"
            },
            "error_y": {
             "color": "#2a3f5f"
            },
            "marker": {
             "line": {
              "color": "#E5ECF6",
              "width": 0.5
             }
            },
            "type": "bar"
           }
          ],
          "barpolar": [
           {
            "marker": {
             "line": {
              "color": "#E5ECF6",
              "width": 0.5
             }
            },
            "type": "barpolar"
           }
          ],
          "carpet": [
           {
            "aaxis": {
             "endlinecolor": "#2a3f5f",
             "gridcolor": "white",
             "linecolor": "white",
             "minorgridcolor": "white",
             "startlinecolor": "#2a3f5f"
            },
            "baxis": {
             "endlinecolor": "#2a3f5f",
             "gridcolor": "white",
             "linecolor": "white",
             "minorgridcolor": "white",
             "startlinecolor": "#2a3f5f"
            },
            "type": "carpet"
           }
          ],
          "choropleth": [
           {
            "colorbar": {
             "outlinewidth": 0,
             "ticks": ""
            },
            "type": "choropleth"
           }
          ],
          "contour": [
           {
            "colorbar": {
             "outlinewidth": 0,
             "ticks": ""
            },
            "colorscale": [
             [
              0,
              "#0d0887"
             ],
             [
              0.1111111111111111,
              "#46039f"
             ],
             [
              0.2222222222222222,
              "#7201a8"
             ],
             [
              0.3333333333333333,
              "#9c179e"
             ],
             [
              0.4444444444444444,
              "#bd3786"
             ],
             [
              0.5555555555555556,
              "#d8576b"
             ],
             [
              0.6666666666666666,
              "#ed7953"
             ],
             [
              0.7777777777777778,
              "#fb9f3a"
             ],
             [
              0.8888888888888888,
              "#fdca26"
             ],
             [
              1,
              "#f0f921"
             ]
            ],
            "type": "contour"
           }
          ],
          "contourcarpet": [
           {
            "colorbar": {
             "outlinewidth": 0,
             "ticks": ""
            },
            "type": "contourcarpet"
           }
          ],
          "heatmap": [
           {
            "colorbar": {
             "outlinewidth": 0,
             "ticks": ""
            },
            "colorscale": [
             [
              0,
              "#0d0887"
             ],
             [
              0.1111111111111111,
              "#46039f"
             ],
             [
              0.2222222222222222,
              "#7201a8"
             ],
             [
              0.3333333333333333,
              "#9c179e"
             ],
             [
              0.4444444444444444,
              "#bd3786"
             ],
             [
              0.5555555555555556,
              "#d8576b"
             ],
             [
              0.6666666666666666,
              "#ed7953"
             ],
             [
              0.7777777777777778,
              "#fb9f3a"
             ],
             [
              0.8888888888888888,
              "#fdca26"
             ],
             [
              1,
              "#f0f921"
             ]
            ],
            "type": "heatmap"
           }
          ],
          "heatmapgl": [
           {
            "colorbar": {
             "outlinewidth": 0,
             "ticks": ""
            },
            "colorscale": [
             [
              0,
              "#0d0887"
             ],
             [
              0.1111111111111111,
              "#46039f"
             ],
             [
              0.2222222222222222,
              "#7201a8"
             ],
             [
              0.3333333333333333,
              "#9c179e"
             ],
             [
              0.4444444444444444,
              "#bd3786"
             ],
             [
              0.5555555555555556,
              "#d8576b"
             ],
             [
              0.6666666666666666,
              "#ed7953"
             ],
             [
              0.7777777777777778,
              "#fb9f3a"
             ],
             [
              0.8888888888888888,
              "#fdca26"
             ],
             [
              1,
              "#f0f921"
             ]
            ],
            "type": "heatmapgl"
           }
          ],
          "histogram": [
           {
            "marker": {
             "colorbar": {
              "outlinewidth": 0,
              "ticks": ""
             }
            },
            "type": "histogram"
           }
          ],
          "histogram2d": [
           {
            "colorbar": {
             "outlinewidth": 0,
             "ticks": ""
            },
            "colorscale": [
             [
              0,
              "#0d0887"
             ],
             [
              0.1111111111111111,
              "#46039f"
             ],
             [
              0.2222222222222222,
              "#7201a8"
             ],
             [
              0.3333333333333333,
              "#9c179e"
             ],
             [
              0.4444444444444444,
              "#bd3786"
             ],
             [
              0.5555555555555556,
              "#d8576b"
             ],
             [
              0.6666666666666666,
              "#ed7953"
             ],
             [
              0.7777777777777778,
              "#fb9f3a"
             ],
             [
              0.8888888888888888,
              "#fdca26"
             ],
             [
              1,
              "#f0f921"
             ]
            ],
            "type": "histogram2d"
           }
          ],
          "histogram2dcontour": [
           {
            "colorbar": {
             "outlinewidth": 0,
             "ticks": ""
            },
            "colorscale": [
             [
              0,
              "#0d0887"
             ],
             [
              0.1111111111111111,
              "#46039f"
             ],
             [
              0.2222222222222222,
              "#7201a8"
             ],
             [
              0.3333333333333333,
              "#9c179e"
             ],
             [
              0.4444444444444444,
              "#bd3786"
             ],
             [
              0.5555555555555556,
              "#d8576b"
             ],
             [
              0.6666666666666666,
              "#ed7953"
             ],
             [
              0.7777777777777778,
              "#fb9f3a"
             ],
             [
              0.8888888888888888,
              "#fdca26"
             ],
             [
              1,
              "#f0f921"
             ]
            ],
            "type": "histogram2dcontour"
           }
          ],
          "mesh3d": [
           {
            "colorbar": {
             "outlinewidth": 0,
             "ticks": ""
            },
            "type": "mesh3d"
           }
          ],
          "parcoords": [
           {
            "line": {
             "colorbar": {
              "outlinewidth": 0,
              "ticks": ""
             }
            },
            "type": "parcoords"
           }
          ],
          "pie": [
           {
            "automargin": true,
            "type": "pie"
           }
          ],
          "scatter": [
           {
            "marker": {
             "colorbar": {
              "outlinewidth": 0,
              "ticks": ""
             }
            },
            "type": "scatter"
           }
          ],
          "scatter3d": [
           {
            "line": {
             "colorbar": {
              "outlinewidth": 0,
              "ticks": ""
             }
            },
            "marker": {
             "colorbar": {
              "outlinewidth": 0,
              "ticks": ""
             }
            },
            "type": "scatter3d"
           }
          ],
          "scattercarpet": [
           {
            "marker": {
             "colorbar": {
              "outlinewidth": 0,
              "ticks": ""
             }
            },
            "type": "scattercarpet"
           }
          ],
          "scattergeo": [
           {
            "marker": {
             "colorbar": {
              "outlinewidth": 0,
              "ticks": ""
             }
            },
            "type": "scattergeo"
           }
          ],
          "scattergl": [
           {
            "marker": {
             "colorbar": {
              "outlinewidth": 0,
              "ticks": ""
             }
            },
            "type": "scattergl"
           }
          ],
          "scattermapbox": [
           {
            "marker": {
             "colorbar": {
              "outlinewidth": 0,
              "ticks": ""
             }
            },
            "type": "scattermapbox"
           }
          ],
          "scatterpolar": [
           {
            "marker": {
             "colorbar": {
              "outlinewidth": 0,
              "ticks": ""
             }
            },
            "type": "scatterpolar"
           }
          ],
          "scatterpolargl": [
           {
            "marker": {
             "colorbar": {
              "outlinewidth": 0,
              "ticks": ""
             }
            },
            "type": "scatterpolargl"
           }
          ],
          "scatterternary": [
           {
            "marker": {
             "colorbar": {
              "outlinewidth": 0,
              "ticks": ""
             }
            },
            "type": "scatterternary"
           }
          ],
          "surface": [
           {
            "colorbar": {
             "outlinewidth": 0,
             "ticks": ""
            },
            "colorscale": [
             [
              0,
              "#0d0887"
             ],
             [
              0.1111111111111111,
              "#46039f"
             ],
             [
              0.2222222222222222,
              "#7201a8"
             ],
             [
              0.3333333333333333,
              "#9c179e"
             ],
             [
              0.4444444444444444,
              "#bd3786"
             ],
             [
              0.5555555555555556,
              "#d8576b"
             ],
             [
              0.6666666666666666,
              "#ed7953"
             ],
             [
              0.7777777777777778,
              "#fb9f3a"
             ],
             [
              0.8888888888888888,
              "#fdca26"
             ],
             [
              1,
              "#f0f921"
             ]
            ],
            "type": "surface"
           }
          ],
          "table": [
           {
            "cells": {
             "fill": {
              "color": "#EBF0F8"
             },
             "line": {
              "color": "white"
             }
            },
            "header": {
             "fill": {
              "color": "#C8D4E3"
             },
             "line": {
              "color": "white"
             }
            },
            "type": "table"
           }
          ]
         },
         "layout": {
          "annotationdefaults": {
           "arrowcolor": "#2a3f5f",
           "arrowhead": 0,
           "arrowwidth": 1
          },
          "coloraxis": {
           "colorbar": {
            "outlinewidth": 0,
            "ticks": ""
           }
          },
          "colorscale": {
           "diverging": [
            [
             0,
             "#8e0152"
            ],
            [
             0.1,
             "#c51b7d"
            ],
            [
             0.2,
             "#de77ae"
            ],
            [
             0.3,
             "#f1b6da"
            ],
            [
             0.4,
             "#fde0ef"
            ],
            [
             0.5,
             "#f7f7f7"
            ],
            [
             0.6,
             "#e6f5d0"
            ],
            [
             0.7,
             "#b8e186"
            ],
            [
             0.8,
             "#7fbc41"
            ],
            [
             0.9,
             "#4d9221"
            ],
            [
             1,
             "#276419"
            ]
           ],
           "sequential": [
            [
             0,
             "#0d0887"
            ],
            [
             0.1111111111111111,
             "#46039f"
            ],
            [
             0.2222222222222222,
             "#7201a8"
            ],
            [
             0.3333333333333333,
             "#9c179e"
            ],
            [
             0.4444444444444444,
             "#bd3786"
            ],
            [
             0.5555555555555556,
             "#d8576b"
            ],
            [
             0.6666666666666666,
             "#ed7953"
            ],
            [
             0.7777777777777778,
             "#fb9f3a"
            ],
            [
             0.8888888888888888,
             "#fdca26"
            ],
            [
             1,
             "#f0f921"
            ]
           ],
           "sequentialminus": [
            [
             0,
             "#0d0887"
            ],
            [
             0.1111111111111111,
             "#46039f"
            ],
            [
             0.2222222222222222,
             "#7201a8"
            ],
            [
             0.3333333333333333,
             "#9c179e"
            ],
            [
             0.4444444444444444,
             "#bd3786"
            ],
            [
             0.5555555555555556,
             "#d8576b"
            ],
            [
             0.6666666666666666,
             "#ed7953"
            ],
            [
             0.7777777777777778,
             "#fb9f3a"
            ],
            [
             0.8888888888888888,
             "#fdca26"
            ],
            [
             1,
             "#f0f921"
            ]
           ]
          },
          "colorway": [
           "#636efa",
           "#EF553B",
           "#00cc96",
           "#ab63fa",
           "#FFA15A",
           "#19d3f3",
           "#FF6692",
           "#B6E880",
           "#FF97FF",
           "#FECB52"
          ],
          "font": {
           "color": "#2a3f5f"
          },
          "geo": {
           "bgcolor": "white",
           "lakecolor": "white",
           "landcolor": "#E5ECF6",
           "showlakes": true,
           "showland": true,
           "subunitcolor": "white"
          },
          "hoverlabel": {
           "align": "left"
          },
          "hovermode": "closest",
          "mapbox": {
           "style": "light"
          },
          "paper_bgcolor": "white",
          "plot_bgcolor": "#E5ECF6",
          "polar": {
           "angularaxis": {
            "gridcolor": "white",
            "linecolor": "white",
            "ticks": ""
           },
           "bgcolor": "#E5ECF6",
           "radialaxis": {
            "gridcolor": "white",
            "linecolor": "white",
            "ticks": ""
           }
          },
          "scene": {
           "xaxis": {
            "backgroundcolor": "#E5ECF6",
            "gridcolor": "white",
            "gridwidth": 2,
            "linecolor": "white",
            "showbackground": true,
            "ticks": "",
            "zerolinecolor": "white"
           },
           "yaxis": {
            "backgroundcolor": "#E5ECF6",
            "gridcolor": "white",
            "gridwidth": 2,
            "linecolor": "white",
            "showbackground": true,
            "ticks": "",
            "zerolinecolor": "white"
           },
           "zaxis": {
            "backgroundcolor": "#E5ECF6",
            "gridcolor": "white",
            "gridwidth": 2,
            "linecolor": "white",
            "showbackground": true,
            "ticks": "",
            "zerolinecolor": "white"
           }
          },
          "shapedefaults": {
           "line": {
            "color": "#2a3f5f"
           }
          },
          "ternary": {
           "aaxis": {
            "gridcolor": "white",
            "linecolor": "white",
            "ticks": ""
           },
           "baxis": {
            "gridcolor": "white",
            "linecolor": "white",
            "ticks": ""
           },
           "bgcolor": "#E5ECF6",
           "caxis": {
            "gridcolor": "white",
            "linecolor": "white",
            "ticks": ""
           }
          },
          "title": {
           "x": 0.05
          },
          "xaxis": {
           "automargin": true,
           "gridcolor": "white",
           "linecolor": "white",
           "ticks": "",
           "title": {
            "standoff": 15
           },
           "zerolinecolor": "white",
           "zerolinewidth": 2
          },
          "yaxis": {
           "automargin": true,
           "gridcolor": "white",
           "linecolor": "white",
           "ticks": "",
           "title": {
            "standoff": 15
           },
           "zerolinecolor": "white",
           "zerolinewidth": 2
          }
         }
        },
        "title": {
         "font": {
          "color": "#4D5663"
         }
        },
        "xaxis": {
         "gridcolor": "#E1E5ED",
         "showgrid": true,
         "tickfont": {
          "color": "#4D5663"
         },
         "title": {
          "font": {
           "color": "#4D5663"
          },
          "text": ""
         },
         "zerolinecolor": "#E1E5ED"
        },
        "yaxis": {
         "gridcolor": "#E1E5ED",
         "showgrid": true,
         "tickfont": {
          "color": "#4D5663"
         },
         "title": {
          "font": {
           "color": "#4D5663"
          },
          "text": ""
         },
         "zerolinecolor": "#E1E5ED"
        }
       }
      },
      "text/html": [
       "<div>\n",
       "        \n",
       "        \n",
       "            <div id=\"b2fe7b59-75d2-4379-a7bc-1f6cda9c4532\" class=\"plotly-graph-div\" style=\"height:525px; width:100%;\"></div>\n",
       "            <script type=\"text/javascript\">\n",
       "                require([\"plotly\"], function(Plotly) {\n",
       "                    window.PLOTLYENV=window.PLOTLYENV || {};\n",
       "                    window.PLOTLYENV.BASE_URL='https://plot.ly';\n",
       "                    \n",
       "                if (document.getElementById(\"b2fe7b59-75d2-4379-a7bc-1f6cda9c4532\")) {\n",
       "                    Plotly.newPlot(\n",
       "                        'b2fe7b59-75d2-4379-a7bc-1f6cda9c4532',\n",
       "                        [{\"marker\": {\"color\": [\"rgb(255, 153, 51)\", \"rgb(55, 128, 191)\", \"rgb(50, 171, 96)\", \"rgb(128, 0, 128)\", \"rgb(219, 64, 82)\", \"rgb(0, 128, 128)\", \"rgb(255, 255, 51)\", \"rgb(128, 128, 0)\", \"rgb(251, 128, 114)\", \"rgb(128, 177, 211)\"], \"line\": {\"width\": 1.3}, \"size\": [77, 34, 27, 95, 48, 51, 65, 12, 32, 68, 51, 53, 46, 60, 92, 53, 89, 68, 27, 58, 61, 32, 53, 70, 42, 74, 74, 37, 51, 70, 49, 67, 51, 34, 62, 51, 77, 74, 40, 56, 55, 87, 54, 64, 37, 42, 95, 17, 62, 45, 61, 51, 50, 34, 67, 56, 48, 53, 72, 40, 53, 30, 56, 86, 37, 70, 112, 14, 47, 50, 57, 57, 36, 47, 63, 39, 60, 71, 50, 25, 50, 41, 42, 40, 40, 54, 87, 47, 52, 21, 60, 58, 24, 45, 62, 67, 74, 73, 23, 44], \"symbol\": \"circle\"}, \"mode\": \"markers\", \"text\": \"\", \"type\": \"scatter\", \"x\": [1.1632319313482395, 0.4006995105216627, -0.2956762478256533, -0.05169719393589064, 0.00910757636508114, -0.6955839592405, -0.35909775057049803, -1.5625500495348743, 0.280382662704461, 0.6900988105151796, -2.7574912836742946, -0.07968419822034653, 1.8332128879861818, 1.4295281994653302, 0.1252613779335597, -0.49769928744988495, -0.856393091788203, 1.4352774817096858, -1.2664402308234686, 0.7890502900382642, -1.46167053131466, 0.8150472653619777, -1.17240523883422, -0.6705469117318189, -1.4341028074133875, -0.014599945431750708, 0.7435879685265763, -2.848647374794672, 0.49161354740033353, -0.45050436439059577, 0.28881432704739796, 0.33186383855201784, -0.047088381439171614, -0.9993636850678648, 1.1206599697688173, 1.1930326248835383, -1.1034554747230993, -0.5547348406545668, 0.13945607788763917, 1.301419479862865, -1.2400560909431215, 0.6203031047198649, 0.9380629637173821, -0.14400944082924053, -0.9240931840045439, -0.8282183540851877, -0.11961424790363061, -0.49999029669468653, 0.9819908608077234, -0.11606300782428085, 0.45764184722157275, 0.49346586682197907, -0.5433622602059989, -1.7900480082481471, 0.32044197002586217, -0.633058819620911, 0.035453392741268346, 0.28800897468143366, 0.1270836766417439, 1.1391905804798264, -0.058971810983125275, 1.5960984036066292, 0.043035034307208495, -0.8023299927990649, 0.9613524445273515, -0.39736206448423356, 0.2792623071725112, -0.36223179862154803, 1.0386103659394246, 0.768251393580555, -0.03247482932037407, -0.2833971496851408, -2.3264113817674885, 0.3601066380079715, -0.8975379312800085, 0.07627611530830201, 0.36155396903651077, -0.17833430581015805, -0.6767697508725241, 1.535979797909297, -0.4419843916432813, -0.7094090819406609, 0.647624136408352, -0.056939817949727634, -2.0938503562353876, 1.1522289116879099, 0.43945695783916466, 1.0199457327509938, 0.8259047129688619, -0.43717286489986557, -1.8874859655183183, 0.6348946192877947, -1.7859523956955943, 0.13333163954187455, -0.6353918987424078, -1.0049116048271711, -0.24942294813512036, 0.7019758240727191, 0.6036035864612834, 0.6023724883064032], \"y\": [0.7557944147735085, 0.08420801170730241, 1.125224851480296, 0.38065475151755207, 0.5396274205240575, 0.5683289602573715, -0.2608769685151894, -0.40282805854406645, 1.0323173036744528, 0.028417798834812127, -0.517174679146552, -1.920275899765896, -1.12992664746321, 1.520453453577847, -0.6616003988885832, -2.2026206161735447, -0.11666027539963252, -2.2155337084780067, 0.6367684799711685, -0.1764979359195468, 1.3819423305761236, -0.008262148112657144, 0.9782295514038942, 1.99322695455303, -0.2550056163421702, 1.1983104645087241, -1.1767282090517108, 0.1866687098243254, -0.7443221314287102, -1.3368881098115208, 0.8979161027537494, -0.6450371339227668, 0.4674685984970453, 1.0387929502296873, 1.1420262987889602, 0.33989156511313695, 0.28218207921226246, 0.7108031867533554, -0.19824614238408128, -0.9382975161738351, -0.30006528143077743, -0.02711395816594447, 0.08773127271283397, 1.1131128380108828, -1.5372209506583512, -1.2495788629223747, -0.5628672105320381, 1.0253904572821646, 0.12695003780597983, -0.6225220306494884, 1.0034377291300447, -0.017920924540992887, 0.7051442293937872, 0.9768952039821863, 0.1714519825542668, -0.4738481699106438, 1.228276732941743, -0.004907755627084942, 1.1020113226868538, -1.537743962725332, 2.3098300590918144, 0.8495190634194937, -1.8418600829624527, -0.5964836394497389, 0.6388598070914784, 0.3557569827543802, -0.7658323525724573, 0.015269993899470594, -1.3551368944021027, 0.4828390365168581, -0.9696325544797003, -0.39790738293710254, 0.4011413136842935, -0.678147361211587, -0.5881407468585984, 0.7315029154129858, 1.0551627255471088, 1.3012639291825332, 1.752203520894791, -0.7549413493846202, -1.2856592275485377, 0.772007266640758, -1.0868301893872796, -0.6748215539231817, -1.062831300971065, 0.46462908811188613, -1.2584291900875348, -0.457270169220814, 0.2627928071210074, -1.724573428359919, 1.5939081634088021, 0.5658581330993231, -0.7086495830979483, 0.8100065851099465, -0.3883548594234347, -0.9402175365492719, -0.14248605623081273, 1.336233786743859, 0.030824605229955466, 0.42536427696008167]}],\n",
       "                        {\"legend\": {\"bgcolor\": \"#F5F6F9\", \"font\": {\"color\": \"#4D5663\"}}, \"paper_bgcolor\": \"#F5F6F9\", \"plot_bgcolor\": \"#F5F6F9\", \"template\": {\"data\": {\"bar\": [{\"error_x\": {\"color\": \"#2a3f5f\"}, \"error_y\": {\"color\": \"#2a3f5f\"}, \"marker\": {\"line\": {\"color\": \"#E5ECF6\", \"width\": 0.5}}, \"type\": \"bar\"}], \"barpolar\": [{\"marker\": {\"line\": {\"color\": \"#E5ECF6\", \"width\": 0.5}}, \"type\": \"barpolar\"}], \"carpet\": [{\"aaxis\": {\"endlinecolor\": \"#2a3f5f\", \"gridcolor\": \"white\", \"linecolor\": \"white\", \"minorgridcolor\": \"white\", \"startlinecolor\": \"#2a3f5f\"}, \"baxis\": {\"endlinecolor\": \"#2a3f5f\", \"gridcolor\": \"white\", \"linecolor\": \"white\", \"minorgridcolor\": \"white\", \"startlinecolor\": \"#2a3f5f\"}, \"type\": \"carpet\"}], \"choropleth\": [{\"colorbar\": {\"outlinewidth\": 0, \"ticks\": \"\"}, \"type\": \"choropleth\"}], \"contour\": [{\"colorbar\": {\"outlinewidth\": 0, \"ticks\": \"\"}, \"colorscale\": [[0.0, \"#0d0887\"], [0.1111111111111111, \"#46039f\"], [0.2222222222222222, \"#7201a8\"], [0.3333333333333333, \"#9c179e\"], [0.4444444444444444, \"#bd3786\"], [0.5555555555555556, \"#d8576b\"], [0.6666666666666666, \"#ed7953\"], [0.7777777777777778, \"#fb9f3a\"], [0.8888888888888888, \"#fdca26\"], [1.0, \"#f0f921\"]], \"type\": \"contour\"}], \"contourcarpet\": [{\"colorbar\": {\"outlinewidth\": 0, \"ticks\": \"\"}, \"type\": \"contourcarpet\"}], \"heatmap\": [{\"colorbar\": {\"outlinewidth\": 0, \"ticks\": \"\"}, \"colorscale\": [[0.0, \"#0d0887\"], [0.1111111111111111, \"#46039f\"], [0.2222222222222222, \"#7201a8\"], [0.3333333333333333, \"#9c179e\"], [0.4444444444444444, \"#bd3786\"], [0.5555555555555556, \"#d8576b\"], [0.6666666666666666, \"#ed7953\"], [0.7777777777777778, \"#fb9f3a\"], [0.8888888888888888, \"#fdca26\"], [1.0, \"#f0f921\"]], \"type\": \"heatmap\"}], \"heatmapgl\": [{\"colorbar\": {\"outlinewidth\": 0, \"ticks\": \"\"}, \"colorscale\": [[0.0, \"#0d0887\"], [0.1111111111111111, \"#46039f\"], [0.2222222222222222, \"#7201a8\"], [0.3333333333333333, \"#9c179e\"], [0.4444444444444444, \"#bd3786\"], [0.5555555555555556, \"#d8576b\"], [0.6666666666666666, \"#ed7953\"], [0.7777777777777778, \"#fb9f3a\"], [0.8888888888888888, \"#fdca26\"], [1.0, \"#f0f921\"]], \"type\": \"heatmapgl\"}], \"histogram\": [{\"marker\": {\"colorbar\": {\"outlinewidth\": 0, \"ticks\": \"\"}}, \"type\": \"histogram\"}], \"histogram2d\": [{\"colorbar\": {\"outlinewidth\": 0, \"ticks\": \"\"}, \"colorscale\": [[0.0, \"#0d0887\"], [0.1111111111111111, \"#46039f\"], [0.2222222222222222, \"#7201a8\"], [0.3333333333333333, \"#9c179e\"], [0.4444444444444444, \"#bd3786\"], [0.5555555555555556, \"#d8576b\"], [0.6666666666666666, \"#ed7953\"], [0.7777777777777778, \"#fb9f3a\"], [0.8888888888888888, \"#fdca26\"], [1.0, \"#f0f921\"]], \"type\": \"histogram2d\"}], \"histogram2dcontour\": [{\"colorbar\": {\"outlinewidth\": 0, \"ticks\": \"\"}, \"colorscale\": [[0.0, \"#0d0887\"], [0.1111111111111111, \"#46039f\"], [0.2222222222222222, \"#7201a8\"], [0.3333333333333333, \"#9c179e\"], [0.4444444444444444, \"#bd3786\"], [0.5555555555555556, \"#d8576b\"], [0.6666666666666666, \"#ed7953\"], [0.7777777777777778, \"#fb9f3a\"], [0.8888888888888888, \"#fdca26\"], [1.0, \"#f0f921\"]], \"type\": \"histogram2dcontour\"}], \"mesh3d\": [{\"colorbar\": {\"outlinewidth\": 0, \"ticks\": \"\"}, \"type\": \"mesh3d\"}], \"parcoords\": [{\"line\": {\"colorbar\": {\"outlinewidth\": 0, \"ticks\": \"\"}}, \"type\": \"parcoords\"}], \"pie\": [{\"automargin\": true, \"type\": \"pie\"}], \"scatter\": [{\"marker\": {\"colorbar\": {\"outlinewidth\": 0, \"ticks\": \"\"}}, \"type\": \"scatter\"}], \"scatter3d\": [{\"line\": {\"colorbar\": {\"outlinewidth\": 0, \"ticks\": \"\"}}, \"marker\": {\"colorbar\": {\"outlinewidth\": 0, \"ticks\": \"\"}}, \"type\": \"scatter3d\"}], \"scattercarpet\": [{\"marker\": {\"colorbar\": {\"outlinewidth\": 0, \"ticks\": \"\"}}, \"type\": \"scattercarpet\"}], \"scattergeo\": [{\"marker\": {\"colorbar\": {\"outlinewidth\": 0, \"ticks\": \"\"}}, \"type\": \"scattergeo\"}], \"scattergl\": [{\"marker\": {\"colorbar\": {\"outlinewidth\": 0, \"ticks\": \"\"}}, \"type\": \"scattergl\"}], \"scattermapbox\": [{\"marker\": {\"colorbar\": {\"outlinewidth\": 0, \"ticks\": \"\"}}, \"type\": \"scattermapbox\"}], \"scatterpolar\": [{\"marker\": {\"colorbar\": {\"outlinewidth\": 0, \"ticks\": \"\"}}, \"type\": \"scatterpolar\"}], \"scatterpolargl\": [{\"marker\": {\"colorbar\": {\"outlinewidth\": 0, \"ticks\": \"\"}}, \"type\": \"scatterpolargl\"}], \"scatterternary\": [{\"marker\": {\"colorbar\": {\"outlinewidth\": 0, \"ticks\": \"\"}}, \"type\": \"scatterternary\"}], \"surface\": [{\"colorbar\": {\"outlinewidth\": 0, \"ticks\": \"\"}, \"colorscale\": [[0.0, \"#0d0887\"], [0.1111111111111111, \"#46039f\"], [0.2222222222222222, \"#7201a8\"], [0.3333333333333333, \"#9c179e\"], [0.4444444444444444, \"#bd3786\"], [0.5555555555555556, \"#d8576b\"], [0.6666666666666666, \"#ed7953\"], [0.7777777777777778, \"#fb9f3a\"], [0.8888888888888888, \"#fdca26\"], [1.0, \"#f0f921\"]], \"type\": \"surface\"}], \"table\": [{\"cells\": {\"fill\": {\"color\": \"#EBF0F8\"}, \"line\": {\"color\": \"white\"}}, \"header\": {\"fill\": {\"color\": \"#C8D4E3\"}, \"line\": {\"color\": \"white\"}}, \"type\": \"table\"}]}, \"layout\": {\"annotationdefaults\": {\"arrowcolor\": \"#2a3f5f\", \"arrowhead\": 0, \"arrowwidth\": 1}, \"coloraxis\": {\"colorbar\": {\"outlinewidth\": 0, \"ticks\": \"\"}}, \"colorscale\": {\"diverging\": [[0, \"#8e0152\"], [0.1, \"#c51b7d\"], [0.2, \"#de77ae\"], [0.3, \"#f1b6da\"], [0.4, \"#fde0ef\"], [0.5, \"#f7f7f7\"], [0.6, \"#e6f5d0\"], [0.7, \"#b8e186\"], [0.8, \"#7fbc41\"], [0.9, \"#4d9221\"], [1, \"#276419\"]], \"sequential\": [[0.0, \"#0d0887\"], [0.1111111111111111, \"#46039f\"], [0.2222222222222222, \"#7201a8\"], [0.3333333333333333, \"#9c179e\"], [0.4444444444444444, \"#bd3786\"], [0.5555555555555556, \"#d8576b\"], [0.6666666666666666, \"#ed7953\"], [0.7777777777777778, \"#fb9f3a\"], [0.8888888888888888, \"#fdca26\"], [1.0, \"#f0f921\"]], \"sequentialminus\": [[0.0, \"#0d0887\"], [0.1111111111111111, \"#46039f\"], [0.2222222222222222, \"#7201a8\"], [0.3333333333333333, \"#9c179e\"], [0.4444444444444444, \"#bd3786\"], [0.5555555555555556, \"#d8576b\"], [0.6666666666666666, \"#ed7953\"], [0.7777777777777778, \"#fb9f3a\"], [0.8888888888888888, \"#fdca26\"], [1.0, \"#f0f921\"]]}, \"colorway\": [\"#636efa\", \"#EF553B\", \"#00cc96\", \"#ab63fa\", \"#FFA15A\", \"#19d3f3\", \"#FF6692\", \"#B6E880\", \"#FF97FF\", \"#FECB52\"], \"font\": {\"color\": \"#2a3f5f\"}, \"geo\": {\"bgcolor\": \"white\", \"lakecolor\": \"white\", \"landcolor\": \"#E5ECF6\", \"showlakes\": true, \"showland\": true, \"subunitcolor\": \"white\"}, \"hoverlabel\": {\"align\": \"left\"}, \"hovermode\": \"closest\", \"mapbox\": {\"style\": \"light\"}, \"paper_bgcolor\": \"white\", \"plot_bgcolor\": \"#E5ECF6\", \"polar\": {\"angularaxis\": {\"gridcolor\": \"white\", \"linecolor\": \"white\", \"ticks\": \"\"}, \"bgcolor\": \"#E5ECF6\", \"radialaxis\": {\"gridcolor\": \"white\", \"linecolor\": \"white\", \"ticks\": \"\"}}, \"scene\": {\"xaxis\": {\"backgroundcolor\": \"#E5ECF6\", \"gridcolor\": \"white\", \"gridwidth\": 2, \"linecolor\": \"white\", \"showbackground\": true, \"ticks\": \"\", \"zerolinecolor\": \"white\"}, \"yaxis\": {\"backgroundcolor\": \"#E5ECF6\", \"gridcolor\": \"white\", \"gridwidth\": 2, \"linecolor\": \"white\", \"showbackground\": true, \"ticks\": \"\", \"zerolinecolor\": \"white\"}, \"zaxis\": {\"backgroundcolor\": \"#E5ECF6\", \"gridcolor\": \"white\", \"gridwidth\": 2, \"linecolor\": \"white\", \"showbackground\": true, \"ticks\": \"\", \"zerolinecolor\": \"white\"}}, \"shapedefaults\": {\"line\": {\"color\": \"#2a3f5f\"}}, \"ternary\": {\"aaxis\": {\"gridcolor\": \"white\", \"linecolor\": \"white\", \"ticks\": \"\"}, \"baxis\": {\"gridcolor\": \"white\", \"linecolor\": \"white\", \"ticks\": \"\"}, \"bgcolor\": \"#E5ECF6\", \"caxis\": {\"gridcolor\": \"white\", \"linecolor\": \"white\", \"ticks\": \"\"}}, \"title\": {\"x\": 0.05}, \"xaxis\": {\"automargin\": true, \"gridcolor\": \"white\", \"linecolor\": \"white\", \"ticks\": \"\", \"title\": {\"standoff\": 15}, \"zerolinecolor\": \"white\", \"zerolinewidth\": 2}, \"yaxis\": {\"automargin\": true, \"gridcolor\": \"white\", \"linecolor\": \"white\", \"ticks\": \"\", \"title\": {\"standoff\": 15}, \"zerolinecolor\": \"white\", \"zerolinewidth\": 2}}}, \"title\": {\"font\": {\"color\": \"#4D5663\"}}, \"xaxis\": {\"gridcolor\": \"#E1E5ED\", \"showgrid\": true, \"tickfont\": {\"color\": \"#4D5663\"}, \"title\": {\"font\": {\"color\": \"#4D5663\"}, \"text\": \"\"}, \"zerolinecolor\": \"#E1E5ED\"}, \"yaxis\": {\"gridcolor\": \"#E1E5ED\", \"showgrid\": true, \"tickfont\": {\"color\": \"#4D5663\"}, \"title\": {\"font\": {\"color\": \"#4D5663\"}, \"text\": \"\"}, \"zerolinecolor\": \"#E1E5ED\"}},\n",
       "                        {\"showLink\": true, \"linkText\": \"Export to plot.ly\", \"plotlyServerURL\": \"https://plot.ly\", \"responsive\": true}\n",
       "                    ).then(function(){\n",
       "                            \n",
       "var gd = document.getElementById('b2fe7b59-75d2-4379-a7bc-1f6cda9c4532');\n",
       "var x = new MutationObserver(function (mutations, observer) {{\n",
       "        var display = window.getComputedStyle(gd).display;\n",
       "        if (!display || display === 'none') {{\n",
       "            console.log([gd, 'removed!']);\n",
       "            Plotly.purge(gd);\n",
       "            observer.disconnect();\n",
       "        }}\n",
       "}});\n",
       "\n",
       "// Listen for the removal of the full notebook cells\n",
       "var notebookContainer = gd.closest('#notebook-container');\n",
       "if (notebookContainer) {{\n",
       "    x.observe(notebookContainer, {childList: true});\n",
       "}}\n",
       "\n",
       "// Listen for the clearing of the current output cell\n",
       "var outputEl = gd.closest('.output');\n",
       "if (outputEl) {{\n",
       "    x.observe(outputEl, {childList: true});\n",
       "}}\n",
       "\n",
       "                        })\n",
       "                };\n",
       "                });\n",
       "            </script>\n",
       "        </div>"
      ]
     },
     "metadata": {},
     "output_type": "display_data"
    }
   ],
   "source": [
    "df.iplot(kind='bubble',x='A',y='B',size='C')"
   ]
  },
  {
   "cell_type": "markdown",
   "metadata": {},
   "source": [
    "## scatter_matrix()\n",
    "\n",
    "Similar to sns.pairplot()"
   ]
  },
  {
   "cell_type": "code",
   "execution_count": 22,
   "metadata": {},
   "outputs": [
    {
     "data": {
      "application/vnd.plotly.v1+json": {
       "config": {
        "linkText": "Export to plot.ly",
        "plotlyServerURL": "https://plot.ly",
        "showLink": true
       },
       "data": [
        {
         "histfunc": "count",
         "histnorm": "",
         "marker": {
          "color": "rgba(255, 153, 51, 1.0)",
          "line": {
           "color": "#4D5663",
           "width": 1.3
          }
         },
         "name": "A",
         "nbinsx": 10,
         "opacity": 0.8,
         "orientation": "v",
         "type": "histogram",
         "x": [
          1.1632319313482395,
          0.4006995105216627,
          -0.2956762478256533,
          -0.05169719393589064,
          0.00910757636508114,
          -0.6955839592405,
          -0.35909775057049803,
          -1.5625500495348743,
          0.280382662704461,
          0.6900988105151796,
          -2.7574912836742946,
          -0.07968419822034653,
          1.8332128879861818,
          1.4295281994653302,
          0.1252613779335597,
          -0.49769928744988495,
          -0.856393091788203,
          1.4352774817096858,
          -1.2664402308234686,
          0.7890502900382642,
          -1.46167053131466,
          0.8150472653619777,
          -1.17240523883422,
          -0.6705469117318189,
          -1.4341028074133875,
          -0.014599945431750708,
          0.7435879685265763,
          -2.848647374794672,
          0.49161354740033353,
          -0.45050436439059577,
          0.28881432704739796,
          0.33186383855201784,
          -0.047088381439171614,
          -0.9993636850678648,
          1.1206599697688173,
          1.1930326248835383,
          -1.1034554747230993,
          -0.5547348406545668,
          0.13945607788763917,
          1.301419479862865,
          -1.2400560909431215,
          0.6203031047198649,
          0.9380629637173821,
          -0.14400944082924053,
          -0.9240931840045439,
          -0.8282183540851877,
          -0.11961424790363061,
          -0.49999029669468653,
          0.9819908608077234,
          -0.11606300782428085,
          0.45764184722157275,
          0.49346586682197907,
          -0.5433622602059989,
          -1.7900480082481471,
          0.32044197002586217,
          -0.633058819620911,
          0.035453392741268346,
          0.28800897468143366,
          0.1270836766417439,
          1.1391905804798264,
          -0.058971810983125275,
          1.5960984036066292,
          0.043035034307208495,
          -0.8023299927990649,
          0.9613524445273515,
          -0.39736206448423356,
          0.2792623071725112,
          -0.36223179862154803,
          1.0386103659394246,
          0.768251393580555,
          -0.03247482932037407,
          -0.2833971496851408,
          -2.3264113817674885,
          0.3601066380079715,
          -0.8975379312800085,
          0.07627611530830201,
          0.36155396903651077,
          -0.17833430581015805,
          -0.6767697508725241,
          1.535979797909297,
          -0.4419843916432813,
          -0.7094090819406609,
          0.647624136408352,
          -0.056939817949727634,
          -2.0938503562353876,
          1.1522289116879099,
          0.43945695783916466,
          1.0199457327509938,
          0.8259047129688619,
          -0.43717286489986557,
          -1.8874859655183183,
          0.6348946192877947,
          -1.7859523956955943,
          0.13333163954187455,
          -0.6353918987424078,
          -1.0049116048271711,
          -0.24942294813512036,
          0.7019758240727191,
          0.6036035864612834,
          0.6023724883064032
         ],
         "xaxis": "x",
         "yaxis": "y"
        },
        {
         "line": {
          "color": "rgba(128, 128, 128, 1.0)",
          "dash": "solid",
          "shape": "linear",
          "width": 1.3
         },
         "marker": {
          "size": 2,
          "symbol": "circle"
         },
         "mode": "markers",
         "name": "A",
         "text": "",
         "type": "scatter",
         "x": [
          0.7557944147735085,
          0.08420801170730241,
          1.125224851480296,
          0.38065475151755207,
          0.5396274205240575,
          0.5683289602573715,
          -0.2608769685151894,
          -0.40282805854406645,
          1.0323173036744528,
          0.028417798834812127,
          -0.517174679146552,
          -1.920275899765896,
          -1.12992664746321,
          1.520453453577847,
          -0.6616003988885832,
          -2.2026206161735447,
          -0.11666027539963252,
          -2.2155337084780067,
          0.6367684799711685,
          -0.1764979359195468,
          1.3819423305761236,
          -0.008262148112657144,
          0.9782295514038942,
          1.99322695455303,
          -0.2550056163421702,
          1.1983104645087241,
          -1.1767282090517108,
          0.1866687098243254,
          -0.7443221314287102,
          -1.3368881098115208,
          0.8979161027537494,
          -0.6450371339227668,
          0.4674685984970453,
          1.0387929502296873,
          1.1420262987889602,
          0.33989156511313695,
          0.28218207921226246,
          0.7108031867533554,
          -0.19824614238408128,
          -0.9382975161738351,
          -0.30006528143077743,
          -0.02711395816594447,
          0.08773127271283397,
          1.1131128380108828,
          -1.5372209506583512,
          -1.2495788629223747,
          -0.5628672105320381,
          1.0253904572821646,
          0.12695003780597983,
          -0.6225220306494884,
          1.0034377291300447,
          -0.017920924540992887,
          0.7051442293937872,
          0.9768952039821863,
          0.1714519825542668,
          -0.4738481699106438,
          1.228276732941743,
          -0.004907755627084942,
          1.1020113226868538,
          -1.537743962725332,
          2.3098300590918144,
          0.8495190634194937,
          -1.8418600829624527,
          -0.5964836394497389,
          0.6388598070914784,
          0.3557569827543802,
          -0.7658323525724573,
          0.015269993899470594,
          -1.3551368944021027,
          0.4828390365168581,
          -0.9696325544797003,
          -0.39790738293710254,
          0.4011413136842935,
          -0.678147361211587,
          -0.5881407468585984,
          0.7315029154129858,
          1.0551627255471088,
          1.3012639291825332,
          1.752203520894791,
          -0.7549413493846202,
          -1.2856592275485377,
          0.772007266640758,
          -1.0868301893872796,
          -0.6748215539231817,
          -1.062831300971065,
          0.46462908811188613,
          -1.2584291900875348,
          -0.457270169220814,
          0.2627928071210074,
          -1.724573428359919,
          1.5939081634088021,
          0.5658581330993231,
          -0.7086495830979483,
          0.8100065851099465,
          -0.3883548594234347,
          -0.9402175365492719,
          -0.14248605623081273,
          1.336233786743859,
          0.030824605229955466,
          0.42536427696008167
         ],
         "xaxis": "x2",
         "y": [
          1.1632319313482395,
          0.4006995105216627,
          -0.2956762478256533,
          -0.05169719393589064,
          0.00910757636508114,
          -0.6955839592405,
          -0.35909775057049803,
          -1.5625500495348743,
          0.280382662704461,
          0.6900988105151796,
          -2.7574912836742946,
          -0.07968419822034653,
          1.8332128879861818,
          1.4295281994653302,
          0.1252613779335597,
          -0.49769928744988495,
          -0.856393091788203,
          1.4352774817096858,
          -1.2664402308234686,
          0.7890502900382642,
          -1.46167053131466,
          0.8150472653619777,
          -1.17240523883422,
          -0.6705469117318189,
          -1.4341028074133875,
          -0.014599945431750708,
          0.7435879685265763,
          -2.848647374794672,
          0.49161354740033353,
          -0.45050436439059577,
          0.28881432704739796,
          0.33186383855201784,
          -0.047088381439171614,
          -0.9993636850678648,
          1.1206599697688173,
          1.1930326248835383,
          -1.1034554747230993,
          -0.5547348406545668,
          0.13945607788763917,
          1.301419479862865,
          -1.2400560909431215,
          0.6203031047198649,
          0.9380629637173821,
          -0.14400944082924053,
          -0.9240931840045439,
          -0.8282183540851877,
          -0.11961424790363061,
          -0.49999029669468653,
          0.9819908608077234,
          -0.11606300782428085,
          0.45764184722157275,
          0.49346586682197907,
          -0.5433622602059989,
          -1.7900480082481471,
          0.32044197002586217,
          -0.633058819620911,
          0.035453392741268346,
          0.28800897468143366,
          0.1270836766417439,
          1.1391905804798264,
          -0.058971810983125275,
          1.5960984036066292,
          0.043035034307208495,
          -0.8023299927990649,
          0.9613524445273515,
          -0.39736206448423356,
          0.2792623071725112,
          -0.36223179862154803,
          1.0386103659394246,
          0.768251393580555,
          -0.03247482932037407,
          -0.2833971496851408,
          -2.3264113817674885,
          0.3601066380079715,
          -0.8975379312800085,
          0.07627611530830201,
          0.36155396903651077,
          -0.17833430581015805,
          -0.6767697508725241,
          1.535979797909297,
          -0.4419843916432813,
          -0.7094090819406609,
          0.647624136408352,
          -0.056939817949727634,
          -2.0938503562353876,
          1.1522289116879099,
          0.43945695783916466,
          1.0199457327509938,
          0.8259047129688619,
          -0.43717286489986557,
          -1.8874859655183183,
          0.6348946192877947,
          -1.7859523956955943,
          0.13333163954187455,
          -0.6353918987424078,
          -1.0049116048271711,
          -0.24942294813512036,
          0.7019758240727191,
          0.6036035864612834,
          0.6023724883064032
         ],
         "yaxis": "y2"
        },
        {
         "line": {
          "color": "rgba(128, 128, 128, 1.0)",
          "dash": "solid",
          "shape": "linear",
          "width": 1.3
         },
         "marker": {
          "size": 2,
          "symbol": "circle"
         },
         "mode": "markers",
         "name": "A",
         "text": "",
         "type": "scatter",
         "x": [
          1.1274878920186688,
          -0.9070224730561507,
          -1.2358374424996545,
          2.0133455209160096,
          -0.23532700276852167,
          -0.0843349411395761,
          0.5564580270064815,
          -2.001113199530813,
          -1.0237751564318915,
          0.7112455681071055,
          -0.095897814239274,
          0.012302705726989435,
          -0.3642422404181999,
          0.3403436190656834,
          1.8558023905088181,
          -0.02028397108156397,
          1.7265027173812615,
          0.718112498437952,
          -1.2442103221951375,
          0.2265317886511371,
          0.39388433813836293,
          -1.0083019157885458,
          -0.012422409185549738,
          0.8298767634416259,
          -0.5579516556769883,
          0.9823755782460005,
          0.979237318413185,
          -0.7590536455033828,
          -0.10566195252374322,
          0.7843088049510172,
          -0.20937563921771174,
          0.6816260923662242,
          -0.12794614849386346,
          -0.9357881012238115,
          0.435562156771844,
          -0.10226391303079788,
          1.1379034453854844,
          1.0214649224641377,
          -0.6416628431943977,
          0.14545977454861278,
          0.08534469747929535,
          1.6327934059789464,
          0.02546078625189333,
          0.507331299025282,
          -0.7541731810959679,
          -0.5400909224669489,
          2.0253428691208164,
          -1.7452483730247665,
          0.4332690152684399,
          -0.3747344686538722,
          0.35525626014582207,
          -0.11240294522341022,
          -0.1423042070038813,
          -0.928227200658264,
          0.6571710516921412,
          0.11739964208889658,
          -0.22783558748277402,
          0.003288864602357087,
          0.8932089752608745,
          -0.6089434361935895,
          -0.02747045092598185,
          -1.115382312401734,
          0.13923713465209778,
          1.5561479230532713,
          -0.7821445775333665,
          0.8246643458772466,
          2.8006403490602323,
          -1.9017618441603639,
          -0.2748926295358548,
          -0.13304470307879515,
          0.18325574328819283,
          0.17276872192465387,
          -0.817154036565531,
          -0.29850444195766196,
          0.45296083043296126,
          -0.6807807248975272,
          0.3103308884259926,
          0.8609755862973423,
          -0.14059133673323243,
          -1.3648969141564753,
          -0.1701187924647384,
          -0.575823442122371,
          -0.5391924677629335,
          -0.616544499309483,
          -0.6398922990169684,
          0.02217138929332535,
          1.627069719620034,
          -0.29193740505071714,
          -0.07953601275712574,
          -1.536503639647945,
          0.32698044720709857,
          0.25388847357176747,
          -1.4191505697267244,
          -0.4095786747646304,
          0.4342950977626566,
          0.6805375373991261,
          0.9938300719303992,
          0.9600263358175988,
          -1.4407095325358261,
          -0.44554279426885285
         ],
         "xaxis": "x3",
         "y": [
          1.1632319313482395,
          0.4006995105216627,
          -0.2956762478256533,
          -0.05169719393589064,
          0.00910757636508114,
          -0.6955839592405,
          -0.35909775057049803,
          -1.5625500495348743,
          0.280382662704461,
          0.6900988105151796,
          -2.7574912836742946,
          -0.07968419822034653,
          1.8332128879861818,
          1.4295281994653302,
          0.1252613779335597,
          -0.49769928744988495,
          -0.856393091788203,
          1.4352774817096858,
          -1.2664402308234686,
          0.7890502900382642,
          -1.46167053131466,
          0.8150472653619777,
          -1.17240523883422,
          -0.6705469117318189,
          -1.4341028074133875,
          -0.014599945431750708,
          0.7435879685265763,
          -2.848647374794672,
          0.49161354740033353,
          -0.45050436439059577,
          0.28881432704739796,
          0.33186383855201784,
          -0.047088381439171614,
          -0.9993636850678648,
          1.1206599697688173,
          1.1930326248835383,
          -1.1034554747230993,
          -0.5547348406545668,
          0.13945607788763917,
          1.301419479862865,
          -1.2400560909431215,
          0.6203031047198649,
          0.9380629637173821,
          -0.14400944082924053,
          -0.9240931840045439,
          -0.8282183540851877,
          -0.11961424790363061,
          -0.49999029669468653,
          0.9819908608077234,
          -0.11606300782428085,
          0.45764184722157275,
          0.49346586682197907,
          -0.5433622602059989,
          -1.7900480082481471,
          0.32044197002586217,
          -0.633058819620911,
          0.035453392741268346,
          0.28800897468143366,
          0.1270836766417439,
          1.1391905804798264,
          -0.058971810983125275,
          1.5960984036066292,
          0.043035034307208495,
          -0.8023299927990649,
          0.9613524445273515,
          -0.39736206448423356,
          0.2792623071725112,
          -0.36223179862154803,
          1.0386103659394246,
          0.768251393580555,
          -0.03247482932037407,
          -0.2833971496851408,
          -2.3264113817674885,
          0.3601066380079715,
          -0.8975379312800085,
          0.07627611530830201,
          0.36155396903651077,
          -0.17833430581015805,
          -0.6767697508725241,
          1.535979797909297,
          -0.4419843916432813,
          -0.7094090819406609,
          0.647624136408352,
          -0.056939817949727634,
          -2.0938503562353876,
          1.1522289116879099,
          0.43945695783916466,
          1.0199457327509938,
          0.8259047129688619,
          -0.43717286489986557,
          -1.8874859655183183,
          0.6348946192877947,
          -1.7859523956955943,
          0.13333163954187455,
          -0.6353918987424078,
          -1.0049116048271711,
          -0.24942294813512036,
          0.7019758240727191,
          0.6036035864612834,
          0.6023724883064032
         ],
         "yaxis": "y3"
        },
        {
         "line": {
          "color": "rgba(128, 128, 128, 1.0)",
          "dash": "solid",
          "shape": "linear",
          "width": 1.3
         },
         "marker": {
          "size": 2,
          "symbol": "circle"
         },
         "mode": "markers",
         "name": "A",
         "text": "",
         "type": "scatter",
         "x": [
          0.05577750943415836,
          0.4731162721670755,
          0.8560839821214502,
          -0.16454661556248282,
          -0.04723352810088136,
          -0.6959294644947278,
          -0.9283690607897231,
          -0.36240042398379857,
          -0.24681455860509896,
          1.5764744809546858,
          0.467702006018148,
          -1.8522219727940552,
          -1.4816439387161457,
          1.804507541246819,
          -0.19643428971750973,
          -2.6274293905482797,
          -0.7768222927835762,
          1.7251663901834515,
          0.35496308712359387,
          0.3383926563359808,
          -0.07615724073479516,
          1.3682260553011878,
          -2.738649240803818,
          1.188031571791971,
          -1.85073502836093,
          -0.3058818239948589,
          -0.46030388366757613,
          0.5674503237924392,
          -0.28786456016097994,
          -0.20122600508922805,
          0.3003496913856691,
          -0.13686447814901076,
          -0.6934926623103428,
          0.4677493800110422,
          -0.04967031335505621,
          0.0029873487534157967,
          1.3050058240936475,
          2.0822739524265272,
          1.3372454344194475,
          0.23248930744179683,
          0.6919630662398372,
          -0.20847708621608946,
          -0.7492561186811212,
          0.47067395845260995,
          -0.47476119697340363,
          -0.851722904254601,
          -0.1722634109699815,
          1.015687820891181,
          0.27957268479162284,
          -0.5264122026564911,
          1.3289085772682034,
          0.5926467792260204,
          0.20955880417222356,
          -0.03525223109824736,
          -0.24849056413308096,
          -0.12093662344667885,
          -0.6918759359585686,
          -0.9029716877333371,
          -0.5418786406852931,
          -1.1298724294260758,
          -1.022858650436064,
          -0.5049720436473629,
          0.07599191946717017,
          2.0716370022098443,
          0.588499848369862,
          -1.3347258669166913,
          1.1598158070388573,
          -0.2266657196158616,
          1.8175559972490056,
          0.20600794192633626,
          1.0695000792171083,
          -0.7875846395635173,
          -2.0945983332639955,
          0.7296362863503695,
          -0.8393480703685064,
          -0.13220048186587524,
          -0.9042768088880324,
          -0.6617618893943592,
          0.5785165671863408,
          -1.319808505930559,
          -0.0976818338748379,
          2.1204248438117923,
          1.1993541891064432,
          -0.5489240729639001,
          -0.766713592715684,
          -1.0169604849313043,
          0.16833552818333108,
          0.33694671414349947,
          0.06698343272097228,
          0.307382584599932,
          -0.19281105103566756,
          -0.5136645854214837,
          0.09057945378131652,
          -0.3266030820021077,
          -0.6521034755451522,
          -1.0022186044034576,
          0.8353405500554416,
          -0.40929600781708086,
          0.5920213330376822,
          -1.5910210224599777
         ],
         "xaxis": "x4",
         "y": [
          1.1632319313482395,
          0.4006995105216627,
          -0.2956762478256533,
          -0.05169719393589064,
          0.00910757636508114,
          -0.6955839592405,
          -0.35909775057049803,
          -1.5625500495348743,
          0.280382662704461,
          0.6900988105151796,
          -2.7574912836742946,
          -0.07968419822034653,
          1.8332128879861818,
          1.4295281994653302,
          0.1252613779335597,
          -0.49769928744988495,
          -0.856393091788203,
          1.4352774817096858,
          -1.2664402308234686,
          0.7890502900382642,
          -1.46167053131466,
          0.8150472653619777,
          -1.17240523883422,
          -0.6705469117318189,
          -1.4341028074133875,
          -0.014599945431750708,
          0.7435879685265763,
          -2.848647374794672,
          0.49161354740033353,
          -0.45050436439059577,
          0.28881432704739796,
          0.33186383855201784,
          -0.047088381439171614,
          -0.9993636850678648,
          1.1206599697688173,
          1.1930326248835383,
          -1.1034554747230993,
          -0.5547348406545668,
          0.13945607788763917,
          1.301419479862865,
          -1.2400560909431215,
          0.6203031047198649,
          0.9380629637173821,
          -0.14400944082924053,
          -0.9240931840045439,
          -0.8282183540851877,
          -0.11961424790363061,
          -0.49999029669468653,
          0.9819908608077234,
          -0.11606300782428085,
          0.45764184722157275,
          0.49346586682197907,
          -0.5433622602059989,
          -1.7900480082481471,
          0.32044197002586217,
          -0.633058819620911,
          0.035453392741268346,
          0.28800897468143366,
          0.1270836766417439,
          1.1391905804798264,
          -0.058971810983125275,
          1.5960984036066292,
          0.043035034307208495,
          -0.8023299927990649,
          0.9613524445273515,
          -0.39736206448423356,
          0.2792623071725112,
          -0.36223179862154803,
          1.0386103659394246,
          0.768251393580555,
          -0.03247482932037407,
          -0.2833971496851408,
          -2.3264113817674885,
          0.3601066380079715,
          -0.8975379312800085,
          0.07627611530830201,
          0.36155396903651077,
          -0.17833430581015805,
          -0.6767697508725241,
          1.535979797909297,
          -0.4419843916432813,
          -0.7094090819406609,
          0.647624136408352,
          -0.056939817949727634,
          -2.0938503562353876,
          1.1522289116879099,
          0.43945695783916466,
          1.0199457327509938,
          0.8259047129688619,
          -0.43717286489986557,
          -1.8874859655183183,
          0.6348946192877947,
          -1.7859523956955943,
          0.13333163954187455,
          -0.6353918987424078,
          -1.0049116048271711,
          -0.24942294813512036,
          0.7019758240727191,
          0.6036035864612834,
          0.6023724883064032
         ],
         "yaxis": "y4"
        },
        {
         "line": {
          "color": "rgba(128, 128, 128, 1.0)",
          "dash": "solid",
          "shape": "linear",
          "width": 1.3
         },
         "marker": {
          "size": 2,
          "symbol": "circle"
         },
         "mode": "markers",
         "name": "B",
         "text": "",
         "type": "scatter",
         "x": [
          1.1632319313482395,
          0.4006995105216627,
          -0.2956762478256533,
          -0.05169719393589064,
          0.00910757636508114,
          -0.6955839592405,
          -0.35909775057049803,
          -1.5625500495348743,
          0.280382662704461,
          0.6900988105151796,
          -2.7574912836742946,
          -0.07968419822034653,
          1.8332128879861818,
          1.4295281994653302,
          0.1252613779335597,
          -0.49769928744988495,
          -0.856393091788203,
          1.4352774817096858,
          -1.2664402308234686,
          0.7890502900382642,
          -1.46167053131466,
          0.8150472653619777,
          -1.17240523883422,
          -0.6705469117318189,
          -1.4341028074133875,
          -0.014599945431750708,
          0.7435879685265763,
          -2.848647374794672,
          0.49161354740033353,
          -0.45050436439059577,
          0.28881432704739796,
          0.33186383855201784,
          -0.047088381439171614,
          -0.9993636850678648,
          1.1206599697688173,
          1.1930326248835383,
          -1.1034554747230993,
          -0.5547348406545668,
          0.13945607788763917,
          1.301419479862865,
          -1.2400560909431215,
          0.6203031047198649,
          0.9380629637173821,
          -0.14400944082924053,
          -0.9240931840045439,
          -0.8282183540851877,
          -0.11961424790363061,
          -0.49999029669468653,
          0.9819908608077234,
          -0.11606300782428085,
          0.45764184722157275,
          0.49346586682197907,
          -0.5433622602059989,
          -1.7900480082481471,
          0.32044197002586217,
          -0.633058819620911,
          0.035453392741268346,
          0.28800897468143366,
          0.1270836766417439,
          1.1391905804798264,
          -0.058971810983125275,
          1.5960984036066292,
          0.043035034307208495,
          -0.8023299927990649,
          0.9613524445273515,
          -0.39736206448423356,
          0.2792623071725112,
          -0.36223179862154803,
          1.0386103659394246,
          0.768251393580555,
          -0.03247482932037407,
          -0.2833971496851408,
          -2.3264113817674885,
          0.3601066380079715,
          -0.8975379312800085,
          0.07627611530830201,
          0.36155396903651077,
          -0.17833430581015805,
          -0.6767697508725241,
          1.535979797909297,
          -0.4419843916432813,
          -0.7094090819406609,
          0.647624136408352,
          -0.056939817949727634,
          -2.0938503562353876,
          1.1522289116879099,
          0.43945695783916466,
          1.0199457327509938,
          0.8259047129688619,
          -0.43717286489986557,
          -1.8874859655183183,
          0.6348946192877947,
          -1.7859523956955943,
          0.13333163954187455,
          -0.6353918987424078,
          -1.0049116048271711,
          -0.24942294813512036,
          0.7019758240727191,
          0.6036035864612834,
          0.6023724883064032
         ],
         "xaxis": "x5",
         "y": [
          0.7557944147735085,
          0.08420801170730241,
          1.125224851480296,
          0.38065475151755207,
          0.5396274205240575,
          0.5683289602573715,
          -0.2608769685151894,
          -0.40282805854406645,
          1.0323173036744528,
          0.028417798834812127,
          -0.517174679146552,
          -1.920275899765896,
          -1.12992664746321,
          1.520453453577847,
          -0.6616003988885832,
          -2.2026206161735447,
          -0.11666027539963252,
          -2.2155337084780067,
          0.6367684799711685,
          -0.1764979359195468,
          1.3819423305761236,
          -0.008262148112657144,
          0.9782295514038942,
          1.99322695455303,
          -0.2550056163421702,
          1.1983104645087241,
          -1.1767282090517108,
          0.1866687098243254,
          -0.7443221314287102,
          -1.3368881098115208,
          0.8979161027537494,
          -0.6450371339227668,
          0.4674685984970453,
          1.0387929502296873,
          1.1420262987889602,
          0.33989156511313695,
          0.28218207921226246,
          0.7108031867533554,
          -0.19824614238408128,
          -0.9382975161738351,
          -0.30006528143077743,
          -0.02711395816594447,
          0.08773127271283397,
          1.1131128380108828,
          -1.5372209506583512,
          -1.2495788629223747,
          -0.5628672105320381,
          1.0253904572821646,
          0.12695003780597983,
          -0.6225220306494884,
          1.0034377291300447,
          -0.017920924540992887,
          0.7051442293937872,
          0.9768952039821863,
          0.1714519825542668,
          -0.4738481699106438,
          1.228276732941743,
          -0.004907755627084942,
          1.1020113226868538,
          -1.537743962725332,
          2.3098300590918144,
          0.8495190634194937,
          -1.8418600829624527,
          -0.5964836394497389,
          0.6388598070914784,
          0.3557569827543802,
          -0.7658323525724573,
          0.015269993899470594,
          -1.3551368944021027,
          0.4828390365168581,
          -0.9696325544797003,
          -0.39790738293710254,
          0.4011413136842935,
          -0.678147361211587,
          -0.5881407468585984,
          0.7315029154129858,
          1.0551627255471088,
          1.3012639291825332,
          1.752203520894791,
          -0.7549413493846202,
          -1.2856592275485377,
          0.772007266640758,
          -1.0868301893872796,
          -0.6748215539231817,
          -1.062831300971065,
          0.46462908811188613,
          -1.2584291900875348,
          -0.457270169220814,
          0.2627928071210074,
          -1.724573428359919,
          1.5939081634088021,
          0.5658581330993231,
          -0.7086495830979483,
          0.8100065851099465,
          -0.3883548594234347,
          -0.9402175365492719,
          -0.14248605623081273,
          1.336233786743859,
          0.030824605229955466,
          0.42536427696008167
         ],
         "yaxis": "y5"
        },
        {
         "histfunc": "count",
         "histnorm": "",
         "marker": {
          "color": "rgba(55, 128, 191, 1.0)",
          "line": {
           "color": "#4D5663",
           "width": 1.3
          }
         },
         "name": "B",
         "nbinsx": 10,
         "opacity": 0.8,
         "orientation": "v",
         "type": "histogram",
         "x": [
          0.7557944147735085,
          0.08420801170730241,
          1.125224851480296,
          0.38065475151755207,
          0.5396274205240575,
          0.5683289602573715,
          -0.2608769685151894,
          -0.40282805854406645,
          1.0323173036744528,
          0.028417798834812127,
          -0.517174679146552,
          -1.920275899765896,
          -1.12992664746321,
          1.520453453577847,
          -0.6616003988885832,
          -2.2026206161735447,
          -0.11666027539963252,
          -2.2155337084780067,
          0.6367684799711685,
          -0.1764979359195468,
          1.3819423305761236,
          -0.008262148112657144,
          0.9782295514038942,
          1.99322695455303,
          -0.2550056163421702,
          1.1983104645087241,
          -1.1767282090517108,
          0.1866687098243254,
          -0.7443221314287102,
          -1.3368881098115208,
          0.8979161027537494,
          -0.6450371339227668,
          0.4674685984970453,
          1.0387929502296873,
          1.1420262987889602,
          0.33989156511313695,
          0.28218207921226246,
          0.7108031867533554,
          -0.19824614238408128,
          -0.9382975161738351,
          -0.30006528143077743,
          -0.02711395816594447,
          0.08773127271283397,
          1.1131128380108828,
          -1.5372209506583512,
          -1.2495788629223747,
          -0.5628672105320381,
          1.0253904572821646,
          0.12695003780597983,
          -0.6225220306494884,
          1.0034377291300447,
          -0.017920924540992887,
          0.7051442293937872,
          0.9768952039821863,
          0.1714519825542668,
          -0.4738481699106438,
          1.228276732941743,
          -0.004907755627084942,
          1.1020113226868538,
          -1.537743962725332,
          2.3098300590918144,
          0.8495190634194937,
          -1.8418600829624527,
          -0.5964836394497389,
          0.6388598070914784,
          0.3557569827543802,
          -0.7658323525724573,
          0.015269993899470594,
          -1.3551368944021027,
          0.4828390365168581,
          -0.9696325544797003,
          -0.39790738293710254,
          0.4011413136842935,
          -0.678147361211587,
          -0.5881407468585984,
          0.7315029154129858,
          1.0551627255471088,
          1.3012639291825332,
          1.752203520894791,
          -0.7549413493846202,
          -1.2856592275485377,
          0.772007266640758,
          -1.0868301893872796,
          -0.6748215539231817,
          -1.062831300971065,
          0.46462908811188613,
          -1.2584291900875348,
          -0.457270169220814,
          0.2627928071210074,
          -1.724573428359919,
          1.5939081634088021,
          0.5658581330993231,
          -0.7086495830979483,
          0.8100065851099465,
          -0.3883548594234347,
          -0.9402175365492719,
          -0.14248605623081273,
          1.336233786743859,
          0.030824605229955466,
          0.42536427696008167
         ],
         "xaxis": "x6",
         "yaxis": "y6"
        },
        {
         "line": {
          "color": "rgba(128, 128, 128, 1.0)",
          "dash": "solid",
          "shape": "linear",
          "width": 1.3
         },
         "marker": {
          "size": 2,
          "symbol": "circle"
         },
         "mode": "markers",
         "name": "B",
         "text": "",
         "type": "scatter",
         "x": [
          1.1274878920186688,
          -0.9070224730561507,
          -1.2358374424996545,
          2.0133455209160096,
          -0.23532700276852167,
          -0.0843349411395761,
          0.5564580270064815,
          -2.001113199530813,
          -1.0237751564318915,
          0.7112455681071055,
          -0.095897814239274,
          0.012302705726989435,
          -0.3642422404181999,
          0.3403436190656834,
          1.8558023905088181,
          -0.02028397108156397,
          1.7265027173812615,
          0.718112498437952,
          -1.2442103221951375,
          0.2265317886511371,
          0.39388433813836293,
          -1.0083019157885458,
          -0.012422409185549738,
          0.8298767634416259,
          -0.5579516556769883,
          0.9823755782460005,
          0.979237318413185,
          -0.7590536455033828,
          -0.10566195252374322,
          0.7843088049510172,
          -0.20937563921771174,
          0.6816260923662242,
          -0.12794614849386346,
          -0.9357881012238115,
          0.435562156771844,
          -0.10226391303079788,
          1.1379034453854844,
          1.0214649224641377,
          -0.6416628431943977,
          0.14545977454861278,
          0.08534469747929535,
          1.6327934059789464,
          0.02546078625189333,
          0.507331299025282,
          -0.7541731810959679,
          -0.5400909224669489,
          2.0253428691208164,
          -1.7452483730247665,
          0.4332690152684399,
          -0.3747344686538722,
          0.35525626014582207,
          -0.11240294522341022,
          -0.1423042070038813,
          -0.928227200658264,
          0.6571710516921412,
          0.11739964208889658,
          -0.22783558748277402,
          0.003288864602357087,
          0.8932089752608745,
          -0.6089434361935895,
          -0.02747045092598185,
          -1.115382312401734,
          0.13923713465209778,
          1.5561479230532713,
          -0.7821445775333665,
          0.8246643458772466,
          2.8006403490602323,
          -1.9017618441603639,
          -0.2748926295358548,
          -0.13304470307879515,
          0.18325574328819283,
          0.17276872192465387,
          -0.817154036565531,
          -0.29850444195766196,
          0.45296083043296126,
          -0.6807807248975272,
          0.3103308884259926,
          0.8609755862973423,
          -0.14059133673323243,
          -1.3648969141564753,
          -0.1701187924647384,
          -0.575823442122371,
          -0.5391924677629335,
          -0.616544499309483,
          -0.6398922990169684,
          0.02217138929332535,
          1.627069719620034,
          -0.29193740505071714,
          -0.07953601275712574,
          -1.536503639647945,
          0.32698044720709857,
          0.25388847357176747,
          -1.4191505697267244,
          -0.4095786747646304,
          0.4342950977626566,
          0.6805375373991261,
          0.9938300719303992,
          0.9600263358175988,
          -1.4407095325358261,
          -0.44554279426885285
         ],
         "xaxis": "x7",
         "y": [
          0.7557944147735085,
          0.08420801170730241,
          1.125224851480296,
          0.38065475151755207,
          0.5396274205240575,
          0.5683289602573715,
          -0.2608769685151894,
          -0.40282805854406645,
          1.0323173036744528,
          0.028417798834812127,
          -0.517174679146552,
          -1.920275899765896,
          -1.12992664746321,
          1.520453453577847,
          -0.6616003988885832,
          -2.2026206161735447,
          -0.11666027539963252,
          -2.2155337084780067,
          0.6367684799711685,
          -0.1764979359195468,
          1.3819423305761236,
          -0.008262148112657144,
          0.9782295514038942,
          1.99322695455303,
          -0.2550056163421702,
          1.1983104645087241,
          -1.1767282090517108,
          0.1866687098243254,
          -0.7443221314287102,
          -1.3368881098115208,
          0.8979161027537494,
          -0.6450371339227668,
          0.4674685984970453,
          1.0387929502296873,
          1.1420262987889602,
          0.33989156511313695,
          0.28218207921226246,
          0.7108031867533554,
          -0.19824614238408128,
          -0.9382975161738351,
          -0.30006528143077743,
          -0.02711395816594447,
          0.08773127271283397,
          1.1131128380108828,
          -1.5372209506583512,
          -1.2495788629223747,
          -0.5628672105320381,
          1.0253904572821646,
          0.12695003780597983,
          -0.6225220306494884,
          1.0034377291300447,
          -0.017920924540992887,
          0.7051442293937872,
          0.9768952039821863,
          0.1714519825542668,
          -0.4738481699106438,
          1.228276732941743,
          -0.004907755627084942,
          1.1020113226868538,
          -1.537743962725332,
          2.3098300590918144,
          0.8495190634194937,
          -1.8418600829624527,
          -0.5964836394497389,
          0.6388598070914784,
          0.3557569827543802,
          -0.7658323525724573,
          0.015269993899470594,
          -1.3551368944021027,
          0.4828390365168581,
          -0.9696325544797003,
          -0.39790738293710254,
          0.4011413136842935,
          -0.678147361211587,
          -0.5881407468585984,
          0.7315029154129858,
          1.0551627255471088,
          1.3012639291825332,
          1.752203520894791,
          -0.7549413493846202,
          -1.2856592275485377,
          0.772007266640758,
          -1.0868301893872796,
          -0.6748215539231817,
          -1.062831300971065,
          0.46462908811188613,
          -1.2584291900875348,
          -0.457270169220814,
          0.2627928071210074,
          -1.724573428359919,
          1.5939081634088021,
          0.5658581330993231,
          -0.7086495830979483,
          0.8100065851099465,
          -0.3883548594234347,
          -0.9402175365492719,
          -0.14248605623081273,
          1.336233786743859,
          0.030824605229955466,
          0.42536427696008167
         ],
         "yaxis": "y7"
        },
        {
         "line": {
          "color": "rgba(128, 128, 128, 1.0)",
          "dash": "solid",
          "shape": "linear",
          "width": 1.3
         },
         "marker": {
          "size": 2,
          "symbol": "circle"
         },
         "mode": "markers",
         "name": "B",
         "text": "",
         "type": "scatter",
         "x": [
          0.05577750943415836,
          0.4731162721670755,
          0.8560839821214502,
          -0.16454661556248282,
          -0.04723352810088136,
          -0.6959294644947278,
          -0.9283690607897231,
          -0.36240042398379857,
          -0.24681455860509896,
          1.5764744809546858,
          0.467702006018148,
          -1.8522219727940552,
          -1.4816439387161457,
          1.804507541246819,
          -0.19643428971750973,
          -2.6274293905482797,
          -0.7768222927835762,
          1.7251663901834515,
          0.35496308712359387,
          0.3383926563359808,
          -0.07615724073479516,
          1.3682260553011878,
          -2.738649240803818,
          1.188031571791971,
          -1.85073502836093,
          -0.3058818239948589,
          -0.46030388366757613,
          0.5674503237924392,
          -0.28786456016097994,
          -0.20122600508922805,
          0.3003496913856691,
          -0.13686447814901076,
          -0.6934926623103428,
          0.4677493800110422,
          -0.04967031335505621,
          0.0029873487534157967,
          1.3050058240936475,
          2.0822739524265272,
          1.3372454344194475,
          0.23248930744179683,
          0.6919630662398372,
          -0.20847708621608946,
          -0.7492561186811212,
          0.47067395845260995,
          -0.47476119697340363,
          -0.851722904254601,
          -0.1722634109699815,
          1.015687820891181,
          0.27957268479162284,
          -0.5264122026564911,
          1.3289085772682034,
          0.5926467792260204,
          0.20955880417222356,
          -0.03525223109824736,
          -0.24849056413308096,
          -0.12093662344667885,
          -0.6918759359585686,
          -0.9029716877333371,
          -0.5418786406852931,
          -1.1298724294260758,
          -1.022858650436064,
          -0.5049720436473629,
          0.07599191946717017,
          2.0716370022098443,
          0.588499848369862,
          -1.3347258669166913,
          1.1598158070388573,
          -0.2266657196158616,
          1.8175559972490056,
          0.20600794192633626,
          1.0695000792171083,
          -0.7875846395635173,
          -2.0945983332639955,
          0.7296362863503695,
          -0.8393480703685064,
          -0.13220048186587524,
          -0.9042768088880324,
          -0.6617618893943592,
          0.5785165671863408,
          -1.319808505930559,
          -0.0976818338748379,
          2.1204248438117923,
          1.1993541891064432,
          -0.5489240729639001,
          -0.766713592715684,
          -1.0169604849313043,
          0.16833552818333108,
          0.33694671414349947,
          0.06698343272097228,
          0.307382584599932,
          -0.19281105103566756,
          -0.5136645854214837,
          0.09057945378131652,
          -0.3266030820021077,
          -0.6521034755451522,
          -1.0022186044034576,
          0.8353405500554416,
          -0.40929600781708086,
          0.5920213330376822,
          -1.5910210224599777
         ],
         "xaxis": "x8",
         "y": [
          0.7557944147735085,
          0.08420801170730241,
          1.125224851480296,
          0.38065475151755207,
          0.5396274205240575,
          0.5683289602573715,
          -0.2608769685151894,
          -0.40282805854406645,
          1.0323173036744528,
          0.028417798834812127,
          -0.517174679146552,
          -1.920275899765896,
          -1.12992664746321,
          1.520453453577847,
          -0.6616003988885832,
          -2.2026206161735447,
          -0.11666027539963252,
          -2.2155337084780067,
          0.6367684799711685,
          -0.1764979359195468,
          1.3819423305761236,
          -0.008262148112657144,
          0.9782295514038942,
          1.99322695455303,
          -0.2550056163421702,
          1.1983104645087241,
          -1.1767282090517108,
          0.1866687098243254,
          -0.7443221314287102,
          -1.3368881098115208,
          0.8979161027537494,
          -0.6450371339227668,
          0.4674685984970453,
          1.0387929502296873,
          1.1420262987889602,
          0.33989156511313695,
          0.28218207921226246,
          0.7108031867533554,
          -0.19824614238408128,
          -0.9382975161738351,
          -0.30006528143077743,
          -0.02711395816594447,
          0.08773127271283397,
          1.1131128380108828,
          -1.5372209506583512,
          -1.2495788629223747,
          -0.5628672105320381,
          1.0253904572821646,
          0.12695003780597983,
          -0.6225220306494884,
          1.0034377291300447,
          -0.017920924540992887,
          0.7051442293937872,
          0.9768952039821863,
          0.1714519825542668,
          -0.4738481699106438,
          1.228276732941743,
          -0.004907755627084942,
          1.1020113226868538,
          -1.537743962725332,
          2.3098300590918144,
          0.8495190634194937,
          -1.8418600829624527,
          -0.5964836394497389,
          0.6388598070914784,
          0.3557569827543802,
          -0.7658323525724573,
          0.015269993899470594,
          -1.3551368944021027,
          0.4828390365168581,
          -0.9696325544797003,
          -0.39790738293710254,
          0.4011413136842935,
          -0.678147361211587,
          -0.5881407468585984,
          0.7315029154129858,
          1.0551627255471088,
          1.3012639291825332,
          1.752203520894791,
          -0.7549413493846202,
          -1.2856592275485377,
          0.772007266640758,
          -1.0868301893872796,
          -0.6748215539231817,
          -1.062831300971065,
          0.46462908811188613,
          -1.2584291900875348,
          -0.457270169220814,
          0.2627928071210074,
          -1.724573428359919,
          1.5939081634088021,
          0.5658581330993231,
          -0.7086495830979483,
          0.8100065851099465,
          -0.3883548594234347,
          -0.9402175365492719,
          -0.14248605623081273,
          1.336233786743859,
          0.030824605229955466,
          0.42536427696008167
         ],
         "yaxis": "y8"
        },
        {
         "line": {
          "color": "rgba(128, 128, 128, 1.0)",
          "dash": "solid",
          "shape": "linear",
          "width": 1.3
         },
         "marker": {
          "size": 2,
          "symbol": "circle"
         },
         "mode": "markers",
         "name": "C",
         "text": "",
         "type": "scatter",
         "x": [
          1.1632319313482395,
          0.4006995105216627,
          -0.2956762478256533,
          -0.05169719393589064,
          0.00910757636508114,
          -0.6955839592405,
          -0.35909775057049803,
          -1.5625500495348743,
          0.280382662704461,
          0.6900988105151796,
          -2.7574912836742946,
          -0.07968419822034653,
          1.8332128879861818,
          1.4295281994653302,
          0.1252613779335597,
          -0.49769928744988495,
          -0.856393091788203,
          1.4352774817096858,
          -1.2664402308234686,
          0.7890502900382642,
          -1.46167053131466,
          0.8150472653619777,
          -1.17240523883422,
          -0.6705469117318189,
          -1.4341028074133875,
          -0.014599945431750708,
          0.7435879685265763,
          -2.848647374794672,
          0.49161354740033353,
          -0.45050436439059577,
          0.28881432704739796,
          0.33186383855201784,
          -0.047088381439171614,
          -0.9993636850678648,
          1.1206599697688173,
          1.1930326248835383,
          -1.1034554747230993,
          -0.5547348406545668,
          0.13945607788763917,
          1.301419479862865,
          -1.2400560909431215,
          0.6203031047198649,
          0.9380629637173821,
          -0.14400944082924053,
          -0.9240931840045439,
          -0.8282183540851877,
          -0.11961424790363061,
          -0.49999029669468653,
          0.9819908608077234,
          -0.11606300782428085,
          0.45764184722157275,
          0.49346586682197907,
          -0.5433622602059989,
          -1.7900480082481471,
          0.32044197002586217,
          -0.633058819620911,
          0.035453392741268346,
          0.28800897468143366,
          0.1270836766417439,
          1.1391905804798264,
          -0.058971810983125275,
          1.5960984036066292,
          0.043035034307208495,
          -0.8023299927990649,
          0.9613524445273515,
          -0.39736206448423356,
          0.2792623071725112,
          -0.36223179862154803,
          1.0386103659394246,
          0.768251393580555,
          -0.03247482932037407,
          -0.2833971496851408,
          -2.3264113817674885,
          0.3601066380079715,
          -0.8975379312800085,
          0.07627611530830201,
          0.36155396903651077,
          -0.17833430581015805,
          -0.6767697508725241,
          1.535979797909297,
          -0.4419843916432813,
          -0.7094090819406609,
          0.647624136408352,
          -0.056939817949727634,
          -2.0938503562353876,
          1.1522289116879099,
          0.43945695783916466,
          1.0199457327509938,
          0.8259047129688619,
          -0.43717286489986557,
          -1.8874859655183183,
          0.6348946192877947,
          -1.7859523956955943,
          0.13333163954187455,
          -0.6353918987424078,
          -1.0049116048271711,
          -0.24942294813512036,
          0.7019758240727191,
          0.6036035864612834,
          0.6023724883064032
         ],
         "xaxis": "x9",
         "y": [
          1.1274878920186688,
          -0.9070224730561507,
          -1.2358374424996545,
          2.0133455209160096,
          -0.23532700276852167,
          -0.0843349411395761,
          0.5564580270064815,
          -2.001113199530813,
          -1.0237751564318915,
          0.7112455681071055,
          -0.095897814239274,
          0.012302705726989435,
          -0.3642422404181999,
          0.3403436190656834,
          1.8558023905088181,
          -0.02028397108156397,
          1.7265027173812615,
          0.718112498437952,
          -1.2442103221951375,
          0.2265317886511371,
          0.39388433813836293,
          -1.0083019157885458,
          -0.012422409185549738,
          0.8298767634416259,
          -0.5579516556769883,
          0.9823755782460005,
          0.979237318413185,
          -0.7590536455033828,
          -0.10566195252374322,
          0.7843088049510172,
          -0.20937563921771174,
          0.6816260923662242,
          -0.12794614849386346,
          -0.9357881012238115,
          0.435562156771844,
          -0.10226391303079788,
          1.1379034453854844,
          1.0214649224641377,
          -0.6416628431943977,
          0.14545977454861278,
          0.08534469747929535,
          1.6327934059789464,
          0.02546078625189333,
          0.507331299025282,
          -0.7541731810959679,
          -0.5400909224669489,
          2.0253428691208164,
          -1.7452483730247665,
          0.4332690152684399,
          -0.3747344686538722,
          0.35525626014582207,
          -0.11240294522341022,
          -0.1423042070038813,
          -0.928227200658264,
          0.6571710516921412,
          0.11739964208889658,
          -0.22783558748277402,
          0.003288864602357087,
          0.8932089752608745,
          -0.6089434361935895,
          -0.02747045092598185,
          -1.115382312401734,
          0.13923713465209778,
          1.5561479230532713,
          -0.7821445775333665,
          0.8246643458772466,
          2.8006403490602323,
          -1.9017618441603639,
          -0.2748926295358548,
          -0.13304470307879515,
          0.18325574328819283,
          0.17276872192465387,
          -0.817154036565531,
          -0.29850444195766196,
          0.45296083043296126,
          -0.6807807248975272,
          0.3103308884259926,
          0.8609755862973423,
          -0.14059133673323243,
          -1.3648969141564753,
          -0.1701187924647384,
          -0.575823442122371,
          -0.5391924677629335,
          -0.616544499309483,
          -0.6398922990169684,
          0.02217138929332535,
          1.627069719620034,
          -0.29193740505071714,
          -0.07953601275712574,
          -1.536503639647945,
          0.32698044720709857,
          0.25388847357176747,
          -1.4191505697267244,
          -0.4095786747646304,
          0.4342950977626566,
          0.6805375373991261,
          0.9938300719303992,
          0.9600263358175988,
          -1.4407095325358261,
          -0.44554279426885285
         ],
         "yaxis": "y9"
        },
        {
         "line": {
          "color": "rgba(128, 128, 128, 1.0)",
          "dash": "solid",
          "shape": "linear",
          "width": 1.3
         },
         "marker": {
          "size": 2,
          "symbol": "circle"
         },
         "mode": "markers",
         "name": "C",
         "text": "",
         "type": "scatter",
         "x": [
          0.7557944147735085,
          0.08420801170730241,
          1.125224851480296,
          0.38065475151755207,
          0.5396274205240575,
          0.5683289602573715,
          -0.2608769685151894,
          -0.40282805854406645,
          1.0323173036744528,
          0.028417798834812127,
          -0.517174679146552,
          -1.920275899765896,
          -1.12992664746321,
          1.520453453577847,
          -0.6616003988885832,
          -2.2026206161735447,
          -0.11666027539963252,
          -2.2155337084780067,
          0.6367684799711685,
          -0.1764979359195468,
          1.3819423305761236,
          -0.008262148112657144,
          0.9782295514038942,
          1.99322695455303,
          -0.2550056163421702,
          1.1983104645087241,
          -1.1767282090517108,
          0.1866687098243254,
          -0.7443221314287102,
          -1.3368881098115208,
          0.8979161027537494,
          -0.6450371339227668,
          0.4674685984970453,
          1.0387929502296873,
          1.1420262987889602,
          0.33989156511313695,
          0.28218207921226246,
          0.7108031867533554,
          -0.19824614238408128,
          -0.9382975161738351,
          -0.30006528143077743,
          -0.02711395816594447,
          0.08773127271283397,
          1.1131128380108828,
          -1.5372209506583512,
          -1.2495788629223747,
          -0.5628672105320381,
          1.0253904572821646,
          0.12695003780597983,
          -0.6225220306494884,
          1.0034377291300447,
          -0.017920924540992887,
          0.7051442293937872,
          0.9768952039821863,
          0.1714519825542668,
          -0.4738481699106438,
          1.228276732941743,
          -0.004907755627084942,
          1.1020113226868538,
          -1.537743962725332,
          2.3098300590918144,
          0.8495190634194937,
          -1.8418600829624527,
          -0.5964836394497389,
          0.6388598070914784,
          0.3557569827543802,
          -0.7658323525724573,
          0.015269993899470594,
          -1.3551368944021027,
          0.4828390365168581,
          -0.9696325544797003,
          -0.39790738293710254,
          0.4011413136842935,
          -0.678147361211587,
          -0.5881407468585984,
          0.7315029154129858,
          1.0551627255471088,
          1.3012639291825332,
          1.752203520894791,
          -0.7549413493846202,
          -1.2856592275485377,
          0.772007266640758,
          -1.0868301893872796,
          -0.6748215539231817,
          -1.062831300971065,
          0.46462908811188613,
          -1.2584291900875348,
          -0.457270169220814,
          0.2627928071210074,
          -1.724573428359919,
          1.5939081634088021,
          0.5658581330993231,
          -0.7086495830979483,
          0.8100065851099465,
          -0.3883548594234347,
          -0.9402175365492719,
          -0.14248605623081273,
          1.336233786743859,
          0.030824605229955466,
          0.42536427696008167
         ],
         "xaxis": "x10",
         "y": [
          1.1274878920186688,
          -0.9070224730561507,
          -1.2358374424996545,
          2.0133455209160096,
          -0.23532700276852167,
          -0.0843349411395761,
          0.5564580270064815,
          -2.001113199530813,
          -1.0237751564318915,
          0.7112455681071055,
          -0.095897814239274,
          0.012302705726989435,
          -0.3642422404181999,
          0.3403436190656834,
          1.8558023905088181,
          -0.02028397108156397,
          1.7265027173812615,
          0.718112498437952,
          -1.2442103221951375,
          0.2265317886511371,
          0.39388433813836293,
          -1.0083019157885458,
          -0.012422409185549738,
          0.8298767634416259,
          -0.5579516556769883,
          0.9823755782460005,
          0.979237318413185,
          -0.7590536455033828,
          -0.10566195252374322,
          0.7843088049510172,
          -0.20937563921771174,
          0.6816260923662242,
          -0.12794614849386346,
          -0.9357881012238115,
          0.435562156771844,
          -0.10226391303079788,
          1.1379034453854844,
          1.0214649224641377,
          -0.6416628431943977,
          0.14545977454861278,
          0.08534469747929535,
          1.6327934059789464,
          0.02546078625189333,
          0.507331299025282,
          -0.7541731810959679,
          -0.5400909224669489,
          2.0253428691208164,
          -1.7452483730247665,
          0.4332690152684399,
          -0.3747344686538722,
          0.35525626014582207,
          -0.11240294522341022,
          -0.1423042070038813,
          -0.928227200658264,
          0.6571710516921412,
          0.11739964208889658,
          -0.22783558748277402,
          0.003288864602357087,
          0.8932089752608745,
          -0.6089434361935895,
          -0.02747045092598185,
          -1.115382312401734,
          0.13923713465209778,
          1.5561479230532713,
          -0.7821445775333665,
          0.8246643458772466,
          2.8006403490602323,
          -1.9017618441603639,
          -0.2748926295358548,
          -0.13304470307879515,
          0.18325574328819283,
          0.17276872192465387,
          -0.817154036565531,
          -0.29850444195766196,
          0.45296083043296126,
          -0.6807807248975272,
          0.3103308884259926,
          0.8609755862973423,
          -0.14059133673323243,
          -1.3648969141564753,
          -0.1701187924647384,
          -0.575823442122371,
          -0.5391924677629335,
          -0.616544499309483,
          -0.6398922990169684,
          0.02217138929332535,
          1.627069719620034,
          -0.29193740505071714,
          -0.07953601275712574,
          -1.536503639647945,
          0.32698044720709857,
          0.25388847357176747,
          -1.4191505697267244,
          -0.4095786747646304,
          0.4342950977626566,
          0.6805375373991261,
          0.9938300719303992,
          0.9600263358175988,
          -1.4407095325358261,
          -0.44554279426885285
         ],
         "yaxis": "y10"
        },
        {
         "histfunc": "count",
         "histnorm": "",
         "marker": {
          "color": "rgba(50, 171, 96, 1.0)",
          "line": {
           "color": "#4D5663",
           "width": 1.3
          }
         },
         "name": "C",
         "nbinsx": 10,
         "opacity": 0.8,
         "orientation": "v",
         "type": "histogram",
         "x": [
          1.1274878920186688,
          -0.9070224730561507,
          -1.2358374424996545,
          2.0133455209160096,
          -0.23532700276852167,
          -0.0843349411395761,
          0.5564580270064815,
          -2.001113199530813,
          -1.0237751564318915,
          0.7112455681071055,
          -0.095897814239274,
          0.012302705726989435,
          -0.3642422404181999,
          0.3403436190656834,
          1.8558023905088181,
          -0.02028397108156397,
          1.7265027173812615,
          0.718112498437952,
          -1.2442103221951375,
          0.2265317886511371,
          0.39388433813836293,
          -1.0083019157885458,
          -0.012422409185549738,
          0.8298767634416259,
          -0.5579516556769883,
          0.9823755782460005,
          0.979237318413185,
          -0.7590536455033828,
          -0.10566195252374322,
          0.7843088049510172,
          -0.20937563921771174,
          0.6816260923662242,
          -0.12794614849386346,
          -0.9357881012238115,
          0.435562156771844,
          -0.10226391303079788,
          1.1379034453854844,
          1.0214649224641377,
          -0.6416628431943977,
          0.14545977454861278,
          0.08534469747929535,
          1.6327934059789464,
          0.02546078625189333,
          0.507331299025282,
          -0.7541731810959679,
          -0.5400909224669489,
          2.0253428691208164,
          -1.7452483730247665,
          0.4332690152684399,
          -0.3747344686538722,
          0.35525626014582207,
          -0.11240294522341022,
          -0.1423042070038813,
          -0.928227200658264,
          0.6571710516921412,
          0.11739964208889658,
          -0.22783558748277402,
          0.003288864602357087,
          0.8932089752608745,
          -0.6089434361935895,
          -0.02747045092598185,
          -1.115382312401734,
          0.13923713465209778,
          1.5561479230532713,
          -0.7821445775333665,
          0.8246643458772466,
          2.8006403490602323,
          -1.9017618441603639,
          -0.2748926295358548,
          -0.13304470307879515,
          0.18325574328819283,
          0.17276872192465387,
          -0.817154036565531,
          -0.29850444195766196,
          0.45296083043296126,
          -0.6807807248975272,
          0.3103308884259926,
          0.8609755862973423,
          -0.14059133673323243,
          -1.3648969141564753,
          -0.1701187924647384,
          -0.575823442122371,
          -0.5391924677629335,
          -0.616544499309483,
          -0.6398922990169684,
          0.02217138929332535,
          1.627069719620034,
          -0.29193740505071714,
          -0.07953601275712574,
          -1.536503639647945,
          0.32698044720709857,
          0.25388847357176747,
          -1.4191505697267244,
          -0.4095786747646304,
          0.4342950977626566,
          0.6805375373991261,
          0.9938300719303992,
          0.9600263358175988,
          -1.4407095325358261,
          -0.44554279426885285
         ],
         "xaxis": "x11",
         "yaxis": "y11"
        },
        {
         "line": {
          "color": "rgba(128, 128, 128, 1.0)",
          "dash": "solid",
          "shape": "linear",
          "width": 1.3
         },
         "marker": {
          "size": 2,
          "symbol": "circle"
         },
         "mode": "markers",
         "name": "C",
         "text": "",
         "type": "scatter",
         "x": [
          0.05577750943415836,
          0.4731162721670755,
          0.8560839821214502,
          -0.16454661556248282,
          -0.04723352810088136,
          -0.6959294644947278,
          -0.9283690607897231,
          -0.36240042398379857,
          -0.24681455860509896,
          1.5764744809546858,
          0.467702006018148,
          -1.8522219727940552,
          -1.4816439387161457,
          1.804507541246819,
          -0.19643428971750973,
          -2.6274293905482797,
          -0.7768222927835762,
          1.7251663901834515,
          0.35496308712359387,
          0.3383926563359808,
          -0.07615724073479516,
          1.3682260553011878,
          -2.738649240803818,
          1.188031571791971,
          -1.85073502836093,
          -0.3058818239948589,
          -0.46030388366757613,
          0.5674503237924392,
          -0.28786456016097994,
          -0.20122600508922805,
          0.3003496913856691,
          -0.13686447814901076,
          -0.6934926623103428,
          0.4677493800110422,
          -0.04967031335505621,
          0.0029873487534157967,
          1.3050058240936475,
          2.0822739524265272,
          1.3372454344194475,
          0.23248930744179683,
          0.6919630662398372,
          -0.20847708621608946,
          -0.7492561186811212,
          0.47067395845260995,
          -0.47476119697340363,
          -0.851722904254601,
          -0.1722634109699815,
          1.015687820891181,
          0.27957268479162284,
          -0.5264122026564911,
          1.3289085772682034,
          0.5926467792260204,
          0.20955880417222356,
          -0.03525223109824736,
          -0.24849056413308096,
          -0.12093662344667885,
          -0.6918759359585686,
          -0.9029716877333371,
          -0.5418786406852931,
          -1.1298724294260758,
          -1.022858650436064,
          -0.5049720436473629,
          0.07599191946717017,
          2.0716370022098443,
          0.588499848369862,
          -1.3347258669166913,
          1.1598158070388573,
          -0.2266657196158616,
          1.8175559972490056,
          0.20600794192633626,
          1.0695000792171083,
          -0.7875846395635173,
          -2.0945983332639955,
          0.7296362863503695,
          -0.8393480703685064,
          -0.13220048186587524,
          -0.9042768088880324,
          -0.6617618893943592,
          0.5785165671863408,
          -1.319808505930559,
          -0.0976818338748379,
          2.1204248438117923,
          1.1993541891064432,
          -0.5489240729639001,
          -0.766713592715684,
          -1.0169604849313043,
          0.16833552818333108,
          0.33694671414349947,
          0.06698343272097228,
          0.307382584599932,
          -0.19281105103566756,
          -0.5136645854214837,
          0.09057945378131652,
          -0.3266030820021077,
          -0.6521034755451522,
          -1.0022186044034576,
          0.8353405500554416,
          -0.40929600781708086,
          0.5920213330376822,
          -1.5910210224599777
         ],
         "xaxis": "x12",
         "y": [
          1.1274878920186688,
          -0.9070224730561507,
          -1.2358374424996545,
          2.0133455209160096,
          -0.23532700276852167,
          -0.0843349411395761,
          0.5564580270064815,
          -2.001113199530813,
          -1.0237751564318915,
          0.7112455681071055,
          -0.095897814239274,
          0.012302705726989435,
          -0.3642422404181999,
          0.3403436190656834,
          1.8558023905088181,
          -0.02028397108156397,
          1.7265027173812615,
          0.718112498437952,
          -1.2442103221951375,
          0.2265317886511371,
          0.39388433813836293,
          -1.0083019157885458,
          -0.012422409185549738,
          0.8298767634416259,
          -0.5579516556769883,
          0.9823755782460005,
          0.979237318413185,
          -0.7590536455033828,
          -0.10566195252374322,
          0.7843088049510172,
          -0.20937563921771174,
          0.6816260923662242,
          -0.12794614849386346,
          -0.9357881012238115,
          0.435562156771844,
          -0.10226391303079788,
          1.1379034453854844,
          1.0214649224641377,
          -0.6416628431943977,
          0.14545977454861278,
          0.08534469747929535,
          1.6327934059789464,
          0.02546078625189333,
          0.507331299025282,
          -0.7541731810959679,
          -0.5400909224669489,
          2.0253428691208164,
          -1.7452483730247665,
          0.4332690152684399,
          -0.3747344686538722,
          0.35525626014582207,
          -0.11240294522341022,
          -0.1423042070038813,
          -0.928227200658264,
          0.6571710516921412,
          0.11739964208889658,
          -0.22783558748277402,
          0.003288864602357087,
          0.8932089752608745,
          -0.6089434361935895,
          -0.02747045092598185,
          -1.115382312401734,
          0.13923713465209778,
          1.5561479230532713,
          -0.7821445775333665,
          0.8246643458772466,
          2.8006403490602323,
          -1.9017618441603639,
          -0.2748926295358548,
          -0.13304470307879515,
          0.18325574328819283,
          0.17276872192465387,
          -0.817154036565531,
          -0.29850444195766196,
          0.45296083043296126,
          -0.6807807248975272,
          0.3103308884259926,
          0.8609755862973423,
          -0.14059133673323243,
          -1.3648969141564753,
          -0.1701187924647384,
          -0.575823442122371,
          -0.5391924677629335,
          -0.616544499309483,
          -0.6398922990169684,
          0.02217138929332535,
          1.627069719620034,
          -0.29193740505071714,
          -0.07953601275712574,
          -1.536503639647945,
          0.32698044720709857,
          0.25388847357176747,
          -1.4191505697267244,
          -0.4095786747646304,
          0.4342950977626566,
          0.6805375373991261,
          0.9938300719303992,
          0.9600263358175988,
          -1.4407095325358261,
          -0.44554279426885285
         ],
         "yaxis": "y12"
        },
        {
         "line": {
          "color": "rgba(128, 128, 128, 1.0)",
          "dash": "solid",
          "shape": "linear",
          "width": 1.3
         },
         "marker": {
          "size": 2,
          "symbol": "circle"
         },
         "mode": "markers",
         "name": "D",
         "text": "",
         "type": "scatter",
         "x": [
          1.1632319313482395,
          0.4006995105216627,
          -0.2956762478256533,
          -0.05169719393589064,
          0.00910757636508114,
          -0.6955839592405,
          -0.35909775057049803,
          -1.5625500495348743,
          0.280382662704461,
          0.6900988105151796,
          -2.7574912836742946,
          -0.07968419822034653,
          1.8332128879861818,
          1.4295281994653302,
          0.1252613779335597,
          -0.49769928744988495,
          -0.856393091788203,
          1.4352774817096858,
          -1.2664402308234686,
          0.7890502900382642,
          -1.46167053131466,
          0.8150472653619777,
          -1.17240523883422,
          -0.6705469117318189,
          -1.4341028074133875,
          -0.014599945431750708,
          0.7435879685265763,
          -2.848647374794672,
          0.49161354740033353,
          -0.45050436439059577,
          0.28881432704739796,
          0.33186383855201784,
          -0.047088381439171614,
          -0.9993636850678648,
          1.1206599697688173,
          1.1930326248835383,
          -1.1034554747230993,
          -0.5547348406545668,
          0.13945607788763917,
          1.301419479862865,
          -1.2400560909431215,
          0.6203031047198649,
          0.9380629637173821,
          -0.14400944082924053,
          -0.9240931840045439,
          -0.8282183540851877,
          -0.11961424790363061,
          -0.49999029669468653,
          0.9819908608077234,
          -0.11606300782428085,
          0.45764184722157275,
          0.49346586682197907,
          -0.5433622602059989,
          -1.7900480082481471,
          0.32044197002586217,
          -0.633058819620911,
          0.035453392741268346,
          0.28800897468143366,
          0.1270836766417439,
          1.1391905804798264,
          -0.058971810983125275,
          1.5960984036066292,
          0.043035034307208495,
          -0.8023299927990649,
          0.9613524445273515,
          -0.39736206448423356,
          0.2792623071725112,
          -0.36223179862154803,
          1.0386103659394246,
          0.768251393580555,
          -0.03247482932037407,
          -0.2833971496851408,
          -2.3264113817674885,
          0.3601066380079715,
          -0.8975379312800085,
          0.07627611530830201,
          0.36155396903651077,
          -0.17833430581015805,
          -0.6767697508725241,
          1.535979797909297,
          -0.4419843916432813,
          -0.7094090819406609,
          0.647624136408352,
          -0.056939817949727634,
          -2.0938503562353876,
          1.1522289116879099,
          0.43945695783916466,
          1.0199457327509938,
          0.8259047129688619,
          -0.43717286489986557,
          -1.8874859655183183,
          0.6348946192877947,
          -1.7859523956955943,
          0.13333163954187455,
          -0.6353918987424078,
          -1.0049116048271711,
          -0.24942294813512036,
          0.7019758240727191,
          0.6036035864612834,
          0.6023724883064032
         ],
         "xaxis": "x13",
         "y": [
          0.05577750943415836,
          0.4731162721670755,
          0.8560839821214502,
          -0.16454661556248282,
          -0.04723352810088136,
          -0.6959294644947278,
          -0.9283690607897231,
          -0.36240042398379857,
          -0.24681455860509896,
          1.5764744809546858,
          0.467702006018148,
          -1.8522219727940552,
          -1.4816439387161457,
          1.804507541246819,
          -0.19643428971750973,
          -2.6274293905482797,
          -0.7768222927835762,
          1.7251663901834515,
          0.35496308712359387,
          0.3383926563359808,
          -0.07615724073479516,
          1.3682260553011878,
          -2.738649240803818,
          1.188031571791971,
          -1.85073502836093,
          -0.3058818239948589,
          -0.46030388366757613,
          0.5674503237924392,
          -0.28786456016097994,
          -0.20122600508922805,
          0.3003496913856691,
          -0.13686447814901076,
          -0.6934926623103428,
          0.4677493800110422,
          -0.04967031335505621,
          0.0029873487534157967,
          1.3050058240936475,
          2.0822739524265272,
          1.3372454344194475,
          0.23248930744179683,
          0.6919630662398372,
          -0.20847708621608946,
          -0.7492561186811212,
          0.47067395845260995,
          -0.47476119697340363,
          -0.851722904254601,
          -0.1722634109699815,
          1.015687820891181,
          0.27957268479162284,
          -0.5264122026564911,
          1.3289085772682034,
          0.5926467792260204,
          0.20955880417222356,
          -0.03525223109824736,
          -0.24849056413308096,
          -0.12093662344667885,
          -0.6918759359585686,
          -0.9029716877333371,
          -0.5418786406852931,
          -1.1298724294260758,
          -1.022858650436064,
          -0.5049720436473629,
          0.07599191946717017,
          2.0716370022098443,
          0.588499848369862,
          -1.3347258669166913,
          1.1598158070388573,
          -0.2266657196158616,
          1.8175559972490056,
          0.20600794192633626,
          1.0695000792171083,
          -0.7875846395635173,
          -2.0945983332639955,
          0.7296362863503695,
          -0.8393480703685064,
          -0.13220048186587524,
          -0.9042768088880324,
          -0.6617618893943592,
          0.5785165671863408,
          -1.319808505930559,
          -0.0976818338748379,
          2.1204248438117923,
          1.1993541891064432,
          -0.5489240729639001,
          -0.766713592715684,
          -1.0169604849313043,
          0.16833552818333108,
          0.33694671414349947,
          0.06698343272097228,
          0.307382584599932,
          -0.19281105103566756,
          -0.5136645854214837,
          0.09057945378131652,
          -0.3266030820021077,
          -0.6521034755451522,
          -1.0022186044034576,
          0.8353405500554416,
          -0.40929600781708086,
          0.5920213330376822,
          -1.5910210224599777
         ],
         "yaxis": "y13"
        },
        {
         "line": {
          "color": "rgba(128, 128, 128, 1.0)",
          "dash": "solid",
          "shape": "linear",
          "width": 1.3
         },
         "marker": {
          "size": 2,
          "symbol": "circle"
         },
         "mode": "markers",
         "name": "D",
         "text": "",
         "type": "scatter",
         "x": [
          0.7557944147735085,
          0.08420801170730241,
          1.125224851480296,
          0.38065475151755207,
          0.5396274205240575,
          0.5683289602573715,
          -0.2608769685151894,
          -0.40282805854406645,
          1.0323173036744528,
          0.028417798834812127,
          -0.517174679146552,
          -1.920275899765896,
          -1.12992664746321,
          1.520453453577847,
          -0.6616003988885832,
          -2.2026206161735447,
          -0.11666027539963252,
          -2.2155337084780067,
          0.6367684799711685,
          -0.1764979359195468,
          1.3819423305761236,
          -0.008262148112657144,
          0.9782295514038942,
          1.99322695455303,
          -0.2550056163421702,
          1.1983104645087241,
          -1.1767282090517108,
          0.1866687098243254,
          -0.7443221314287102,
          -1.3368881098115208,
          0.8979161027537494,
          -0.6450371339227668,
          0.4674685984970453,
          1.0387929502296873,
          1.1420262987889602,
          0.33989156511313695,
          0.28218207921226246,
          0.7108031867533554,
          -0.19824614238408128,
          -0.9382975161738351,
          -0.30006528143077743,
          -0.02711395816594447,
          0.08773127271283397,
          1.1131128380108828,
          -1.5372209506583512,
          -1.2495788629223747,
          -0.5628672105320381,
          1.0253904572821646,
          0.12695003780597983,
          -0.6225220306494884,
          1.0034377291300447,
          -0.017920924540992887,
          0.7051442293937872,
          0.9768952039821863,
          0.1714519825542668,
          -0.4738481699106438,
          1.228276732941743,
          -0.004907755627084942,
          1.1020113226868538,
          -1.537743962725332,
          2.3098300590918144,
          0.8495190634194937,
          -1.8418600829624527,
          -0.5964836394497389,
          0.6388598070914784,
          0.3557569827543802,
          -0.7658323525724573,
          0.015269993899470594,
          -1.3551368944021027,
          0.4828390365168581,
          -0.9696325544797003,
          -0.39790738293710254,
          0.4011413136842935,
          -0.678147361211587,
          -0.5881407468585984,
          0.7315029154129858,
          1.0551627255471088,
          1.3012639291825332,
          1.752203520894791,
          -0.7549413493846202,
          -1.2856592275485377,
          0.772007266640758,
          -1.0868301893872796,
          -0.6748215539231817,
          -1.062831300971065,
          0.46462908811188613,
          -1.2584291900875348,
          -0.457270169220814,
          0.2627928071210074,
          -1.724573428359919,
          1.5939081634088021,
          0.5658581330993231,
          -0.7086495830979483,
          0.8100065851099465,
          -0.3883548594234347,
          -0.9402175365492719,
          -0.14248605623081273,
          1.336233786743859,
          0.030824605229955466,
          0.42536427696008167
         ],
         "xaxis": "x14",
         "y": [
          0.05577750943415836,
          0.4731162721670755,
          0.8560839821214502,
          -0.16454661556248282,
          -0.04723352810088136,
          -0.6959294644947278,
          -0.9283690607897231,
          -0.36240042398379857,
          -0.24681455860509896,
          1.5764744809546858,
          0.467702006018148,
          -1.8522219727940552,
          -1.4816439387161457,
          1.804507541246819,
          -0.19643428971750973,
          -2.6274293905482797,
          -0.7768222927835762,
          1.7251663901834515,
          0.35496308712359387,
          0.3383926563359808,
          -0.07615724073479516,
          1.3682260553011878,
          -2.738649240803818,
          1.188031571791971,
          -1.85073502836093,
          -0.3058818239948589,
          -0.46030388366757613,
          0.5674503237924392,
          -0.28786456016097994,
          -0.20122600508922805,
          0.3003496913856691,
          -0.13686447814901076,
          -0.6934926623103428,
          0.4677493800110422,
          -0.04967031335505621,
          0.0029873487534157967,
          1.3050058240936475,
          2.0822739524265272,
          1.3372454344194475,
          0.23248930744179683,
          0.6919630662398372,
          -0.20847708621608946,
          -0.7492561186811212,
          0.47067395845260995,
          -0.47476119697340363,
          -0.851722904254601,
          -0.1722634109699815,
          1.015687820891181,
          0.27957268479162284,
          -0.5264122026564911,
          1.3289085772682034,
          0.5926467792260204,
          0.20955880417222356,
          -0.03525223109824736,
          -0.24849056413308096,
          -0.12093662344667885,
          -0.6918759359585686,
          -0.9029716877333371,
          -0.5418786406852931,
          -1.1298724294260758,
          -1.022858650436064,
          -0.5049720436473629,
          0.07599191946717017,
          2.0716370022098443,
          0.588499848369862,
          -1.3347258669166913,
          1.1598158070388573,
          -0.2266657196158616,
          1.8175559972490056,
          0.20600794192633626,
          1.0695000792171083,
          -0.7875846395635173,
          -2.0945983332639955,
          0.7296362863503695,
          -0.8393480703685064,
          -0.13220048186587524,
          -0.9042768088880324,
          -0.6617618893943592,
          0.5785165671863408,
          -1.319808505930559,
          -0.0976818338748379,
          2.1204248438117923,
          1.1993541891064432,
          -0.5489240729639001,
          -0.766713592715684,
          -1.0169604849313043,
          0.16833552818333108,
          0.33694671414349947,
          0.06698343272097228,
          0.307382584599932,
          -0.19281105103566756,
          -0.5136645854214837,
          0.09057945378131652,
          -0.3266030820021077,
          -0.6521034755451522,
          -1.0022186044034576,
          0.8353405500554416,
          -0.40929600781708086,
          0.5920213330376822,
          -1.5910210224599777
         ],
         "yaxis": "y14"
        },
        {
         "line": {
          "color": "rgba(128, 128, 128, 1.0)",
          "dash": "solid",
          "shape": "linear",
          "width": 1.3
         },
         "marker": {
          "size": 2,
          "symbol": "circle"
         },
         "mode": "markers",
         "name": "D",
         "text": "",
         "type": "scatter",
         "x": [
          1.1274878920186688,
          -0.9070224730561507,
          -1.2358374424996545,
          2.0133455209160096,
          -0.23532700276852167,
          -0.0843349411395761,
          0.5564580270064815,
          -2.001113199530813,
          -1.0237751564318915,
          0.7112455681071055,
          -0.095897814239274,
          0.012302705726989435,
          -0.3642422404181999,
          0.3403436190656834,
          1.8558023905088181,
          -0.02028397108156397,
          1.7265027173812615,
          0.718112498437952,
          -1.2442103221951375,
          0.2265317886511371,
          0.39388433813836293,
          -1.0083019157885458,
          -0.012422409185549738,
          0.8298767634416259,
          -0.5579516556769883,
          0.9823755782460005,
          0.979237318413185,
          -0.7590536455033828,
          -0.10566195252374322,
          0.7843088049510172,
          -0.20937563921771174,
          0.6816260923662242,
          -0.12794614849386346,
          -0.9357881012238115,
          0.435562156771844,
          -0.10226391303079788,
          1.1379034453854844,
          1.0214649224641377,
          -0.6416628431943977,
          0.14545977454861278,
          0.08534469747929535,
          1.6327934059789464,
          0.02546078625189333,
          0.507331299025282,
          -0.7541731810959679,
          -0.5400909224669489,
          2.0253428691208164,
          -1.7452483730247665,
          0.4332690152684399,
          -0.3747344686538722,
          0.35525626014582207,
          -0.11240294522341022,
          -0.1423042070038813,
          -0.928227200658264,
          0.6571710516921412,
          0.11739964208889658,
          -0.22783558748277402,
          0.003288864602357087,
          0.8932089752608745,
          -0.6089434361935895,
          -0.02747045092598185,
          -1.115382312401734,
          0.13923713465209778,
          1.5561479230532713,
          -0.7821445775333665,
          0.8246643458772466,
          2.8006403490602323,
          -1.9017618441603639,
          -0.2748926295358548,
          -0.13304470307879515,
          0.18325574328819283,
          0.17276872192465387,
          -0.817154036565531,
          -0.29850444195766196,
          0.45296083043296126,
          -0.6807807248975272,
          0.3103308884259926,
          0.8609755862973423,
          -0.14059133673323243,
          -1.3648969141564753,
          -0.1701187924647384,
          -0.575823442122371,
          -0.5391924677629335,
          -0.616544499309483,
          -0.6398922990169684,
          0.02217138929332535,
          1.627069719620034,
          -0.29193740505071714,
          -0.07953601275712574,
          -1.536503639647945,
          0.32698044720709857,
          0.25388847357176747,
          -1.4191505697267244,
          -0.4095786747646304,
          0.4342950977626566,
          0.6805375373991261,
          0.9938300719303992,
          0.9600263358175988,
          -1.4407095325358261,
          -0.44554279426885285
         ],
         "xaxis": "x15",
         "y": [
          0.05577750943415836,
          0.4731162721670755,
          0.8560839821214502,
          -0.16454661556248282,
          -0.04723352810088136,
          -0.6959294644947278,
          -0.9283690607897231,
          -0.36240042398379857,
          -0.24681455860509896,
          1.5764744809546858,
          0.467702006018148,
          -1.8522219727940552,
          -1.4816439387161457,
          1.804507541246819,
          -0.19643428971750973,
          -2.6274293905482797,
          -0.7768222927835762,
          1.7251663901834515,
          0.35496308712359387,
          0.3383926563359808,
          -0.07615724073479516,
          1.3682260553011878,
          -2.738649240803818,
          1.188031571791971,
          -1.85073502836093,
          -0.3058818239948589,
          -0.46030388366757613,
          0.5674503237924392,
          -0.28786456016097994,
          -0.20122600508922805,
          0.3003496913856691,
          -0.13686447814901076,
          -0.6934926623103428,
          0.4677493800110422,
          -0.04967031335505621,
          0.0029873487534157967,
          1.3050058240936475,
          2.0822739524265272,
          1.3372454344194475,
          0.23248930744179683,
          0.6919630662398372,
          -0.20847708621608946,
          -0.7492561186811212,
          0.47067395845260995,
          -0.47476119697340363,
          -0.851722904254601,
          -0.1722634109699815,
          1.015687820891181,
          0.27957268479162284,
          -0.5264122026564911,
          1.3289085772682034,
          0.5926467792260204,
          0.20955880417222356,
          -0.03525223109824736,
          -0.24849056413308096,
          -0.12093662344667885,
          -0.6918759359585686,
          -0.9029716877333371,
          -0.5418786406852931,
          -1.1298724294260758,
          -1.022858650436064,
          -0.5049720436473629,
          0.07599191946717017,
          2.0716370022098443,
          0.588499848369862,
          -1.3347258669166913,
          1.1598158070388573,
          -0.2266657196158616,
          1.8175559972490056,
          0.20600794192633626,
          1.0695000792171083,
          -0.7875846395635173,
          -2.0945983332639955,
          0.7296362863503695,
          -0.8393480703685064,
          -0.13220048186587524,
          -0.9042768088880324,
          -0.6617618893943592,
          0.5785165671863408,
          -1.319808505930559,
          -0.0976818338748379,
          2.1204248438117923,
          1.1993541891064432,
          -0.5489240729639001,
          -0.766713592715684,
          -1.0169604849313043,
          0.16833552818333108,
          0.33694671414349947,
          0.06698343272097228,
          0.307382584599932,
          -0.19281105103566756,
          -0.5136645854214837,
          0.09057945378131652,
          -0.3266030820021077,
          -0.6521034755451522,
          -1.0022186044034576,
          0.8353405500554416,
          -0.40929600781708086,
          0.5920213330376822,
          -1.5910210224599777
         ],
         "yaxis": "y15"
        },
        {
         "histfunc": "count",
         "histnorm": "",
         "marker": {
          "color": "rgba(128, 0, 128, 1.0)",
          "line": {
           "color": "#4D5663",
           "width": 1.3
          }
         },
         "name": "D",
         "nbinsx": 10,
         "opacity": 0.8,
         "orientation": "v",
         "type": "histogram",
         "x": [
          0.05577750943415836,
          0.4731162721670755,
          0.8560839821214502,
          -0.16454661556248282,
          -0.04723352810088136,
          -0.6959294644947278,
          -0.9283690607897231,
          -0.36240042398379857,
          -0.24681455860509896,
          1.5764744809546858,
          0.467702006018148,
          -1.8522219727940552,
          -1.4816439387161457,
          1.804507541246819,
          -0.19643428971750973,
          -2.6274293905482797,
          -0.7768222927835762,
          1.7251663901834515,
          0.35496308712359387,
          0.3383926563359808,
          -0.07615724073479516,
          1.3682260553011878,
          -2.738649240803818,
          1.188031571791971,
          -1.85073502836093,
          -0.3058818239948589,
          -0.46030388366757613,
          0.5674503237924392,
          -0.28786456016097994,
          -0.20122600508922805,
          0.3003496913856691,
          -0.13686447814901076,
          -0.6934926623103428,
          0.4677493800110422,
          -0.04967031335505621,
          0.0029873487534157967,
          1.3050058240936475,
          2.0822739524265272,
          1.3372454344194475,
          0.23248930744179683,
          0.6919630662398372,
          -0.20847708621608946,
          -0.7492561186811212,
          0.47067395845260995,
          -0.47476119697340363,
          -0.851722904254601,
          -0.1722634109699815,
          1.015687820891181,
          0.27957268479162284,
          -0.5264122026564911,
          1.3289085772682034,
          0.5926467792260204,
          0.20955880417222356,
          -0.03525223109824736,
          -0.24849056413308096,
          -0.12093662344667885,
          -0.6918759359585686,
          -0.9029716877333371,
          -0.5418786406852931,
          -1.1298724294260758,
          -1.022858650436064,
          -0.5049720436473629,
          0.07599191946717017,
          2.0716370022098443,
          0.588499848369862,
          -1.3347258669166913,
          1.1598158070388573,
          -0.2266657196158616,
          1.8175559972490056,
          0.20600794192633626,
          1.0695000792171083,
          -0.7875846395635173,
          -2.0945983332639955,
          0.7296362863503695,
          -0.8393480703685064,
          -0.13220048186587524,
          -0.9042768088880324,
          -0.6617618893943592,
          0.5785165671863408,
          -1.319808505930559,
          -0.0976818338748379,
          2.1204248438117923,
          1.1993541891064432,
          -0.5489240729639001,
          -0.766713592715684,
          -1.0169604849313043,
          0.16833552818333108,
          0.33694671414349947,
          0.06698343272097228,
          0.307382584599932,
          -0.19281105103566756,
          -0.5136645854214837,
          0.09057945378131652,
          -0.3266030820021077,
          -0.6521034755451522,
          -1.0022186044034576,
          0.8353405500554416,
          -0.40929600781708086,
          0.5920213330376822,
          -1.5910210224599777
         ],
         "xaxis": "x16",
         "yaxis": "y16"
        }
       ],
       "layout": {
        "bargap": 0.02,
        "legend": {
         "bgcolor": "#F5F6F9",
         "font": {
          "color": "#4D5663"
         }
        },
        "paper_bgcolor": "#F5F6F9",
        "plot_bgcolor": "#F5F6F9",
        "showlegend": false,
        "template": {
         "data": {
          "bar": [
           {
            "error_x": {
             "color": "#2a3f5f"
            },
            "error_y": {
             "color": "#2a3f5f"
            },
            "marker": {
             "line": {
              "color": "#E5ECF6",
              "width": 0.5
             }
            },
            "type": "bar"
           }
          ],
          "barpolar": [
           {
            "marker": {
             "line": {
              "color": "#E5ECF6",
              "width": 0.5
             }
            },
            "type": "barpolar"
           }
          ],
          "carpet": [
           {
            "aaxis": {
             "endlinecolor": "#2a3f5f",
             "gridcolor": "white",
             "linecolor": "white",
             "minorgridcolor": "white",
             "startlinecolor": "#2a3f5f"
            },
            "baxis": {
             "endlinecolor": "#2a3f5f",
             "gridcolor": "white",
             "linecolor": "white",
             "minorgridcolor": "white",
             "startlinecolor": "#2a3f5f"
            },
            "type": "carpet"
           }
          ],
          "choropleth": [
           {
            "colorbar": {
             "outlinewidth": 0,
             "ticks": ""
            },
            "type": "choropleth"
           }
          ],
          "contour": [
           {
            "colorbar": {
             "outlinewidth": 0,
             "ticks": ""
            },
            "colorscale": [
             [
              0,
              "#0d0887"
             ],
             [
              0.1111111111111111,
              "#46039f"
             ],
             [
              0.2222222222222222,
              "#7201a8"
             ],
             [
              0.3333333333333333,
              "#9c179e"
             ],
             [
              0.4444444444444444,
              "#bd3786"
             ],
             [
              0.5555555555555556,
              "#d8576b"
             ],
             [
              0.6666666666666666,
              "#ed7953"
             ],
             [
              0.7777777777777778,
              "#fb9f3a"
             ],
             [
              0.8888888888888888,
              "#fdca26"
             ],
             [
              1,
              "#f0f921"
             ]
            ],
            "type": "contour"
           }
          ],
          "contourcarpet": [
           {
            "colorbar": {
             "outlinewidth": 0,
             "ticks": ""
            },
            "type": "contourcarpet"
           }
          ],
          "heatmap": [
           {
            "colorbar": {
             "outlinewidth": 0,
             "ticks": ""
            },
            "colorscale": [
             [
              0,
              "#0d0887"
             ],
             [
              0.1111111111111111,
              "#46039f"
             ],
             [
              0.2222222222222222,
              "#7201a8"
             ],
             [
              0.3333333333333333,
              "#9c179e"
             ],
             [
              0.4444444444444444,
              "#bd3786"
             ],
             [
              0.5555555555555556,
              "#d8576b"
             ],
             [
              0.6666666666666666,
              "#ed7953"
             ],
             [
              0.7777777777777778,
              "#fb9f3a"
             ],
             [
              0.8888888888888888,
              "#fdca26"
             ],
             [
              1,
              "#f0f921"
             ]
            ],
            "type": "heatmap"
           }
          ],
          "heatmapgl": [
           {
            "colorbar": {
             "outlinewidth": 0,
             "ticks": ""
            },
            "colorscale": [
             [
              0,
              "#0d0887"
             ],
             [
              0.1111111111111111,
              "#46039f"
             ],
             [
              0.2222222222222222,
              "#7201a8"
             ],
             [
              0.3333333333333333,
              "#9c179e"
             ],
             [
              0.4444444444444444,
              "#bd3786"
             ],
             [
              0.5555555555555556,
              "#d8576b"
             ],
             [
              0.6666666666666666,
              "#ed7953"
             ],
             [
              0.7777777777777778,
              "#fb9f3a"
             ],
             [
              0.8888888888888888,
              "#fdca26"
             ],
             [
              1,
              "#f0f921"
             ]
            ],
            "type": "heatmapgl"
           }
          ],
          "histogram": [
           {
            "marker": {
             "colorbar": {
              "outlinewidth": 0,
              "ticks": ""
             }
            },
            "type": "histogram"
           }
          ],
          "histogram2d": [
           {
            "colorbar": {
             "outlinewidth": 0,
             "ticks": ""
            },
            "colorscale": [
             [
              0,
              "#0d0887"
             ],
             [
              0.1111111111111111,
              "#46039f"
             ],
             [
              0.2222222222222222,
              "#7201a8"
             ],
             [
              0.3333333333333333,
              "#9c179e"
             ],
             [
              0.4444444444444444,
              "#bd3786"
             ],
             [
              0.5555555555555556,
              "#d8576b"
             ],
             [
              0.6666666666666666,
              "#ed7953"
             ],
             [
              0.7777777777777778,
              "#fb9f3a"
             ],
             [
              0.8888888888888888,
              "#fdca26"
             ],
             [
              1,
              "#f0f921"
             ]
            ],
            "type": "histogram2d"
           }
          ],
          "histogram2dcontour": [
           {
            "colorbar": {
             "outlinewidth": 0,
             "ticks": ""
            },
            "colorscale": [
             [
              0,
              "#0d0887"
             ],
             [
              0.1111111111111111,
              "#46039f"
             ],
             [
              0.2222222222222222,
              "#7201a8"
             ],
             [
              0.3333333333333333,
              "#9c179e"
             ],
             [
              0.4444444444444444,
              "#bd3786"
             ],
             [
              0.5555555555555556,
              "#d8576b"
             ],
             [
              0.6666666666666666,
              "#ed7953"
             ],
             [
              0.7777777777777778,
              "#fb9f3a"
             ],
             [
              0.8888888888888888,
              "#fdca26"
             ],
             [
              1,
              "#f0f921"
             ]
            ],
            "type": "histogram2dcontour"
           }
          ],
          "mesh3d": [
           {
            "colorbar": {
             "outlinewidth": 0,
             "ticks": ""
            },
            "type": "mesh3d"
           }
          ],
          "parcoords": [
           {
            "line": {
             "colorbar": {
              "outlinewidth": 0,
              "ticks": ""
             }
            },
            "type": "parcoords"
           }
          ],
          "pie": [
           {
            "automargin": true,
            "type": "pie"
           }
          ],
          "scatter": [
           {
            "marker": {
             "colorbar": {
              "outlinewidth": 0,
              "ticks": ""
             }
            },
            "type": "scatter"
           }
          ],
          "scatter3d": [
           {
            "line": {
             "colorbar": {
              "outlinewidth": 0,
              "ticks": ""
             }
            },
            "marker": {
             "colorbar": {
              "outlinewidth": 0,
              "ticks": ""
             }
            },
            "type": "scatter3d"
           }
          ],
          "scattercarpet": [
           {
            "marker": {
             "colorbar": {
              "outlinewidth": 0,
              "ticks": ""
             }
            },
            "type": "scattercarpet"
           }
          ],
          "scattergeo": [
           {
            "marker": {
             "colorbar": {
              "outlinewidth": 0,
              "ticks": ""
             }
            },
            "type": "scattergeo"
           }
          ],
          "scattergl": [
           {
            "marker": {
             "colorbar": {
              "outlinewidth": 0,
              "ticks": ""
             }
            },
            "type": "scattergl"
           }
          ],
          "scattermapbox": [
           {
            "marker": {
             "colorbar": {
              "outlinewidth": 0,
              "ticks": ""
             }
            },
            "type": "scattermapbox"
           }
          ],
          "scatterpolar": [
           {
            "marker": {
             "colorbar": {
              "outlinewidth": 0,
              "ticks": ""
             }
            },
            "type": "scatterpolar"
           }
          ],
          "scatterpolargl": [
           {
            "marker": {
             "colorbar": {
              "outlinewidth": 0,
              "ticks": ""
             }
            },
            "type": "scatterpolargl"
           }
          ],
          "scatterternary": [
           {
            "marker": {
             "colorbar": {
              "outlinewidth": 0,
              "ticks": ""
             }
            },
            "type": "scatterternary"
           }
          ],
          "surface": [
           {
            "colorbar": {
             "outlinewidth": 0,
             "ticks": ""
            },
            "colorscale": [
             [
              0,
              "#0d0887"
             ],
             [
              0.1111111111111111,
              "#46039f"
             ],
             [
              0.2222222222222222,
              "#7201a8"
             ],
             [
              0.3333333333333333,
              "#9c179e"
             ],
             [
              0.4444444444444444,
              "#bd3786"
             ],
             [
              0.5555555555555556,
              "#d8576b"
             ],
             [
              0.6666666666666666,
              "#ed7953"
             ],
             [
              0.7777777777777778,
              "#fb9f3a"
             ],
             [
              0.8888888888888888,
              "#fdca26"
             ],
             [
              1,
              "#f0f921"
             ]
            ],
            "type": "surface"
           }
          ],
          "table": [
           {
            "cells": {
             "fill": {
              "color": "#EBF0F8"
             },
             "line": {
              "color": "white"
             }
            },
            "header": {
             "fill": {
              "color": "#C8D4E3"
             },
             "line": {
              "color": "white"
             }
            },
            "type": "table"
           }
          ]
         },
         "layout": {
          "annotationdefaults": {
           "arrowcolor": "#2a3f5f",
           "arrowhead": 0,
           "arrowwidth": 1
          },
          "coloraxis": {
           "colorbar": {
            "outlinewidth": 0,
            "ticks": ""
           }
          },
          "colorscale": {
           "diverging": [
            [
             0,
             "#8e0152"
            ],
            [
             0.1,
             "#c51b7d"
            ],
            [
             0.2,
             "#de77ae"
            ],
            [
             0.3,
             "#f1b6da"
            ],
            [
             0.4,
             "#fde0ef"
            ],
            [
             0.5,
             "#f7f7f7"
            ],
            [
             0.6,
             "#e6f5d0"
            ],
            [
             0.7,
             "#b8e186"
            ],
            [
             0.8,
             "#7fbc41"
            ],
            [
             0.9,
             "#4d9221"
            ],
            [
             1,
             "#276419"
            ]
           ],
           "sequential": [
            [
             0,
             "#0d0887"
            ],
            [
             0.1111111111111111,
             "#46039f"
            ],
            [
             0.2222222222222222,
             "#7201a8"
            ],
            [
             0.3333333333333333,
             "#9c179e"
            ],
            [
             0.4444444444444444,
             "#bd3786"
            ],
            [
             0.5555555555555556,
             "#d8576b"
            ],
            [
             0.6666666666666666,
             "#ed7953"
            ],
            [
             0.7777777777777778,
             "#fb9f3a"
            ],
            [
             0.8888888888888888,
             "#fdca26"
            ],
            [
             1,
             "#f0f921"
            ]
           ],
           "sequentialminus": [
            [
             0,
             "#0d0887"
            ],
            [
             0.1111111111111111,
             "#46039f"
            ],
            [
             0.2222222222222222,
             "#7201a8"
            ],
            [
             0.3333333333333333,
             "#9c179e"
            ],
            [
             0.4444444444444444,
             "#bd3786"
            ],
            [
             0.5555555555555556,
             "#d8576b"
            ],
            [
             0.6666666666666666,
             "#ed7953"
            ],
            [
             0.7777777777777778,
             "#fb9f3a"
            ],
            [
             0.8888888888888888,
             "#fdca26"
            ],
            [
             1,
             "#f0f921"
            ]
           ]
          },
          "colorway": [
           "#636efa",
           "#EF553B",
           "#00cc96",
           "#ab63fa",
           "#FFA15A",
           "#19d3f3",
           "#FF6692",
           "#B6E880",
           "#FF97FF",
           "#FECB52"
          ],
          "font": {
           "color": "#2a3f5f"
          },
          "geo": {
           "bgcolor": "white",
           "lakecolor": "white",
           "landcolor": "#E5ECF6",
           "showlakes": true,
           "showland": true,
           "subunitcolor": "white"
          },
          "hoverlabel": {
           "align": "left"
          },
          "hovermode": "closest",
          "mapbox": {
           "style": "light"
          },
          "paper_bgcolor": "white",
          "plot_bgcolor": "#E5ECF6",
          "polar": {
           "angularaxis": {
            "gridcolor": "white",
            "linecolor": "white",
            "ticks": ""
           },
           "bgcolor": "#E5ECF6",
           "radialaxis": {
            "gridcolor": "white",
            "linecolor": "white",
            "ticks": ""
           }
          },
          "scene": {
           "xaxis": {
            "backgroundcolor": "#E5ECF6",
            "gridcolor": "white",
            "gridwidth": 2,
            "linecolor": "white",
            "showbackground": true,
            "ticks": "",
            "zerolinecolor": "white"
           },
           "yaxis": {
            "backgroundcolor": "#E5ECF6",
            "gridcolor": "white",
            "gridwidth": 2,
            "linecolor": "white",
            "showbackground": true,
            "ticks": "",
            "zerolinecolor": "white"
           },
           "zaxis": {
            "backgroundcolor": "#E5ECF6",
            "gridcolor": "white",
            "gridwidth": 2,
            "linecolor": "white",
            "showbackground": true,
            "ticks": "",
            "zerolinecolor": "white"
           }
          },
          "shapedefaults": {
           "line": {
            "color": "#2a3f5f"
           }
          },
          "ternary": {
           "aaxis": {
            "gridcolor": "white",
            "linecolor": "white",
            "ticks": ""
           },
           "baxis": {
            "gridcolor": "white",
            "linecolor": "white",
            "ticks": ""
           },
           "bgcolor": "#E5ECF6",
           "caxis": {
            "gridcolor": "white",
            "linecolor": "white",
            "ticks": ""
           }
          },
          "title": {
           "x": 0.05
          },
          "xaxis": {
           "automargin": true,
           "gridcolor": "white",
           "linecolor": "white",
           "ticks": "",
           "title": {
            "standoff": 15
           },
           "zerolinecolor": "white",
           "zerolinewidth": 2
          },
          "yaxis": {
           "automargin": true,
           "gridcolor": "white",
           "linecolor": "white",
           "ticks": "",
           "title": {
            "standoff": 15
           },
           "zerolinecolor": "white",
           "zerolinewidth": 2
          }
         }
        },
        "title": {
         "font": {
          "color": "#4D5663"
         }
        },
        "xaxis": {
         "anchor": "y",
         "domain": [
          0,
          0.2125
         ],
         "gridcolor": "#E1E5ED",
         "showgrid": false,
         "tickfont": {
          "color": "#4D5663"
         },
         "title": {
          "font": {
           "color": "#4D5663"
          },
          "text": ""
         },
         "zerolinecolor": "#E1E5ED"
        },
        "xaxis10": {
         "anchor": "y10",
         "domain": [
          0.2625,
          0.475
         ],
         "gridcolor": "#E1E5ED",
         "showgrid": false,
         "tickfont": {
          "color": "#4D5663"
         },
         "title": {
          "font": {
           "color": "#4D5663"
          },
          "text": ""
         },
         "zerolinecolor": "#E1E5ED"
        },
        "xaxis11": {
         "anchor": "y11",
         "domain": [
          0.525,
          0.7375
         ],
         "gridcolor": "#E1E5ED",
         "showgrid": false,
         "tickfont": {
          "color": "#4D5663"
         },
         "title": {
          "font": {
           "color": "#4D5663"
          },
          "text": ""
         },
         "zerolinecolor": "#E1E5ED"
        },
        "xaxis12": {
         "anchor": "y12",
         "domain": [
          0.7875,
          1
         ],
         "gridcolor": "#E1E5ED",
         "showgrid": false,
         "tickfont": {
          "color": "#4D5663"
         },
         "title": {
          "font": {
           "color": "#4D5663"
          },
          "text": ""
         },
         "zerolinecolor": "#E1E5ED"
        },
        "xaxis13": {
         "anchor": "y13",
         "domain": [
          0,
          0.2125
         ],
         "gridcolor": "#E1E5ED",
         "showgrid": false,
         "tickfont": {
          "color": "#4D5663"
         },
         "title": {
          "font": {
           "color": "#4D5663"
          },
          "text": ""
         },
         "zerolinecolor": "#E1E5ED"
        },
        "xaxis14": {
         "anchor": "y14",
         "domain": [
          0.2625,
          0.475
         ],
         "gridcolor": "#E1E5ED",
         "showgrid": false,
         "tickfont": {
          "color": "#4D5663"
         },
         "title": {
          "font": {
           "color": "#4D5663"
          },
          "text": ""
         },
         "zerolinecolor": "#E1E5ED"
        },
        "xaxis15": {
         "anchor": "y15",
         "domain": [
          0.525,
          0.7375
         ],
         "gridcolor": "#E1E5ED",
         "showgrid": false,
         "tickfont": {
          "color": "#4D5663"
         },
         "title": {
          "font": {
           "color": "#4D5663"
          },
          "text": ""
         },
         "zerolinecolor": "#E1E5ED"
        },
        "xaxis16": {
         "anchor": "y16",
         "domain": [
          0.7875,
          1
         ],
         "gridcolor": "#E1E5ED",
         "showgrid": false,
         "tickfont": {
          "color": "#4D5663"
         },
         "title": {
          "font": {
           "color": "#4D5663"
          },
          "text": ""
         },
         "zerolinecolor": "#E1E5ED"
        },
        "xaxis2": {
         "anchor": "y2",
         "domain": [
          0.2625,
          0.475
         ],
         "gridcolor": "#E1E5ED",
         "showgrid": false,
         "tickfont": {
          "color": "#4D5663"
         },
         "title": {
          "font": {
           "color": "#4D5663"
          },
          "text": ""
         },
         "zerolinecolor": "#E1E5ED"
        },
        "xaxis3": {
         "anchor": "y3",
         "domain": [
          0.525,
          0.7375
         ],
         "gridcolor": "#E1E5ED",
         "showgrid": false,
         "tickfont": {
          "color": "#4D5663"
         },
         "title": {
          "font": {
           "color": "#4D5663"
          },
          "text": ""
         },
         "zerolinecolor": "#E1E5ED"
        },
        "xaxis4": {
         "anchor": "y4",
         "domain": [
          0.7875,
          1
         ],
         "gridcolor": "#E1E5ED",
         "showgrid": false,
         "tickfont": {
          "color": "#4D5663"
         },
         "title": {
          "font": {
           "color": "#4D5663"
          },
          "text": ""
         },
         "zerolinecolor": "#E1E5ED"
        },
        "xaxis5": {
         "anchor": "y5",
         "domain": [
          0,
          0.2125
         ],
         "gridcolor": "#E1E5ED",
         "showgrid": false,
         "tickfont": {
          "color": "#4D5663"
         },
         "title": {
          "font": {
           "color": "#4D5663"
          },
          "text": ""
         },
         "zerolinecolor": "#E1E5ED"
        },
        "xaxis6": {
         "anchor": "y6",
         "domain": [
          0.2625,
          0.475
         ],
         "gridcolor": "#E1E5ED",
         "showgrid": false,
         "tickfont": {
          "color": "#4D5663"
         },
         "title": {
          "font": {
           "color": "#4D5663"
          },
          "text": ""
         },
         "zerolinecolor": "#E1E5ED"
        },
        "xaxis7": {
         "anchor": "y7",
         "domain": [
          0.525,
          0.7375
         ],
         "gridcolor": "#E1E5ED",
         "showgrid": false,
         "tickfont": {
          "color": "#4D5663"
         },
         "title": {
          "font": {
           "color": "#4D5663"
          },
          "text": ""
         },
         "zerolinecolor": "#E1E5ED"
        },
        "xaxis8": {
         "anchor": "y8",
         "domain": [
          0.7875,
          1
         ],
         "gridcolor": "#E1E5ED",
         "showgrid": false,
         "tickfont": {
          "color": "#4D5663"
         },
         "title": {
          "font": {
           "color": "#4D5663"
          },
          "text": ""
         },
         "zerolinecolor": "#E1E5ED"
        },
        "xaxis9": {
         "anchor": "y9",
         "domain": [
          0,
          0.2125
         ],
         "gridcolor": "#E1E5ED",
         "showgrid": false,
         "tickfont": {
          "color": "#4D5663"
         },
         "title": {
          "font": {
           "color": "#4D5663"
          },
          "text": ""
         },
         "zerolinecolor": "#E1E5ED"
        },
        "yaxis": {
         "anchor": "x",
         "domain": [
          0.8025,
          1
         ],
         "gridcolor": "#E1E5ED",
         "showgrid": false,
         "tickfont": {
          "color": "#4D5663"
         },
         "title": {
          "font": {
           "color": "#4D5663"
          },
          "text": ""
         },
         "zerolinecolor": "#E1E5ED"
        },
        "yaxis10": {
         "anchor": "x10",
         "domain": [
          0.2675,
          0.465
         ],
         "gridcolor": "#E1E5ED",
         "showgrid": false,
         "tickfont": {
          "color": "#4D5663"
         },
         "title": {
          "font": {
           "color": "#4D5663"
          },
          "text": ""
         },
         "zerolinecolor": "#E1E5ED"
        },
        "yaxis11": {
         "anchor": "x11",
         "domain": [
          0.2675,
          0.465
         ],
         "gridcolor": "#E1E5ED",
         "showgrid": false,
         "tickfont": {
          "color": "#4D5663"
         },
         "title": {
          "font": {
           "color": "#4D5663"
          },
          "text": ""
         },
         "zerolinecolor": "#E1E5ED"
        },
        "yaxis12": {
         "anchor": "x12",
         "domain": [
          0.2675,
          0.465
         ],
         "gridcolor": "#E1E5ED",
         "showgrid": false,
         "tickfont": {
          "color": "#4D5663"
         },
         "title": {
          "font": {
           "color": "#4D5663"
          },
          "text": ""
         },
         "zerolinecolor": "#E1E5ED"
        },
        "yaxis13": {
         "anchor": "x13",
         "domain": [
          0,
          0.1975
         ],
         "gridcolor": "#E1E5ED",
         "showgrid": false,
         "tickfont": {
          "color": "#4D5663"
         },
         "title": {
          "font": {
           "color": "#4D5663"
          },
          "text": ""
         },
         "zerolinecolor": "#E1E5ED"
        },
        "yaxis14": {
         "anchor": "x14",
         "domain": [
          0,
          0.1975
         ],
         "gridcolor": "#E1E5ED",
         "showgrid": false,
         "tickfont": {
          "color": "#4D5663"
         },
         "title": {
          "font": {
           "color": "#4D5663"
          },
          "text": ""
         },
         "zerolinecolor": "#E1E5ED"
        },
        "yaxis15": {
         "anchor": "x15",
         "domain": [
          0,
          0.1975
         ],
         "gridcolor": "#E1E5ED",
         "showgrid": false,
         "tickfont": {
          "color": "#4D5663"
         },
         "title": {
          "font": {
           "color": "#4D5663"
          },
          "text": ""
         },
         "zerolinecolor": "#E1E5ED"
        },
        "yaxis16": {
         "anchor": "x16",
         "domain": [
          0,
          0.1975
         ],
         "gridcolor": "#E1E5ED",
         "showgrid": false,
         "tickfont": {
          "color": "#4D5663"
         },
         "title": {
          "font": {
           "color": "#4D5663"
          },
          "text": ""
         },
         "zerolinecolor": "#E1E5ED"
        },
        "yaxis2": {
         "anchor": "x2",
         "domain": [
          0.8025,
          1
         ],
         "gridcolor": "#E1E5ED",
         "showgrid": false,
         "tickfont": {
          "color": "#4D5663"
         },
         "title": {
          "font": {
           "color": "#4D5663"
          },
          "text": ""
         },
         "zerolinecolor": "#E1E5ED"
        },
        "yaxis3": {
         "anchor": "x3",
         "domain": [
          0.8025,
          1
         ],
         "gridcolor": "#E1E5ED",
         "showgrid": false,
         "tickfont": {
          "color": "#4D5663"
         },
         "title": {
          "font": {
           "color": "#4D5663"
          },
          "text": ""
         },
         "zerolinecolor": "#E1E5ED"
        },
        "yaxis4": {
         "anchor": "x4",
         "domain": [
          0.8025,
          1
         ],
         "gridcolor": "#E1E5ED",
         "showgrid": false,
         "tickfont": {
          "color": "#4D5663"
         },
         "title": {
          "font": {
           "color": "#4D5663"
          },
          "text": ""
         },
         "zerolinecolor": "#E1E5ED"
        },
        "yaxis5": {
         "anchor": "x5",
         "domain": [
          0.535,
          0.7325
         ],
         "gridcolor": "#E1E5ED",
         "showgrid": false,
         "tickfont": {
          "color": "#4D5663"
         },
         "title": {
          "font": {
           "color": "#4D5663"
          },
          "text": ""
         },
         "zerolinecolor": "#E1E5ED"
        },
        "yaxis6": {
         "anchor": "x6",
         "domain": [
          0.535,
          0.7325
         ],
         "gridcolor": "#E1E5ED",
         "showgrid": false,
         "tickfont": {
          "color": "#4D5663"
         },
         "title": {
          "font": {
           "color": "#4D5663"
          },
          "text": ""
         },
         "zerolinecolor": "#E1E5ED"
        },
        "yaxis7": {
         "anchor": "x7",
         "domain": [
          0.535,
          0.7325
         ],
         "gridcolor": "#E1E5ED",
         "showgrid": false,
         "tickfont": {
          "color": "#4D5663"
         },
         "title": {
          "font": {
           "color": "#4D5663"
          },
          "text": ""
         },
         "zerolinecolor": "#E1E5ED"
        },
        "yaxis8": {
         "anchor": "x8",
         "domain": [
          0.535,
          0.7325
         ],
         "gridcolor": "#E1E5ED",
         "showgrid": false,
         "tickfont": {
          "color": "#4D5663"
         },
         "title": {
          "font": {
           "color": "#4D5663"
          },
          "text": ""
         },
         "zerolinecolor": "#E1E5ED"
        },
        "yaxis9": {
         "anchor": "x9",
         "domain": [
          0.2675,
          0.465
         ],
         "gridcolor": "#E1E5ED",
         "showgrid": false,
         "tickfont": {
          "color": "#4D5663"
         },
         "title": {
          "font": {
           "color": "#4D5663"
          },
          "text": ""
         },
         "zerolinecolor": "#E1E5ED"
        }
       }
      },
      "text/html": [
       "<div>\n",
       "        \n",
       "        \n",
       "            <div id=\"f934abaf-8297-4936-b434-db10ba7897db\" class=\"plotly-graph-div\" style=\"height:525px; width:100%;\"></div>\n",
       "            <script type=\"text/javascript\">\n",
       "                require([\"plotly\"], function(Plotly) {\n",
       "                    window.PLOTLYENV=window.PLOTLYENV || {};\n",
       "                    window.PLOTLYENV.BASE_URL='https://plot.ly';\n",
       "                    \n",
       "                if (document.getElementById(\"f934abaf-8297-4936-b434-db10ba7897db\")) {\n",
       "                    Plotly.newPlot(\n",
       "                        'f934abaf-8297-4936-b434-db10ba7897db',\n",
       "                        [{\"histfunc\": \"count\", \"histnorm\": \"\", \"marker\": {\"color\": \"rgba(255, 153, 51, 1.0)\", \"line\": {\"color\": \"#4D5663\", \"width\": 1.3}}, \"name\": \"A\", \"nbinsx\": 10, \"opacity\": 0.8, \"orientation\": \"v\", \"type\": \"histogram\", \"x\": [1.1632319313482395, 0.4006995105216627, -0.2956762478256533, -0.05169719393589064, 0.00910757636508114, -0.6955839592405, -0.35909775057049803, -1.5625500495348743, 0.280382662704461, 0.6900988105151796, -2.7574912836742946, -0.07968419822034653, 1.8332128879861818, 1.4295281994653302, 0.1252613779335597, -0.49769928744988495, -0.856393091788203, 1.4352774817096858, -1.2664402308234686, 0.7890502900382642, -1.46167053131466, 0.8150472653619777, -1.17240523883422, -0.6705469117318189, -1.4341028074133875, -0.014599945431750708, 0.7435879685265763, -2.848647374794672, 0.49161354740033353, -0.45050436439059577, 0.28881432704739796, 0.33186383855201784, -0.047088381439171614, -0.9993636850678648, 1.1206599697688173, 1.1930326248835383, -1.1034554747230993, -0.5547348406545668, 0.13945607788763917, 1.301419479862865, -1.2400560909431215, 0.6203031047198649, 0.9380629637173821, -0.14400944082924053, -0.9240931840045439, -0.8282183540851877, -0.11961424790363061, -0.49999029669468653, 0.9819908608077234, -0.11606300782428085, 0.45764184722157275, 0.49346586682197907, -0.5433622602059989, -1.7900480082481471, 0.32044197002586217, -0.633058819620911, 0.035453392741268346, 0.28800897468143366, 0.1270836766417439, 1.1391905804798264, -0.058971810983125275, 1.5960984036066292, 0.043035034307208495, -0.8023299927990649, 0.9613524445273515, -0.39736206448423356, 0.2792623071725112, -0.36223179862154803, 1.0386103659394246, 0.768251393580555, -0.03247482932037407, -0.2833971496851408, -2.3264113817674885, 0.3601066380079715, -0.8975379312800085, 0.07627611530830201, 0.36155396903651077, -0.17833430581015805, -0.6767697508725241, 1.535979797909297, -0.4419843916432813, -0.7094090819406609, 0.647624136408352, -0.056939817949727634, -2.0938503562353876, 1.1522289116879099, 0.43945695783916466, 1.0199457327509938, 0.8259047129688619, -0.43717286489986557, -1.8874859655183183, 0.6348946192877947, -1.7859523956955943, 0.13333163954187455, -0.6353918987424078, -1.0049116048271711, -0.24942294813512036, 0.7019758240727191, 0.6036035864612834, 0.6023724883064032], \"xaxis\": \"x\", \"yaxis\": \"y\"}, {\"line\": {\"color\": \"rgba(128, 128, 128, 1.0)\", \"dash\": \"solid\", \"shape\": \"linear\", \"width\": 1.3}, \"marker\": {\"size\": 2, \"symbol\": \"circle\"}, \"mode\": \"markers\", \"name\": \"A\", \"text\": \"\", \"type\": \"scatter\", \"x\": [0.7557944147735085, 0.08420801170730241, 1.125224851480296, 0.38065475151755207, 0.5396274205240575, 0.5683289602573715, -0.2608769685151894, -0.40282805854406645, 1.0323173036744528, 0.028417798834812127, -0.517174679146552, -1.920275899765896, -1.12992664746321, 1.520453453577847, -0.6616003988885832, -2.2026206161735447, -0.11666027539963252, -2.2155337084780067, 0.6367684799711685, -0.1764979359195468, 1.3819423305761236, -0.008262148112657144, 0.9782295514038942, 1.99322695455303, -0.2550056163421702, 1.1983104645087241, -1.1767282090517108, 0.1866687098243254, -0.7443221314287102, -1.3368881098115208, 0.8979161027537494, -0.6450371339227668, 0.4674685984970453, 1.0387929502296873, 1.1420262987889602, 0.33989156511313695, 0.28218207921226246, 0.7108031867533554, -0.19824614238408128, -0.9382975161738351, -0.30006528143077743, -0.02711395816594447, 0.08773127271283397, 1.1131128380108828, -1.5372209506583512, -1.2495788629223747, -0.5628672105320381, 1.0253904572821646, 0.12695003780597983, -0.6225220306494884, 1.0034377291300447, -0.017920924540992887, 0.7051442293937872, 0.9768952039821863, 0.1714519825542668, -0.4738481699106438, 1.228276732941743, -0.004907755627084942, 1.1020113226868538, -1.537743962725332, 2.3098300590918144, 0.8495190634194937, -1.8418600829624527, -0.5964836394497389, 0.6388598070914784, 0.3557569827543802, -0.7658323525724573, 0.015269993899470594, -1.3551368944021027, 0.4828390365168581, -0.9696325544797003, -0.39790738293710254, 0.4011413136842935, -0.678147361211587, -0.5881407468585984, 0.7315029154129858, 1.0551627255471088, 1.3012639291825332, 1.752203520894791, -0.7549413493846202, -1.2856592275485377, 0.772007266640758, -1.0868301893872796, -0.6748215539231817, -1.062831300971065, 0.46462908811188613, -1.2584291900875348, -0.457270169220814, 0.2627928071210074, -1.724573428359919, 1.5939081634088021, 0.5658581330993231, -0.7086495830979483, 0.8100065851099465, -0.3883548594234347, -0.9402175365492719, -0.14248605623081273, 1.336233786743859, 0.030824605229955466, 0.42536427696008167], \"xaxis\": \"x2\", \"y\": [1.1632319313482395, 0.4006995105216627, -0.2956762478256533, -0.05169719393589064, 0.00910757636508114, -0.6955839592405, -0.35909775057049803, -1.5625500495348743, 0.280382662704461, 0.6900988105151796, -2.7574912836742946, -0.07968419822034653, 1.8332128879861818, 1.4295281994653302, 0.1252613779335597, -0.49769928744988495, -0.856393091788203, 1.4352774817096858, -1.2664402308234686, 0.7890502900382642, -1.46167053131466, 0.8150472653619777, -1.17240523883422, -0.6705469117318189, -1.4341028074133875, -0.014599945431750708, 0.7435879685265763, -2.848647374794672, 0.49161354740033353, -0.45050436439059577, 0.28881432704739796, 0.33186383855201784, -0.047088381439171614, -0.9993636850678648, 1.1206599697688173, 1.1930326248835383, -1.1034554747230993, -0.5547348406545668, 0.13945607788763917, 1.301419479862865, -1.2400560909431215, 0.6203031047198649, 0.9380629637173821, -0.14400944082924053, -0.9240931840045439, -0.8282183540851877, -0.11961424790363061, -0.49999029669468653, 0.9819908608077234, -0.11606300782428085, 0.45764184722157275, 0.49346586682197907, -0.5433622602059989, -1.7900480082481471, 0.32044197002586217, -0.633058819620911, 0.035453392741268346, 0.28800897468143366, 0.1270836766417439, 1.1391905804798264, -0.058971810983125275, 1.5960984036066292, 0.043035034307208495, -0.8023299927990649, 0.9613524445273515, -0.39736206448423356, 0.2792623071725112, -0.36223179862154803, 1.0386103659394246, 0.768251393580555, -0.03247482932037407, -0.2833971496851408, -2.3264113817674885, 0.3601066380079715, -0.8975379312800085, 0.07627611530830201, 0.36155396903651077, -0.17833430581015805, -0.6767697508725241, 1.535979797909297, -0.4419843916432813, -0.7094090819406609, 0.647624136408352, -0.056939817949727634, -2.0938503562353876, 1.1522289116879099, 0.43945695783916466, 1.0199457327509938, 0.8259047129688619, -0.43717286489986557, -1.8874859655183183, 0.6348946192877947, -1.7859523956955943, 0.13333163954187455, -0.6353918987424078, -1.0049116048271711, -0.24942294813512036, 0.7019758240727191, 0.6036035864612834, 0.6023724883064032], \"yaxis\": \"y2\"}, {\"line\": {\"color\": \"rgba(128, 128, 128, 1.0)\", \"dash\": \"solid\", \"shape\": \"linear\", \"width\": 1.3}, \"marker\": {\"size\": 2, \"symbol\": \"circle\"}, \"mode\": \"markers\", \"name\": \"A\", \"text\": \"\", \"type\": \"scatter\", \"x\": [1.1274878920186688, -0.9070224730561507, -1.2358374424996545, 2.0133455209160096, -0.23532700276852167, -0.0843349411395761, 0.5564580270064815, -2.001113199530813, -1.0237751564318915, 0.7112455681071055, -0.095897814239274, 0.012302705726989435, -0.3642422404181999, 0.3403436190656834, 1.8558023905088181, -0.02028397108156397, 1.7265027173812615, 0.718112498437952, -1.2442103221951375, 0.2265317886511371, 0.39388433813836293, -1.0083019157885458, -0.012422409185549738, 0.8298767634416259, -0.5579516556769883, 0.9823755782460005, 0.979237318413185, -0.7590536455033828, -0.10566195252374322, 0.7843088049510172, -0.20937563921771174, 0.6816260923662242, -0.12794614849386346, -0.9357881012238115, 0.435562156771844, -0.10226391303079788, 1.1379034453854844, 1.0214649224641377, -0.6416628431943977, 0.14545977454861278, 0.08534469747929535, 1.6327934059789464, 0.02546078625189333, 0.507331299025282, -0.7541731810959679, -0.5400909224669489, 2.0253428691208164, -1.7452483730247665, 0.4332690152684399, -0.3747344686538722, 0.35525626014582207, -0.11240294522341022, -0.1423042070038813, -0.928227200658264, 0.6571710516921412, 0.11739964208889658, -0.22783558748277402, 0.003288864602357087, 0.8932089752608745, -0.6089434361935895, -0.02747045092598185, -1.115382312401734, 0.13923713465209778, 1.5561479230532713, -0.7821445775333665, 0.8246643458772466, 2.8006403490602323, -1.9017618441603639, -0.2748926295358548, -0.13304470307879515, 0.18325574328819283, 0.17276872192465387, -0.817154036565531, -0.29850444195766196, 0.45296083043296126, -0.6807807248975272, 0.3103308884259926, 0.8609755862973423, -0.14059133673323243, -1.3648969141564753, -0.1701187924647384, -0.575823442122371, -0.5391924677629335, -0.616544499309483, -0.6398922990169684, 0.02217138929332535, 1.627069719620034, -0.29193740505071714, -0.07953601275712574, -1.536503639647945, 0.32698044720709857, 0.25388847357176747, -1.4191505697267244, -0.4095786747646304, 0.4342950977626566, 0.6805375373991261, 0.9938300719303992, 0.9600263358175988, -1.4407095325358261, -0.44554279426885285], \"xaxis\": \"x3\", \"y\": [1.1632319313482395, 0.4006995105216627, -0.2956762478256533, -0.05169719393589064, 0.00910757636508114, -0.6955839592405, -0.35909775057049803, -1.5625500495348743, 0.280382662704461, 0.6900988105151796, -2.7574912836742946, -0.07968419822034653, 1.8332128879861818, 1.4295281994653302, 0.1252613779335597, -0.49769928744988495, -0.856393091788203, 1.4352774817096858, -1.2664402308234686, 0.7890502900382642, -1.46167053131466, 0.8150472653619777, -1.17240523883422, -0.6705469117318189, -1.4341028074133875, -0.014599945431750708, 0.7435879685265763, -2.848647374794672, 0.49161354740033353, -0.45050436439059577, 0.28881432704739796, 0.33186383855201784, -0.047088381439171614, -0.9993636850678648, 1.1206599697688173, 1.1930326248835383, -1.1034554747230993, -0.5547348406545668, 0.13945607788763917, 1.301419479862865, -1.2400560909431215, 0.6203031047198649, 0.9380629637173821, -0.14400944082924053, -0.9240931840045439, -0.8282183540851877, -0.11961424790363061, -0.49999029669468653, 0.9819908608077234, -0.11606300782428085, 0.45764184722157275, 0.49346586682197907, -0.5433622602059989, -1.7900480082481471, 0.32044197002586217, -0.633058819620911, 0.035453392741268346, 0.28800897468143366, 0.1270836766417439, 1.1391905804798264, -0.058971810983125275, 1.5960984036066292, 0.043035034307208495, -0.8023299927990649, 0.9613524445273515, -0.39736206448423356, 0.2792623071725112, -0.36223179862154803, 1.0386103659394246, 0.768251393580555, -0.03247482932037407, -0.2833971496851408, -2.3264113817674885, 0.3601066380079715, -0.8975379312800085, 0.07627611530830201, 0.36155396903651077, -0.17833430581015805, -0.6767697508725241, 1.535979797909297, -0.4419843916432813, -0.7094090819406609, 0.647624136408352, -0.056939817949727634, -2.0938503562353876, 1.1522289116879099, 0.43945695783916466, 1.0199457327509938, 0.8259047129688619, -0.43717286489986557, -1.8874859655183183, 0.6348946192877947, -1.7859523956955943, 0.13333163954187455, -0.6353918987424078, -1.0049116048271711, -0.24942294813512036, 0.7019758240727191, 0.6036035864612834, 0.6023724883064032], \"yaxis\": \"y3\"}, {\"line\": {\"color\": \"rgba(128, 128, 128, 1.0)\", \"dash\": \"solid\", \"shape\": \"linear\", \"width\": 1.3}, \"marker\": {\"size\": 2, \"symbol\": \"circle\"}, \"mode\": \"markers\", \"name\": \"A\", \"text\": \"\", \"type\": \"scatter\", \"x\": [0.05577750943415836, 0.4731162721670755, 0.8560839821214502, -0.16454661556248282, -0.04723352810088136, -0.6959294644947278, -0.9283690607897231, -0.36240042398379857, -0.24681455860509896, 1.5764744809546858, 0.467702006018148, -1.8522219727940552, -1.4816439387161457, 1.804507541246819, -0.19643428971750973, -2.6274293905482797, -0.7768222927835762, 1.7251663901834515, 0.35496308712359387, 0.3383926563359808, -0.07615724073479516, 1.3682260553011878, -2.738649240803818, 1.188031571791971, -1.85073502836093, -0.3058818239948589, -0.46030388366757613, 0.5674503237924392, -0.28786456016097994, -0.20122600508922805, 0.3003496913856691, -0.13686447814901076, -0.6934926623103428, 0.4677493800110422, -0.04967031335505621, 0.0029873487534157967, 1.3050058240936475, 2.0822739524265272, 1.3372454344194475, 0.23248930744179683, 0.6919630662398372, -0.20847708621608946, -0.7492561186811212, 0.47067395845260995, -0.47476119697340363, -0.851722904254601, -0.1722634109699815, 1.015687820891181, 0.27957268479162284, -0.5264122026564911, 1.3289085772682034, 0.5926467792260204, 0.20955880417222356, -0.03525223109824736, -0.24849056413308096, -0.12093662344667885, -0.6918759359585686, -0.9029716877333371, -0.5418786406852931, -1.1298724294260758, -1.022858650436064, -0.5049720436473629, 0.07599191946717017, 2.0716370022098443, 0.588499848369862, -1.3347258669166913, 1.1598158070388573, -0.2266657196158616, 1.8175559972490056, 0.20600794192633626, 1.0695000792171083, -0.7875846395635173, -2.0945983332639955, 0.7296362863503695, -0.8393480703685064, -0.13220048186587524, -0.9042768088880324, -0.6617618893943592, 0.5785165671863408, -1.319808505930559, -0.0976818338748379, 2.1204248438117923, 1.1993541891064432, -0.5489240729639001, -0.766713592715684, -1.0169604849313043, 0.16833552818333108, 0.33694671414349947, 0.06698343272097228, 0.307382584599932, -0.19281105103566756, -0.5136645854214837, 0.09057945378131652, -0.3266030820021077, -0.6521034755451522, -1.0022186044034576, 0.8353405500554416, -0.40929600781708086, 0.5920213330376822, -1.5910210224599777], \"xaxis\": \"x4\", \"y\": [1.1632319313482395, 0.4006995105216627, -0.2956762478256533, -0.05169719393589064, 0.00910757636508114, -0.6955839592405, -0.35909775057049803, -1.5625500495348743, 0.280382662704461, 0.6900988105151796, -2.7574912836742946, -0.07968419822034653, 1.8332128879861818, 1.4295281994653302, 0.1252613779335597, -0.49769928744988495, -0.856393091788203, 1.4352774817096858, -1.2664402308234686, 0.7890502900382642, -1.46167053131466, 0.8150472653619777, -1.17240523883422, -0.6705469117318189, -1.4341028074133875, -0.014599945431750708, 0.7435879685265763, -2.848647374794672, 0.49161354740033353, -0.45050436439059577, 0.28881432704739796, 0.33186383855201784, -0.047088381439171614, -0.9993636850678648, 1.1206599697688173, 1.1930326248835383, -1.1034554747230993, -0.5547348406545668, 0.13945607788763917, 1.301419479862865, -1.2400560909431215, 0.6203031047198649, 0.9380629637173821, -0.14400944082924053, -0.9240931840045439, -0.8282183540851877, -0.11961424790363061, -0.49999029669468653, 0.9819908608077234, -0.11606300782428085, 0.45764184722157275, 0.49346586682197907, -0.5433622602059989, -1.7900480082481471, 0.32044197002586217, -0.633058819620911, 0.035453392741268346, 0.28800897468143366, 0.1270836766417439, 1.1391905804798264, -0.058971810983125275, 1.5960984036066292, 0.043035034307208495, -0.8023299927990649, 0.9613524445273515, -0.39736206448423356, 0.2792623071725112, -0.36223179862154803, 1.0386103659394246, 0.768251393580555, -0.03247482932037407, -0.2833971496851408, -2.3264113817674885, 0.3601066380079715, -0.8975379312800085, 0.07627611530830201, 0.36155396903651077, -0.17833430581015805, -0.6767697508725241, 1.535979797909297, -0.4419843916432813, -0.7094090819406609, 0.647624136408352, -0.056939817949727634, -2.0938503562353876, 1.1522289116879099, 0.43945695783916466, 1.0199457327509938, 0.8259047129688619, -0.43717286489986557, -1.8874859655183183, 0.6348946192877947, -1.7859523956955943, 0.13333163954187455, -0.6353918987424078, -1.0049116048271711, -0.24942294813512036, 0.7019758240727191, 0.6036035864612834, 0.6023724883064032], \"yaxis\": \"y4\"}, {\"line\": {\"color\": \"rgba(128, 128, 128, 1.0)\", \"dash\": \"solid\", \"shape\": \"linear\", \"width\": 1.3}, \"marker\": {\"size\": 2, \"symbol\": \"circle\"}, \"mode\": \"markers\", \"name\": \"B\", \"text\": \"\", \"type\": \"scatter\", \"x\": [1.1632319313482395, 0.4006995105216627, -0.2956762478256533, -0.05169719393589064, 0.00910757636508114, -0.6955839592405, -0.35909775057049803, -1.5625500495348743, 0.280382662704461, 0.6900988105151796, -2.7574912836742946, -0.07968419822034653, 1.8332128879861818, 1.4295281994653302, 0.1252613779335597, -0.49769928744988495, -0.856393091788203, 1.4352774817096858, -1.2664402308234686, 0.7890502900382642, -1.46167053131466, 0.8150472653619777, -1.17240523883422, -0.6705469117318189, -1.4341028074133875, -0.014599945431750708, 0.7435879685265763, -2.848647374794672, 0.49161354740033353, -0.45050436439059577, 0.28881432704739796, 0.33186383855201784, -0.047088381439171614, -0.9993636850678648, 1.1206599697688173, 1.1930326248835383, -1.1034554747230993, -0.5547348406545668, 0.13945607788763917, 1.301419479862865, -1.2400560909431215, 0.6203031047198649, 0.9380629637173821, -0.14400944082924053, -0.9240931840045439, -0.8282183540851877, -0.11961424790363061, -0.49999029669468653, 0.9819908608077234, -0.11606300782428085, 0.45764184722157275, 0.49346586682197907, -0.5433622602059989, -1.7900480082481471, 0.32044197002586217, -0.633058819620911, 0.035453392741268346, 0.28800897468143366, 0.1270836766417439, 1.1391905804798264, -0.058971810983125275, 1.5960984036066292, 0.043035034307208495, -0.8023299927990649, 0.9613524445273515, -0.39736206448423356, 0.2792623071725112, -0.36223179862154803, 1.0386103659394246, 0.768251393580555, -0.03247482932037407, -0.2833971496851408, -2.3264113817674885, 0.3601066380079715, -0.8975379312800085, 0.07627611530830201, 0.36155396903651077, -0.17833430581015805, -0.6767697508725241, 1.535979797909297, -0.4419843916432813, -0.7094090819406609, 0.647624136408352, -0.056939817949727634, -2.0938503562353876, 1.1522289116879099, 0.43945695783916466, 1.0199457327509938, 0.8259047129688619, -0.43717286489986557, -1.8874859655183183, 0.6348946192877947, -1.7859523956955943, 0.13333163954187455, -0.6353918987424078, -1.0049116048271711, -0.24942294813512036, 0.7019758240727191, 0.6036035864612834, 0.6023724883064032], \"xaxis\": \"x5\", \"y\": [0.7557944147735085, 0.08420801170730241, 1.125224851480296, 0.38065475151755207, 0.5396274205240575, 0.5683289602573715, -0.2608769685151894, -0.40282805854406645, 1.0323173036744528, 0.028417798834812127, -0.517174679146552, -1.920275899765896, -1.12992664746321, 1.520453453577847, -0.6616003988885832, -2.2026206161735447, -0.11666027539963252, -2.2155337084780067, 0.6367684799711685, -0.1764979359195468, 1.3819423305761236, -0.008262148112657144, 0.9782295514038942, 1.99322695455303, -0.2550056163421702, 1.1983104645087241, -1.1767282090517108, 0.1866687098243254, -0.7443221314287102, -1.3368881098115208, 0.8979161027537494, -0.6450371339227668, 0.4674685984970453, 1.0387929502296873, 1.1420262987889602, 0.33989156511313695, 0.28218207921226246, 0.7108031867533554, -0.19824614238408128, -0.9382975161738351, -0.30006528143077743, -0.02711395816594447, 0.08773127271283397, 1.1131128380108828, -1.5372209506583512, -1.2495788629223747, -0.5628672105320381, 1.0253904572821646, 0.12695003780597983, -0.6225220306494884, 1.0034377291300447, -0.017920924540992887, 0.7051442293937872, 0.9768952039821863, 0.1714519825542668, -0.4738481699106438, 1.228276732941743, -0.004907755627084942, 1.1020113226868538, -1.537743962725332, 2.3098300590918144, 0.8495190634194937, -1.8418600829624527, -0.5964836394497389, 0.6388598070914784, 0.3557569827543802, -0.7658323525724573, 0.015269993899470594, -1.3551368944021027, 0.4828390365168581, -0.9696325544797003, -0.39790738293710254, 0.4011413136842935, -0.678147361211587, -0.5881407468585984, 0.7315029154129858, 1.0551627255471088, 1.3012639291825332, 1.752203520894791, -0.7549413493846202, -1.2856592275485377, 0.772007266640758, -1.0868301893872796, -0.6748215539231817, -1.062831300971065, 0.46462908811188613, -1.2584291900875348, -0.457270169220814, 0.2627928071210074, -1.724573428359919, 1.5939081634088021, 0.5658581330993231, -0.7086495830979483, 0.8100065851099465, -0.3883548594234347, -0.9402175365492719, -0.14248605623081273, 1.336233786743859, 0.030824605229955466, 0.42536427696008167], \"yaxis\": \"y5\"}, {\"histfunc\": \"count\", \"histnorm\": \"\", \"marker\": {\"color\": \"rgba(55, 128, 191, 1.0)\", \"line\": {\"color\": \"#4D5663\", \"width\": 1.3}}, \"name\": \"B\", \"nbinsx\": 10, \"opacity\": 0.8, \"orientation\": \"v\", \"type\": \"histogram\", \"x\": [0.7557944147735085, 0.08420801170730241, 1.125224851480296, 0.38065475151755207, 0.5396274205240575, 0.5683289602573715, -0.2608769685151894, -0.40282805854406645, 1.0323173036744528, 0.028417798834812127, -0.517174679146552, -1.920275899765896, -1.12992664746321, 1.520453453577847, -0.6616003988885832, -2.2026206161735447, -0.11666027539963252, -2.2155337084780067, 0.6367684799711685, -0.1764979359195468, 1.3819423305761236, -0.008262148112657144, 0.9782295514038942, 1.99322695455303, -0.2550056163421702, 1.1983104645087241, -1.1767282090517108, 0.1866687098243254, -0.7443221314287102, -1.3368881098115208, 0.8979161027537494, -0.6450371339227668, 0.4674685984970453, 1.0387929502296873, 1.1420262987889602, 0.33989156511313695, 0.28218207921226246, 0.7108031867533554, -0.19824614238408128, -0.9382975161738351, -0.30006528143077743, -0.02711395816594447, 0.08773127271283397, 1.1131128380108828, -1.5372209506583512, -1.2495788629223747, -0.5628672105320381, 1.0253904572821646, 0.12695003780597983, -0.6225220306494884, 1.0034377291300447, -0.017920924540992887, 0.7051442293937872, 0.9768952039821863, 0.1714519825542668, -0.4738481699106438, 1.228276732941743, -0.004907755627084942, 1.1020113226868538, -1.537743962725332, 2.3098300590918144, 0.8495190634194937, -1.8418600829624527, -0.5964836394497389, 0.6388598070914784, 0.3557569827543802, -0.7658323525724573, 0.015269993899470594, -1.3551368944021027, 0.4828390365168581, -0.9696325544797003, -0.39790738293710254, 0.4011413136842935, -0.678147361211587, -0.5881407468585984, 0.7315029154129858, 1.0551627255471088, 1.3012639291825332, 1.752203520894791, -0.7549413493846202, -1.2856592275485377, 0.772007266640758, -1.0868301893872796, -0.6748215539231817, -1.062831300971065, 0.46462908811188613, -1.2584291900875348, -0.457270169220814, 0.2627928071210074, -1.724573428359919, 1.5939081634088021, 0.5658581330993231, -0.7086495830979483, 0.8100065851099465, -0.3883548594234347, -0.9402175365492719, -0.14248605623081273, 1.336233786743859, 0.030824605229955466, 0.42536427696008167], \"xaxis\": \"x6\", \"yaxis\": \"y6\"}, {\"line\": {\"color\": \"rgba(128, 128, 128, 1.0)\", \"dash\": \"solid\", \"shape\": \"linear\", \"width\": 1.3}, \"marker\": {\"size\": 2, \"symbol\": \"circle\"}, \"mode\": \"markers\", \"name\": \"B\", \"text\": \"\", \"type\": \"scatter\", \"x\": [1.1274878920186688, -0.9070224730561507, -1.2358374424996545, 2.0133455209160096, -0.23532700276852167, -0.0843349411395761, 0.5564580270064815, -2.001113199530813, -1.0237751564318915, 0.7112455681071055, -0.095897814239274, 0.012302705726989435, -0.3642422404181999, 0.3403436190656834, 1.8558023905088181, -0.02028397108156397, 1.7265027173812615, 0.718112498437952, -1.2442103221951375, 0.2265317886511371, 0.39388433813836293, -1.0083019157885458, -0.012422409185549738, 0.8298767634416259, -0.5579516556769883, 0.9823755782460005, 0.979237318413185, -0.7590536455033828, -0.10566195252374322, 0.7843088049510172, -0.20937563921771174, 0.6816260923662242, -0.12794614849386346, -0.9357881012238115, 0.435562156771844, -0.10226391303079788, 1.1379034453854844, 1.0214649224641377, -0.6416628431943977, 0.14545977454861278, 0.08534469747929535, 1.6327934059789464, 0.02546078625189333, 0.507331299025282, -0.7541731810959679, -0.5400909224669489, 2.0253428691208164, -1.7452483730247665, 0.4332690152684399, -0.3747344686538722, 0.35525626014582207, -0.11240294522341022, -0.1423042070038813, -0.928227200658264, 0.6571710516921412, 0.11739964208889658, -0.22783558748277402, 0.003288864602357087, 0.8932089752608745, -0.6089434361935895, -0.02747045092598185, -1.115382312401734, 0.13923713465209778, 1.5561479230532713, -0.7821445775333665, 0.8246643458772466, 2.8006403490602323, -1.9017618441603639, -0.2748926295358548, -0.13304470307879515, 0.18325574328819283, 0.17276872192465387, -0.817154036565531, -0.29850444195766196, 0.45296083043296126, -0.6807807248975272, 0.3103308884259926, 0.8609755862973423, -0.14059133673323243, -1.3648969141564753, -0.1701187924647384, -0.575823442122371, -0.5391924677629335, -0.616544499309483, -0.6398922990169684, 0.02217138929332535, 1.627069719620034, -0.29193740505071714, -0.07953601275712574, -1.536503639647945, 0.32698044720709857, 0.25388847357176747, -1.4191505697267244, -0.4095786747646304, 0.4342950977626566, 0.6805375373991261, 0.9938300719303992, 0.9600263358175988, -1.4407095325358261, -0.44554279426885285], \"xaxis\": \"x7\", \"y\": [0.7557944147735085, 0.08420801170730241, 1.125224851480296, 0.38065475151755207, 0.5396274205240575, 0.5683289602573715, -0.2608769685151894, -0.40282805854406645, 1.0323173036744528, 0.028417798834812127, -0.517174679146552, -1.920275899765896, -1.12992664746321, 1.520453453577847, -0.6616003988885832, -2.2026206161735447, -0.11666027539963252, -2.2155337084780067, 0.6367684799711685, -0.1764979359195468, 1.3819423305761236, -0.008262148112657144, 0.9782295514038942, 1.99322695455303, -0.2550056163421702, 1.1983104645087241, -1.1767282090517108, 0.1866687098243254, -0.7443221314287102, -1.3368881098115208, 0.8979161027537494, -0.6450371339227668, 0.4674685984970453, 1.0387929502296873, 1.1420262987889602, 0.33989156511313695, 0.28218207921226246, 0.7108031867533554, -0.19824614238408128, -0.9382975161738351, -0.30006528143077743, -0.02711395816594447, 0.08773127271283397, 1.1131128380108828, -1.5372209506583512, -1.2495788629223747, -0.5628672105320381, 1.0253904572821646, 0.12695003780597983, -0.6225220306494884, 1.0034377291300447, -0.017920924540992887, 0.7051442293937872, 0.9768952039821863, 0.1714519825542668, -0.4738481699106438, 1.228276732941743, -0.004907755627084942, 1.1020113226868538, -1.537743962725332, 2.3098300590918144, 0.8495190634194937, -1.8418600829624527, -0.5964836394497389, 0.6388598070914784, 0.3557569827543802, -0.7658323525724573, 0.015269993899470594, -1.3551368944021027, 0.4828390365168581, -0.9696325544797003, -0.39790738293710254, 0.4011413136842935, -0.678147361211587, -0.5881407468585984, 0.7315029154129858, 1.0551627255471088, 1.3012639291825332, 1.752203520894791, -0.7549413493846202, -1.2856592275485377, 0.772007266640758, -1.0868301893872796, -0.6748215539231817, -1.062831300971065, 0.46462908811188613, -1.2584291900875348, -0.457270169220814, 0.2627928071210074, -1.724573428359919, 1.5939081634088021, 0.5658581330993231, -0.7086495830979483, 0.8100065851099465, -0.3883548594234347, -0.9402175365492719, -0.14248605623081273, 1.336233786743859, 0.030824605229955466, 0.42536427696008167], \"yaxis\": \"y7\"}, {\"line\": {\"color\": \"rgba(128, 128, 128, 1.0)\", \"dash\": \"solid\", \"shape\": \"linear\", \"width\": 1.3}, \"marker\": {\"size\": 2, \"symbol\": \"circle\"}, \"mode\": \"markers\", \"name\": \"B\", \"text\": \"\", \"type\": \"scatter\", \"x\": [0.05577750943415836, 0.4731162721670755, 0.8560839821214502, -0.16454661556248282, -0.04723352810088136, -0.6959294644947278, -0.9283690607897231, -0.36240042398379857, -0.24681455860509896, 1.5764744809546858, 0.467702006018148, -1.8522219727940552, -1.4816439387161457, 1.804507541246819, -0.19643428971750973, -2.6274293905482797, -0.7768222927835762, 1.7251663901834515, 0.35496308712359387, 0.3383926563359808, -0.07615724073479516, 1.3682260553011878, -2.738649240803818, 1.188031571791971, -1.85073502836093, -0.3058818239948589, -0.46030388366757613, 0.5674503237924392, -0.28786456016097994, -0.20122600508922805, 0.3003496913856691, -0.13686447814901076, -0.6934926623103428, 0.4677493800110422, -0.04967031335505621, 0.0029873487534157967, 1.3050058240936475, 2.0822739524265272, 1.3372454344194475, 0.23248930744179683, 0.6919630662398372, -0.20847708621608946, -0.7492561186811212, 0.47067395845260995, -0.47476119697340363, -0.851722904254601, -0.1722634109699815, 1.015687820891181, 0.27957268479162284, -0.5264122026564911, 1.3289085772682034, 0.5926467792260204, 0.20955880417222356, -0.03525223109824736, -0.24849056413308096, -0.12093662344667885, -0.6918759359585686, -0.9029716877333371, -0.5418786406852931, -1.1298724294260758, -1.022858650436064, -0.5049720436473629, 0.07599191946717017, 2.0716370022098443, 0.588499848369862, -1.3347258669166913, 1.1598158070388573, -0.2266657196158616, 1.8175559972490056, 0.20600794192633626, 1.0695000792171083, -0.7875846395635173, -2.0945983332639955, 0.7296362863503695, -0.8393480703685064, -0.13220048186587524, -0.9042768088880324, -0.6617618893943592, 0.5785165671863408, -1.319808505930559, -0.0976818338748379, 2.1204248438117923, 1.1993541891064432, -0.5489240729639001, -0.766713592715684, -1.0169604849313043, 0.16833552818333108, 0.33694671414349947, 0.06698343272097228, 0.307382584599932, -0.19281105103566756, -0.5136645854214837, 0.09057945378131652, -0.3266030820021077, -0.6521034755451522, -1.0022186044034576, 0.8353405500554416, -0.40929600781708086, 0.5920213330376822, -1.5910210224599777], \"xaxis\": \"x8\", \"y\": [0.7557944147735085, 0.08420801170730241, 1.125224851480296, 0.38065475151755207, 0.5396274205240575, 0.5683289602573715, -0.2608769685151894, -0.40282805854406645, 1.0323173036744528, 0.028417798834812127, -0.517174679146552, -1.920275899765896, -1.12992664746321, 1.520453453577847, -0.6616003988885832, -2.2026206161735447, -0.11666027539963252, -2.2155337084780067, 0.6367684799711685, -0.1764979359195468, 1.3819423305761236, -0.008262148112657144, 0.9782295514038942, 1.99322695455303, -0.2550056163421702, 1.1983104645087241, -1.1767282090517108, 0.1866687098243254, -0.7443221314287102, -1.3368881098115208, 0.8979161027537494, -0.6450371339227668, 0.4674685984970453, 1.0387929502296873, 1.1420262987889602, 0.33989156511313695, 0.28218207921226246, 0.7108031867533554, -0.19824614238408128, -0.9382975161738351, -0.30006528143077743, -0.02711395816594447, 0.08773127271283397, 1.1131128380108828, -1.5372209506583512, -1.2495788629223747, -0.5628672105320381, 1.0253904572821646, 0.12695003780597983, -0.6225220306494884, 1.0034377291300447, -0.017920924540992887, 0.7051442293937872, 0.9768952039821863, 0.1714519825542668, -0.4738481699106438, 1.228276732941743, -0.004907755627084942, 1.1020113226868538, -1.537743962725332, 2.3098300590918144, 0.8495190634194937, -1.8418600829624527, -0.5964836394497389, 0.6388598070914784, 0.3557569827543802, -0.7658323525724573, 0.015269993899470594, -1.3551368944021027, 0.4828390365168581, -0.9696325544797003, -0.39790738293710254, 0.4011413136842935, -0.678147361211587, -0.5881407468585984, 0.7315029154129858, 1.0551627255471088, 1.3012639291825332, 1.752203520894791, -0.7549413493846202, -1.2856592275485377, 0.772007266640758, -1.0868301893872796, -0.6748215539231817, -1.062831300971065, 0.46462908811188613, -1.2584291900875348, -0.457270169220814, 0.2627928071210074, -1.724573428359919, 1.5939081634088021, 0.5658581330993231, -0.7086495830979483, 0.8100065851099465, -0.3883548594234347, -0.9402175365492719, -0.14248605623081273, 1.336233786743859, 0.030824605229955466, 0.42536427696008167], \"yaxis\": \"y8\"}, {\"line\": {\"color\": \"rgba(128, 128, 128, 1.0)\", \"dash\": \"solid\", \"shape\": \"linear\", \"width\": 1.3}, \"marker\": {\"size\": 2, \"symbol\": \"circle\"}, \"mode\": \"markers\", \"name\": \"C\", \"text\": \"\", \"type\": \"scatter\", \"x\": [1.1632319313482395, 0.4006995105216627, -0.2956762478256533, -0.05169719393589064, 0.00910757636508114, -0.6955839592405, -0.35909775057049803, -1.5625500495348743, 0.280382662704461, 0.6900988105151796, -2.7574912836742946, -0.07968419822034653, 1.8332128879861818, 1.4295281994653302, 0.1252613779335597, -0.49769928744988495, -0.856393091788203, 1.4352774817096858, -1.2664402308234686, 0.7890502900382642, -1.46167053131466, 0.8150472653619777, -1.17240523883422, -0.6705469117318189, -1.4341028074133875, -0.014599945431750708, 0.7435879685265763, -2.848647374794672, 0.49161354740033353, -0.45050436439059577, 0.28881432704739796, 0.33186383855201784, -0.047088381439171614, -0.9993636850678648, 1.1206599697688173, 1.1930326248835383, -1.1034554747230993, -0.5547348406545668, 0.13945607788763917, 1.301419479862865, -1.2400560909431215, 0.6203031047198649, 0.9380629637173821, -0.14400944082924053, -0.9240931840045439, -0.8282183540851877, -0.11961424790363061, -0.49999029669468653, 0.9819908608077234, -0.11606300782428085, 0.45764184722157275, 0.49346586682197907, -0.5433622602059989, -1.7900480082481471, 0.32044197002586217, -0.633058819620911, 0.035453392741268346, 0.28800897468143366, 0.1270836766417439, 1.1391905804798264, -0.058971810983125275, 1.5960984036066292, 0.043035034307208495, -0.8023299927990649, 0.9613524445273515, -0.39736206448423356, 0.2792623071725112, -0.36223179862154803, 1.0386103659394246, 0.768251393580555, -0.03247482932037407, -0.2833971496851408, -2.3264113817674885, 0.3601066380079715, -0.8975379312800085, 0.07627611530830201, 0.36155396903651077, -0.17833430581015805, -0.6767697508725241, 1.535979797909297, -0.4419843916432813, -0.7094090819406609, 0.647624136408352, -0.056939817949727634, -2.0938503562353876, 1.1522289116879099, 0.43945695783916466, 1.0199457327509938, 0.8259047129688619, -0.43717286489986557, -1.8874859655183183, 0.6348946192877947, -1.7859523956955943, 0.13333163954187455, -0.6353918987424078, -1.0049116048271711, -0.24942294813512036, 0.7019758240727191, 0.6036035864612834, 0.6023724883064032], \"xaxis\": \"x9\", \"y\": [1.1274878920186688, -0.9070224730561507, -1.2358374424996545, 2.0133455209160096, -0.23532700276852167, -0.0843349411395761, 0.5564580270064815, -2.001113199530813, -1.0237751564318915, 0.7112455681071055, -0.095897814239274, 0.012302705726989435, -0.3642422404181999, 0.3403436190656834, 1.8558023905088181, -0.02028397108156397, 1.7265027173812615, 0.718112498437952, -1.2442103221951375, 0.2265317886511371, 0.39388433813836293, -1.0083019157885458, -0.012422409185549738, 0.8298767634416259, -0.5579516556769883, 0.9823755782460005, 0.979237318413185, -0.7590536455033828, -0.10566195252374322, 0.7843088049510172, -0.20937563921771174, 0.6816260923662242, -0.12794614849386346, -0.9357881012238115, 0.435562156771844, -0.10226391303079788, 1.1379034453854844, 1.0214649224641377, -0.6416628431943977, 0.14545977454861278, 0.08534469747929535, 1.6327934059789464, 0.02546078625189333, 0.507331299025282, -0.7541731810959679, -0.5400909224669489, 2.0253428691208164, -1.7452483730247665, 0.4332690152684399, -0.3747344686538722, 0.35525626014582207, -0.11240294522341022, -0.1423042070038813, -0.928227200658264, 0.6571710516921412, 0.11739964208889658, -0.22783558748277402, 0.003288864602357087, 0.8932089752608745, -0.6089434361935895, -0.02747045092598185, -1.115382312401734, 0.13923713465209778, 1.5561479230532713, -0.7821445775333665, 0.8246643458772466, 2.8006403490602323, -1.9017618441603639, -0.2748926295358548, -0.13304470307879515, 0.18325574328819283, 0.17276872192465387, -0.817154036565531, -0.29850444195766196, 0.45296083043296126, -0.6807807248975272, 0.3103308884259926, 0.8609755862973423, -0.14059133673323243, -1.3648969141564753, -0.1701187924647384, -0.575823442122371, -0.5391924677629335, -0.616544499309483, -0.6398922990169684, 0.02217138929332535, 1.627069719620034, -0.29193740505071714, -0.07953601275712574, -1.536503639647945, 0.32698044720709857, 0.25388847357176747, -1.4191505697267244, -0.4095786747646304, 0.4342950977626566, 0.6805375373991261, 0.9938300719303992, 0.9600263358175988, -1.4407095325358261, -0.44554279426885285], \"yaxis\": \"y9\"}, {\"line\": {\"color\": \"rgba(128, 128, 128, 1.0)\", \"dash\": \"solid\", \"shape\": \"linear\", \"width\": 1.3}, \"marker\": {\"size\": 2, \"symbol\": \"circle\"}, \"mode\": \"markers\", \"name\": \"C\", \"text\": \"\", \"type\": \"scatter\", \"x\": [0.7557944147735085, 0.08420801170730241, 1.125224851480296, 0.38065475151755207, 0.5396274205240575, 0.5683289602573715, -0.2608769685151894, -0.40282805854406645, 1.0323173036744528, 0.028417798834812127, -0.517174679146552, -1.920275899765896, -1.12992664746321, 1.520453453577847, -0.6616003988885832, -2.2026206161735447, -0.11666027539963252, -2.2155337084780067, 0.6367684799711685, -0.1764979359195468, 1.3819423305761236, -0.008262148112657144, 0.9782295514038942, 1.99322695455303, -0.2550056163421702, 1.1983104645087241, -1.1767282090517108, 0.1866687098243254, -0.7443221314287102, -1.3368881098115208, 0.8979161027537494, -0.6450371339227668, 0.4674685984970453, 1.0387929502296873, 1.1420262987889602, 0.33989156511313695, 0.28218207921226246, 0.7108031867533554, -0.19824614238408128, -0.9382975161738351, -0.30006528143077743, -0.02711395816594447, 0.08773127271283397, 1.1131128380108828, -1.5372209506583512, -1.2495788629223747, -0.5628672105320381, 1.0253904572821646, 0.12695003780597983, -0.6225220306494884, 1.0034377291300447, -0.017920924540992887, 0.7051442293937872, 0.9768952039821863, 0.1714519825542668, -0.4738481699106438, 1.228276732941743, -0.004907755627084942, 1.1020113226868538, -1.537743962725332, 2.3098300590918144, 0.8495190634194937, -1.8418600829624527, -0.5964836394497389, 0.6388598070914784, 0.3557569827543802, -0.7658323525724573, 0.015269993899470594, -1.3551368944021027, 0.4828390365168581, -0.9696325544797003, -0.39790738293710254, 0.4011413136842935, -0.678147361211587, -0.5881407468585984, 0.7315029154129858, 1.0551627255471088, 1.3012639291825332, 1.752203520894791, -0.7549413493846202, -1.2856592275485377, 0.772007266640758, -1.0868301893872796, -0.6748215539231817, -1.062831300971065, 0.46462908811188613, -1.2584291900875348, -0.457270169220814, 0.2627928071210074, -1.724573428359919, 1.5939081634088021, 0.5658581330993231, -0.7086495830979483, 0.8100065851099465, -0.3883548594234347, -0.9402175365492719, -0.14248605623081273, 1.336233786743859, 0.030824605229955466, 0.42536427696008167], \"xaxis\": \"x10\", \"y\": [1.1274878920186688, -0.9070224730561507, -1.2358374424996545, 2.0133455209160096, -0.23532700276852167, -0.0843349411395761, 0.5564580270064815, -2.001113199530813, -1.0237751564318915, 0.7112455681071055, -0.095897814239274, 0.012302705726989435, -0.3642422404181999, 0.3403436190656834, 1.8558023905088181, -0.02028397108156397, 1.7265027173812615, 0.718112498437952, -1.2442103221951375, 0.2265317886511371, 0.39388433813836293, -1.0083019157885458, -0.012422409185549738, 0.8298767634416259, -0.5579516556769883, 0.9823755782460005, 0.979237318413185, -0.7590536455033828, -0.10566195252374322, 0.7843088049510172, -0.20937563921771174, 0.6816260923662242, -0.12794614849386346, -0.9357881012238115, 0.435562156771844, -0.10226391303079788, 1.1379034453854844, 1.0214649224641377, -0.6416628431943977, 0.14545977454861278, 0.08534469747929535, 1.6327934059789464, 0.02546078625189333, 0.507331299025282, -0.7541731810959679, -0.5400909224669489, 2.0253428691208164, -1.7452483730247665, 0.4332690152684399, -0.3747344686538722, 0.35525626014582207, -0.11240294522341022, -0.1423042070038813, -0.928227200658264, 0.6571710516921412, 0.11739964208889658, -0.22783558748277402, 0.003288864602357087, 0.8932089752608745, -0.6089434361935895, -0.02747045092598185, -1.115382312401734, 0.13923713465209778, 1.5561479230532713, -0.7821445775333665, 0.8246643458772466, 2.8006403490602323, -1.9017618441603639, -0.2748926295358548, -0.13304470307879515, 0.18325574328819283, 0.17276872192465387, -0.817154036565531, -0.29850444195766196, 0.45296083043296126, -0.6807807248975272, 0.3103308884259926, 0.8609755862973423, -0.14059133673323243, -1.3648969141564753, -0.1701187924647384, -0.575823442122371, -0.5391924677629335, -0.616544499309483, -0.6398922990169684, 0.02217138929332535, 1.627069719620034, -0.29193740505071714, -0.07953601275712574, -1.536503639647945, 0.32698044720709857, 0.25388847357176747, -1.4191505697267244, -0.4095786747646304, 0.4342950977626566, 0.6805375373991261, 0.9938300719303992, 0.9600263358175988, -1.4407095325358261, -0.44554279426885285], \"yaxis\": \"y10\"}, {\"histfunc\": \"count\", \"histnorm\": \"\", \"marker\": {\"color\": \"rgba(50, 171, 96, 1.0)\", \"line\": {\"color\": \"#4D5663\", \"width\": 1.3}}, \"name\": \"C\", \"nbinsx\": 10, \"opacity\": 0.8, \"orientation\": \"v\", \"type\": \"histogram\", \"x\": [1.1274878920186688, -0.9070224730561507, -1.2358374424996545, 2.0133455209160096, -0.23532700276852167, -0.0843349411395761, 0.5564580270064815, -2.001113199530813, -1.0237751564318915, 0.7112455681071055, -0.095897814239274, 0.012302705726989435, -0.3642422404181999, 0.3403436190656834, 1.8558023905088181, -0.02028397108156397, 1.7265027173812615, 0.718112498437952, -1.2442103221951375, 0.2265317886511371, 0.39388433813836293, -1.0083019157885458, -0.012422409185549738, 0.8298767634416259, -0.5579516556769883, 0.9823755782460005, 0.979237318413185, -0.7590536455033828, -0.10566195252374322, 0.7843088049510172, -0.20937563921771174, 0.6816260923662242, -0.12794614849386346, -0.9357881012238115, 0.435562156771844, -0.10226391303079788, 1.1379034453854844, 1.0214649224641377, -0.6416628431943977, 0.14545977454861278, 0.08534469747929535, 1.6327934059789464, 0.02546078625189333, 0.507331299025282, -0.7541731810959679, -0.5400909224669489, 2.0253428691208164, -1.7452483730247665, 0.4332690152684399, -0.3747344686538722, 0.35525626014582207, -0.11240294522341022, -0.1423042070038813, -0.928227200658264, 0.6571710516921412, 0.11739964208889658, -0.22783558748277402, 0.003288864602357087, 0.8932089752608745, -0.6089434361935895, -0.02747045092598185, -1.115382312401734, 0.13923713465209778, 1.5561479230532713, -0.7821445775333665, 0.8246643458772466, 2.8006403490602323, -1.9017618441603639, -0.2748926295358548, -0.13304470307879515, 0.18325574328819283, 0.17276872192465387, -0.817154036565531, -0.29850444195766196, 0.45296083043296126, -0.6807807248975272, 0.3103308884259926, 0.8609755862973423, -0.14059133673323243, -1.3648969141564753, -0.1701187924647384, -0.575823442122371, -0.5391924677629335, -0.616544499309483, -0.6398922990169684, 0.02217138929332535, 1.627069719620034, -0.29193740505071714, -0.07953601275712574, -1.536503639647945, 0.32698044720709857, 0.25388847357176747, -1.4191505697267244, -0.4095786747646304, 0.4342950977626566, 0.6805375373991261, 0.9938300719303992, 0.9600263358175988, -1.4407095325358261, -0.44554279426885285], \"xaxis\": \"x11\", \"yaxis\": \"y11\"}, {\"line\": {\"color\": \"rgba(128, 128, 128, 1.0)\", \"dash\": \"solid\", \"shape\": \"linear\", \"width\": 1.3}, \"marker\": {\"size\": 2, \"symbol\": \"circle\"}, \"mode\": \"markers\", \"name\": \"C\", \"text\": \"\", \"type\": \"scatter\", \"x\": [0.05577750943415836, 0.4731162721670755, 0.8560839821214502, -0.16454661556248282, -0.04723352810088136, -0.6959294644947278, -0.9283690607897231, -0.36240042398379857, -0.24681455860509896, 1.5764744809546858, 0.467702006018148, -1.8522219727940552, -1.4816439387161457, 1.804507541246819, -0.19643428971750973, -2.6274293905482797, -0.7768222927835762, 1.7251663901834515, 0.35496308712359387, 0.3383926563359808, -0.07615724073479516, 1.3682260553011878, -2.738649240803818, 1.188031571791971, -1.85073502836093, -0.3058818239948589, -0.46030388366757613, 0.5674503237924392, -0.28786456016097994, -0.20122600508922805, 0.3003496913856691, -0.13686447814901076, -0.6934926623103428, 0.4677493800110422, -0.04967031335505621, 0.0029873487534157967, 1.3050058240936475, 2.0822739524265272, 1.3372454344194475, 0.23248930744179683, 0.6919630662398372, -0.20847708621608946, -0.7492561186811212, 0.47067395845260995, -0.47476119697340363, -0.851722904254601, -0.1722634109699815, 1.015687820891181, 0.27957268479162284, -0.5264122026564911, 1.3289085772682034, 0.5926467792260204, 0.20955880417222356, -0.03525223109824736, -0.24849056413308096, -0.12093662344667885, -0.6918759359585686, -0.9029716877333371, -0.5418786406852931, -1.1298724294260758, -1.022858650436064, -0.5049720436473629, 0.07599191946717017, 2.0716370022098443, 0.588499848369862, -1.3347258669166913, 1.1598158070388573, -0.2266657196158616, 1.8175559972490056, 0.20600794192633626, 1.0695000792171083, -0.7875846395635173, -2.0945983332639955, 0.7296362863503695, -0.8393480703685064, -0.13220048186587524, -0.9042768088880324, -0.6617618893943592, 0.5785165671863408, -1.319808505930559, -0.0976818338748379, 2.1204248438117923, 1.1993541891064432, -0.5489240729639001, -0.766713592715684, -1.0169604849313043, 0.16833552818333108, 0.33694671414349947, 0.06698343272097228, 0.307382584599932, -0.19281105103566756, -0.5136645854214837, 0.09057945378131652, -0.3266030820021077, -0.6521034755451522, -1.0022186044034576, 0.8353405500554416, -0.40929600781708086, 0.5920213330376822, -1.5910210224599777], \"xaxis\": \"x12\", \"y\": [1.1274878920186688, -0.9070224730561507, -1.2358374424996545, 2.0133455209160096, -0.23532700276852167, -0.0843349411395761, 0.5564580270064815, -2.001113199530813, -1.0237751564318915, 0.7112455681071055, -0.095897814239274, 0.012302705726989435, -0.3642422404181999, 0.3403436190656834, 1.8558023905088181, -0.02028397108156397, 1.7265027173812615, 0.718112498437952, -1.2442103221951375, 0.2265317886511371, 0.39388433813836293, -1.0083019157885458, -0.012422409185549738, 0.8298767634416259, -0.5579516556769883, 0.9823755782460005, 0.979237318413185, -0.7590536455033828, -0.10566195252374322, 0.7843088049510172, -0.20937563921771174, 0.6816260923662242, -0.12794614849386346, -0.9357881012238115, 0.435562156771844, -0.10226391303079788, 1.1379034453854844, 1.0214649224641377, -0.6416628431943977, 0.14545977454861278, 0.08534469747929535, 1.6327934059789464, 0.02546078625189333, 0.507331299025282, -0.7541731810959679, -0.5400909224669489, 2.0253428691208164, -1.7452483730247665, 0.4332690152684399, -0.3747344686538722, 0.35525626014582207, -0.11240294522341022, -0.1423042070038813, -0.928227200658264, 0.6571710516921412, 0.11739964208889658, -0.22783558748277402, 0.003288864602357087, 0.8932089752608745, -0.6089434361935895, -0.02747045092598185, -1.115382312401734, 0.13923713465209778, 1.5561479230532713, -0.7821445775333665, 0.8246643458772466, 2.8006403490602323, -1.9017618441603639, -0.2748926295358548, -0.13304470307879515, 0.18325574328819283, 0.17276872192465387, -0.817154036565531, -0.29850444195766196, 0.45296083043296126, -0.6807807248975272, 0.3103308884259926, 0.8609755862973423, -0.14059133673323243, -1.3648969141564753, -0.1701187924647384, -0.575823442122371, -0.5391924677629335, -0.616544499309483, -0.6398922990169684, 0.02217138929332535, 1.627069719620034, -0.29193740505071714, -0.07953601275712574, -1.536503639647945, 0.32698044720709857, 0.25388847357176747, -1.4191505697267244, -0.4095786747646304, 0.4342950977626566, 0.6805375373991261, 0.9938300719303992, 0.9600263358175988, -1.4407095325358261, -0.44554279426885285], \"yaxis\": \"y12\"}, {\"line\": {\"color\": \"rgba(128, 128, 128, 1.0)\", \"dash\": \"solid\", \"shape\": \"linear\", \"width\": 1.3}, \"marker\": {\"size\": 2, \"symbol\": \"circle\"}, \"mode\": \"markers\", \"name\": \"D\", \"text\": \"\", \"type\": \"scatter\", \"x\": [1.1632319313482395, 0.4006995105216627, -0.2956762478256533, -0.05169719393589064, 0.00910757636508114, -0.6955839592405, -0.35909775057049803, -1.5625500495348743, 0.280382662704461, 0.6900988105151796, -2.7574912836742946, -0.07968419822034653, 1.8332128879861818, 1.4295281994653302, 0.1252613779335597, -0.49769928744988495, -0.856393091788203, 1.4352774817096858, -1.2664402308234686, 0.7890502900382642, -1.46167053131466, 0.8150472653619777, -1.17240523883422, -0.6705469117318189, -1.4341028074133875, -0.014599945431750708, 0.7435879685265763, -2.848647374794672, 0.49161354740033353, -0.45050436439059577, 0.28881432704739796, 0.33186383855201784, -0.047088381439171614, -0.9993636850678648, 1.1206599697688173, 1.1930326248835383, -1.1034554747230993, -0.5547348406545668, 0.13945607788763917, 1.301419479862865, -1.2400560909431215, 0.6203031047198649, 0.9380629637173821, -0.14400944082924053, -0.9240931840045439, -0.8282183540851877, -0.11961424790363061, -0.49999029669468653, 0.9819908608077234, -0.11606300782428085, 0.45764184722157275, 0.49346586682197907, -0.5433622602059989, -1.7900480082481471, 0.32044197002586217, -0.633058819620911, 0.035453392741268346, 0.28800897468143366, 0.1270836766417439, 1.1391905804798264, -0.058971810983125275, 1.5960984036066292, 0.043035034307208495, -0.8023299927990649, 0.9613524445273515, -0.39736206448423356, 0.2792623071725112, -0.36223179862154803, 1.0386103659394246, 0.768251393580555, -0.03247482932037407, -0.2833971496851408, -2.3264113817674885, 0.3601066380079715, -0.8975379312800085, 0.07627611530830201, 0.36155396903651077, -0.17833430581015805, -0.6767697508725241, 1.535979797909297, -0.4419843916432813, -0.7094090819406609, 0.647624136408352, -0.056939817949727634, -2.0938503562353876, 1.1522289116879099, 0.43945695783916466, 1.0199457327509938, 0.8259047129688619, -0.43717286489986557, -1.8874859655183183, 0.6348946192877947, -1.7859523956955943, 0.13333163954187455, -0.6353918987424078, -1.0049116048271711, -0.24942294813512036, 0.7019758240727191, 0.6036035864612834, 0.6023724883064032], \"xaxis\": \"x13\", \"y\": [0.05577750943415836, 0.4731162721670755, 0.8560839821214502, -0.16454661556248282, -0.04723352810088136, -0.6959294644947278, -0.9283690607897231, -0.36240042398379857, -0.24681455860509896, 1.5764744809546858, 0.467702006018148, -1.8522219727940552, -1.4816439387161457, 1.804507541246819, -0.19643428971750973, -2.6274293905482797, -0.7768222927835762, 1.7251663901834515, 0.35496308712359387, 0.3383926563359808, -0.07615724073479516, 1.3682260553011878, -2.738649240803818, 1.188031571791971, -1.85073502836093, -0.3058818239948589, -0.46030388366757613, 0.5674503237924392, -0.28786456016097994, -0.20122600508922805, 0.3003496913856691, -0.13686447814901076, -0.6934926623103428, 0.4677493800110422, -0.04967031335505621, 0.0029873487534157967, 1.3050058240936475, 2.0822739524265272, 1.3372454344194475, 0.23248930744179683, 0.6919630662398372, -0.20847708621608946, -0.7492561186811212, 0.47067395845260995, -0.47476119697340363, -0.851722904254601, -0.1722634109699815, 1.015687820891181, 0.27957268479162284, -0.5264122026564911, 1.3289085772682034, 0.5926467792260204, 0.20955880417222356, -0.03525223109824736, -0.24849056413308096, -0.12093662344667885, -0.6918759359585686, -0.9029716877333371, -0.5418786406852931, -1.1298724294260758, -1.022858650436064, -0.5049720436473629, 0.07599191946717017, 2.0716370022098443, 0.588499848369862, -1.3347258669166913, 1.1598158070388573, -0.2266657196158616, 1.8175559972490056, 0.20600794192633626, 1.0695000792171083, -0.7875846395635173, -2.0945983332639955, 0.7296362863503695, -0.8393480703685064, -0.13220048186587524, -0.9042768088880324, -0.6617618893943592, 0.5785165671863408, -1.319808505930559, -0.0976818338748379, 2.1204248438117923, 1.1993541891064432, -0.5489240729639001, -0.766713592715684, -1.0169604849313043, 0.16833552818333108, 0.33694671414349947, 0.06698343272097228, 0.307382584599932, -0.19281105103566756, -0.5136645854214837, 0.09057945378131652, -0.3266030820021077, -0.6521034755451522, -1.0022186044034576, 0.8353405500554416, -0.40929600781708086, 0.5920213330376822, -1.5910210224599777], \"yaxis\": \"y13\"}, {\"line\": {\"color\": \"rgba(128, 128, 128, 1.0)\", \"dash\": \"solid\", \"shape\": \"linear\", \"width\": 1.3}, \"marker\": {\"size\": 2, \"symbol\": \"circle\"}, \"mode\": \"markers\", \"name\": \"D\", \"text\": \"\", \"type\": \"scatter\", \"x\": [0.7557944147735085, 0.08420801170730241, 1.125224851480296, 0.38065475151755207, 0.5396274205240575, 0.5683289602573715, -0.2608769685151894, -0.40282805854406645, 1.0323173036744528, 0.028417798834812127, -0.517174679146552, -1.920275899765896, -1.12992664746321, 1.520453453577847, -0.6616003988885832, -2.2026206161735447, -0.11666027539963252, -2.2155337084780067, 0.6367684799711685, -0.1764979359195468, 1.3819423305761236, -0.008262148112657144, 0.9782295514038942, 1.99322695455303, -0.2550056163421702, 1.1983104645087241, -1.1767282090517108, 0.1866687098243254, -0.7443221314287102, -1.3368881098115208, 0.8979161027537494, -0.6450371339227668, 0.4674685984970453, 1.0387929502296873, 1.1420262987889602, 0.33989156511313695, 0.28218207921226246, 0.7108031867533554, -0.19824614238408128, -0.9382975161738351, -0.30006528143077743, -0.02711395816594447, 0.08773127271283397, 1.1131128380108828, -1.5372209506583512, -1.2495788629223747, -0.5628672105320381, 1.0253904572821646, 0.12695003780597983, -0.6225220306494884, 1.0034377291300447, -0.017920924540992887, 0.7051442293937872, 0.9768952039821863, 0.1714519825542668, -0.4738481699106438, 1.228276732941743, -0.004907755627084942, 1.1020113226868538, -1.537743962725332, 2.3098300590918144, 0.8495190634194937, -1.8418600829624527, -0.5964836394497389, 0.6388598070914784, 0.3557569827543802, -0.7658323525724573, 0.015269993899470594, -1.3551368944021027, 0.4828390365168581, -0.9696325544797003, -0.39790738293710254, 0.4011413136842935, -0.678147361211587, -0.5881407468585984, 0.7315029154129858, 1.0551627255471088, 1.3012639291825332, 1.752203520894791, -0.7549413493846202, -1.2856592275485377, 0.772007266640758, -1.0868301893872796, -0.6748215539231817, -1.062831300971065, 0.46462908811188613, -1.2584291900875348, -0.457270169220814, 0.2627928071210074, -1.724573428359919, 1.5939081634088021, 0.5658581330993231, -0.7086495830979483, 0.8100065851099465, -0.3883548594234347, -0.9402175365492719, -0.14248605623081273, 1.336233786743859, 0.030824605229955466, 0.42536427696008167], \"xaxis\": \"x14\", \"y\": [0.05577750943415836, 0.4731162721670755, 0.8560839821214502, -0.16454661556248282, -0.04723352810088136, -0.6959294644947278, -0.9283690607897231, -0.36240042398379857, -0.24681455860509896, 1.5764744809546858, 0.467702006018148, -1.8522219727940552, -1.4816439387161457, 1.804507541246819, -0.19643428971750973, -2.6274293905482797, -0.7768222927835762, 1.7251663901834515, 0.35496308712359387, 0.3383926563359808, -0.07615724073479516, 1.3682260553011878, -2.738649240803818, 1.188031571791971, -1.85073502836093, -0.3058818239948589, -0.46030388366757613, 0.5674503237924392, -0.28786456016097994, -0.20122600508922805, 0.3003496913856691, -0.13686447814901076, -0.6934926623103428, 0.4677493800110422, -0.04967031335505621, 0.0029873487534157967, 1.3050058240936475, 2.0822739524265272, 1.3372454344194475, 0.23248930744179683, 0.6919630662398372, -0.20847708621608946, -0.7492561186811212, 0.47067395845260995, -0.47476119697340363, -0.851722904254601, -0.1722634109699815, 1.015687820891181, 0.27957268479162284, -0.5264122026564911, 1.3289085772682034, 0.5926467792260204, 0.20955880417222356, -0.03525223109824736, -0.24849056413308096, -0.12093662344667885, -0.6918759359585686, -0.9029716877333371, -0.5418786406852931, -1.1298724294260758, -1.022858650436064, -0.5049720436473629, 0.07599191946717017, 2.0716370022098443, 0.588499848369862, -1.3347258669166913, 1.1598158070388573, -0.2266657196158616, 1.8175559972490056, 0.20600794192633626, 1.0695000792171083, -0.7875846395635173, -2.0945983332639955, 0.7296362863503695, -0.8393480703685064, -0.13220048186587524, -0.9042768088880324, -0.6617618893943592, 0.5785165671863408, -1.319808505930559, -0.0976818338748379, 2.1204248438117923, 1.1993541891064432, -0.5489240729639001, -0.766713592715684, -1.0169604849313043, 0.16833552818333108, 0.33694671414349947, 0.06698343272097228, 0.307382584599932, -0.19281105103566756, -0.5136645854214837, 0.09057945378131652, -0.3266030820021077, -0.6521034755451522, -1.0022186044034576, 0.8353405500554416, -0.40929600781708086, 0.5920213330376822, -1.5910210224599777], \"yaxis\": \"y14\"}, {\"line\": {\"color\": \"rgba(128, 128, 128, 1.0)\", \"dash\": \"solid\", \"shape\": \"linear\", \"width\": 1.3}, \"marker\": {\"size\": 2, \"symbol\": \"circle\"}, \"mode\": \"markers\", \"name\": \"D\", \"text\": \"\", \"type\": \"scatter\", \"x\": [1.1274878920186688, -0.9070224730561507, -1.2358374424996545, 2.0133455209160096, -0.23532700276852167, -0.0843349411395761, 0.5564580270064815, -2.001113199530813, -1.0237751564318915, 0.7112455681071055, -0.095897814239274, 0.012302705726989435, -0.3642422404181999, 0.3403436190656834, 1.8558023905088181, -0.02028397108156397, 1.7265027173812615, 0.718112498437952, -1.2442103221951375, 0.2265317886511371, 0.39388433813836293, -1.0083019157885458, -0.012422409185549738, 0.8298767634416259, -0.5579516556769883, 0.9823755782460005, 0.979237318413185, -0.7590536455033828, -0.10566195252374322, 0.7843088049510172, -0.20937563921771174, 0.6816260923662242, -0.12794614849386346, -0.9357881012238115, 0.435562156771844, -0.10226391303079788, 1.1379034453854844, 1.0214649224641377, -0.6416628431943977, 0.14545977454861278, 0.08534469747929535, 1.6327934059789464, 0.02546078625189333, 0.507331299025282, -0.7541731810959679, -0.5400909224669489, 2.0253428691208164, -1.7452483730247665, 0.4332690152684399, -0.3747344686538722, 0.35525626014582207, -0.11240294522341022, -0.1423042070038813, -0.928227200658264, 0.6571710516921412, 0.11739964208889658, -0.22783558748277402, 0.003288864602357087, 0.8932089752608745, -0.6089434361935895, -0.02747045092598185, -1.115382312401734, 0.13923713465209778, 1.5561479230532713, -0.7821445775333665, 0.8246643458772466, 2.8006403490602323, -1.9017618441603639, -0.2748926295358548, -0.13304470307879515, 0.18325574328819283, 0.17276872192465387, -0.817154036565531, -0.29850444195766196, 0.45296083043296126, -0.6807807248975272, 0.3103308884259926, 0.8609755862973423, -0.14059133673323243, -1.3648969141564753, -0.1701187924647384, -0.575823442122371, -0.5391924677629335, -0.616544499309483, -0.6398922990169684, 0.02217138929332535, 1.627069719620034, -0.29193740505071714, -0.07953601275712574, -1.536503639647945, 0.32698044720709857, 0.25388847357176747, -1.4191505697267244, -0.4095786747646304, 0.4342950977626566, 0.6805375373991261, 0.9938300719303992, 0.9600263358175988, -1.4407095325358261, -0.44554279426885285], \"xaxis\": \"x15\", \"y\": [0.05577750943415836, 0.4731162721670755, 0.8560839821214502, -0.16454661556248282, -0.04723352810088136, -0.6959294644947278, -0.9283690607897231, -0.36240042398379857, -0.24681455860509896, 1.5764744809546858, 0.467702006018148, -1.8522219727940552, -1.4816439387161457, 1.804507541246819, -0.19643428971750973, -2.6274293905482797, -0.7768222927835762, 1.7251663901834515, 0.35496308712359387, 0.3383926563359808, -0.07615724073479516, 1.3682260553011878, -2.738649240803818, 1.188031571791971, -1.85073502836093, -0.3058818239948589, -0.46030388366757613, 0.5674503237924392, -0.28786456016097994, -0.20122600508922805, 0.3003496913856691, -0.13686447814901076, -0.6934926623103428, 0.4677493800110422, -0.04967031335505621, 0.0029873487534157967, 1.3050058240936475, 2.0822739524265272, 1.3372454344194475, 0.23248930744179683, 0.6919630662398372, -0.20847708621608946, -0.7492561186811212, 0.47067395845260995, -0.47476119697340363, -0.851722904254601, -0.1722634109699815, 1.015687820891181, 0.27957268479162284, -0.5264122026564911, 1.3289085772682034, 0.5926467792260204, 0.20955880417222356, -0.03525223109824736, -0.24849056413308096, -0.12093662344667885, -0.6918759359585686, -0.9029716877333371, -0.5418786406852931, -1.1298724294260758, -1.022858650436064, -0.5049720436473629, 0.07599191946717017, 2.0716370022098443, 0.588499848369862, -1.3347258669166913, 1.1598158070388573, -0.2266657196158616, 1.8175559972490056, 0.20600794192633626, 1.0695000792171083, -0.7875846395635173, -2.0945983332639955, 0.7296362863503695, -0.8393480703685064, -0.13220048186587524, -0.9042768088880324, -0.6617618893943592, 0.5785165671863408, -1.319808505930559, -0.0976818338748379, 2.1204248438117923, 1.1993541891064432, -0.5489240729639001, -0.766713592715684, -1.0169604849313043, 0.16833552818333108, 0.33694671414349947, 0.06698343272097228, 0.307382584599932, -0.19281105103566756, -0.5136645854214837, 0.09057945378131652, -0.3266030820021077, -0.6521034755451522, -1.0022186044034576, 0.8353405500554416, -0.40929600781708086, 0.5920213330376822, -1.5910210224599777], \"yaxis\": \"y15\"}, {\"histfunc\": \"count\", \"histnorm\": \"\", \"marker\": {\"color\": \"rgba(128, 0, 128, 1.0)\", \"line\": {\"color\": \"#4D5663\", \"width\": 1.3}}, \"name\": \"D\", \"nbinsx\": 10, \"opacity\": 0.8, \"orientation\": \"v\", \"type\": \"histogram\", \"x\": [0.05577750943415836, 0.4731162721670755, 0.8560839821214502, -0.16454661556248282, -0.04723352810088136, -0.6959294644947278, -0.9283690607897231, -0.36240042398379857, -0.24681455860509896, 1.5764744809546858, 0.467702006018148, -1.8522219727940552, -1.4816439387161457, 1.804507541246819, -0.19643428971750973, -2.6274293905482797, -0.7768222927835762, 1.7251663901834515, 0.35496308712359387, 0.3383926563359808, -0.07615724073479516, 1.3682260553011878, -2.738649240803818, 1.188031571791971, -1.85073502836093, -0.3058818239948589, -0.46030388366757613, 0.5674503237924392, -0.28786456016097994, -0.20122600508922805, 0.3003496913856691, -0.13686447814901076, -0.6934926623103428, 0.4677493800110422, -0.04967031335505621, 0.0029873487534157967, 1.3050058240936475, 2.0822739524265272, 1.3372454344194475, 0.23248930744179683, 0.6919630662398372, -0.20847708621608946, -0.7492561186811212, 0.47067395845260995, -0.47476119697340363, -0.851722904254601, -0.1722634109699815, 1.015687820891181, 0.27957268479162284, -0.5264122026564911, 1.3289085772682034, 0.5926467792260204, 0.20955880417222356, -0.03525223109824736, -0.24849056413308096, -0.12093662344667885, -0.6918759359585686, -0.9029716877333371, -0.5418786406852931, -1.1298724294260758, -1.022858650436064, -0.5049720436473629, 0.07599191946717017, 2.0716370022098443, 0.588499848369862, -1.3347258669166913, 1.1598158070388573, -0.2266657196158616, 1.8175559972490056, 0.20600794192633626, 1.0695000792171083, -0.7875846395635173, -2.0945983332639955, 0.7296362863503695, -0.8393480703685064, -0.13220048186587524, -0.9042768088880324, -0.6617618893943592, 0.5785165671863408, -1.319808505930559, -0.0976818338748379, 2.1204248438117923, 1.1993541891064432, -0.5489240729639001, -0.766713592715684, -1.0169604849313043, 0.16833552818333108, 0.33694671414349947, 0.06698343272097228, 0.307382584599932, -0.19281105103566756, -0.5136645854214837, 0.09057945378131652, -0.3266030820021077, -0.6521034755451522, -1.0022186044034576, 0.8353405500554416, -0.40929600781708086, 0.5920213330376822, -1.5910210224599777], \"xaxis\": \"x16\", \"yaxis\": \"y16\"}],\n",
       "                        {\"bargap\": 0.02, \"legend\": {\"bgcolor\": \"#F5F6F9\", \"font\": {\"color\": \"#4D5663\"}}, \"paper_bgcolor\": \"#F5F6F9\", \"plot_bgcolor\": \"#F5F6F9\", \"showlegend\": false, \"template\": {\"data\": {\"bar\": [{\"error_x\": {\"color\": \"#2a3f5f\"}, \"error_y\": {\"color\": \"#2a3f5f\"}, \"marker\": {\"line\": {\"color\": \"#E5ECF6\", \"width\": 0.5}}, \"type\": \"bar\"}], \"barpolar\": [{\"marker\": {\"line\": {\"color\": \"#E5ECF6\", \"width\": 0.5}}, \"type\": \"barpolar\"}], \"carpet\": [{\"aaxis\": {\"endlinecolor\": \"#2a3f5f\", \"gridcolor\": \"white\", \"linecolor\": \"white\", \"minorgridcolor\": \"white\", \"startlinecolor\": \"#2a3f5f\"}, \"baxis\": {\"endlinecolor\": \"#2a3f5f\", \"gridcolor\": \"white\", \"linecolor\": \"white\", \"minorgridcolor\": \"white\", \"startlinecolor\": \"#2a3f5f\"}, \"type\": \"carpet\"}], \"choropleth\": [{\"colorbar\": {\"outlinewidth\": 0, \"ticks\": \"\"}, \"type\": \"choropleth\"}], \"contour\": [{\"colorbar\": {\"outlinewidth\": 0, \"ticks\": \"\"}, \"colorscale\": [[0.0, \"#0d0887\"], [0.1111111111111111, \"#46039f\"], [0.2222222222222222, \"#7201a8\"], [0.3333333333333333, \"#9c179e\"], [0.4444444444444444, \"#bd3786\"], [0.5555555555555556, \"#d8576b\"], [0.6666666666666666, \"#ed7953\"], [0.7777777777777778, \"#fb9f3a\"], [0.8888888888888888, \"#fdca26\"], [1.0, \"#f0f921\"]], \"type\": \"contour\"}], \"contourcarpet\": [{\"colorbar\": {\"outlinewidth\": 0, \"ticks\": \"\"}, \"type\": \"contourcarpet\"}], \"heatmap\": [{\"colorbar\": {\"outlinewidth\": 0, \"ticks\": \"\"}, \"colorscale\": [[0.0, \"#0d0887\"], [0.1111111111111111, \"#46039f\"], [0.2222222222222222, \"#7201a8\"], [0.3333333333333333, \"#9c179e\"], [0.4444444444444444, \"#bd3786\"], [0.5555555555555556, \"#d8576b\"], [0.6666666666666666, \"#ed7953\"], [0.7777777777777778, \"#fb9f3a\"], [0.8888888888888888, \"#fdca26\"], [1.0, \"#f0f921\"]], \"type\": \"heatmap\"}], \"heatmapgl\": [{\"colorbar\": {\"outlinewidth\": 0, \"ticks\": \"\"}, \"colorscale\": [[0.0, \"#0d0887\"], [0.1111111111111111, \"#46039f\"], [0.2222222222222222, \"#7201a8\"], [0.3333333333333333, \"#9c179e\"], [0.4444444444444444, \"#bd3786\"], [0.5555555555555556, \"#d8576b\"], [0.6666666666666666, \"#ed7953\"], [0.7777777777777778, \"#fb9f3a\"], [0.8888888888888888, \"#fdca26\"], [1.0, \"#f0f921\"]], \"type\": \"heatmapgl\"}], \"histogram\": [{\"marker\": {\"colorbar\": {\"outlinewidth\": 0, \"ticks\": \"\"}}, \"type\": \"histogram\"}], \"histogram2d\": [{\"colorbar\": {\"outlinewidth\": 0, \"ticks\": \"\"}, \"colorscale\": [[0.0, \"#0d0887\"], [0.1111111111111111, \"#46039f\"], [0.2222222222222222, \"#7201a8\"], [0.3333333333333333, \"#9c179e\"], [0.4444444444444444, \"#bd3786\"], [0.5555555555555556, \"#d8576b\"], [0.6666666666666666, \"#ed7953\"], [0.7777777777777778, \"#fb9f3a\"], [0.8888888888888888, \"#fdca26\"], [1.0, \"#f0f921\"]], \"type\": \"histogram2d\"}], \"histogram2dcontour\": [{\"colorbar\": {\"outlinewidth\": 0, \"ticks\": \"\"}, \"colorscale\": [[0.0, \"#0d0887\"], [0.1111111111111111, \"#46039f\"], [0.2222222222222222, \"#7201a8\"], [0.3333333333333333, \"#9c179e\"], [0.4444444444444444, \"#bd3786\"], [0.5555555555555556, \"#d8576b\"], [0.6666666666666666, \"#ed7953\"], [0.7777777777777778, \"#fb9f3a\"], [0.8888888888888888, \"#fdca26\"], [1.0, \"#f0f921\"]], \"type\": \"histogram2dcontour\"}], \"mesh3d\": [{\"colorbar\": {\"outlinewidth\": 0, \"ticks\": \"\"}, \"type\": \"mesh3d\"}], \"parcoords\": [{\"line\": {\"colorbar\": {\"outlinewidth\": 0, \"ticks\": \"\"}}, \"type\": \"parcoords\"}], \"pie\": [{\"automargin\": true, \"type\": \"pie\"}], \"scatter\": [{\"marker\": {\"colorbar\": {\"outlinewidth\": 0, \"ticks\": \"\"}}, \"type\": \"scatter\"}], \"scatter3d\": [{\"line\": {\"colorbar\": {\"outlinewidth\": 0, \"ticks\": \"\"}}, \"marker\": {\"colorbar\": {\"outlinewidth\": 0, \"ticks\": \"\"}}, \"type\": \"scatter3d\"}], \"scattercarpet\": [{\"marker\": {\"colorbar\": {\"outlinewidth\": 0, \"ticks\": \"\"}}, \"type\": \"scattercarpet\"}], \"scattergeo\": [{\"marker\": {\"colorbar\": {\"outlinewidth\": 0, \"ticks\": \"\"}}, \"type\": \"scattergeo\"}], \"scattergl\": [{\"marker\": {\"colorbar\": {\"outlinewidth\": 0, \"ticks\": \"\"}}, \"type\": \"scattergl\"}], \"scattermapbox\": [{\"marker\": {\"colorbar\": {\"outlinewidth\": 0, \"ticks\": \"\"}}, \"type\": \"scattermapbox\"}], \"scatterpolar\": [{\"marker\": {\"colorbar\": {\"outlinewidth\": 0, \"ticks\": \"\"}}, \"type\": \"scatterpolar\"}], \"scatterpolargl\": [{\"marker\": {\"colorbar\": {\"outlinewidth\": 0, \"ticks\": \"\"}}, \"type\": \"scatterpolargl\"}], \"scatterternary\": [{\"marker\": {\"colorbar\": {\"outlinewidth\": 0, \"ticks\": \"\"}}, \"type\": \"scatterternary\"}], \"surface\": [{\"colorbar\": {\"outlinewidth\": 0, \"ticks\": \"\"}, \"colorscale\": [[0.0, \"#0d0887\"], [0.1111111111111111, \"#46039f\"], [0.2222222222222222, \"#7201a8\"], [0.3333333333333333, \"#9c179e\"], [0.4444444444444444, \"#bd3786\"], [0.5555555555555556, \"#d8576b\"], [0.6666666666666666, \"#ed7953\"], [0.7777777777777778, \"#fb9f3a\"], [0.8888888888888888, \"#fdca26\"], [1.0, \"#f0f921\"]], \"type\": \"surface\"}], \"table\": [{\"cells\": {\"fill\": {\"color\": \"#EBF0F8\"}, \"line\": {\"color\": \"white\"}}, \"header\": {\"fill\": {\"color\": \"#C8D4E3\"}, \"line\": {\"color\": \"white\"}}, \"type\": \"table\"}]}, \"layout\": {\"annotationdefaults\": {\"arrowcolor\": \"#2a3f5f\", \"arrowhead\": 0, \"arrowwidth\": 1}, \"coloraxis\": {\"colorbar\": {\"outlinewidth\": 0, \"ticks\": \"\"}}, \"colorscale\": {\"diverging\": [[0, \"#8e0152\"], [0.1, \"#c51b7d\"], [0.2, \"#de77ae\"], [0.3, \"#f1b6da\"], [0.4, \"#fde0ef\"], [0.5, \"#f7f7f7\"], [0.6, \"#e6f5d0\"], [0.7, \"#b8e186\"], [0.8, \"#7fbc41\"], [0.9, \"#4d9221\"], [1, \"#276419\"]], \"sequential\": [[0.0, \"#0d0887\"], [0.1111111111111111, \"#46039f\"], [0.2222222222222222, \"#7201a8\"], [0.3333333333333333, \"#9c179e\"], [0.4444444444444444, \"#bd3786\"], [0.5555555555555556, \"#d8576b\"], [0.6666666666666666, \"#ed7953\"], [0.7777777777777778, \"#fb9f3a\"], [0.8888888888888888, \"#fdca26\"], [1.0, \"#f0f921\"]], \"sequentialminus\": [[0.0, \"#0d0887\"], [0.1111111111111111, \"#46039f\"], [0.2222222222222222, \"#7201a8\"], [0.3333333333333333, \"#9c179e\"], [0.4444444444444444, \"#bd3786\"], [0.5555555555555556, \"#d8576b\"], [0.6666666666666666, \"#ed7953\"], [0.7777777777777778, \"#fb9f3a\"], [0.8888888888888888, \"#fdca26\"], [1.0, \"#f0f921\"]]}, \"colorway\": [\"#636efa\", \"#EF553B\", \"#00cc96\", \"#ab63fa\", \"#FFA15A\", \"#19d3f3\", \"#FF6692\", \"#B6E880\", \"#FF97FF\", \"#FECB52\"], \"font\": {\"color\": \"#2a3f5f\"}, \"geo\": {\"bgcolor\": \"white\", \"lakecolor\": \"white\", \"landcolor\": \"#E5ECF6\", \"showlakes\": true, \"showland\": true, \"subunitcolor\": \"white\"}, \"hoverlabel\": {\"align\": \"left\"}, \"hovermode\": \"closest\", \"mapbox\": {\"style\": \"light\"}, \"paper_bgcolor\": \"white\", \"plot_bgcolor\": \"#E5ECF6\", \"polar\": {\"angularaxis\": {\"gridcolor\": \"white\", \"linecolor\": \"white\", \"ticks\": \"\"}, \"bgcolor\": \"#E5ECF6\", \"radialaxis\": {\"gridcolor\": \"white\", \"linecolor\": \"white\", \"ticks\": \"\"}}, \"scene\": {\"xaxis\": {\"backgroundcolor\": \"#E5ECF6\", \"gridcolor\": \"white\", \"gridwidth\": 2, \"linecolor\": \"white\", \"showbackground\": true, \"ticks\": \"\", \"zerolinecolor\": \"white\"}, \"yaxis\": {\"backgroundcolor\": \"#E5ECF6\", \"gridcolor\": \"white\", \"gridwidth\": 2, \"linecolor\": \"white\", \"showbackground\": true, \"ticks\": \"\", \"zerolinecolor\": \"white\"}, \"zaxis\": {\"backgroundcolor\": \"#E5ECF6\", \"gridcolor\": \"white\", \"gridwidth\": 2, \"linecolor\": \"white\", \"showbackground\": true, \"ticks\": \"\", \"zerolinecolor\": \"white\"}}, \"shapedefaults\": {\"line\": {\"color\": \"#2a3f5f\"}}, \"ternary\": {\"aaxis\": {\"gridcolor\": \"white\", \"linecolor\": \"white\", \"ticks\": \"\"}, \"baxis\": {\"gridcolor\": \"white\", \"linecolor\": \"white\", \"ticks\": \"\"}, \"bgcolor\": \"#E5ECF6\", \"caxis\": {\"gridcolor\": \"white\", \"linecolor\": \"white\", \"ticks\": \"\"}}, \"title\": {\"x\": 0.05}, \"xaxis\": {\"automargin\": true, \"gridcolor\": \"white\", \"linecolor\": \"white\", \"ticks\": \"\", \"title\": {\"standoff\": 15}, \"zerolinecolor\": \"white\", \"zerolinewidth\": 2}, \"yaxis\": {\"automargin\": true, \"gridcolor\": \"white\", \"linecolor\": \"white\", \"ticks\": \"\", \"title\": {\"standoff\": 15}, \"zerolinecolor\": \"white\", \"zerolinewidth\": 2}}}, \"title\": {\"font\": {\"color\": \"#4D5663\"}}, \"xaxis\": {\"anchor\": \"y\", \"domain\": [0.0, 0.2125], \"gridcolor\": \"#E1E5ED\", \"showgrid\": false, \"tickfont\": {\"color\": \"#4D5663\"}, \"title\": {\"font\": {\"color\": \"#4D5663\"}, \"text\": \"\"}, \"zerolinecolor\": \"#E1E5ED\"}, \"xaxis10\": {\"anchor\": \"y10\", \"domain\": [0.2625, 0.475], \"gridcolor\": \"#E1E5ED\", \"showgrid\": false, \"tickfont\": {\"color\": \"#4D5663\"}, \"title\": {\"font\": {\"color\": \"#4D5663\"}, \"text\": \"\"}, \"zerolinecolor\": \"#E1E5ED\"}, \"xaxis11\": {\"anchor\": \"y11\", \"domain\": [0.525, 0.7375], \"gridcolor\": \"#E1E5ED\", \"showgrid\": false, \"tickfont\": {\"color\": \"#4D5663\"}, \"title\": {\"font\": {\"color\": \"#4D5663\"}, \"text\": \"\"}, \"zerolinecolor\": \"#E1E5ED\"}, \"xaxis12\": {\"anchor\": \"y12\", \"domain\": [0.7875, 1.0], \"gridcolor\": \"#E1E5ED\", \"showgrid\": false, \"tickfont\": {\"color\": \"#4D5663\"}, \"title\": {\"font\": {\"color\": \"#4D5663\"}, \"text\": \"\"}, \"zerolinecolor\": \"#E1E5ED\"}, \"xaxis13\": {\"anchor\": \"y13\", \"domain\": [0.0, 0.2125], \"gridcolor\": \"#E1E5ED\", \"showgrid\": false, \"tickfont\": {\"color\": \"#4D5663\"}, \"title\": {\"font\": {\"color\": \"#4D5663\"}, \"text\": \"\"}, \"zerolinecolor\": \"#E1E5ED\"}, \"xaxis14\": {\"anchor\": \"y14\", \"domain\": [0.2625, 0.475], \"gridcolor\": \"#E1E5ED\", \"showgrid\": false, \"tickfont\": {\"color\": \"#4D5663\"}, \"title\": {\"font\": {\"color\": \"#4D5663\"}, \"text\": \"\"}, \"zerolinecolor\": \"#E1E5ED\"}, \"xaxis15\": {\"anchor\": \"y15\", \"domain\": [0.525, 0.7375], \"gridcolor\": \"#E1E5ED\", \"showgrid\": false, \"tickfont\": {\"color\": \"#4D5663\"}, \"title\": {\"font\": {\"color\": \"#4D5663\"}, \"text\": \"\"}, \"zerolinecolor\": \"#E1E5ED\"}, \"xaxis16\": {\"anchor\": \"y16\", \"domain\": [0.7875, 1.0], \"gridcolor\": \"#E1E5ED\", \"showgrid\": false, \"tickfont\": {\"color\": \"#4D5663\"}, \"title\": {\"font\": {\"color\": \"#4D5663\"}, \"text\": \"\"}, \"zerolinecolor\": \"#E1E5ED\"}, \"xaxis2\": {\"anchor\": \"y2\", \"domain\": [0.2625, 0.475], \"gridcolor\": \"#E1E5ED\", \"showgrid\": false, \"tickfont\": {\"color\": \"#4D5663\"}, \"title\": {\"font\": {\"color\": \"#4D5663\"}, \"text\": \"\"}, \"zerolinecolor\": \"#E1E5ED\"}, \"xaxis3\": {\"anchor\": \"y3\", \"domain\": [0.525, 0.7375], \"gridcolor\": \"#E1E5ED\", \"showgrid\": false, \"tickfont\": {\"color\": \"#4D5663\"}, \"title\": {\"font\": {\"color\": \"#4D5663\"}, \"text\": \"\"}, \"zerolinecolor\": \"#E1E5ED\"}, \"xaxis4\": {\"anchor\": \"y4\", \"domain\": [0.7875, 1.0], \"gridcolor\": \"#E1E5ED\", \"showgrid\": false, \"tickfont\": {\"color\": \"#4D5663\"}, \"title\": {\"font\": {\"color\": \"#4D5663\"}, \"text\": \"\"}, \"zerolinecolor\": \"#E1E5ED\"}, \"xaxis5\": {\"anchor\": \"y5\", \"domain\": [0.0, 0.2125], \"gridcolor\": \"#E1E5ED\", \"showgrid\": false, \"tickfont\": {\"color\": \"#4D5663\"}, \"title\": {\"font\": {\"color\": \"#4D5663\"}, \"text\": \"\"}, \"zerolinecolor\": \"#E1E5ED\"}, \"xaxis6\": {\"anchor\": \"y6\", \"domain\": [0.2625, 0.475], \"gridcolor\": \"#E1E5ED\", \"showgrid\": false, \"tickfont\": {\"color\": \"#4D5663\"}, \"title\": {\"font\": {\"color\": \"#4D5663\"}, \"text\": \"\"}, \"zerolinecolor\": \"#E1E5ED\"}, \"xaxis7\": {\"anchor\": \"y7\", \"domain\": [0.525, 0.7375], \"gridcolor\": \"#E1E5ED\", \"showgrid\": false, \"tickfont\": {\"color\": \"#4D5663\"}, \"title\": {\"font\": {\"color\": \"#4D5663\"}, \"text\": \"\"}, \"zerolinecolor\": \"#E1E5ED\"}, \"xaxis8\": {\"anchor\": \"y8\", \"domain\": [0.7875, 1.0], \"gridcolor\": \"#E1E5ED\", \"showgrid\": false, \"tickfont\": {\"color\": \"#4D5663\"}, \"title\": {\"font\": {\"color\": \"#4D5663\"}, \"text\": \"\"}, \"zerolinecolor\": \"#E1E5ED\"}, \"xaxis9\": {\"anchor\": \"y9\", \"domain\": [0.0, 0.2125], \"gridcolor\": \"#E1E5ED\", \"showgrid\": false, \"tickfont\": {\"color\": \"#4D5663\"}, \"title\": {\"font\": {\"color\": \"#4D5663\"}, \"text\": \"\"}, \"zerolinecolor\": \"#E1E5ED\"}, \"yaxis\": {\"anchor\": \"x\", \"domain\": [0.8025, 1.0], \"gridcolor\": \"#E1E5ED\", \"showgrid\": false, \"tickfont\": {\"color\": \"#4D5663\"}, \"title\": {\"font\": {\"color\": \"#4D5663\"}, \"text\": \"\"}, \"zerolinecolor\": \"#E1E5ED\"}, \"yaxis10\": {\"anchor\": \"x10\", \"domain\": [0.2675, 0.465], \"gridcolor\": \"#E1E5ED\", \"showgrid\": false, \"tickfont\": {\"color\": \"#4D5663\"}, \"title\": {\"font\": {\"color\": \"#4D5663\"}, \"text\": \"\"}, \"zerolinecolor\": \"#E1E5ED\"}, \"yaxis11\": {\"anchor\": \"x11\", \"domain\": [0.2675, 0.465], \"gridcolor\": \"#E1E5ED\", \"showgrid\": false, \"tickfont\": {\"color\": \"#4D5663\"}, \"title\": {\"font\": {\"color\": \"#4D5663\"}, \"text\": \"\"}, \"zerolinecolor\": \"#E1E5ED\"}, \"yaxis12\": {\"anchor\": \"x12\", \"domain\": [0.2675, 0.465], \"gridcolor\": \"#E1E5ED\", \"showgrid\": false, \"tickfont\": {\"color\": \"#4D5663\"}, \"title\": {\"font\": {\"color\": \"#4D5663\"}, \"text\": \"\"}, \"zerolinecolor\": \"#E1E5ED\"}, \"yaxis13\": {\"anchor\": \"x13\", \"domain\": [0.0, 0.1975], \"gridcolor\": \"#E1E5ED\", \"showgrid\": false, \"tickfont\": {\"color\": \"#4D5663\"}, \"title\": {\"font\": {\"color\": \"#4D5663\"}, \"text\": \"\"}, \"zerolinecolor\": \"#E1E5ED\"}, \"yaxis14\": {\"anchor\": \"x14\", \"domain\": [0.0, 0.1975], \"gridcolor\": \"#E1E5ED\", \"showgrid\": false, \"tickfont\": {\"color\": \"#4D5663\"}, \"title\": {\"font\": {\"color\": \"#4D5663\"}, \"text\": \"\"}, \"zerolinecolor\": \"#E1E5ED\"}, \"yaxis15\": {\"anchor\": \"x15\", \"domain\": [0.0, 0.1975], \"gridcolor\": \"#E1E5ED\", \"showgrid\": false, \"tickfont\": {\"color\": \"#4D5663\"}, \"title\": {\"font\": {\"color\": \"#4D5663\"}, \"text\": \"\"}, \"zerolinecolor\": \"#E1E5ED\"}, \"yaxis16\": {\"anchor\": \"x16\", \"domain\": [0.0, 0.1975], \"gridcolor\": \"#E1E5ED\", \"showgrid\": false, \"tickfont\": {\"color\": \"#4D5663\"}, \"title\": {\"font\": {\"color\": \"#4D5663\"}, \"text\": \"\"}, \"zerolinecolor\": \"#E1E5ED\"}, \"yaxis2\": {\"anchor\": \"x2\", \"domain\": [0.8025, 1.0], \"gridcolor\": \"#E1E5ED\", \"showgrid\": false, \"tickfont\": {\"color\": \"#4D5663\"}, \"title\": {\"font\": {\"color\": \"#4D5663\"}, \"text\": \"\"}, \"zerolinecolor\": \"#E1E5ED\"}, \"yaxis3\": {\"anchor\": \"x3\", \"domain\": [0.8025, 1.0], \"gridcolor\": \"#E1E5ED\", \"showgrid\": false, \"tickfont\": {\"color\": \"#4D5663\"}, \"title\": {\"font\": {\"color\": \"#4D5663\"}, \"text\": \"\"}, \"zerolinecolor\": \"#E1E5ED\"}, \"yaxis4\": {\"anchor\": \"x4\", \"domain\": [0.8025, 1.0], \"gridcolor\": \"#E1E5ED\", \"showgrid\": false, \"tickfont\": {\"color\": \"#4D5663\"}, \"title\": {\"font\": {\"color\": \"#4D5663\"}, \"text\": \"\"}, \"zerolinecolor\": \"#E1E5ED\"}, \"yaxis5\": {\"anchor\": \"x5\", \"domain\": [0.535, 0.7325], \"gridcolor\": \"#E1E5ED\", \"showgrid\": false, \"tickfont\": {\"color\": \"#4D5663\"}, \"title\": {\"font\": {\"color\": \"#4D5663\"}, \"text\": \"\"}, \"zerolinecolor\": \"#E1E5ED\"}, \"yaxis6\": {\"anchor\": \"x6\", \"domain\": [0.535, 0.7325], \"gridcolor\": \"#E1E5ED\", \"showgrid\": false, \"tickfont\": {\"color\": \"#4D5663\"}, \"title\": {\"font\": {\"color\": \"#4D5663\"}, \"text\": \"\"}, \"zerolinecolor\": \"#E1E5ED\"}, \"yaxis7\": {\"anchor\": \"x7\", \"domain\": [0.535, 0.7325], \"gridcolor\": \"#E1E5ED\", \"showgrid\": false, \"tickfont\": {\"color\": \"#4D5663\"}, \"title\": {\"font\": {\"color\": \"#4D5663\"}, \"text\": \"\"}, \"zerolinecolor\": \"#E1E5ED\"}, \"yaxis8\": {\"anchor\": \"x8\", \"domain\": [0.535, 0.7325], \"gridcolor\": \"#E1E5ED\", \"showgrid\": false, \"tickfont\": {\"color\": \"#4D5663\"}, \"title\": {\"font\": {\"color\": \"#4D5663\"}, \"text\": \"\"}, \"zerolinecolor\": \"#E1E5ED\"}, \"yaxis9\": {\"anchor\": \"x9\", \"domain\": [0.2675, 0.465], \"gridcolor\": \"#E1E5ED\", \"showgrid\": false, \"tickfont\": {\"color\": \"#4D5663\"}, \"title\": {\"font\": {\"color\": \"#4D5663\"}, \"text\": \"\"}, \"zerolinecolor\": \"#E1E5ED\"}},\n",
       "                        {\"showLink\": true, \"linkText\": \"Export to plot.ly\", \"plotlyServerURL\": \"https://plot.ly\", \"responsive\": true}\n",
       "                    ).then(function(){\n",
       "                            \n",
       "var gd = document.getElementById('f934abaf-8297-4936-b434-db10ba7897db');\n",
       "var x = new MutationObserver(function (mutations, observer) {{\n",
       "        var display = window.getComputedStyle(gd).display;\n",
       "        if (!display || display === 'none') {{\n",
       "            console.log([gd, 'removed!']);\n",
       "            Plotly.purge(gd);\n",
       "            observer.disconnect();\n",
       "        }}\n",
       "}});\n",
       "\n",
       "// Listen for the removal of the full notebook cells\n",
       "var notebookContainer = gd.closest('#notebook-container');\n",
       "if (notebookContainer) {{\n",
       "    x.observe(notebookContainer, {childList: true});\n",
       "}}\n",
       "\n",
       "// Listen for the clearing of the current output cell\n",
       "var outputEl = gd.closest('.output');\n",
       "if (outputEl) {{\n",
       "    x.observe(outputEl, {childList: true});\n",
       "}}\n",
       "\n",
       "                        })\n",
       "                };\n",
       "                });\n",
       "            </script>\n",
       "        </div>"
      ]
     },
     "metadata": {},
     "output_type": "display_data"
    }
   ],
   "source": [
    "df.scatter_matrix()"
   ]
  }
 ],
 "metadata": {
  "kernelspec": {
   "display_name": "Python 3",
   "language": "python",
   "name": "python3"
  },
  "language_info": {
   "codemirror_mode": {
    "name": "ipython",
    "version": 3
   },
   "file_extension": ".py",
   "mimetype": "text/x-python",
   "name": "python",
   "nbconvert_exporter": "python",
   "pygments_lexer": "ipython3",
   "version": "3.7.1"
  }
 },
 "nbformat": 4,
 "nbformat_minor": 1
}
