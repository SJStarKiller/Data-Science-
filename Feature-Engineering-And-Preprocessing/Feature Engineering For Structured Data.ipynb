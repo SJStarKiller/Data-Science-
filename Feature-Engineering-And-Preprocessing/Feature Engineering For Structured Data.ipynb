{
 "cells": [
  {
   "cell_type": "code",
   "execution_count": 1,
   "metadata": {},
   "outputs": [],
   "source": [
    "import pandas as pd\n",
    "import numpy as np\n",
    "import warnings \n",
    "warnings.filterwarnings('ignore')"
   ]
  },
  {
   "cell_type": "code",
   "execution_count": 2,
   "metadata": {},
   "outputs": [],
   "source": [
    "df=pd.read_csv('credit_demo.csv',na_values=['n/a','N/A','NA','NAN','','Missing'])"
   ]
  },
  {
   "cell_type": "code",
   "execution_count": 3,
   "metadata": {},
   "outputs": [
    {
     "data": {
      "text/html": [
       "<div>\n",
       "<style scoped>\n",
       "    .dataframe tbody tr th:only-of-type {\n",
       "        vertical-align: middle;\n",
       "    }\n",
       "\n",
       "    .dataframe tbody tr th {\n",
       "        vertical-align: top;\n",
       "    }\n",
       "\n",
       "    .dataframe thead th {\n",
       "        text-align: right;\n",
       "    }\n",
       "</style>\n",
       "<table border=\"1\" class=\"dataframe\">\n",
       "  <thead>\n",
       "    <tr style=\"text-align: right;\">\n",
       "      <th></th>\n",
       "      <th>ID</th>\n",
       "      <th>LIMIT_BAL</th>\n",
       "      <th>GENDER</th>\n",
       "      <th>EDUCATION</th>\n",
       "      <th>MARRIAGE</th>\n",
       "      <th>AGE</th>\n",
       "      <th>PAY_HISTORY</th>\n",
       "      <th>BILL_AMT</th>\n",
       "      <th>PAY_AMT</th>\n",
       "      <th>default</th>\n",
       "    </tr>\n",
       "  </thead>\n",
       "  <tbody>\n",
       "    <tr>\n",
       "      <th>0</th>\n",
       "      <td>1</td>\n",
       "      <td>20000</td>\n",
       "      <td>MALE</td>\n",
       "      <td>3</td>\n",
       "      <td>2</td>\n",
       "      <td>35.0</td>\n",
       "      <td>-1</td>\n",
       "      <td>4486.500000</td>\n",
       "      <td>2354.833333</td>\n",
       "      <td>0</td>\n",
       "    </tr>\n",
       "    <tr>\n",
       "      <th>1</th>\n",
       "      <td>2</td>\n",
       "      <td>260000</td>\n",
       "      <td>FEMALE</td>\n",
       "      <td>1</td>\n",
       "      <td>2</td>\n",
       "      <td>51.0</td>\n",
       "      <td>-1</td>\n",
       "      <td>14728.166670</td>\n",
       "      <td>11051.333330</td>\n",
       "      <td>0</td>\n",
       "    </tr>\n",
       "    <tr>\n",
       "      <th>2</th>\n",
       "      <td>3</td>\n",
       "      <td>360000</td>\n",
       "      <td>FEMALE</td>\n",
       "      <td>1</td>\n",
       "      <td>1</td>\n",
       "      <td>49.0</td>\n",
       "      <td>-2</td>\n",
       "      <td>0.000000</td>\n",
       "      <td>0.000000</td>\n",
       "      <td>0</td>\n",
       "    </tr>\n",
       "    <tr>\n",
       "      <th>3</th>\n",
       "      <td>4</td>\n",
       "      <td>450000</td>\n",
       "      <td>FEMALE</td>\n",
       "      <td>1</td>\n",
       "      <td>1</td>\n",
       "      <td>40.0</td>\n",
       "      <td>-2</td>\n",
       "      <td>4494.166667</td>\n",
       "      <td>3764.833333</td>\n",
       "      <td>1</td>\n",
       "    </tr>\n",
       "    <tr>\n",
       "      <th>4</th>\n",
       "      <td>5</td>\n",
       "      <td>50000</td>\n",
       "      <td>FEMALE</td>\n",
       "      <td>3</td>\n",
       "      <td>1</td>\n",
       "      <td>47.0</td>\n",
       "      <td>-1</td>\n",
       "      <td>6701.333333</td>\n",
       "      <td>6594.500000</td>\n",
       "      <td>0</td>\n",
       "    </tr>\n",
       "  </tbody>\n",
       "</table>\n",
       "</div>"
      ],
      "text/plain": [
       "   ID  LIMIT_BAL  GENDER  EDUCATION  MARRIAGE   AGE  PAY_HISTORY  \\\n",
       "0   1      20000    MALE          3         2  35.0           -1   \n",
       "1   2     260000  FEMALE          1         2  51.0           -1   \n",
       "2   3     360000  FEMALE          1         1  49.0           -2   \n",
       "3   4     450000  FEMALE          1         1  40.0           -2   \n",
       "4   5      50000  FEMALE          3         1  47.0           -1   \n",
       "\n",
       "       BILL_AMT       PAY_AMT  default  \n",
       "0   4486.500000   2354.833333        0  \n",
       "1  14728.166670  11051.333330        0  \n",
       "2      0.000000      0.000000        0  \n",
       "3   4494.166667   3764.833333        1  \n",
       "4   6701.333333   6594.500000        0  "
      ]
     },
     "execution_count": 3,
     "metadata": {},
     "output_type": "execute_result"
    }
   ],
   "source": [
    "df.head()"
   ]
  },
  {
   "cell_type": "code",
   "execution_count": 4,
   "metadata": {},
   "outputs": [
    {
     "data": {
      "text/plain": [
       "Index(['ID', 'LIMIT_BAL', 'GENDER', 'EDUCATION', 'MARRIAGE', 'AGE',\n",
       "       'PAY_HISTORY', 'BILL_AMT', 'PAY_AMT', 'default'],\n",
       "      dtype='object')"
      ]
     },
     "execution_count": 4,
     "metadata": {},
     "output_type": "execute_result"
    }
   ],
   "source": [
    "df.columns"
   ]
  },
  {
   "cell_type": "code",
   "execution_count": 41,
   "metadata": {},
   "outputs": [
    {
     "data": {
      "text/plain": [
       "(2991, 10)"
      ]
     },
     "execution_count": 41,
     "metadata": {},
     "output_type": "execute_result"
    }
   ],
   "source": [
    "df.shape"
   ]
  },
  {
   "cell_type": "code",
   "execution_count": 6,
   "metadata": {},
   "outputs": [],
   "source": [
    "df_train=df.sample(frac=0.8)"
   ]
  },
  {
   "cell_type": "code",
   "execution_count": 7,
   "metadata": {},
   "outputs": [],
   "source": [
    "df_test=df.drop(df_train.index)"
   ]
  },
  {
   "cell_type": "code",
   "execution_count": 8,
   "metadata": {},
   "outputs": [
    {
     "data": {
      "text/plain": [
       "(598, 10)"
      ]
     },
     "execution_count": 8,
     "metadata": {},
     "output_type": "execute_result"
    }
   ],
   "source": [
    "df_test.shape"
   ]
  },
  {
   "cell_type": "code",
   "execution_count": 9,
   "metadata": {},
   "outputs": [
    {
     "data": {
      "text/plain": [
       "0    2000\n",
       "1     991\n",
       "Name: default, dtype: int64"
      ]
     },
     "execution_count": 9,
     "metadata": {},
     "output_type": "execute_result"
    }
   ],
   "source": [
    "df.default.value_counts()"
   ]
  },
  {
   "cell_type": "code",
   "execution_count": 10,
   "metadata": {},
   "outputs": [
    {
     "data": {
      "text/plain": [
       "0    1606\n",
       "1     787\n",
       "Name: default, dtype: int64"
      ]
     },
     "execution_count": 10,
     "metadata": {},
     "output_type": "execute_result"
    }
   ],
   "source": [
    "df_train.default.value_counts()"
   ]
  },
  {
   "cell_type": "code",
   "execution_count": 11,
   "metadata": {},
   "outputs": [
    {
     "data": {
      "text/plain": [
       "0    67.112411\n",
       "1    32.887589\n",
       "Name: default, dtype: float64"
      ]
     },
     "execution_count": 11,
     "metadata": {},
     "output_type": "execute_result"
    }
   ],
   "source": [
    "(df_train.default.value_counts()/df_train.shape[0])*100"
   ]
  },
  {
   "cell_type": "code",
   "execution_count": 13,
   "metadata": {},
   "outputs": [
    {
     "data": {
      "text/plain": [
       "0    65.886288\n",
       "1    34.113712\n",
       "Name: default, dtype: float64"
      ]
     },
     "execution_count": 13,
     "metadata": {},
     "output_type": "execute_result"
    }
   ],
   "source": [
    "(df_test.default.value_counts()/df_test.shape[0])*100"
   ]
  },
  {
   "cell_type": "code",
   "execution_count": 17,
   "metadata": {},
   "outputs": [
    {
     "data": {
      "text/plain": [
       "ID              0\n",
       "LIMIT_BAL       0\n",
       "GENDER          0\n",
       "EDUCATION       0\n",
       "MARRIAGE        0\n",
       "AGE            19\n",
       "PAY_HISTORY     0\n",
       "BILL_AMT        0\n",
       "PAY_AMT         0\n",
       "default         0\n",
       "dtype: int64"
      ]
     },
     "execution_count": 17,
     "metadata": {},
     "output_type": "execute_result"
    }
   ],
   "source": [
    "df_train.isnull().sum()"
   ]
  },
  {
   "cell_type": "code",
   "execution_count": 21,
   "metadata": {},
   "outputs": [
    {
     "data": {
      "text/html": [
       "<div>\n",
       "<style scoped>\n",
       "    .dataframe tbody tr th:only-of-type {\n",
       "        vertical-align: middle;\n",
       "    }\n",
       "\n",
       "    .dataframe tbody tr th {\n",
       "        vertical-align: top;\n",
       "    }\n",
       "\n",
       "    .dataframe thead th {\n",
       "        text-align: right;\n",
       "    }\n",
       "</style>\n",
       "<table border=\"1\" class=\"dataframe\">\n",
       "  <thead>\n",
       "    <tr style=\"text-align: right;\">\n",
       "      <th></th>\n",
       "      <th>ID</th>\n",
       "      <th>LIMIT_BAL</th>\n",
       "      <th>EDUCATION</th>\n",
       "      <th>MARRIAGE</th>\n",
       "      <th>AGE</th>\n",
       "      <th>PAY_HISTORY</th>\n",
       "      <th>BILL_AMT</th>\n",
       "      <th>PAY_AMT</th>\n",
       "      <th>default</th>\n",
       "    </tr>\n",
       "  </thead>\n",
       "  <tbody>\n",
       "    <tr>\n",
       "      <th>count</th>\n",
       "      <td>2393.00</td>\n",
       "      <td>2393.00</td>\n",
       "      <td>2393.00</td>\n",
       "      <td>2393.00</td>\n",
       "      <td>2374.00</td>\n",
       "      <td>2393.00</td>\n",
       "      <td>2393.00</td>\n",
       "      <td>2393.00</td>\n",
       "      <td>2393.00</td>\n",
       "    </tr>\n",
       "    <tr>\n",
       "      <th>mean</th>\n",
       "      <td>1483.26</td>\n",
       "      <td>189674.05</td>\n",
       "      <td>1.72</td>\n",
       "      <td>1.48</td>\n",
       "      <td>36.81</td>\n",
       "      <td>-0.08</td>\n",
       "      <td>19789.90</td>\n",
       "      <td>5195.41</td>\n",
       "      <td>0.33</td>\n",
       "    </tr>\n",
       "    <tr>\n",
       "      <th>std</th>\n",
       "      <td>867.39</td>\n",
       "      <td>130172.17</td>\n",
       "      <td>0.75</td>\n",
       "      <td>0.52</td>\n",
       "      <td>9.35</td>\n",
       "      <td>1.70</td>\n",
       "      <td>40438.57</td>\n",
       "      <td>9321.25</td>\n",
       "      <td>0.47</td>\n",
       "    </tr>\n",
       "    <tr>\n",
       "      <th>min</th>\n",
       "      <td>1.00</td>\n",
       "      <td>10000.00</td>\n",
       "      <td>0.00</td>\n",
       "      <td>0.00</td>\n",
       "      <td>21.00</td>\n",
       "      <td>-2.00</td>\n",
       "      <td>-4465.83</td>\n",
       "      <td>0.00</td>\n",
       "      <td>0.00</td>\n",
       "    </tr>\n",
       "    <tr>\n",
       "      <th>25%</th>\n",
       "      <td>731.00</td>\n",
       "      <td>80000.00</td>\n",
       "      <td>1.00</td>\n",
       "      <td>1.00</td>\n",
       "      <td>29.00</td>\n",
       "      <td>-1.00</td>\n",
       "      <td>1391.00</td>\n",
       "      <td>862.50</td>\n",
       "      <td>0.00</td>\n",
       "    </tr>\n",
       "    <tr>\n",
       "      <th>50%</th>\n",
       "      <td>1481.00</td>\n",
       "      <td>180000.00</td>\n",
       "      <td>2.00</td>\n",
       "      <td>1.00</td>\n",
       "      <td>36.00</td>\n",
       "      <td>-1.00</td>\n",
       "      <td>4549.50</td>\n",
       "      <td>2108.83</td>\n",
       "      <td>0.00</td>\n",
       "    </tr>\n",
       "    <tr>\n",
       "      <th>75%</th>\n",
       "      <td>2230.00</td>\n",
       "      <td>270000.00</td>\n",
       "      <td>2.00</td>\n",
       "      <td>2.00</td>\n",
       "      <td>43.00</td>\n",
       "      <td>2.00</td>\n",
       "      <td>18364.17</td>\n",
       "      <td>5442.33</td>\n",
       "      <td>1.00</td>\n",
       "    </tr>\n",
       "    <tr>\n",
       "      <th>max</th>\n",
       "      <td>3000.00</td>\n",
       "      <td>800000.00</td>\n",
       "      <td>6.00</td>\n",
       "      <td>3.00</td>\n",
       "      <td>91.00</td>\n",
       "      <td>8.00</td>\n",
       "      <td>456957.50</td>\n",
       "      <td>119071.50</td>\n",
       "      <td>1.00</td>\n",
       "    </tr>\n",
       "  </tbody>\n",
       "</table>\n",
       "</div>"
      ],
      "text/plain": [
       "           ID  LIMIT_BAL  EDUCATION  MARRIAGE     AGE  PAY_HISTORY  BILL_AMT  \\\n",
       "count 2393.00    2393.00    2393.00   2393.00 2374.00      2393.00   2393.00   \n",
       "mean  1483.26  189674.05       1.72      1.48   36.81        -0.08  19789.90   \n",
       "std    867.39  130172.17       0.75      0.52    9.35         1.70  40438.57   \n",
       "min      1.00   10000.00       0.00      0.00   21.00        -2.00  -4465.83   \n",
       "25%    731.00   80000.00       1.00      1.00   29.00        -1.00   1391.00   \n",
       "50%   1481.00  180000.00       2.00      1.00   36.00        -1.00   4549.50   \n",
       "75%   2230.00  270000.00       2.00      2.00   43.00         2.00  18364.17   \n",
       "max   3000.00  800000.00       6.00      3.00   91.00         8.00 456957.50   \n",
       "\n",
       "        PAY_AMT  default  \n",
       "count   2393.00  2393.00  \n",
       "mean    5195.41     0.33  \n",
       "std     9321.25     0.47  \n",
       "min        0.00     0.00  \n",
       "25%      862.50     0.00  \n",
       "50%     2108.83     0.00  \n",
       "75%     5442.33     1.00  \n",
       "max   119071.50     1.00  "
      ]
     },
     "execution_count": 21,
     "metadata": {},
     "output_type": "execute_result"
    }
   ],
   "source": [
    "pd.options.display.float_format='{:.2f}'.format\n",
    "df_train.describe()"
   ]
  },
  {
   "cell_type": "markdown",
   "metadata": {},
   "source": [
    "## Uni-Variate Analysis"
   ]
  },
  {
   "cell_type": "code",
   "execution_count": 28,
   "metadata": {},
   "outputs": [
    {
     "data": {
      "text/plain": [
       "0.00    10000.00\n",
       "0.10    30000.00\n",
       "0.20    60000.00\n",
       "0.30   100000.00\n",
       "0.40   140000.00\n",
       "0.50   180000.00\n",
       "0.60   200000.00\n",
       "0.70   240000.00\n",
       "0.80   300000.00\n",
       "0.90   360000.00\n",
       "Name: LIMIT_BAL, dtype: float64"
      ]
     },
     "execution_count": 28,
     "metadata": {},
     "output_type": "execute_result"
    }
   ],
   "source": [
    "df_train.LIMIT_BAL.quantile(np.arange(0,1,.1))"
   ]
  },
  {
   "cell_type": "code",
   "execution_count": 29,
   "metadata": {},
   "outputs": [
    {
     "data": {
      "text/plain": [
       "15"
      ]
     },
     "execution_count": 29,
     "metadata": {},
     "output_type": "execute_result"
    }
   ],
   "source": [
    "(df_train.LIMIT_BAL>500000).sum()"
   ]
  },
  {
   "cell_type": "code",
   "execution_count": 31,
   "metadata": {},
   "outputs": [
    {
     "data": {
      "text/plain": [
       "array([1, 3, 2, 5, 4, 6, 0], dtype=int64)"
      ]
     },
     "execution_count": 31,
     "metadata": {},
     "output_type": "execute_result"
    }
   ],
   "source": [
    "df_train.EDUCATION.unique()"
   ]
  },
  {
   "cell_type": "code",
   "execution_count": 63,
   "metadata": {},
   "outputs": [
    {
     "data": {
      "text/plain": [
       "ID                613\n",
       "LIMIT_BAL      450000\n",
       "GENDER         FEMALE\n",
       "EDUCATION           1\n",
       "MARRIAGE            2\n",
       "AGE             28.00\n",
       "PAY_HISTORY        -1\n",
       "BILL_AMT      3520.83\n",
       "PAY_AMT       3577.50\n",
       "default             0\n",
       "Name: 611, dtype: object"
      ]
     },
     "execution_count": 63,
     "metadata": {},
     "output_type": "execute_result"
    }
   ],
   "source": [
    "df_train.iloc[1]"
   ]
  },
  {
   "cell_type": "code",
   "execution_count": 64,
   "metadata": {},
   "outputs": [
    {
     "data": {
      "text/plain": [
       "ID                   2\n",
       "LIMIT_BAL       260000\n",
       "GENDER          FEMALE\n",
       "EDUCATION            1\n",
       "MARRIAGE             2\n",
       "AGE              51.00\n",
       "PAY_HISTORY         -1\n",
       "BILL_AMT      14728.17\n",
       "PAY_AMT       11051.33\n",
       "default              0\n",
       "Name: 1, dtype: object"
      ]
     },
     "execution_count": 64,
     "metadata": {},
     "output_type": "execute_result"
    }
   ],
   "source": [
    "df_train.loc[1]"
   ]
  },
  {
   "cell_type": "code",
   "execution_count": 20,
   "metadata": {},
   "outputs": [
    {
     "data": {
      "text/plain": [
       "array(['MALE', 'FEMALE'], dtype=object)"
      ]
     },
     "execution_count": 20,
     "metadata": {},
     "output_type": "execute_result"
    }
   ],
   "source": [
    "df_train.GENDER.unique()"
   ]
  },
  {
   "cell_type": "code",
   "execution_count": 21,
   "metadata": {},
   "outputs": [
    {
     "data": {
      "text/plain": [
       "0   23.44\n",
       "1   14.71\n",
       "Name: default, dtype: float64"
      ]
     },
     "execution_count": 21,
     "metadata": {},
     "output_type": "execute_result"
    }
   ],
   "source": [
    "df[df.GENDER=='MALE']['default'].value_counts()/df.shape[0]*100"
   ]
  },
  {
   "cell_type": "code",
   "execution_count": 22,
   "metadata": {},
   "outputs": [
    {
     "data": {
      "text/html": [
       "<div>\n",
       "<style scoped>\n",
       "    .dataframe tbody tr th:only-of-type {\n",
       "        vertical-align: middle;\n",
       "    }\n",
       "\n",
       "    .dataframe tbody tr th {\n",
       "        vertical-align: top;\n",
       "    }\n",
       "\n",
       "    .dataframe thead th {\n",
       "        text-align: right;\n",
       "    }\n",
       "</style>\n",
       "<table border=\"1\" class=\"dataframe\">\n",
       "  <thead>\n",
       "    <tr style=\"text-align: right;\">\n",
       "      <th>GENDER</th>\n",
       "      <th>FEMALE</th>\n",
       "      <th>MALE</th>\n",
       "      <th>All</th>\n",
       "    </tr>\n",
       "    <tr>\n",
       "      <th>default</th>\n",
       "      <th></th>\n",
       "      <th></th>\n",
       "      <th></th>\n",
       "    </tr>\n",
       "  </thead>\n",
       "  <tbody>\n",
       "    <tr>\n",
       "      <th>0</th>\n",
       "      <td>1043</td>\n",
       "      <td>565</td>\n",
       "      <td>1608</td>\n",
       "    </tr>\n",
       "    <tr>\n",
       "      <th>1</th>\n",
       "      <td>427</td>\n",
       "      <td>358</td>\n",
       "      <td>785</td>\n",
       "    </tr>\n",
       "    <tr>\n",
       "      <th>All</th>\n",
       "      <td>1470</td>\n",
       "      <td>923</td>\n",
       "      <td>2393</td>\n",
       "    </tr>\n",
       "  </tbody>\n",
       "</table>\n",
       "</div>"
      ],
      "text/plain": [
       "GENDER   FEMALE  MALE   All\n",
       "default                    \n",
       "0          1043   565  1608\n",
       "1           427   358   785\n",
       "All        1470   923  2393"
      ]
     },
     "execution_count": 22,
     "metadata": {},
     "output_type": "execute_result"
    }
   ],
   "source": [
    "pd.crosstab(df_train.default,df_train.GENDER,margins=True)"
   ]
  },
  {
   "cell_type": "code",
   "execution_count": 23,
   "metadata": {},
   "outputs": [
    {
     "data": {
      "text/html": [
       "<div>\n",
       "<style scoped>\n",
       "    .dataframe tbody tr th:only-of-type {\n",
       "        vertical-align: middle;\n",
       "    }\n",
       "\n",
       "    .dataframe tbody tr th {\n",
       "        vertical-align: top;\n",
       "    }\n",
       "\n",
       "    .dataframe thead th {\n",
       "        text-align: right;\n",
       "    }\n",
       "</style>\n",
       "<table border=\"1\" class=\"dataframe\">\n",
       "  <thead>\n",
       "    <tr style=\"text-align: right;\">\n",
       "      <th></th>\n",
       "      <th>ID</th>\n",
       "      <th>LIMIT_BAL</th>\n",
       "      <th>GENDER</th>\n",
       "      <th>EDUCATION</th>\n",
       "      <th>MARRIAGE</th>\n",
       "      <th>AGE</th>\n",
       "      <th>PAY_HISTORY</th>\n",
       "      <th>BILL_AMT</th>\n",
       "      <th>PAY_AMT</th>\n",
       "      <th>default</th>\n",
       "    </tr>\n",
       "  </thead>\n",
       "  <tbody>\n",
       "    <tr>\n",
       "      <th>0</th>\n",
       "      <td>1</td>\n",
       "      <td>20000</td>\n",
       "      <td>MALE</td>\n",
       "      <td>3</td>\n",
       "      <td>2</td>\n",
       "      <td>35.00</td>\n",
       "      <td>-1</td>\n",
       "      <td>4486.50</td>\n",
       "      <td>2354.83</td>\n",
       "      <td>0</td>\n",
       "    </tr>\n",
       "    <tr>\n",
       "      <th>1</th>\n",
       "      <td>2</td>\n",
       "      <td>260000</td>\n",
       "      <td>FEMALE</td>\n",
       "      <td>1</td>\n",
       "      <td>2</td>\n",
       "      <td>51.00</td>\n",
       "      <td>-1</td>\n",
       "      <td>14728.17</td>\n",
       "      <td>11051.33</td>\n",
       "      <td>0</td>\n",
       "    </tr>\n",
       "    <tr>\n",
       "      <th>2</th>\n",
       "      <td>3</td>\n",
       "      <td>360000</td>\n",
       "      <td>FEMALE</td>\n",
       "      <td>1</td>\n",
       "      <td>1</td>\n",
       "      <td>49.00</td>\n",
       "      <td>-2</td>\n",
       "      <td>0.00</td>\n",
       "      <td>0.00</td>\n",
       "      <td>0</td>\n",
       "    </tr>\n",
       "    <tr>\n",
       "      <th>3</th>\n",
       "      <td>4</td>\n",
       "      <td>450000</td>\n",
       "      <td>FEMALE</td>\n",
       "      <td>1</td>\n",
       "      <td>1</td>\n",
       "      <td>40.00</td>\n",
       "      <td>-2</td>\n",
       "      <td>4494.17</td>\n",
       "      <td>3764.83</td>\n",
       "      <td>1</td>\n",
       "    </tr>\n",
       "    <tr>\n",
       "      <th>4</th>\n",
       "      <td>5</td>\n",
       "      <td>50000</td>\n",
       "      <td>FEMALE</td>\n",
       "      <td>3</td>\n",
       "      <td>1</td>\n",
       "      <td>47.00</td>\n",
       "      <td>-1</td>\n",
       "      <td>6701.33</td>\n",
       "      <td>6594.50</td>\n",
       "      <td>0</td>\n",
       "    </tr>\n",
       "  </tbody>\n",
       "</table>\n",
       "</div>"
      ],
      "text/plain": [
       "   ID  LIMIT_BAL  GENDER  EDUCATION  MARRIAGE   AGE  PAY_HISTORY  BILL_AMT  \\\n",
       "0   1      20000    MALE          3         2 35.00           -1   4486.50   \n",
       "1   2     260000  FEMALE          1         2 51.00           -1  14728.17   \n",
       "2   3     360000  FEMALE          1         1 49.00           -2      0.00   \n",
       "3   4     450000  FEMALE          1         1 40.00           -2   4494.17   \n",
       "4   5      50000  FEMALE          3         1 47.00           -1   6701.33   \n",
       "\n",
       "   PAY_AMT  default  \n",
       "0  2354.83        0  \n",
       "1 11051.33        0  \n",
       "2     0.00        0  \n",
       "3  3764.83        1  \n",
       "4  6594.50        0  "
      ]
     },
     "execution_count": 23,
     "metadata": {},
     "output_type": "execute_result"
    }
   ],
   "source": [
    "df.head()"
   ]
  },
  {
   "cell_type": "code",
   "execution_count": 24,
   "metadata": {},
   "outputs": [
    {
     "data": {
      "text/plain": [
       "array([1, 2, 3, 0], dtype=int64)"
      ]
     },
     "execution_count": 24,
     "metadata": {},
     "output_type": "execute_result"
    }
   ],
   "source": [
    "df_train.MARRIAGE.unique()"
   ]
  },
  {
   "cell_type": "code",
   "execution_count": 68,
   "metadata": {},
   "outputs": [
    {
     "data": {
      "text/html": [
       "<div>\n",
       "<style scoped>\n",
       "    .dataframe tbody tr th:only-of-type {\n",
       "        vertical-align: middle;\n",
       "    }\n",
       "\n",
       "    .dataframe tbody tr th {\n",
       "        vertical-align: top;\n",
       "    }\n",
       "\n",
       "    .dataframe thead th {\n",
       "        text-align: right;\n",
       "    }\n",
       "</style>\n",
       "<table border=\"1\" class=\"dataframe\">\n",
       "  <thead>\n",
       "    <tr style=\"text-align: right;\">\n",
       "      <th>MARRIAGE</th>\n",
       "      <th>0</th>\n",
       "      <th>1</th>\n",
       "      <th>2</th>\n",
       "      <th>3</th>\n",
       "      <th>All</th>\n",
       "    </tr>\n",
       "    <tr>\n",
       "      <th>default</th>\n",
       "      <th></th>\n",
       "      <th></th>\n",
       "      <th></th>\n",
       "      <th></th>\n",
       "      <th></th>\n",
       "    </tr>\n",
       "  </thead>\n",
       "  <tbody>\n",
       "    <tr>\n",
       "      <th>0</th>\n",
       "      <td>0.08</td>\n",
       "      <td>35.69</td>\n",
       "      <td>31.05</td>\n",
       "      <td>0.29</td>\n",
       "      <td>67.11</td>\n",
       "    </tr>\n",
       "    <tr>\n",
       "      <th>1</th>\n",
       "      <td>0.04</td>\n",
       "      <td>16.46</td>\n",
       "      <td>15.92</td>\n",
       "      <td>0.46</td>\n",
       "      <td>32.89</td>\n",
       "    </tr>\n",
       "    <tr>\n",
       "      <th>All</th>\n",
       "      <td>0.13</td>\n",
       "      <td>52.15</td>\n",
       "      <td>46.97</td>\n",
       "      <td>0.75</td>\n",
       "      <td>100.00</td>\n",
       "    </tr>\n",
       "  </tbody>\n",
       "</table>\n",
       "</div>"
      ],
      "text/plain": [
       "MARRIAGE    0     1     2    3    All\n",
       "default                              \n",
       "0        0.08 35.69 31.05 0.29  67.11\n",
       "1        0.04 16.46 15.92 0.46  32.89\n",
       "All      0.13 52.15 46.97 0.75 100.00"
      ]
     },
     "execution_count": 68,
     "metadata": {},
     "output_type": "execute_result"
    }
   ],
   "source": [
    "pd.crosstab(df_train.default,df_train.MARRIAGE,margins=True)/df_train.shape[0]*100"
   ]
  },
  {
   "cell_type": "code",
   "execution_count": 69,
   "metadata": {},
   "outputs": [
    {
     "data": {
      "text/plain": [
       "array([-1,  2,  7, -2,  3,  5,  6,  8,  4], dtype=int64)"
      ]
     },
     "execution_count": 69,
     "metadata": {},
     "output_type": "execute_result"
    }
   ],
   "source": [
    "df_train.PAY_HISTORY.unique()"
   ]
  },
  {
   "cell_type": "code",
   "execution_count": 70,
   "metadata": {},
   "outputs": [
    {
     "data": {
      "text/html": [
       "<div>\n",
       "<style scoped>\n",
       "    .dataframe tbody tr th:only-of-type {\n",
       "        vertical-align: middle;\n",
       "    }\n",
       "\n",
       "    .dataframe tbody tr th {\n",
       "        vertical-align: top;\n",
       "    }\n",
       "\n",
       "    .dataframe thead th {\n",
       "        text-align: right;\n",
       "    }\n",
       "</style>\n",
       "<table border=\"1\" class=\"dataframe\">\n",
       "  <thead>\n",
       "    <tr style=\"text-align: right;\">\n",
       "      <th>PAY_HISTORY</th>\n",
       "      <th>-2</th>\n",
       "      <th>-1</th>\n",
       "      <th>2</th>\n",
       "      <th>3</th>\n",
       "      <th>4</th>\n",
       "      <th>5</th>\n",
       "      <th>6</th>\n",
       "      <th>7</th>\n",
       "      <th>8</th>\n",
       "      <th>All</th>\n",
       "    </tr>\n",
       "    <tr>\n",
       "      <th>default</th>\n",
       "      <th></th>\n",
       "      <th></th>\n",
       "      <th></th>\n",
       "      <th></th>\n",
       "      <th></th>\n",
       "      <th></th>\n",
       "      <th></th>\n",
       "      <th></th>\n",
       "      <th></th>\n",
       "      <th></th>\n",
       "    </tr>\n",
       "  </thead>\n",
       "  <tbody>\n",
       "    <tr>\n",
       "      <th>0</th>\n",
       "      <td>0.04</td>\n",
       "      <td>66.86</td>\n",
       "      <td>0.00</td>\n",
       "      <td>0.00</td>\n",
       "      <td>0.00</td>\n",
       "      <td>0.04</td>\n",
       "      <td>0.00</td>\n",
       "      <td>0.17</td>\n",
       "      <td>0.00</td>\n",
       "      <td>67.11</td>\n",
       "    </tr>\n",
       "    <tr>\n",
       "      <th>1</th>\n",
       "      <td>4.81</td>\n",
       "      <td>0.00</td>\n",
       "      <td>23.53</td>\n",
       "      <td>2.59</td>\n",
       "      <td>0.46</td>\n",
       "      <td>0.17</td>\n",
       "      <td>0.17</td>\n",
       "      <td>1.09</td>\n",
       "      <td>0.08</td>\n",
       "      <td>32.89</td>\n",
       "    </tr>\n",
       "    <tr>\n",
       "      <th>All</th>\n",
       "      <td>4.85</td>\n",
       "      <td>66.86</td>\n",
       "      <td>23.53</td>\n",
       "      <td>2.59</td>\n",
       "      <td>0.46</td>\n",
       "      <td>0.21</td>\n",
       "      <td>0.17</td>\n",
       "      <td>1.25</td>\n",
       "      <td>0.08</td>\n",
       "      <td>100.00</td>\n",
       "    </tr>\n",
       "  </tbody>\n",
       "</table>\n",
       "</div>"
      ],
      "text/plain": [
       "PAY_HISTORY   -2    -1     2    3    4    5    6    7    8    All\n",
       "default                                                          \n",
       "0           0.04 66.86  0.00 0.00 0.00 0.04 0.00 0.17 0.00  67.11\n",
       "1           4.81  0.00 23.53 2.59 0.46 0.17 0.17 1.09 0.08  32.89\n",
       "All         4.85 66.86 23.53 2.59 0.46 0.21 0.17 1.25 0.08 100.00"
      ]
     },
     "execution_count": 70,
     "metadata": {},
     "output_type": "execute_result"
    }
   ],
   "source": [
    "pd.crosstab(df_train.default,df_train.PAY_HISTORY,margins=True)/df_train.shape[0]*100"
   ]
  },
  {
   "cell_type": "code",
   "execution_count": 71,
   "metadata": {},
   "outputs": [],
   "source": [
    "def get(x):\n",
    "    if x < 100000:\n",
    "        return 'Low'\n",
    "    if 100000<=x<200000:\n",
    "        return 'Medium'\n",
    "    if x>=200000:\n",
    "        return 'High'\n",
    "        "
   ]
  },
  {
   "cell_type": "code",
   "execution_count": 72,
   "metadata": {},
   "outputs": [],
   "source": [
    "df_train['Limit']=df_train.LIMIT_BAL.apply(get)"
   ]
  },
  {
   "cell_type": "code",
   "execution_count": 73,
   "metadata": {},
   "outputs": [
    {
     "data": {
      "text/html": [
       "<div>\n",
       "<style scoped>\n",
       "    .dataframe tbody tr th:only-of-type {\n",
       "        vertical-align: middle;\n",
       "    }\n",
       "\n",
       "    .dataframe tbody tr th {\n",
       "        vertical-align: top;\n",
       "    }\n",
       "\n",
       "    .dataframe thead th {\n",
       "        text-align: right;\n",
       "    }\n",
       "</style>\n",
       "<table border=\"1\" class=\"dataframe\">\n",
       "  <thead>\n",
       "    <tr style=\"text-align: right;\">\n",
       "      <th></th>\n",
       "      <th>ID</th>\n",
       "      <th>LIMIT_BAL</th>\n",
       "      <th>GENDER</th>\n",
       "      <th>EDUCATION</th>\n",
       "      <th>MARRIAGE</th>\n",
       "      <th>AGE</th>\n",
       "      <th>PAY_HISTORY</th>\n",
       "      <th>BILL_AMT</th>\n",
       "      <th>PAY_AMT</th>\n",
       "      <th>default</th>\n",
       "      <th>Limit</th>\n",
       "    </tr>\n",
       "  </thead>\n",
       "  <tbody>\n",
       "    <tr>\n",
       "      <th>1250</th>\n",
       "      <td>1254</td>\n",
       "      <td>140000</td>\n",
       "      <td>FEMALE</td>\n",
       "      <td>1</td>\n",
       "      <td>2</td>\n",
       "      <td>25.00</td>\n",
       "      <td>-1</td>\n",
       "      <td>1567.33</td>\n",
       "      <td>1563.50</td>\n",
       "      <td>0</td>\n",
       "      <td>Medium</td>\n",
       "    </tr>\n",
       "    <tr>\n",
       "      <th>611</th>\n",
       "      <td>613</td>\n",
       "      <td>450000</td>\n",
       "      <td>FEMALE</td>\n",
       "      <td>1</td>\n",
       "      <td>2</td>\n",
       "      <td>28.00</td>\n",
       "      <td>-1</td>\n",
       "      <td>3520.83</td>\n",
       "      <td>3577.50</td>\n",
       "      <td>0</td>\n",
       "      <td>High</td>\n",
       "    </tr>\n",
       "    <tr>\n",
       "      <th>1610</th>\n",
       "      <td>1614</td>\n",
       "      <td>300000</td>\n",
       "      <td>MALE</td>\n",
       "      <td>1</td>\n",
       "      <td>1</td>\n",
       "      <td>30.00</td>\n",
       "      <td>-1</td>\n",
       "      <td>2059.17</td>\n",
       "      <td>2203.17</td>\n",
       "      <td>0</td>\n",
       "      <td>High</td>\n",
       "    </tr>\n",
       "    <tr>\n",
       "      <th>1939</th>\n",
       "      <td>1943</td>\n",
       "      <td>310000</td>\n",
       "      <td>FEMALE</td>\n",
       "      <td>3</td>\n",
       "      <td>2</td>\n",
       "      <td>36.00</td>\n",
       "      <td>-1</td>\n",
       "      <td>3659.33</td>\n",
       "      <td>3377.17</td>\n",
       "      <td>0</td>\n",
       "      <td>High</td>\n",
       "    </tr>\n",
       "    <tr>\n",
       "      <th>1868</th>\n",
       "      <td>1872</td>\n",
       "      <td>400000</td>\n",
       "      <td>FEMALE</td>\n",
       "      <td>2</td>\n",
       "      <td>1</td>\n",
       "      <td>46.00</td>\n",
       "      <td>-1</td>\n",
       "      <td>71288.17</td>\n",
       "      <td>72530.00</td>\n",
       "      <td>0</td>\n",
       "      <td>High</td>\n",
       "    </tr>\n",
       "  </tbody>\n",
       "</table>\n",
       "</div>"
      ],
      "text/plain": [
       "        ID  LIMIT_BAL  GENDER  EDUCATION  MARRIAGE   AGE  PAY_HISTORY  \\\n",
       "1250  1254     140000  FEMALE          1         2 25.00           -1   \n",
       "611    613     450000  FEMALE          1         2 28.00           -1   \n",
       "1610  1614     300000    MALE          1         1 30.00           -1   \n",
       "1939  1943     310000  FEMALE          3         2 36.00           -1   \n",
       "1868  1872     400000  FEMALE          2         1 46.00           -1   \n",
       "\n",
       "      BILL_AMT  PAY_AMT  default   Limit  \n",
       "1250   1567.33  1563.50        0  Medium  \n",
       "611    3520.83  3577.50        0    High  \n",
       "1610   2059.17  2203.17        0    High  \n",
       "1939   3659.33  3377.17        0    High  \n",
       "1868  71288.17 72530.00        0    High  "
      ]
     },
     "execution_count": 73,
     "metadata": {},
     "output_type": "execute_result"
    }
   ],
   "source": [
    "df_train.head()"
   ]
  },
  {
   "cell_type": "code",
   "execution_count": 74,
   "metadata": {},
   "outputs": [
    {
     "data": {
      "text/html": [
       "<div>\n",
       "<style scoped>\n",
       "    .dataframe tbody tr th:only-of-type {\n",
       "        vertical-align: middle;\n",
       "    }\n",
       "\n",
       "    .dataframe tbody tr th {\n",
       "        vertical-align: top;\n",
       "    }\n",
       "\n",
       "    .dataframe thead th {\n",
       "        text-align: right;\n",
       "    }\n",
       "</style>\n",
       "<table border=\"1\" class=\"dataframe\">\n",
       "  <thead>\n",
       "    <tr style=\"text-align: right;\">\n",
       "      <th>Limit</th>\n",
       "      <th>High</th>\n",
       "      <th>Low</th>\n",
       "      <th>Medium</th>\n",
       "      <th>All</th>\n",
       "    </tr>\n",
       "    <tr>\n",
       "      <th>default</th>\n",
       "      <th></th>\n",
       "      <th></th>\n",
       "      <th></th>\n",
       "      <th></th>\n",
       "    </tr>\n",
       "  </thead>\n",
       "  <tbody>\n",
       "    <tr>\n",
       "      <th>0</th>\n",
       "      <td>38.11</td>\n",
       "      <td>10.78</td>\n",
       "      <td>18.22</td>\n",
       "      <td>67.11</td>\n",
       "    </tr>\n",
       "    <tr>\n",
       "      <th>1</th>\n",
       "      <td>7.10</td>\n",
       "      <td>17.80</td>\n",
       "      <td>7.98</td>\n",
       "      <td>32.89</td>\n",
       "    </tr>\n",
       "    <tr>\n",
       "      <th>All</th>\n",
       "      <td>45.22</td>\n",
       "      <td>28.58</td>\n",
       "      <td>26.20</td>\n",
       "      <td>100.00</td>\n",
       "    </tr>\n",
       "  </tbody>\n",
       "</table>\n",
       "</div>"
      ],
      "text/plain": [
       "Limit    High   Low  Medium    All\n",
       "default                           \n",
       "0       38.11 10.78   18.22  67.11\n",
       "1        7.10 17.80    7.98  32.89\n",
       "All     45.22 28.58   26.20 100.00"
      ]
     },
     "execution_count": 74,
     "metadata": {},
     "output_type": "execute_result"
    }
   ],
   "source": [
    "(pd.crosstab(df_train.default,df_train.Limit,margins=True)/df_train.shape[0]*100)"
   ]
  },
  {
   "cell_type": "code",
   "execution_count": 75,
   "metadata": {},
   "outputs": [
    {
     "data": {
      "text/plain": [
       "ID              0\n",
       "LIMIT_BAL       0\n",
       "GENDER          0\n",
       "EDUCATION       0\n",
       "MARRIAGE        0\n",
       "AGE            19\n",
       "PAY_HISTORY     0\n",
       "BILL_AMT        0\n",
       "PAY_AMT         0\n",
       "default         0\n",
       "Limit           0\n",
       "dtype: int64"
      ]
     },
     "execution_count": 75,
     "metadata": {},
     "output_type": "execute_result"
    }
   ],
   "source": [
    "df_train.isnull().sum()"
   ]
  },
  {
   "cell_type": "code",
   "execution_count": 76,
   "metadata": {},
   "outputs": [],
   "source": [
    "df_train['AGE']=df_train.AGE.fillna(df_train.AGE.mean())"
   ]
  },
  {
   "cell_type": "code",
   "execution_count": 77,
   "metadata": {},
   "outputs": [
    {
     "data": {
      "text/plain": [
       "0.00   21.00\n",
       "0.01   23.00\n",
       "0.02   23.00\n",
       "0.03   23.00\n",
       "0.04   24.00\n",
       "        ... \n",
       "0.95   54.00\n",
       "0.96   55.00\n",
       "0.97   57.00\n",
       "0.98   58.00\n",
       "0.99   60.08\n",
       "Name: AGE, Length: 100, dtype: float64"
      ]
     },
     "execution_count": 77,
     "metadata": {},
     "output_type": "execute_result"
    }
   ],
   "source": [
    "df_train.AGE.quantile(np.arange(0,1,.01))"
   ]
  },
  {
   "cell_type": "code",
   "execution_count": 78,
   "metadata": {},
   "outputs": [
    {
     "data": {
      "text/plain": [
       "2"
      ]
     },
     "execution_count": 78,
     "metadata": {},
     "output_type": "execute_result"
    }
   ],
   "source": [
    "(df_train.AGE>70).sum()"
   ]
  },
  {
   "cell_type": "code",
   "execution_count": 79,
   "metadata": {},
   "outputs": [
    {
     "data": {
      "text/plain": [
       "36.8066554338669"
      ]
     },
     "execution_count": 79,
     "metadata": {},
     "output_type": "execute_result"
    }
   ],
   "source": [
    "avg=df_train.AGE.mean()\n",
    "avg"
   ]
  },
  {
   "cell_type": "code",
   "execution_count": 80,
   "metadata": {},
   "outputs": [],
   "source": [
    "df_train.loc[(df_train.AGE>70),'AGE']=avg"
   ]
  },
  {
   "cell_type": "code",
   "execution_count": 81,
   "metadata": {},
   "outputs": [
    {
     "data": {
      "text/plain": [
       "69.0"
      ]
     },
     "execution_count": 81,
     "metadata": {},
     "output_type": "execute_result"
    }
   ],
   "source": [
    "df_train.AGE.max()"
   ]
  },
  {
   "cell_type": "code",
   "execution_count": 82,
   "metadata": {},
   "outputs": [],
   "source": [
    "def get_age(x):\n",
    "    if 21<=x<29:\n",
    "        return 'lessthan30'\n",
    "    elif 29<=x<35:\n",
    "        return 'between29-35'\n",
    "    elif 35<=x<45:\n",
    "        return 'between35-45'\n",
    "    else:\n",
    "        return 'morethan45'\n"
   ]
  },
  {
   "cell_type": "code",
   "execution_count": 40,
   "metadata": {},
   "outputs": [],
   "source": [
    "df_train['age_bkt']=df_train.AGE.map(get_age)"
   ]
  },
  {
   "cell_type": "code",
   "execution_count": 41,
   "metadata": {},
   "outputs": [
    {
     "data": {
      "text/plain": [
       "2043      morethan45\n",
       "1160    between35-45\n",
       "1784    between35-45\n",
       "1674    between29-35\n",
       "1940    between35-45\n",
       "Name: age_bkt, dtype: object"
      ]
     },
     "execution_count": 41,
     "metadata": {},
     "output_type": "execute_result"
    }
   ],
   "source": [
    "df_train.age_bkt.head()"
   ]
  },
  {
   "cell_type": "code",
   "execution_count": 42,
   "metadata": {},
   "outputs": [
    {
     "data": {
      "text/html": [
       "<div>\n",
       "<style scoped>\n",
       "    .dataframe tbody tr th:only-of-type {\n",
       "        vertical-align: middle;\n",
       "    }\n",
       "\n",
       "    .dataframe tbody tr th {\n",
       "        vertical-align: top;\n",
       "    }\n",
       "\n",
       "    .dataframe thead th {\n",
       "        text-align: right;\n",
       "    }\n",
       "</style>\n",
       "<table border=\"1\" class=\"dataframe\">\n",
       "  <thead>\n",
       "    <tr style=\"text-align: right;\">\n",
       "      <th>age_bkt</th>\n",
       "      <th>between29-35</th>\n",
       "      <th>between35-45</th>\n",
       "      <th>lessthan30</th>\n",
       "      <th>morethan45</th>\n",
       "      <th>All</th>\n",
       "    </tr>\n",
       "    <tr>\n",
       "      <th>default</th>\n",
       "      <th></th>\n",
       "      <th></th>\n",
       "      <th></th>\n",
       "      <th></th>\n",
       "      <th></th>\n",
       "    </tr>\n",
       "  </thead>\n",
       "  <tbody>\n",
       "    <tr>\n",
       "      <th>0</th>\n",
       "      <td>17.9273</td>\n",
       "      <td>24.1538</td>\n",
       "      <td>11.9933</td>\n",
       "      <td>13.1216</td>\n",
       "      <td>67.1960</td>\n",
       "    </tr>\n",
       "    <tr>\n",
       "      <th>1</th>\n",
       "      <td>7.0623</td>\n",
       "      <td>9.9039</td>\n",
       "      <td>9.1935</td>\n",
       "      <td>6.6444</td>\n",
       "      <td>32.8040</td>\n",
       "    </tr>\n",
       "    <tr>\n",
       "      <th>All</th>\n",
       "      <td>24.9896</td>\n",
       "      <td>34.0577</td>\n",
       "      <td>21.1868</td>\n",
       "      <td>19.7660</td>\n",
       "      <td>100.0000</td>\n",
       "    </tr>\n",
       "  </tbody>\n",
       "</table>\n",
       "</div>"
      ],
      "text/plain": [
       "age_bkt  between29-35  between35-45  lessthan30  morethan45      All\n",
       "default                                                             \n",
       "0             17.9273       24.1538     11.9933     13.1216  67.1960\n",
       "1              7.0623        9.9039      9.1935      6.6444  32.8040\n",
       "All           24.9896       34.0577     21.1868     19.7660 100.0000"
      ]
     },
     "execution_count": 42,
     "metadata": {},
     "output_type": "execute_result"
    }
   ],
   "source": [
    "pd.options.display.float_format='{:.4f}'.format\n",
    "pd.crosstab(df_train.default,df_train.age_bkt,margins=True)/df_train.shape[0]*100"
   ]
  },
  {
   "cell_type": "code",
   "execution_count": 43,
   "metadata": {},
   "outputs": [
    {
     "data": {
      "text/plain": [
       "count     2393.0000\n",
       "mean     19729.8402\n",
       "std      40540.6787\n",
       "min      -4465.8333\n",
       "25%       1386.8333\n",
       "50%       4623.8333\n",
       "75%      18661.8333\n",
       "max     456957.5000\n",
       "Name: BILL_AMT, dtype: float64"
      ]
     },
     "execution_count": 43,
     "metadata": {},
     "output_type": "execute_result"
    }
   ],
   "source": [
    "df_train.BILL_AMT.describe()"
   ]
  },
  {
   "cell_type": "code",
   "execution_count": 44,
   "metadata": {},
   "outputs": [],
   "source": [
    "def get_bill(x):\n",
    "    if x<5000:\n",
    "        return 'Low'\n",
    "    elif x<20000:\n",
    "        return 'Medium'\n",
    "    else:\n",
    "        return 'High'"
   ]
  },
  {
   "cell_type": "code",
   "execution_count": 45,
   "metadata": {},
   "outputs": [],
   "source": [
    "df_train['bill_bkt']=df_train.BILL_AMT.map(get_bill)"
   ]
  },
  {
   "cell_type": "code",
   "execution_count": 46,
   "metadata": {},
   "outputs": [
    {
     "data": {
      "text/plain": [
       "2043    High\n",
       "1160     Low\n",
       "1784     Low\n",
       "1674     Low\n",
       "1940     Low\n",
       "Name: bill_bkt, dtype: object"
      ]
     },
     "execution_count": 46,
     "metadata": {},
     "output_type": "execute_result"
    }
   ],
   "source": [
    "df_train.bill_bkt.head()"
   ]
  },
  {
   "cell_type": "code",
   "execution_count": 47,
   "metadata": {},
   "outputs": [
    {
     "data": {
      "text/html": [
       "<div>\n",
       "<style scoped>\n",
       "    .dataframe tbody tr th:only-of-type {\n",
       "        vertical-align: middle;\n",
       "    }\n",
       "\n",
       "    .dataframe tbody tr th {\n",
       "        vertical-align: top;\n",
       "    }\n",
       "\n",
       "    .dataframe thead th {\n",
       "        text-align: right;\n",
       "    }\n",
       "</style>\n",
       "<table border=\"1\" class=\"dataframe\">\n",
       "  <thead>\n",
       "    <tr style=\"text-align: right;\">\n",
       "      <th>bill_bkt</th>\n",
       "      <th>High</th>\n",
       "      <th>Low</th>\n",
       "      <th>Medium</th>\n",
       "      <th>All</th>\n",
       "    </tr>\n",
       "    <tr>\n",
       "      <th>default</th>\n",
       "      <th></th>\n",
       "      <th></th>\n",
       "      <th></th>\n",
       "      <th></th>\n",
       "    </tr>\n",
       "  </thead>\n",
       "  <tbody>\n",
       "    <tr>\n",
       "      <th>0</th>\n",
       "      <td>5.0146</td>\n",
       "      <td>43.7526</td>\n",
       "      <td>18.4288</td>\n",
       "      <td>67.1960</td>\n",
       "    </tr>\n",
       "    <tr>\n",
       "      <th>1</th>\n",
       "      <td>18.4288</td>\n",
       "      <td>7.4802</td>\n",
       "      <td>6.8951</td>\n",
       "      <td>32.8040</td>\n",
       "    </tr>\n",
       "    <tr>\n",
       "      <th>All</th>\n",
       "      <td>23.4434</td>\n",
       "      <td>51.2328</td>\n",
       "      <td>25.3239</td>\n",
       "      <td>100.0000</td>\n",
       "    </tr>\n",
       "  </tbody>\n",
       "</table>\n",
       "</div>"
      ],
      "text/plain": [
       "bill_bkt    High     Low  Medium      All\n",
       "default                                  \n",
       "0         5.0146 43.7526 18.4288  67.1960\n",
       "1        18.4288  7.4802  6.8951  32.8040\n",
       "All      23.4434 51.2328 25.3239 100.0000"
      ]
     },
     "execution_count": 47,
     "metadata": {},
     "output_type": "execute_result"
    }
   ],
   "source": [
    "pd.crosstab(df_train.default,df_train.bill_bkt,margins=True)/df_train.shape[0]*100"
   ]
  },
  {
   "cell_type": "code",
   "execution_count": 48,
   "metadata": {},
   "outputs": [
    {
     "data": {
      "text/plain": [
       "count     2393.0000\n",
       "mean      5391.3114\n",
       "std      12378.0573\n",
       "min          0.0000\n",
       "25%        833.3333\n",
       "50%       2069.1667\n",
       "75%       5455.0000\n",
       "max     385692.0000\n",
       "Name: PAY_AMT, dtype: float64"
      ]
     },
     "execution_count": 48,
     "metadata": {},
     "output_type": "execute_result"
    }
   ],
   "source": [
    "df_train.PAY_AMT.describe()"
   ]
  },
  {
   "cell_type": "code",
   "execution_count": 49,
   "metadata": {},
   "outputs": [],
   "source": [
    "def get_pay(x):\n",
    "    if x<833:\n",
    "        return 'Low'\n",
    "    elif x<5281:\n",
    "        return 'Medium'\n",
    "    else:\n",
    "        return 'High'"
   ]
  },
  {
   "cell_type": "code",
   "execution_count": 50,
   "metadata": {},
   "outputs": [],
   "source": [
    "df_train['pay_bkt']=df_train.PAY_AMT.map(get_pay)"
   ]
  },
  {
   "cell_type": "code",
   "execution_count": 51,
   "metadata": {},
   "outputs": [
    {
     "data": {
      "text/html": [
       "<div>\n",
       "<style scoped>\n",
       "    .dataframe tbody tr th:only-of-type {\n",
       "        vertical-align: middle;\n",
       "    }\n",
       "\n",
       "    .dataframe tbody tr th {\n",
       "        vertical-align: top;\n",
       "    }\n",
       "\n",
       "    .dataframe thead th {\n",
       "        text-align: right;\n",
       "    }\n",
       "</style>\n",
       "<table border=\"1\" class=\"dataframe\">\n",
       "  <thead>\n",
       "    <tr style=\"text-align: right;\">\n",
       "      <th></th>\n",
       "      <th>ID</th>\n",
       "      <th>LIMIT_BAL</th>\n",
       "      <th>GENDER</th>\n",
       "      <th>EDUCATION</th>\n",
       "      <th>MARRIAGE</th>\n",
       "      <th>AGE</th>\n",
       "      <th>PAY_HISTORY</th>\n",
       "      <th>BILL_AMT</th>\n",
       "      <th>PAY_AMT</th>\n",
       "      <th>default</th>\n",
       "      <th>Limit</th>\n",
       "      <th>age_bkt</th>\n",
       "      <th>bill_bkt</th>\n",
       "      <th>pay_bkt</th>\n",
       "    </tr>\n",
       "  </thead>\n",
       "  <tbody>\n",
       "    <tr>\n",
       "      <th>2043</th>\n",
       "      <td>2047</td>\n",
       "      <td>80000</td>\n",
       "      <td>MALE</td>\n",
       "      <td>2</td>\n",
       "      <td>1</td>\n",
       "      <td>60.0000</td>\n",
       "      <td>2</td>\n",
       "      <td>50818.8333</td>\n",
       "      <td>1816.6667</td>\n",
       "      <td>1</td>\n",
       "      <td>Low</td>\n",
       "      <td>morethan45</td>\n",
       "      <td>High</td>\n",
       "      <td>Medium</td>\n",
       "    </tr>\n",
       "    <tr>\n",
       "      <th>1160</th>\n",
       "      <td>1164</td>\n",
       "      <td>120000</td>\n",
       "      <td>FEMALE</td>\n",
       "      <td>2</td>\n",
       "      <td>2</td>\n",
       "      <td>37.0000</td>\n",
       "      <td>-1</td>\n",
       "      <td>3613.5000</td>\n",
       "      <td>3674.5000</td>\n",
       "      <td>0</td>\n",
       "      <td>Medium</td>\n",
       "      <td>between35-45</td>\n",
       "      <td>Low</td>\n",
       "      <td>Medium</td>\n",
       "    </tr>\n",
       "    <tr>\n",
       "      <th>1784</th>\n",
       "      <td>1788</td>\n",
       "      <td>160000</td>\n",
       "      <td>FEMALE</td>\n",
       "      <td>2</td>\n",
       "      <td>2</td>\n",
       "      <td>40.0000</td>\n",
       "      <td>-1</td>\n",
       "      <td>632.1667</td>\n",
       "      <td>688.6667</td>\n",
       "      <td>0</td>\n",
       "      <td>Medium</td>\n",
       "      <td>between35-45</td>\n",
       "      <td>Low</td>\n",
       "      <td>Low</td>\n",
       "    </tr>\n",
       "    <tr>\n",
       "      <th>1674</th>\n",
       "      <td>1678</td>\n",
       "      <td>170000</td>\n",
       "      <td>FEMALE</td>\n",
       "      <td>2</td>\n",
       "      <td>1</td>\n",
       "      <td>34.0000</td>\n",
       "      <td>-1</td>\n",
       "      <td>1223.8333</td>\n",
       "      <td>960.3333</td>\n",
       "      <td>0</td>\n",
       "      <td>Medium</td>\n",
       "      <td>between29-35</td>\n",
       "      <td>Low</td>\n",
       "      <td>Medium</td>\n",
       "    </tr>\n",
       "    <tr>\n",
       "      <th>1940</th>\n",
       "      <td>1944</td>\n",
       "      <td>320000</td>\n",
       "      <td>MALE</td>\n",
       "      <td>1</td>\n",
       "      <td>1</td>\n",
       "      <td>40.0000</td>\n",
       "      <td>-1</td>\n",
       "      <td>430.0000</td>\n",
       "      <td>430.0000</td>\n",
       "      <td>0</td>\n",
       "      <td>High</td>\n",
       "      <td>between35-45</td>\n",
       "      <td>Low</td>\n",
       "      <td>Low</td>\n",
       "    </tr>\n",
       "  </tbody>\n",
       "</table>\n",
       "</div>"
      ],
      "text/plain": [
       "        ID  LIMIT_BAL  GENDER  EDUCATION  MARRIAGE     AGE  PAY_HISTORY  \\\n",
       "2043  2047      80000    MALE          2         1 60.0000            2   \n",
       "1160  1164     120000  FEMALE          2         2 37.0000           -1   \n",
       "1784  1788     160000  FEMALE          2         2 40.0000           -1   \n",
       "1674  1678     170000  FEMALE          2         1 34.0000           -1   \n",
       "1940  1944     320000    MALE          1         1 40.0000           -1   \n",
       "\n",
       "       BILL_AMT   PAY_AMT  default   Limit       age_bkt bill_bkt pay_bkt  \n",
       "2043 50818.8333 1816.6667        1     Low    morethan45     High  Medium  \n",
       "1160  3613.5000 3674.5000        0  Medium  between35-45      Low  Medium  \n",
       "1784   632.1667  688.6667        0  Medium  between35-45      Low     Low  \n",
       "1674  1223.8333  960.3333        0  Medium  between29-35      Low  Medium  \n",
       "1940   430.0000  430.0000        0    High  between35-45      Low     Low  "
      ]
     },
     "execution_count": 51,
     "metadata": {},
     "output_type": "execute_result"
    }
   ],
   "source": [
    "df_train.head()"
   ]
  },
  {
   "cell_type": "code",
   "execution_count": 52,
   "metadata": {},
   "outputs": [
    {
     "data": {
      "text/html": [
       "<div>\n",
       "<style scoped>\n",
       "    .dataframe tbody tr th:only-of-type {\n",
       "        vertical-align: middle;\n",
       "    }\n",
       "\n",
       "    .dataframe tbody tr th {\n",
       "        vertical-align: top;\n",
       "    }\n",
       "\n",
       "    .dataframe thead th {\n",
       "        text-align: right;\n",
       "    }\n",
       "</style>\n",
       "<table border=\"1\" class=\"dataframe\">\n",
       "  <thead>\n",
       "    <tr style=\"text-align: right;\">\n",
       "      <th>EDUCATION</th>\n",
       "      <th>0</th>\n",
       "      <th>1</th>\n",
       "      <th>2</th>\n",
       "      <th>3</th>\n",
       "      <th>4</th>\n",
       "      <th>5</th>\n",
       "      <th>6</th>\n",
       "      <th>All</th>\n",
       "    </tr>\n",
       "    <tr>\n",
       "      <th>default</th>\n",
       "      <th></th>\n",
       "      <th></th>\n",
       "      <th></th>\n",
       "      <th></th>\n",
       "      <th></th>\n",
       "      <th></th>\n",
       "      <th></th>\n",
       "      <th></th>\n",
       "    </tr>\n",
       "  </thead>\n",
       "  <tbody>\n",
       "    <tr>\n",
       "      <th>0</th>\n",
       "      <td>0.1672</td>\n",
       "      <td>34.2666</td>\n",
       "      <td>23.6941</td>\n",
       "      <td>8.4413</td>\n",
       "      <td>0.1672</td>\n",
       "      <td>0.2925</td>\n",
       "      <td>0.1672</td>\n",
       "      <td>67.1960</td>\n",
       "    </tr>\n",
       "    <tr>\n",
       "      <th>1</th>\n",
       "      <td>0.0000</td>\n",
       "      <td>9.2353</td>\n",
       "      <td>17.5094</td>\n",
       "      <td>6.0176</td>\n",
       "      <td>0.0418</td>\n",
       "      <td>0.0000</td>\n",
       "      <td>0.0000</td>\n",
       "      <td>32.8040</td>\n",
       "    </tr>\n",
       "    <tr>\n",
       "      <th>All</th>\n",
       "      <td>0.1672</td>\n",
       "      <td>43.5019</td>\n",
       "      <td>41.2035</td>\n",
       "      <td>14.4588</td>\n",
       "      <td>0.2089</td>\n",
       "      <td>0.2925</td>\n",
       "      <td>0.1672</td>\n",
       "      <td>100.0000</td>\n",
       "    </tr>\n",
       "  </tbody>\n",
       "</table>\n",
       "</div>"
      ],
      "text/plain": [
       "EDUCATION      0       1       2       3      4      5      6      All\n",
       "default                                                               \n",
       "0         0.1672 34.2666 23.6941  8.4413 0.1672 0.2925 0.1672  67.1960\n",
       "1         0.0000  9.2353 17.5094  6.0176 0.0418 0.0000 0.0000  32.8040\n",
       "All       0.1672 43.5019 41.2035 14.4588 0.2089 0.2925 0.1672 100.0000"
      ]
     },
     "execution_count": 52,
     "metadata": {},
     "output_type": "execute_result"
    }
   ],
   "source": [
    "pd.crosstab(df_train.default,df_train.EDUCATION,margins=True)/df_train.shape[0]*100"
   ]
  },
  {
   "cell_type": "code",
   "execution_count": 53,
   "metadata": {},
   "outputs": [],
   "source": [
    "df_train.drop(df_train.query(\"EDUCATION==0 | EDUCATION>3\").index,inplace=True)"
   ]
  },
  {
   "cell_type": "code",
   "execution_count": 54,
   "metadata": {},
   "outputs": [],
   "source": [
    "def get_edu(x):\n",
    "    if x==1:\n",
    "        return 'Graduate'\n",
    "    if x==2:\n",
    "        return 'University'\n",
    "    if x==3:\n",
    "        return 'HighSchool'"
   ]
  },
  {
   "cell_type": "code",
   "execution_count": 55,
   "metadata": {},
   "outputs": [],
   "source": [
    "df_train['Edu']=df_train.EDUCATION.map(get_edu)"
   ]
  },
  {
   "cell_type": "code",
   "execution_count": 56,
   "metadata": {},
   "outputs": [
    {
     "data": {
      "text/html": [
       "<div>\n",
       "<style scoped>\n",
       "    .dataframe tbody tr th:only-of-type {\n",
       "        vertical-align: middle;\n",
       "    }\n",
       "\n",
       "    .dataframe tbody tr th {\n",
       "        vertical-align: top;\n",
       "    }\n",
       "\n",
       "    .dataframe thead th {\n",
       "        text-align: right;\n",
       "    }\n",
       "</style>\n",
       "<table border=\"1\" class=\"dataframe\">\n",
       "  <thead>\n",
       "    <tr style=\"text-align: right;\">\n",
       "      <th></th>\n",
       "      <th>ID</th>\n",
       "      <th>LIMIT_BAL</th>\n",
       "      <th>GENDER</th>\n",
       "      <th>EDUCATION</th>\n",
       "      <th>MARRIAGE</th>\n",
       "      <th>AGE</th>\n",
       "      <th>PAY_HISTORY</th>\n",
       "      <th>BILL_AMT</th>\n",
       "      <th>PAY_AMT</th>\n",
       "      <th>default</th>\n",
       "      <th>Limit</th>\n",
       "      <th>age_bkt</th>\n",
       "      <th>bill_bkt</th>\n",
       "      <th>pay_bkt</th>\n",
       "      <th>Edu</th>\n",
       "    </tr>\n",
       "  </thead>\n",
       "  <tbody>\n",
       "    <tr>\n",
       "      <th>2043</th>\n",
       "      <td>2047</td>\n",
       "      <td>80000</td>\n",
       "      <td>MALE</td>\n",
       "      <td>2</td>\n",
       "      <td>1</td>\n",
       "      <td>60.0000</td>\n",
       "      <td>2</td>\n",
       "      <td>50818.8333</td>\n",
       "      <td>1816.6667</td>\n",
       "      <td>1</td>\n",
       "      <td>Low</td>\n",
       "      <td>morethan45</td>\n",
       "      <td>High</td>\n",
       "      <td>Medium</td>\n",
       "      <td>University</td>\n",
       "    </tr>\n",
       "    <tr>\n",
       "      <th>1160</th>\n",
       "      <td>1164</td>\n",
       "      <td>120000</td>\n",
       "      <td>FEMALE</td>\n",
       "      <td>2</td>\n",
       "      <td>2</td>\n",
       "      <td>37.0000</td>\n",
       "      <td>-1</td>\n",
       "      <td>3613.5000</td>\n",
       "      <td>3674.5000</td>\n",
       "      <td>0</td>\n",
       "      <td>Medium</td>\n",
       "      <td>between35-45</td>\n",
       "      <td>Low</td>\n",
       "      <td>Medium</td>\n",
       "      <td>University</td>\n",
       "    </tr>\n",
       "    <tr>\n",
       "      <th>1784</th>\n",
       "      <td>1788</td>\n",
       "      <td>160000</td>\n",
       "      <td>FEMALE</td>\n",
       "      <td>2</td>\n",
       "      <td>2</td>\n",
       "      <td>40.0000</td>\n",
       "      <td>-1</td>\n",
       "      <td>632.1667</td>\n",
       "      <td>688.6667</td>\n",
       "      <td>0</td>\n",
       "      <td>Medium</td>\n",
       "      <td>between35-45</td>\n",
       "      <td>Low</td>\n",
       "      <td>Low</td>\n",
       "      <td>University</td>\n",
       "    </tr>\n",
       "    <tr>\n",
       "      <th>1674</th>\n",
       "      <td>1678</td>\n",
       "      <td>170000</td>\n",
       "      <td>FEMALE</td>\n",
       "      <td>2</td>\n",
       "      <td>1</td>\n",
       "      <td>34.0000</td>\n",
       "      <td>-1</td>\n",
       "      <td>1223.8333</td>\n",
       "      <td>960.3333</td>\n",
       "      <td>0</td>\n",
       "      <td>Medium</td>\n",
       "      <td>between29-35</td>\n",
       "      <td>Low</td>\n",
       "      <td>Medium</td>\n",
       "      <td>University</td>\n",
       "    </tr>\n",
       "    <tr>\n",
       "      <th>1940</th>\n",
       "      <td>1944</td>\n",
       "      <td>320000</td>\n",
       "      <td>MALE</td>\n",
       "      <td>1</td>\n",
       "      <td>1</td>\n",
       "      <td>40.0000</td>\n",
       "      <td>-1</td>\n",
       "      <td>430.0000</td>\n",
       "      <td>430.0000</td>\n",
       "      <td>0</td>\n",
       "      <td>High</td>\n",
       "      <td>between35-45</td>\n",
       "      <td>Low</td>\n",
       "      <td>Low</td>\n",
       "      <td>Graduate</td>\n",
       "    </tr>\n",
       "  </tbody>\n",
       "</table>\n",
       "</div>"
      ],
      "text/plain": [
       "        ID  LIMIT_BAL  GENDER  EDUCATION  MARRIAGE     AGE  PAY_HISTORY  \\\n",
       "2043  2047      80000    MALE          2         1 60.0000            2   \n",
       "1160  1164     120000  FEMALE          2         2 37.0000           -1   \n",
       "1784  1788     160000  FEMALE          2         2 40.0000           -1   \n",
       "1674  1678     170000  FEMALE          2         1 34.0000           -1   \n",
       "1940  1944     320000    MALE          1         1 40.0000           -1   \n",
       "\n",
       "       BILL_AMT   PAY_AMT  default   Limit       age_bkt bill_bkt pay_bkt  \\\n",
       "2043 50818.8333 1816.6667        1     Low    morethan45     High  Medium   \n",
       "1160  3613.5000 3674.5000        0  Medium  between35-45      Low  Medium   \n",
       "1784   632.1667  688.6667        0  Medium  between35-45      Low     Low   \n",
       "1674  1223.8333  960.3333        0  Medium  between29-35      Low  Medium   \n",
       "1940   430.0000  430.0000        0    High  between35-45      Low     Low   \n",
       "\n",
       "             Edu  \n",
       "2043  University  \n",
       "1160  University  \n",
       "1784  University  \n",
       "1674  University  \n",
       "1940    Graduate  "
      ]
     },
     "execution_count": 56,
     "metadata": {},
     "output_type": "execute_result"
    }
   ],
   "source": [
    "df_train.head()"
   ]
  },
  {
   "cell_type": "code",
   "execution_count": 57,
   "metadata": {},
   "outputs": [
    {
     "data": {
      "text/html": [
       "<div>\n",
       "<style scoped>\n",
       "    .dataframe tbody tr th:only-of-type {\n",
       "        vertical-align: middle;\n",
       "    }\n",
       "\n",
       "    .dataframe tbody tr th {\n",
       "        vertical-align: top;\n",
       "    }\n",
       "\n",
       "    .dataframe thead th {\n",
       "        text-align: right;\n",
       "    }\n",
       "</style>\n",
       "<table border=\"1\" class=\"dataframe\">\n",
       "  <thead>\n",
       "    <tr style=\"text-align: right;\">\n",
       "      <th>Edu</th>\n",
       "      <th>Graduate</th>\n",
       "      <th>HighSchool</th>\n",
       "      <th>University</th>\n",
       "      <th>All</th>\n",
       "    </tr>\n",
       "    <tr>\n",
       "      <th>default</th>\n",
       "      <th></th>\n",
       "      <th></th>\n",
       "      <th></th>\n",
       "      <th></th>\n",
       "    </tr>\n",
       "  </thead>\n",
       "  <tbody>\n",
       "    <tr>\n",
       "      <th>0</th>\n",
       "      <td>34.5554</td>\n",
       "      <td>8.5124</td>\n",
       "      <td>23.8938</td>\n",
       "      <td>66.9617</td>\n",
       "    </tr>\n",
       "    <tr>\n",
       "      <th>1</th>\n",
       "      <td>9.3131</td>\n",
       "      <td>6.0683</td>\n",
       "      <td>17.6570</td>\n",
       "      <td>33.0383</td>\n",
       "    </tr>\n",
       "    <tr>\n",
       "      <th>All</th>\n",
       "      <td>43.8685</td>\n",
       "      <td>14.5807</td>\n",
       "      <td>41.5508</td>\n",
       "      <td>100.0000</td>\n",
       "    </tr>\n",
       "  </tbody>\n",
       "</table>\n",
       "</div>"
      ],
      "text/plain": [
       "Edu      Graduate  HighSchool  University      All\n",
       "default                                           \n",
       "0         34.5554      8.5124     23.8938  66.9617\n",
       "1          9.3131      6.0683     17.6570  33.0383\n",
       "All       43.8685     14.5807     41.5508 100.0000"
      ]
     },
     "execution_count": 57,
     "metadata": {},
     "output_type": "execute_result"
    }
   ],
   "source": [
    "pd.crosstab(df_train.default,df_train.Edu,margins=True)/df_train.shape[0]*100"
   ]
  },
  {
   "cell_type": "code",
   "execution_count": 58,
   "metadata": {},
   "outputs": [
    {
     "data": {
      "text/html": [
       "<div>\n",
       "<style scoped>\n",
       "    .dataframe tbody tr th:only-of-type {\n",
       "        vertical-align: middle;\n",
       "    }\n",
       "\n",
       "    .dataframe tbody tr th {\n",
       "        vertical-align: top;\n",
       "    }\n",
       "\n",
       "    .dataframe thead th {\n",
       "        text-align: right;\n",
       "    }\n",
       "</style>\n",
       "<table border=\"1\" class=\"dataframe\">\n",
       "  <thead>\n",
       "    <tr style=\"text-align: right;\">\n",
       "      <th>MARRIAGE</th>\n",
       "      <th>0</th>\n",
       "      <th>1</th>\n",
       "      <th>2</th>\n",
       "      <th>3</th>\n",
       "      <th>All</th>\n",
       "    </tr>\n",
       "    <tr>\n",
       "      <th>default</th>\n",
       "      <th></th>\n",
       "      <th></th>\n",
       "      <th></th>\n",
       "      <th></th>\n",
       "      <th></th>\n",
       "    </tr>\n",
       "  </thead>\n",
       "  <tbody>\n",
       "    <tr>\n",
       "      <th>0</th>\n",
       "      <td>0.0843</td>\n",
       "      <td>35.5668</td>\n",
       "      <td>30.9735</td>\n",
       "      <td>0.3371</td>\n",
       "      <td>66.9617</td>\n",
       "    </tr>\n",
       "    <tr>\n",
       "      <th>1</th>\n",
       "      <td>0.0421</td>\n",
       "      <td>16.0556</td>\n",
       "      <td>16.4770</td>\n",
       "      <td>0.4635</td>\n",
       "      <td>33.0383</td>\n",
       "    </tr>\n",
       "    <tr>\n",
       "      <th>All</th>\n",
       "      <td>0.1264</td>\n",
       "      <td>51.6224</td>\n",
       "      <td>47.4505</td>\n",
       "      <td>0.8007</td>\n",
       "      <td>100.0000</td>\n",
       "    </tr>\n",
       "  </tbody>\n",
       "</table>\n",
       "</div>"
      ],
      "text/plain": [
       "MARRIAGE      0       1       2      3      All\n",
       "default                                        \n",
       "0        0.0843 35.5668 30.9735 0.3371  66.9617\n",
       "1        0.0421 16.0556 16.4770 0.4635  33.0383\n",
       "All      0.1264 51.6224 47.4505 0.8007 100.0000"
      ]
     },
     "execution_count": 58,
     "metadata": {},
     "output_type": "execute_result"
    }
   ],
   "source": [
    "pd.crosstab(df_train.default,df_train.MARRIAGE,margins=True)/df_train.shape[0]*100"
   ]
  },
  {
   "cell_type": "code",
   "execution_count": 59,
   "metadata": {},
   "outputs": [],
   "source": [
    "df_train.drop(df_train.query(\"MARRIAGE==0 | MARRIAGE>2\").index,inplace=True)"
   ]
  },
  {
   "cell_type": "code",
   "execution_count": 60,
   "metadata": {},
   "outputs": [
    {
     "data": {
      "text/plain": [
       "2043    1\n",
       "1160    2\n",
       "1784    2\n",
       "1674    1\n",
       "1940    1\n",
       "Name: MARRIAGE, dtype: int64"
      ]
     },
     "execution_count": 60,
     "metadata": {},
     "output_type": "execute_result"
    }
   ],
   "source": [
    "df_train.MARRIAGE.head()"
   ]
  },
  {
   "cell_type": "code",
   "execution_count": 61,
   "metadata": {},
   "outputs": [
    {
     "data": {
      "text/html": [
       "<div>\n",
       "<style scoped>\n",
       "    .dataframe tbody tr th:only-of-type {\n",
       "        vertical-align: middle;\n",
       "    }\n",
       "\n",
       "    .dataframe tbody tr th {\n",
       "        vertical-align: top;\n",
       "    }\n",
       "\n",
       "    .dataframe thead th {\n",
       "        text-align: right;\n",
       "    }\n",
       "</style>\n",
       "<table border=\"1\" class=\"dataframe\">\n",
       "  <thead>\n",
       "    <tr style=\"text-align: right;\">\n",
       "      <th>MARRIAGE</th>\n",
       "      <th>1</th>\n",
       "      <th>2</th>\n",
       "      <th>All</th>\n",
       "    </tr>\n",
       "    <tr>\n",
       "      <th>default</th>\n",
       "      <th></th>\n",
       "      <th></th>\n",
       "      <th></th>\n",
       "    </tr>\n",
       "  </thead>\n",
       "  <tbody>\n",
       "    <tr>\n",
       "      <th>0</th>\n",
       "      <td>35.8996</td>\n",
       "      <td>31.2633</td>\n",
       "      <td>67.1629</td>\n",
       "    </tr>\n",
       "    <tr>\n",
       "      <th>1</th>\n",
       "      <td>16.2059</td>\n",
       "      <td>16.6312</td>\n",
       "      <td>32.8371</td>\n",
       "    </tr>\n",
       "    <tr>\n",
       "      <th>All</th>\n",
       "      <td>52.1055</td>\n",
       "      <td>47.8945</td>\n",
       "      <td>100.0000</td>\n",
       "    </tr>\n",
       "  </tbody>\n",
       "</table>\n",
       "</div>"
      ],
      "text/plain": [
       "MARRIAGE       1       2      All\n",
       "default                          \n",
       "0        35.8996 31.2633  67.1629\n",
       "1        16.2059 16.6312  32.8371\n",
       "All      52.1055 47.8945 100.0000"
      ]
     },
     "execution_count": 61,
     "metadata": {},
     "output_type": "execute_result"
    }
   ],
   "source": [
    "pd.crosstab(df_train.default,df_train.MARRIAGE,margins=True)/df_train.shape[0]*100"
   ]
  },
  {
   "cell_type": "code",
   "execution_count": 62,
   "metadata": {},
   "outputs": [
    {
     "data": {
      "text/html": [
       "<div>\n",
       "<style scoped>\n",
       "    .dataframe tbody tr th:only-of-type {\n",
       "        vertical-align: middle;\n",
       "    }\n",
       "\n",
       "    .dataframe tbody tr th {\n",
       "        vertical-align: top;\n",
       "    }\n",
       "\n",
       "    .dataframe thead th {\n",
       "        text-align: right;\n",
       "    }\n",
       "</style>\n",
       "<table border=\"1\" class=\"dataframe\">\n",
       "  <thead>\n",
       "    <tr style=\"text-align: right;\">\n",
       "      <th></th>\n",
       "      <th>ID</th>\n",
       "      <th>LIMIT_BAL</th>\n",
       "      <th>GENDER</th>\n",
       "      <th>EDUCATION</th>\n",
       "      <th>MARRIAGE</th>\n",
       "      <th>AGE</th>\n",
       "      <th>PAY_HISTORY</th>\n",
       "      <th>BILL_AMT</th>\n",
       "      <th>PAY_AMT</th>\n",
       "      <th>default</th>\n",
       "      <th>Limit</th>\n",
       "      <th>age_bkt</th>\n",
       "      <th>bill_bkt</th>\n",
       "      <th>pay_bkt</th>\n",
       "      <th>Edu</th>\n",
       "    </tr>\n",
       "  </thead>\n",
       "  <tbody>\n",
       "    <tr>\n",
       "      <th>2043</th>\n",
       "      <td>2047</td>\n",
       "      <td>80000</td>\n",
       "      <td>MALE</td>\n",
       "      <td>2</td>\n",
       "      <td>1</td>\n",
       "      <td>60.0000</td>\n",
       "      <td>2</td>\n",
       "      <td>50818.8333</td>\n",
       "      <td>1816.6667</td>\n",
       "      <td>1</td>\n",
       "      <td>Low</td>\n",
       "      <td>morethan45</td>\n",
       "      <td>High</td>\n",
       "      <td>Medium</td>\n",
       "      <td>University</td>\n",
       "    </tr>\n",
       "    <tr>\n",
       "      <th>1160</th>\n",
       "      <td>1164</td>\n",
       "      <td>120000</td>\n",
       "      <td>FEMALE</td>\n",
       "      <td>2</td>\n",
       "      <td>2</td>\n",
       "      <td>37.0000</td>\n",
       "      <td>-1</td>\n",
       "      <td>3613.5000</td>\n",
       "      <td>3674.5000</td>\n",
       "      <td>0</td>\n",
       "      <td>Medium</td>\n",
       "      <td>between35-45</td>\n",
       "      <td>Low</td>\n",
       "      <td>Medium</td>\n",
       "      <td>University</td>\n",
       "    </tr>\n",
       "    <tr>\n",
       "      <th>1784</th>\n",
       "      <td>1788</td>\n",
       "      <td>160000</td>\n",
       "      <td>FEMALE</td>\n",
       "      <td>2</td>\n",
       "      <td>2</td>\n",
       "      <td>40.0000</td>\n",
       "      <td>-1</td>\n",
       "      <td>632.1667</td>\n",
       "      <td>688.6667</td>\n",
       "      <td>0</td>\n",
       "      <td>Medium</td>\n",
       "      <td>between35-45</td>\n",
       "      <td>Low</td>\n",
       "      <td>Low</td>\n",
       "      <td>University</td>\n",
       "    </tr>\n",
       "    <tr>\n",
       "      <th>1674</th>\n",
       "      <td>1678</td>\n",
       "      <td>170000</td>\n",
       "      <td>FEMALE</td>\n",
       "      <td>2</td>\n",
       "      <td>1</td>\n",
       "      <td>34.0000</td>\n",
       "      <td>-1</td>\n",
       "      <td>1223.8333</td>\n",
       "      <td>960.3333</td>\n",
       "      <td>0</td>\n",
       "      <td>Medium</td>\n",
       "      <td>between29-35</td>\n",
       "      <td>Low</td>\n",
       "      <td>Medium</td>\n",
       "      <td>University</td>\n",
       "    </tr>\n",
       "    <tr>\n",
       "      <th>1940</th>\n",
       "      <td>1944</td>\n",
       "      <td>320000</td>\n",
       "      <td>MALE</td>\n",
       "      <td>1</td>\n",
       "      <td>1</td>\n",
       "      <td>40.0000</td>\n",
       "      <td>-1</td>\n",
       "      <td>430.0000</td>\n",
       "      <td>430.0000</td>\n",
       "      <td>0</td>\n",
       "      <td>High</td>\n",
       "      <td>between35-45</td>\n",
       "      <td>Low</td>\n",
       "      <td>Low</td>\n",
       "      <td>Graduate</td>\n",
       "    </tr>\n",
       "  </tbody>\n",
       "</table>\n",
       "</div>"
      ],
      "text/plain": [
       "        ID  LIMIT_BAL  GENDER  EDUCATION  MARRIAGE     AGE  PAY_HISTORY  \\\n",
       "2043  2047      80000    MALE          2         1 60.0000            2   \n",
       "1160  1164     120000  FEMALE          2         2 37.0000           -1   \n",
       "1784  1788     160000  FEMALE          2         2 40.0000           -1   \n",
       "1674  1678     170000  FEMALE          2         1 34.0000           -1   \n",
       "1940  1944     320000    MALE          1         1 40.0000           -1   \n",
       "\n",
       "       BILL_AMT   PAY_AMT  default   Limit       age_bkt bill_bkt pay_bkt  \\\n",
       "2043 50818.8333 1816.6667        1     Low    morethan45     High  Medium   \n",
       "1160  3613.5000 3674.5000        0  Medium  between35-45      Low  Medium   \n",
       "1784   632.1667  688.6667        0  Medium  between35-45      Low     Low   \n",
       "1674  1223.8333  960.3333        0  Medium  between29-35      Low  Medium   \n",
       "1940   430.0000  430.0000        0    High  between35-45      Low     Low   \n",
       "\n",
       "             Edu  \n",
       "2043  University  \n",
       "1160  University  \n",
       "1784  University  \n",
       "1674  University  \n",
       "1940    Graduate  "
      ]
     },
     "execution_count": 62,
     "metadata": {},
     "output_type": "execute_result"
    }
   ],
   "source": [
    "df_train.head()"
   ]
  },
  {
   "cell_type": "code",
   "execution_count": 63,
   "metadata": {},
   "outputs": [
    {
     "data": {
      "text/plain": [
       "array([ 2, -1,  3, -2,  4,  7,  6,  5,  8], dtype=int64)"
      ]
     },
     "execution_count": 63,
     "metadata": {},
     "output_type": "execute_result"
    }
   ],
   "source": [
    "df_train.PAY_HISTORY.unique()"
   ]
  },
  {
   "cell_type": "code",
   "execution_count": 64,
   "metadata": {},
   "outputs": [
    {
     "data": {
      "text/html": [
       "<div>\n",
       "<style scoped>\n",
       "    .dataframe tbody tr th:only-of-type {\n",
       "        vertical-align: middle;\n",
       "    }\n",
       "\n",
       "    .dataframe tbody tr th {\n",
       "        vertical-align: top;\n",
       "    }\n",
       "\n",
       "    .dataframe thead th {\n",
       "        text-align: right;\n",
       "    }\n",
       "</style>\n",
       "<table border=\"1\" class=\"dataframe\">\n",
       "  <thead>\n",
       "    <tr style=\"text-align: right;\">\n",
       "      <th>PAY_HISTORY</th>\n",
       "      <th>-2</th>\n",
       "      <th>-1</th>\n",
       "      <th>2</th>\n",
       "      <th>3</th>\n",
       "      <th>4</th>\n",
       "      <th>5</th>\n",
       "      <th>6</th>\n",
       "      <th>7</th>\n",
       "      <th>8</th>\n",
       "      <th>All</th>\n",
       "    </tr>\n",
       "    <tr>\n",
       "      <th>default</th>\n",
       "      <th></th>\n",
       "      <th></th>\n",
       "      <th></th>\n",
       "      <th></th>\n",
       "      <th></th>\n",
       "      <th></th>\n",
       "      <th></th>\n",
       "      <th></th>\n",
       "      <th></th>\n",
       "      <th></th>\n",
       "    </tr>\n",
       "  </thead>\n",
       "  <tbody>\n",
       "    <tr>\n",
       "      <th>0</th>\n",
       "      <td>0.0425</td>\n",
       "      <td>66.9077</td>\n",
       "      <td>0.0000</td>\n",
       "      <td>0.0000</td>\n",
       "      <td>0.0000</td>\n",
       "      <td>0.0000</td>\n",
       "      <td>0.0000</td>\n",
       "      <td>0.2127</td>\n",
       "      <td>0.0000</td>\n",
       "      <td>67.1629</td>\n",
       "    </tr>\n",
       "    <tr>\n",
       "      <th>1</th>\n",
       "      <td>4.5087</td>\n",
       "      <td>0.0000</td>\n",
       "      <td>23.5644</td>\n",
       "      <td>2.5521</td>\n",
       "      <td>0.6380</td>\n",
       "      <td>0.2127</td>\n",
       "      <td>0.2552</td>\n",
       "      <td>1.0208</td>\n",
       "      <td>0.0851</td>\n",
       "      <td>32.8371</td>\n",
       "    </tr>\n",
       "    <tr>\n",
       "      <th>All</th>\n",
       "      <td>4.5513</td>\n",
       "      <td>66.9077</td>\n",
       "      <td>23.5644</td>\n",
       "      <td>2.5521</td>\n",
       "      <td>0.6380</td>\n",
       "      <td>0.2127</td>\n",
       "      <td>0.2552</td>\n",
       "      <td>1.2335</td>\n",
       "      <td>0.0851</td>\n",
       "      <td>100.0000</td>\n",
       "    </tr>\n",
       "  </tbody>\n",
       "</table>\n",
       "</div>"
      ],
      "text/plain": [
       "PAY_HISTORY     -2      -1       2      3      4      5      6      7      8  \\\n",
       "default                                                                        \n",
       "0           0.0425 66.9077  0.0000 0.0000 0.0000 0.0000 0.0000 0.2127 0.0000   \n",
       "1           4.5087  0.0000 23.5644 2.5521 0.6380 0.2127 0.2552 1.0208 0.0851   \n",
       "All         4.5513 66.9077 23.5644 2.5521 0.6380 0.2127 0.2552 1.2335 0.0851   \n",
       "\n",
       "PAY_HISTORY      All  \n",
       "default               \n",
       "0            67.1629  \n",
       "1            32.8371  \n",
       "All         100.0000  "
      ]
     },
     "execution_count": 64,
     "metadata": {},
     "output_type": "execute_result"
    }
   ],
   "source": [
    "pd.crosstab(df_train.default,df_train.PAY_HISTORY,margins=True)/df_train.shape[0]*100"
   ]
  },
  {
   "cell_type": "code",
   "execution_count": 65,
   "metadata": {},
   "outputs": [],
   "source": [
    "def get_his(x):\n",
    "    if x==-2:\n",
    "        return 'left'\n",
    "    if x==-1:\n",
    "        return 'dulypaid'\n",
    "    else:\n",
    "        return 'Noise'"
   ]
  },
  {
   "cell_type": "code",
   "execution_count": 66,
   "metadata": {},
   "outputs": [],
   "source": [
    "df_train['payhis_bkt']=df_train.PAY_HISTORY.map(get_his)"
   ]
  },
  {
   "cell_type": "code",
   "execution_count": 67,
   "metadata": {},
   "outputs": [
    {
     "data": {
      "text/html": [
       "<div>\n",
       "<style scoped>\n",
       "    .dataframe tbody tr th:only-of-type {\n",
       "        vertical-align: middle;\n",
       "    }\n",
       "\n",
       "    .dataframe tbody tr th {\n",
       "        vertical-align: top;\n",
       "    }\n",
       "\n",
       "    .dataframe thead th {\n",
       "        text-align: right;\n",
       "    }\n",
       "</style>\n",
       "<table border=\"1\" class=\"dataframe\">\n",
       "  <thead>\n",
       "    <tr style=\"text-align: right;\">\n",
       "      <th></th>\n",
       "      <th>ID</th>\n",
       "      <th>LIMIT_BAL</th>\n",
       "      <th>GENDER</th>\n",
       "      <th>EDUCATION</th>\n",
       "      <th>MARRIAGE</th>\n",
       "      <th>AGE</th>\n",
       "      <th>PAY_HISTORY</th>\n",
       "      <th>BILL_AMT</th>\n",
       "      <th>PAY_AMT</th>\n",
       "      <th>default</th>\n",
       "      <th>Limit</th>\n",
       "      <th>age_bkt</th>\n",
       "      <th>bill_bkt</th>\n",
       "      <th>pay_bkt</th>\n",
       "      <th>Edu</th>\n",
       "      <th>payhis_bkt</th>\n",
       "    </tr>\n",
       "  </thead>\n",
       "  <tbody>\n",
       "    <tr>\n",
       "      <th>2043</th>\n",
       "      <td>2047</td>\n",
       "      <td>80000</td>\n",
       "      <td>MALE</td>\n",
       "      <td>2</td>\n",
       "      <td>1</td>\n",
       "      <td>60.0000</td>\n",
       "      <td>2</td>\n",
       "      <td>50818.8333</td>\n",
       "      <td>1816.6667</td>\n",
       "      <td>1</td>\n",
       "      <td>Low</td>\n",
       "      <td>morethan45</td>\n",
       "      <td>High</td>\n",
       "      <td>Medium</td>\n",
       "      <td>University</td>\n",
       "      <td>Noise</td>\n",
       "    </tr>\n",
       "    <tr>\n",
       "      <th>1160</th>\n",
       "      <td>1164</td>\n",
       "      <td>120000</td>\n",
       "      <td>FEMALE</td>\n",
       "      <td>2</td>\n",
       "      <td>2</td>\n",
       "      <td>37.0000</td>\n",
       "      <td>-1</td>\n",
       "      <td>3613.5000</td>\n",
       "      <td>3674.5000</td>\n",
       "      <td>0</td>\n",
       "      <td>Medium</td>\n",
       "      <td>between35-45</td>\n",
       "      <td>Low</td>\n",
       "      <td>Medium</td>\n",
       "      <td>University</td>\n",
       "      <td>dulypaid</td>\n",
       "    </tr>\n",
       "    <tr>\n",
       "      <th>1784</th>\n",
       "      <td>1788</td>\n",
       "      <td>160000</td>\n",
       "      <td>FEMALE</td>\n",
       "      <td>2</td>\n",
       "      <td>2</td>\n",
       "      <td>40.0000</td>\n",
       "      <td>-1</td>\n",
       "      <td>632.1667</td>\n",
       "      <td>688.6667</td>\n",
       "      <td>0</td>\n",
       "      <td>Medium</td>\n",
       "      <td>between35-45</td>\n",
       "      <td>Low</td>\n",
       "      <td>Low</td>\n",
       "      <td>University</td>\n",
       "      <td>dulypaid</td>\n",
       "    </tr>\n",
       "    <tr>\n",
       "      <th>1674</th>\n",
       "      <td>1678</td>\n",
       "      <td>170000</td>\n",
       "      <td>FEMALE</td>\n",
       "      <td>2</td>\n",
       "      <td>1</td>\n",
       "      <td>34.0000</td>\n",
       "      <td>-1</td>\n",
       "      <td>1223.8333</td>\n",
       "      <td>960.3333</td>\n",
       "      <td>0</td>\n",
       "      <td>Medium</td>\n",
       "      <td>between29-35</td>\n",
       "      <td>Low</td>\n",
       "      <td>Medium</td>\n",
       "      <td>University</td>\n",
       "      <td>dulypaid</td>\n",
       "    </tr>\n",
       "    <tr>\n",
       "      <th>1940</th>\n",
       "      <td>1944</td>\n",
       "      <td>320000</td>\n",
       "      <td>MALE</td>\n",
       "      <td>1</td>\n",
       "      <td>1</td>\n",
       "      <td>40.0000</td>\n",
       "      <td>-1</td>\n",
       "      <td>430.0000</td>\n",
       "      <td>430.0000</td>\n",
       "      <td>0</td>\n",
       "      <td>High</td>\n",
       "      <td>between35-45</td>\n",
       "      <td>Low</td>\n",
       "      <td>Low</td>\n",
       "      <td>Graduate</td>\n",
       "      <td>dulypaid</td>\n",
       "    </tr>\n",
       "  </tbody>\n",
       "</table>\n",
       "</div>"
      ],
      "text/plain": [
       "        ID  LIMIT_BAL  GENDER  EDUCATION  MARRIAGE     AGE  PAY_HISTORY  \\\n",
       "2043  2047      80000    MALE          2         1 60.0000            2   \n",
       "1160  1164     120000  FEMALE          2         2 37.0000           -1   \n",
       "1784  1788     160000  FEMALE          2         2 40.0000           -1   \n",
       "1674  1678     170000  FEMALE          2         1 34.0000           -1   \n",
       "1940  1944     320000    MALE          1         1 40.0000           -1   \n",
       "\n",
       "       BILL_AMT   PAY_AMT  default   Limit       age_bkt bill_bkt pay_bkt  \\\n",
       "2043 50818.8333 1816.6667        1     Low    morethan45     High  Medium   \n",
       "1160  3613.5000 3674.5000        0  Medium  between35-45      Low  Medium   \n",
       "1784   632.1667  688.6667        0  Medium  between35-45      Low     Low   \n",
       "1674  1223.8333  960.3333        0  Medium  between29-35      Low  Medium   \n",
       "1940   430.0000  430.0000        0    High  between35-45      Low     Low   \n",
       "\n",
       "             Edu payhis_bkt  \n",
       "2043  University      Noise  \n",
       "1160  University   dulypaid  \n",
       "1784  University   dulypaid  \n",
       "1674  University   dulypaid  \n",
       "1940    Graduate   dulypaid  "
      ]
     },
     "execution_count": 67,
     "metadata": {},
     "output_type": "execute_result"
    }
   ],
   "source": [
    "df_train.head()"
   ]
  },
  {
   "cell_type": "code",
   "execution_count": 72,
   "metadata": {},
   "outputs": [],
   "source": [
    "df_train['Marriage']=df_train.MARRIAGE.map(lambda x: 1 if x==1 else 0)"
   ]
  },
  {
   "cell_type": "code",
   "execution_count": 73,
   "metadata": {},
   "outputs": [
    {
     "data": {
      "text/plain": [
       "Index(['GENDER', 'MARRIAGE', 'default', 'Limit', 'age_bkt', 'bill_bkt',\n",
       "       'pay_bkt', 'Edu', 'payhis_bkt', 'Marriage'],\n",
       "      dtype='object')"
      ]
     },
     "execution_count": 73,
     "metadata": {},
     "output_type": "execute_result"
    }
   ],
   "source": [
    "df_train.columns"
   ]
  },
  {
   "cell_type": "code",
   "execution_count": 77,
   "metadata": {},
   "outputs": [],
   "source": [
    "df_train.drop('MARRIAGE',axis=1,inplace=True)"
   ]
  },
  {
   "cell_type": "code",
   "execution_count": 78,
   "metadata": {},
   "outputs": [
    {
     "data": {
      "text/html": [
       "<div>\n",
       "<style scoped>\n",
       "    .dataframe tbody tr th:only-of-type {\n",
       "        vertical-align: middle;\n",
       "    }\n",
       "\n",
       "    .dataframe tbody tr th {\n",
       "        vertical-align: top;\n",
       "    }\n",
       "\n",
       "    .dataframe thead th {\n",
       "        text-align: right;\n",
       "    }\n",
       "</style>\n",
       "<table border=\"1\" class=\"dataframe\">\n",
       "  <thead>\n",
       "    <tr style=\"text-align: right;\">\n",
       "      <th></th>\n",
       "      <th>GENDER</th>\n",
       "      <th>default</th>\n",
       "      <th>Limit</th>\n",
       "      <th>age_bkt</th>\n",
       "      <th>bill_bkt</th>\n",
       "      <th>pay_bkt</th>\n",
       "      <th>Edu</th>\n",
       "      <th>payhis_bkt</th>\n",
       "      <th>Marriage</th>\n",
       "    </tr>\n",
       "  </thead>\n",
       "  <tbody>\n",
       "    <tr>\n",
       "      <th>2043</th>\n",
       "      <td>MALE</td>\n",
       "      <td>1</td>\n",
       "      <td>Low</td>\n",
       "      <td>morethan45</td>\n",
       "      <td>High</td>\n",
       "      <td>Medium</td>\n",
       "      <td>University</td>\n",
       "      <td>Noise</td>\n",
       "      <td>1</td>\n",
       "    </tr>\n",
       "    <tr>\n",
       "      <th>1160</th>\n",
       "      <td>FEMALE</td>\n",
       "      <td>0</td>\n",
       "      <td>Medium</td>\n",
       "      <td>between35-45</td>\n",
       "      <td>Low</td>\n",
       "      <td>Medium</td>\n",
       "      <td>University</td>\n",
       "      <td>dulypaid</td>\n",
       "      <td>0</td>\n",
       "    </tr>\n",
       "    <tr>\n",
       "      <th>1784</th>\n",
       "      <td>FEMALE</td>\n",
       "      <td>0</td>\n",
       "      <td>Medium</td>\n",
       "      <td>between35-45</td>\n",
       "      <td>Low</td>\n",
       "      <td>Low</td>\n",
       "      <td>University</td>\n",
       "      <td>dulypaid</td>\n",
       "      <td>0</td>\n",
       "    </tr>\n",
       "    <tr>\n",
       "      <th>1674</th>\n",
       "      <td>FEMALE</td>\n",
       "      <td>0</td>\n",
       "      <td>Medium</td>\n",
       "      <td>between29-35</td>\n",
       "      <td>Low</td>\n",
       "      <td>Medium</td>\n",
       "      <td>University</td>\n",
       "      <td>dulypaid</td>\n",
       "      <td>1</td>\n",
       "    </tr>\n",
       "    <tr>\n",
       "      <th>1940</th>\n",
       "      <td>MALE</td>\n",
       "      <td>0</td>\n",
       "      <td>High</td>\n",
       "      <td>between35-45</td>\n",
       "      <td>Low</td>\n",
       "      <td>Low</td>\n",
       "      <td>Graduate</td>\n",
       "      <td>dulypaid</td>\n",
       "      <td>1</td>\n",
       "    </tr>\n",
       "  </tbody>\n",
       "</table>\n",
       "</div>"
      ],
      "text/plain": [
       "      GENDER  default   Limit       age_bkt bill_bkt pay_bkt         Edu  \\\n",
       "2043    MALE        1     Low    morethan45     High  Medium  University   \n",
       "1160  FEMALE        0  Medium  between35-45      Low  Medium  University   \n",
       "1784  FEMALE        0  Medium  between35-45      Low     Low  University   \n",
       "1674  FEMALE        0  Medium  between29-35      Low  Medium  University   \n",
       "1940    MALE        0    High  between35-45      Low     Low    Graduate   \n",
       "\n",
       "     payhis_bkt  Marriage  \n",
       "2043      Noise         1  \n",
       "1160   dulypaid         0  \n",
       "1784   dulypaid         0  \n",
       "1674   dulypaid         1  \n",
       "1940   dulypaid         1  "
      ]
     },
     "execution_count": 78,
     "metadata": {},
     "output_type": "execute_result"
    }
   ],
   "source": [
    "df_train.head()"
   ]
  },
  {
   "cell_type": "code",
   "execution_count": 79,
   "metadata": {},
   "outputs": [],
   "source": [
    "df_train=pd.get_dummies(df_train,drop_first=True)"
   ]
  },
  {
   "cell_type": "code",
   "execution_count": 80,
   "metadata": {},
   "outputs": [
    {
     "data": {
      "text/html": [
       "<div>\n",
       "<style scoped>\n",
       "    .dataframe tbody tr th:only-of-type {\n",
       "        vertical-align: middle;\n",
       "    }\n",
       "\n",
       "    .dataframe tbody tr th {\n",
       "        vertical-align: top;\n",
       "    }\n",
       "\n",
       "    .dataframe thead th {\n",
       "        text-align: right;\n",
       "    }\n",
       "</style>\n",
       "<table border=\"1\" class=\"dataframe\">\n",
       "  <thead>\n",
       "    <tr style=\"text-align: right;\">\n",
       "      <th></th>\n",
       "      <th>default</th>\n",
       "      <th>Marriage</th>\n",
       "      <th>GENDER_MALE</th>\n",
       "      <th>Limit_Low</th>\n",
       "      <th>Limit_Medium</th>\n",
       "      <th>age_bkt_between35-45</th>\n",
       "      <th>age_bkt_lessthan30</th>\n",
       "      <th>age_bkt_morethan45</th>\n",
       "      <th>bill_bkt_Low</th>\n",
       "      <th>bill_bkt_Medium</th>\n",
       "      <th>pay_bkt_Low</th>\n",
       "      <th>pay_bkt_Medium</th>\n",
       "      <th>Edu_HighSchool</th>\n",
       "      <th>Edu_University</th>\n",
       "      <th>payhis_bkt_dulypaid</th>\n",
       "      <th>payhis_bkt_left</th>\n",
       "    </tr>\n",
       "  </thead>\n",
       "  <tbody>\n",
       "    <tr>\n",
       "      <th>2043</th>\n",
       "      <td>1</td>\n",
       "      <td>1</td>\n",
       "      <td>1</td>\n",
       "      <td>1</td>\n",
       "      <td>0</td>\n",
       "      <td>0</td>\n",
       "      <td>0</td>\n",
       "      <td>1</td>\n",
       "      <td>0</td>\n",
       "      <td>0</td>\n",
       "      <td>0</td>\n",
       "      <td>1</td>\n",
       "      <td>0</td>\n",
       "      <td>1</td>\n",
       "      <td>0</td>\n",
       "      <td>0</td>\n",
       "    </tr>\n",
       "    <tr>\n",
       "      <th>1160</th>\n",
       "      <td>0</td>\n",
       "      <td>0</td>\n",
       "      <td>0</td>\n",
       "      <td>0</td>\n",
       "      <td>1</td>\n",
       "      <td>1</td>\n",
       "      <td>0</td>\n",
       "      <td>0</td>\n",
       "      <td>1</td>\n",
       "      <td>0</td>\n",
       "      <td>0</td>\n",
       "      <td>1</td>\n",
       "      <td>0</td>\n",
       "      <td>1</td>\n",
       "      <td>1</td>\n",
       "      <td>0</td>\n",
       "    </tr>\n",
       "    <tr>\n",
       "      <th>1784</th>\n",
       "      <td>0</td>\n",
       "      <td>0</td>\n",
       "      <td>0</td>\n",
       "      <td>0</td>\n",
       "      <td>1</td>\n",
       "      <td>1</td>\n",
       "      <td>0</td>\n",
       "      <td>0</td>\n",
       "      <td>1</td>\n",
       "      <td>0</td>\n",
       "      <td>1</td>\n",
       "      <td>0</td>\n",
       "      <td>0</td>\n",
       "      <td>1</td>\n",
       "      <td>1</td>\n",
       "      <td>0</td>\n",
       "    </tr>\n",
       "    <tr>\n",
       "      <th>1674</th>\n",
       "      <td>0</td>\n",
       "      <td>1</td>\n",
       "      <td>0</td>\n",
       "      <td>0</td>\n",
       "      <td>1</td>\n",
       "      <td>0</td>\n",
       "      <td>0</td>\n",
       "      <td>0</td>\n",
       "      <td>1</td>\n",
       "      <td>0</td>\n",
       "      <td>0</td>\n",
       "      <td>1</td>\n",
       "      <td>0</td>\n",
       "      <td>1</td>\n",
       "      <td>1</td>\n",
       "      <td>0</td>\n",
       "    </tr>\n",
       "    <tr>\n",
       "      <th>1940</th>\n",
       "      <td>0</td>\n",
       "      <td>1</td>\n",
       "      <td>1</td>\n",
       "      <td>0</td>\n",
       "      <td>0</td>\n",
       "      <td>1</td>\n",
       "      <td>0</td>\n",
       "      <td>0</td>\n",
       "      <td>1</td>\n",
       "      <td>0</td>\n",
       "      <td>1</td>\n",
       "      <td>0</td>\n",
       "      <td>0</td>\n",
       "      <td>0</td>\n",
       "      <td>1</td>\n",
       "      <td>0</td>\n",
       "    </tr>\n",
       "  </tbody>\n",
       "</table>\n",
       "</div>"
      ],
      "text/plain": [
       "      default  Marriage  GENDER_MALE  Limit_Low  Limit_Medium  \\\n",
       "2043        1         1            1          1             0   \n",
       "1160        0         0            0          0             1   \n",
       "1784        0         0            0          0             1   \n",
       "1674        0         1            0          0             1   \n",
       "1940        0         1            1          0             0   \n",
       "\n",
       "      age_bkt_between35-45  age_bkt_lessthan30  age_bkt_morethan45  \\\n",
       "2043                     0                   0                   1   \n",
       "1160                     1                   0                   0   \n",
       "1784                     1                   0                   0   \n",
       "1674                     0                   0                   0   \n",
       "1940                     1                   0                   0   \n",
       "\n",
       "      bill_bkt_Low  bill_bkt_Medium  pay_bkt_Low  pay_bkt_Medium  \\\n",
       "2043             0                0            0               1   \n",
       "1160             1                0            0               1   \n",
       "1784             1                0            1               0   \n",
       "1674             1                0            0               1   \n",
       "1940             1                0            1               0   \n",
       "\n",
       "      Edu_HighSchool  Edu_University  payhis_bkt_dulypaid  payhis_bkt_left  \n",
       "2043               0               1                    0                0  \n",
       "1160               0               1                    1                0  \n",
       "1784               0               1                    1                0  \n",
       "1674               0               1                    1                0  \n",
       "1940               0               0                    1                0  "
      ]
     },
     "execution_count": 80,
     "metadata": {},
     "output_type": "execute_result"
    }
   ],
   "source": [
    "df_train.head()"
   ]
  },
  {
   "cell_type": "code",
   "execution_count": 52,
   "metadata": {},
   "outputs": [
    {
     "data": {
      "text/html": [
       "<div>\n",
       "<style scoped>\n",
       "    .dataframe tbody tr th:only-of-type {\n",
       "        vertical-align: middle;\n",
       "    }\n",
       "\n",
       "    .dataframe tbody tr th {\n",
       "        vertical-align: top;\n",
       "    }\n",
       "\n",
       "    .dataframe thead th {\n",
       "        text-align: right;\n",
       "    }\n",
       "</style>\n",
       "<table border=\"1\" class=\"dataframe\">\n",
       "  <thead>\n",
       "    <tr style=\"text-align: right;\">\n",
       "      <th></th>\n",
       "      <th>Hmm</th>\n",
       "    </tr>\n",
       "  </thead>\n",
       "  <tbody>\n",
       "    <tr>\n",
       "      <th>A</th>\n",
       "      <td>12</td>\n",
       "    </tr>\n",
       "    <tr>\n",
       "      <th>B</th>\n",
       "      <td>32</td>\n",
       "    </tr>\n",
       "    <tr>\n",
       "      <th>C</th>\n",
       "      <td>43</td>\n",
       "    </tr>\n",
       "    <tr>\n",
       "      <th>D</th>\n",
       "      <td>123</td>\n",
       "    </tr>\n",
       "  </tbody>\n",
       "</table>\n",
       "</div>"
      ],
      "text/plain": [
       "   Hmm\n",
       "A   12\n",
       "B   32\n",
       "C   43\n",
       "D  123"
      ]
     },
     "execution_count": 52,
     "metadata": {},
     "output_type": "execute_result"
    }
   ],
   "source": [
    "ch=pd.DataFrame([12,32,43,123],index=['A','B','C','D'],columns=['Hmm'])\n",
    "ch"
   ]
  },
  {
   "cell_type": "code",
   "execution_count": 61,
   "metadata": {},
   "outputs": [
    {
     "data": {
      "text/plain": [
       "Hmm    43\n",
       "Name: C, dtype: int64"
      ]
     },
     "execution_count": 61,
     "metadata": {},
     "output_type": "execute_result"
    }
   ],
   "source": [
    "ch.iloc[2]"
   ]
  },
  {
   "cell_type": "code",
   "execution_count": null,
   "metadata": {},
   "outputs": [],
   "source": []
  }
 ],
 "metadata": {
  "kernelspec": {
   "display_name": "Python 3",
   "language": "python",
   "name": "python3"
  },
  "language_info": {
   "codemirror_mode": {
    "name": "ipython",
    "version": 3
   },
   "file_extension": ".py",
   "mimetype": "text/x-python",
   "name": "python",
   "nbconvert_exporter": "python",
   "pygments_lexer": "ipython3",
   "version": "3.7.1"
  }
 },
 "nbformat": 4,
 "nbformat_minor": 2
}
